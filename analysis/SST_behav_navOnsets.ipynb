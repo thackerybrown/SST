{
 "cells": [
  {
   "cell_type": "markdown",
   "metadata": {},
   "source": [
    "# SST (Spatial Stress Test) Analysis"
   ]
  },
  {
   "cell_type": "markdown",
   "metadata": {},
   "source": [
    "fMRI Data Collected 2015-2016"
   ]
  },
  {
   "cell_type": "code",
   "execution_count": 1,
   "metadata": {
    "collapsed": false
   },
   "outputs": [
    {
     "name": "stderr",
     "output_type": "stream",
     "text": [
      "/Users/steph-backup/anaconda/lib/python2.7/site-packages/IPython/html.py:14: ShimWarning: The `IPython.html` package has been deprecated. You should import from `notebook` instead. `IPython.html.widgets` has moved to `ipywidgets`.\n",
      "  \"`IPython.html.widgets` has moved to `ipywidgets`.\", ShimWarning)\n"
     ]
    }
   ],
   "source": [
    "import pandas as pd\n",
    "import moss\n",
    "from scipy import stats\n",
    "import scipy as sp\n",
    "import seaborn as sns\n",
    "import numpy as np\n",
    "import matplotlib\n",
    "import matplotlib.pyplot as plt\n",
    "import os.path as op\n",
    "import re\n",
    "\n",
    "#widget ability\n",
    "from IPython.html.widgets import interact, interactive, fixed\n",
    "from IPython.html import widgets\n",
    "from IPython.display import clear_output, display, HTML\n",
    "\n",
    "import glob\n",
    "\n",
    "# Gather project info & functions\n",
    "from sst_setup_project import *\n",
    "\n",
    "# for plotting\n",
    "sns.set(style='whitegrid', context='poster')\n",
    "%matplotlib inline"
   ]
  },
  {
   "cell_type": "markdown",
   "metadata": {},
   "source": [
    "### Set up directories & exp-specific information"
   ]
  },
  {
   "cell_type": "code",
   "execution_count": 2,
   "metadata": {
    "collapsed": false
   },
   "outputs": [],
   "source": [
    "dirs = dict()\n",
    "dirs['basedir'] = op.join(op.expanduser('~'), 'Experiments/SST')\n",
    "dirs['datadir'] = op.join(dirs['basedir'], 'data')\n",
    "dirs['analydir'] = op.join(dirs['basedir'], 'analysis')\n",
    "dirs['subj_info_file'] = op.join(dirs['datadir'], 'subj_info.csv')\n",
    "dirs['shortcut_file'] = op.join(dirs['datadir'], 'shortcut_coords.csv')\n",
    "dirs['navdir'] = '/Volumes/group/awagner/sgagnon/SST/nav_data'\n",
    "dirs['order_file'] = op.join(dirs['basedir'], 'data','SST_env_order.csv')"
   ]
  },
  {
   "cell_type": "code",
   "execution_count": 3,
   "metadata": {
    "collapsed": false
   },
   "outputs": [],
   "source": [
    "proj = gather_experiment_info(exp_name='SST', dirs=dirs)"
   ]
  },
  {
   "cell_type": "markdown",
   "metadata": {},
   "source": [
    "### Read in subject information"
   ]
  },
  {
   "cell_type": "code",
   "execution_count": 4,
   "metadata": {
    "collapsed": false
   },
   "outputs": [
    {
     "data": {
      "text/html": [
       "<div>\n",
       "<table border=\"1\" class=\"dataframe\">\n",
       "  <thead>\n",
       "    <tr style=\"text-align: right;\">\n",
       "      <th></th>\n",
       "      <th>subid</th>\n",
       "      <th>group</th>\n",
       "      <th>remove</th>\n",
       "    </tr>\n",
       "  </thead>\n",
       "  <tbody>\n",
       "    <tr>\n",
       "      <th>0</th>\n",
       "      <td>1</td>\n",
       "      <td>control</td>\n",
       "      <td>NaN</td>\n",
       "    </tr>\n",
       "    <tr>\n",
       "      <th>1</th>\n",
       "      <td>2</td>\n",
       "      <td>control</td>\n",
       "      <td>NaN</td>\n",
       "    </tr>\n",
       "    <tr>\n",
       "      <th>2</th>\n",
       "      <td>3</td>\n",
       "      <td>control</td>\n",
       "      <td>NaN</td>\n",
       "    </tr>\n",
       "    <tr>\n",
       "      <th>3</th>\n",
       "      <td>4</td>\n",
       "      <td>control</td>\n",
       "      <td>NaN</td>\n",
       "    </tr>\n",
       "    <tr>\n",
       "      <th>4</th>\n",
       "      <td>5</td>\n",
       "      <td>control</td>\n",
       "      <td>NaN</td>\n",
       "    </tr>\n",
       "    <tr>\n",
       "      <th>5</th>\n",
       "      <td>6</td>\n",
       "      <td>control</td>\n",
       "      <td>NaN</td>\n",
       "    </tr>\n",
       "    <tr>\n",
       "      <th>6</th>\n",
       "      <td>7</td>\n",
       "      <td>control</td>\n",
       "      <td>NaN</td>\n",
       "    </tr>\n",
       "    <tr>\n",
       "      <th>7</th>\n",
       "      <td>9</td>\n",
       "      <td>control</td>\n",
       "      <td>NaN</td>\n",
       "    </tr>\n",
       "    <tr>\n",
       "      <th>8</th>\n",
       "      <td>10</td>\n",
       "      <td>control</td>\n",
       "      <td>NaN</td>\n",
       "    </tr>\n",
       "    <tr>\n",
       "      <th>9</th>\n",
       "      <td>11</td>\n",
       "      <td>control</td>\n",
       "      <td>NaN</td>\n",
       "    </tr>\n",
       "    <tr>\n",
       "      <th>10</th>\n",
       "      <td>12</td>\n",
       "      <td>control</td>\n",
       "      <td>NaN</td>\n",
       "    </tr>\n",
       "    <tr>\n",
       "      <th>11</th>\n",
       "      <td>13</td>\n",
       "      <td>control</td>\n",
       "      <td>NaN</td>\n",
       "    </tr>\n",
       "    <tr>\n",
       "      <th>12</th>\n",
       "      <td>14</td>\n",
       "      <td>stress</td>\n",
       "      <td>NaN</td>\n",
       "    </tr>\n",
       "    <tr>\n",
       "      <th>13</th>\n",
       "      <td>15</td>\n",
       "      <td>stress</td>\n",
       "      <td>NaN</td>\n",
       "    </tr>\n",
       "    <tr>\n",
       "      <th>14</th>\n",
       "      <td>16</td>\n",
       "      <td>stress</td>\n",
       "      <td>NaN</td>\n",
       "    </tr>\n",
       "    <tr>\n",
       "      <th>15</th>\n",
       "      <td>18</td>\n",
       "      <td>stress</td>\n",
       "      <td>NaN</td>\n",
       "    </tr>\n",
       "    <tr>\n",
       "      <th>16</th>\n",
       "      <td>19</td>\n",
       "      <td>control</td>\n",
       "      <td>NaN</td>\n",
       "    </tr>\n",
       "  </tbody>\n",
       "</table>\n",
       "</div>"
      ],
      "text/plain": [
       "   subid    group  remove\n",
       "0      1  control     NaN\n",
       "1      2  control     NaN\n",
       "2      3  control     NaN\n",
       "3      4  control     NaN\n",
       "4      5  control     NaN\n",
       "5      6  control     NaN\n",
       "6      7  control     NaN\n",
       "7      9  control     NaN\n",
       "8     10  control     NaN\n",
       "9     11  control     NaN\n",
       "10    12  control     NaN\n",
       "11    13  control     NaN\n",
       "12    14   stress     NaN\n",
       "13    15   stress     NaN\n",
       "14    16   stress     NaN\n",
       "15    18   stress     NaN\n",
       "16    19  control     NaN"
      ]
     },
     "execution_count": 4,
     "metadata": {},
     "output_type": "execute_result"
    }
   ],
   "source": [
    "subj_info = pd.read_csv(dirs['subj_info_file'])\n",
    "subj_info = subj_info[pd.isnull(subj_info.remove)]\n",
    "subj_info[['subid']] = subj_info.subid.astype(str)\n",
    "subj_info"
   ]
  },
  {
   "cell_type": "code",
   "execution_count": 5,
   "metadata": {
    "collapsed": false
   },
   "outputs": [
    {
     "data": {
      "text/html": [
       "<div>\n",
       "<table border=\"1\" class=\"dataframe\">\n",
       "  <thead>\n",
       "    <tr style=\"text-align: right;\">\n",
       "      <th></th>\n",
       "      <th>env</th>\n",
       "      <th>x_lo</th>\n",
       "      <th>x_hi</th>\n",
       "      <th>y_lo</th>\n",
       "      <th>y_hi</th>\n",
       "    </tr>\n",
       "  </thead>\n",
       "  <tbody>\n",
       "    <tr>\n",
       "      <th>0</th>\n",
       "      <td>env1</td>\n",
       "      <td>16</td>\n",
       "      <td>32</td>\n",
       "      <td>5</td>\n",
       "      <td>15</td>\n",
       "    </tr>\n",
       "    <tr>\n",
       "      <th>1</th>\n",
       "      <td>env2</td>\n",
       "      <td>8</td>\n",
       "      <td>28</td>\n",
       "      <td>28</td>\n",
       "      <td>48</td>\n",
       "    </tr>\n",
       "    <tr>\n",
       "      <th>2</th>\n",
       "      <td>env3</td>\n",
       "      <td>24</td>\n",
       "      <td>40</td>\n",
       "      <td>16</td>\n",
       "      <td>24</td>\n",
       "    </tr>\n",
       "    <tr>\n",
       "      <th>3</th>\n",
       "      <td>env4</td>\n",
       "      <td>16</td>\n",
       "      <td>32</td>\n",
       "      <td>16</td>\n",
       "      <td>24</td>\n",
       "    </tr>\n",
       "    <tr>\n",
       "      <th>4</th>\n",
       "      <td>env5</td>\n",
       "      <td>12</td>\n",
       "      <td>20</td>\n",
       "      <td>20</td>\n",
       "      <td>31</td>\n",
       "    </tr>\n",
       "    <tr>\n",
       "      <th>5</th>\n",
       "      <td>env6</td>\n",
       "      <td>24</td>\n",
       "      <td>40</td>\n",
       "      <td>24</td>\n",
       "      <td>40</td>\n",
       "    </tr>\n",
       "    <tr>\n",
       "      <th>6</th>\n",
       "      <td>env7</td>\n",
       "      <td>10</td>\n",
       "      <td>15</td>\n",
       "      <td>30</td>\n",
       "      <td>40</td>\n",
       "    </tr>\n",
       "    <tr>\n",
       "      <th>7</th>\n",
       "      <td>env8</td>\n",
       "      <td>16</td>\n",
       "      <td>32</td>\n",
       "      <td>0</td>\n",
       "      <td>16</td>\n",
       "    </tr>\n",
       "    <tr>\n",
       "      <th>8</th>\n",
       "      <td>env9</td>\n",
       "      <td>24</td>\n",
       "      <td>35</td>\n",
       "      <td>0</td>\n",
       "      <td>12</td>\n",
       "    </tr>\n",
       "    <tr>\n",
       "      <th>9</th>\n",
       "      <td>env10</td>\n",
       "      <td>48</td>\n",
       "      <td>56</td>\n",
       "      <td>24</td>\n",
       "      <td>40</td>\n",
       "    </tr>\n",
       "    <tr>\n",
       "      <th>10</th>\n",
       "      <td>env11</td>\n",
       "      <td>24</td>\n",
       "      <td>32</td>\n",
       "      <td>40</td>\n",
       "      <td>48</td>\n",
       "    </tr>\n",
       "    <tr>\n",
       "      <th>11</th>\n",
       "      <td>env12</td>\n",
       "      <td>24</td>\n",
       "      <td>35</td>\n",
       "      <td>30</td>\n",
       "      <td>45</td>\n",
       "    </tr>\n",
       "  </tbody>\n",
       "</table>\n",
       "</div>"
      ],
      "text/plain": [
       "      env  x_lo  x_hi  y_lo  y_hi\n",
       "0    env1    16    32     5    15\n",
       "1    env2     8    28    28    48\n",
       "2    env3    24    40    16    24\n",
       "3    env4    16    32    16    24\n",
       "4    env5    12    20    20    31\n",
       "5    env6    24    40    24    40\n",
       "6    env7    10    15    30    40\n",
       "7    env8    16    32     0    16\n",
       "8    env9    24    35     0    12\n",
       "9   env10    48    56    24    40\n",
       "10  env11    24    32    40    48\n",
       "11  env12    24    35    30    45"
      ]
     },
     "execution_count": 5,
     "metadata": {},
     "output_type": "execute_result"
    }
   ],
   "source": [
    "shortcut_coords = pd.read_csv(dirs['shortcut_file'])\n",
    "shortcut_coords"
   ]
  },
  {
   "cell_type": "code",
   "execution_count": 6,
   "metadata": {
    "collapsed": false
   },
   "outputs": [
    {
     "data": {
      "text/html": [
       "<div>\n",
       "<table border=\"1\" class=\"dataframe\">\n",
       "  <thead>\n",
       "    <tr style=\"text-align: right;\">\n",
       "      <th></th>\n",
       "      <th>subid</th>\n",
       "      <th>rep</th>\n",
       "      <th>run</th>\n",
       "      <th>trial</th>\n",
       "      <th>env</th>\n",
       "    </tr>\n",
       "  </thead>\n",
       "  <tbody>\n",
       "    <tr>\n",
       "      <th>0</th>\n",
       "      <td>1</td>\n",
       "      <td>1</td>\n",
       "      <td>1</td>\n",
       "      <td>1</td>\n",
       "      <td>1</td>\n",
       "    </tr>\n",
       "    <tr>\n",
       "      <th>1</th>\n",
       "      <td>1</td>\n",
       "      <td>1</td>\n",
       "      <td>1</td>\n",
       "      <td>2</td>\n",
       "      <td>8</td>\n",
       "    </tr>\n",
       "    <tr>\n",
       "      <th>2</th>\n",
       "      <td>1</td>\n",
       "      <td>1</td>\n",
       "      <td>1</td>\n",
       "      <td>3</td>\n",
       "      <td>9</td>\n",
       "    </tr>\n",
       "    <tr>\n",
       "      <th>3</th>\n",
       "      <td>1</td>\n",
       "      <td>1</td>\n",
       "      <td>2</td>\n",
       "      <td>1</td>\n",
       "      <td>4</td>\n",
       "    </tr>\n",
       "    <tr>\n",
       "      <th>4</th>\n",
       "      <td>1</td>\n",
       "      <td>1</td>\n",
       "      <td>2</td>\n",
       "      <td>2</td>\n",
       "      <td>5</td>\n",
       "    </tr>\n",
       "  </tbody>\n",
       "</table>\n",
       "</div>"
      ],
      "text/plain": [
       "  subid  rep  run  trial  env\n",
       "0     1    1    1      1    1\n",
       "1     1    1    1      2    8\n",
       "2     1    1    1      3    9\n",
       "3     1    1    2      1    4\n",
       "4     1    1    2      2    5"
      ]
     },
     "execution_count": 6,
     "metadata": {},
     "output_type": "execute_result"
    }
   ],
   "source": [
    "trial_order = pd.read_csv(dirs['order_file'])\n",
    "trial_order[['subid']] = trial_order[['subid']].astype(str)\n",
    "trial_order.head()"
   ]
  },
  {
   "cell_type": "code",
   "execution_count": 7,
   "metadata": {
    "collapsed": false
   },
   "outputs": [
    {
     "data": {
      "text/plain": [
       "21"
      ]
     },
     "execution_count": 7,
     "metadata": {},
     "output_type": "execute_result"
    }
   ],
   "source": [
    "len(trial_order.subid.unique())"
   ]
  },
  {
   "cell_type": "markdown",
   "metadata": {},
   "source": [
    "## Read in data files"
   ]
  },
  {
   "cell_type": "code",
   "execution_count": 8,
   "metadata": {
    "collapsed": false
   },
   "outputs": [
    {
     "data": {
      "text/plain": [
       "0      1\n",
       "1      2\n",
       "2      3\n",
       "3      4\n",
       "4      5\n",
       "5      6\n",
       "6      7\n",
       "7      9\n",
       "8     10\n",
       "9     11\n",
       "10    12\n",
       "11    13\n",
       "12    14\n",
       "13    15\n",
       "14    16\n",
       "15    18\n",
       "16    19\n",
       "Name: subid, dtype: object"
      ]
     },
     "execution_count": 8,
     "metadata": {},
     "output_type": "execute_result"
    }
   ],
   "source": [
    "subj_info.subid"
   ]
  },
  {
   "cell_type": "code",
   "execution_count": 9,
   "metadata": {
    "collapsed": false
   },
   "outputs": [
    {
     "name": "stdout",
     "output_type": "stream",
     "text": [
      "19\n",
      "20\n",
      "21\n",
      "22\n",
      "23\n"
     ]
    }
   ],
   "source": [
    "df = pd.DataFrame() # dataframe of subjs x envs\n",
    "test = True\n",
    "questionnaires_shock  = False\n",
    "questionnaires_post  = False\n",
    "\n",
    "# iterate through subjects\n",
    "# for subid in subj_info.subid:\n",
    "for subid in ['19', '20', '21', '22', '23']:\n",
    "    \n",
    "    print subid\n",
    "    \n",
    "    if test:\n",
    "        for run_num in range(1, 12+1):\n",
    "            # add test file\n",
    "            \n",
    "            if int(subid) < 10:\n",
    "                test_file = glob.glob(op.join(dirs['navdir'], 'sst0' + str(subid), 'run'+ str(run_num),\n",
    "                                      'session_*', 'log.txt'))[0]\n",
    "            else:\n",
    "                test_file = glob.glob(op.join(dirs['navdir'], 'sst' + str(subid), 'run'+ str(run_num),\n",
    "                                      'session_*', 'log.txt'))[0]    \n",
    "\n",
    "            output = []\n",
    "            with open(test_file) as f:\n",
    "                data = f.readlines()\n",
    "\n",
    "                for line in data:\n",
    "                    columns = re.split('\\t|\\r|\\n', line)\n",
    "                    output.append(columns)\n",
    "            d2 = pd.DataFrame(output, columns = ['time', 'c2', 'command', \n",
    "                                                 'c3', 'c4', 'c5', 'c6', 'c7', 'c8'])\n",
    "\n",
    "            # include subid and env\n",
    "            d2['subid'] = subid\n",
    "            d2['run'] = run_num\n",
    "\n",
    "            if run_num < 5:\n",
    "                d2['type'] = 'habit'\n",
    "            else:\n",
    "                d2['type'] = 'shortcut'\n",
    "            \n",
    "            # force time to be integer, subtract trigger time from each run\n",
    "            d2.time = d2.time.astype(int)\n",
    "            d2.time = d2.time - d2.loc[d2.command == 'SCAN', 'time'].values[0]\n",
    "            \n",
    "            # convert to seconds\n",
    "            d2.time = d2.time/1000\n",
    "            d2.time = d2.time - 8 # adjust for tossed volumes (4 TRs, 8 s (2s TR))\n",
    "\n",
    "            df = df.append(d2, ignore_index=True)\n",
    "\n",
    "# Compiled group data\n",
    "if questionnaires_shock:\n",
    "    q_file = op.join(dirs['basedir'], 'data/Quest/Questionnaires_shockblock_group.csv')\n",
    "    dq_shock = pd.read_csv(q_file, index_col=0)\n",
    "\n",
    "if questionnaires_post:\n",
    "    q_file = op.join(dirs['basedir'], 'data/Quest/Questionnaires_group.csv')\n",
    "    dq_post = pd.read_csv(q_file, index_col=0)\n",
    "    dq_post['subid'] = dq_post.subid.astype(str)"
   ]
  },
  {
   "cell_type": "markdown",
   "metadata": {},
   "source": [
    "## Look at data"
   ]
  },
  {
   "cell_type": "code",
   "execution_count": 10,
   "metadata": {
    "collapsed": false
   },
   "outputs": [
    {
     "data": {
      "text/html": [
       "<div>\n",
       "<table border=\"1\" class=\"dataframe\">\n",
       "  <thead>\n",
       "    <tr style=\"text-align: right;\">\n",
       "      <th></th>\n",
       "      <th>time</th>\n",
       "      <th>c2</th>\n",
       "      <th>command</th>\n",
       "      <th>c3</th>\n",
       "      <th>c4</th>\n",
       "      <th>c5</th>\n",
       "      <th>c6</th>\n",
       "      <th>c7</th>\n",
       "      <th>c8</th>\n",
       "      <th>subid</th>\n",
       "      <th>run</th>\n",
       "      <th>type</th>\n",
       "    </tr>\n",
       "  </thead>\n",
       "  <tbody>\n",
       "    <tr>\n",
       "      <th>0</th>\n",
       "      <td>-23.629</td>\n",
       "      <td>1</td>\n",
       "      <td>COMMON_WIN_PROPERTIES</td>\n",
       "      <td>800</td>\n",
       "      <td>600</td>\n",
       "      <td>True</td>\n",
       "      <td>False</td>\n",
       "      <td></td>\n",
       "      <td></td>\n",
       "      <td>19</td>\n",
       "      <td>1</td>\n",
       "      <td>habit</td>\n",
       "    </tr>\n",
       "    <tr>\n",
       "      <th>1</th>\n",
       "      <td>-22.014</td>\n",
       "      <td>0</td>\n",
       "      <td>CAMERA_INIT</td>\n",
       "      <td>PandaEPL_defaultCamera</td>\n",
       "      <td></td>\n",
       "      <td></td>\n",
       "      <td>None</td>\n",
       "      <td>None</td>\n",
       "      <td>None</td>\n",
       "      <td>19</td>\n",
       "      <td>1</td>\n",
       "      <td>habit</td>\n",
       "    </tr>\n",
       "    <tr>\n",
       "      <th>2</th>\n",
       "      <td>-22.014</td>\n",
       "      <td>0</td>\n",
       "      <td>VR_INIT</td>\n",
       "      <td></td>\n",
       "      <td></td>\n",
       "      <td>None</td>\n",
       "      <td>None</td>\n",
       "      <td>None</td>\n",
       "      <td>None</td>\n",
       "      <td>19</td>\n",
       "      <td>1</td>\n",
       "      <td>habit</td>\n",
       "    </tr>\n",
       "    <tr>\n",
       "      <th>3</th>\n",
       "      <td>-22.014</td>\n",
       "      <td>0</td>\n",
       "      <td>VR_CREATED</td>\n",
       "      <td></td>\n",
       "      <td></td>\n",
       "      <td>None</td>\n",
       "      <td>None</td>\n",
       "      <td>None</td>\n",
       "      <td>None</td>\n",
       "      <td>19</td>\n",
       "      <td>1</td>\n",
       "      <td>habit</td>\n",
       "    </tr>\n",
       "    <tr>\n",
       "      <th>4</th>\n",
       "      <td>-17.510</td>\n",
       "      <td>0</td>\n",
       "      <td>CONF_LOAD</td>\n",
       "      <td>./config.py</td>\n",
       "      <td>None</td>\n",
       "      <td></td>\n",
       "      <td></td>\n",
       "      <td>None</td>\n",
       "      <td>None</td>\n",
       "      <td>19</td>\n",
       "      <td>1</td>\n",
       "      <td>habit</td>\n",
       "    </tr>\n",
       "  </tbody>\n",
       "</table>\n",
       "</div>"
      ],
      "text/plain": [
       "     time c2                command                      c3    c4    c5  \\\n",
       "0 -23.629  1  COMMON_WIN_PROPERTIES                     800   600  True   \n",
       "1 -22.014  0            CAMERA_INIT  PandaEPL_defaultCamera               \n",
       "2 -22.014  0                VR_INIT                                None   \n",
       "3 -22.014  0             VR_CREATED                                None   \n",
       "4 -17.510  0              CONF_LOAD             ./config.py  None         \n",
       "\n",
       "      c6    c7    c8 subid  run   type  \n",
       "0  False                19    1  habit  \n",
       "1   None  None  None    19    1  habit  \n",
       "2   None  None  None    19    1  habit  \n",
       "3   None  None  None    19    1  habit  \n",
       "4         None  None    19    1  habit  "
      ]
     },
     "execution_count": 10,
     "metadata": {},
     "output_type": "execute_result"
    }
   ],
   "source": [
    "df.head()"
   ]
  },
  {
   "cell_type": "markdown",
   "metadata": {},
   "source": [
    "### Look at 2D position in space"
   ]
  },
  {
   "cell_type": "code",
   "execution_count": 11,
   "metadata": {
    "collapsed": true
   },
   "outputs": [],
   "source": [
    "command_list = ['SCAN', 'ORIENT', 'ASSIGNED', 'NAVIGATE', 'ARRIVED']"
   ]
  },
  {
   "cell_type": "code",
   "execution_count": 12,
   "metadata": {
    "collapsed": false
   },
   "outputs": [
    {
     "data": {
      "text/html": [
       "<div>\n",
       "<table border=\"1\" class=\"dataframe\">\n",
       "  <thead>\n",
       "    <tr style=\"text-align: right;\">\n",
       "      <th></th>\n",
       "      <th>time</th>\n",
       "      <th>c2</th>\n",
       "      <th>command</th>\n",
       "      <th>c3</th>\n",
       "      <th>c4</th>\n",
       "      <th>c5</th>\n",
       "      <th>c6</th>\n",
       "      <th>c7</th>\n",
       "      <th>c8</th>\n",
       "      <th>subid</th>\n",
       "      <th>run</th>\n",
       "      <th>type</th>\n",
       "    </tr>\n",
       "  </thead>\n",
       "  <tbody>\n",
       "    <tr>\n",
       "      <th>0</th>\n",
       "      <td>-23.629</td>\n",
       "      <td>1</td>\n",
       "      <td>COMMON_WIN_PROPERTIES</td>\n",
       "      <td>800</td>\n",
       "      <td>600</td>\n",
       "      <td>True</td>\n",
       "      <td>False</td>\n",
       "      <td></td>\n",
       "      <td></td>\n",
       "      <td>19</td>\n",
       "      <td>1</td>\n",
       "      <td>habit</td>\n",
       "    </tr>\n",
       "    <tr>\n",
       "      <th>1</th>\n",
       "      <td>-22.014</td>\n",
       "      <td>0</td>\n",
       "      <td>CAMERA_INIT</td>\n",
       "      <td>PandaEPL_defaultCamera</td>\n",
       "      <td></td>\n",
       "      <td></td>\n",
       "      <td>None</td>\n",
       "      <td>None</td>\n",
       "      <td>None</td>\n",
       "      <td>19</td>\n",
       "      <td>1</td>\n",
       "      <td>habit</td>\n",
       "    </tr>\n",
       "    <tr>\n",
       "      <th>2</th>\n",
       "      <td>-22.014</td>\n",
       "      <td>0</td>\n",
       "      <td>VR_INIT</td>\n",
       "      <td></td>\n",
       "      <td></td>\n",
       "      <td>None</td>\n",
       "      <td>None</td>\n",
       "      <td>None</td>\n",
       "      <td>None</td>\n",
       "      <td>19</td>\n",
       "      <td>1</td>\n",
       "      <td>habit</td>\n",
       "    </tr>\n",
       "    <tr>\n",
       "      <th>3</th>\n",
       "      <td>-22.014</td>\n",
       "      <td>0</td>\n",
       "      <td>VR_CREATED</td>\n",
       "      <td></td>\n",
       "      <td></td>\n",
       "      <td>None</td>\n",
       "      <td>None</td>\n",
       "      <td>None</td>\n",
       "      <td>None</td>\n",
       "      <td>19</td>\n",
       "      <td>1</td>\n",
       "      <td>habit</td>\n",
       "    </tr>\n",
       "    <tr>\n",
       "      <th>4</th>\n",
       "      <td>-17.510</td>\n",
       "      <td>0</td>\n",
       "      <td>CONF_LOAD</td>\n",
       "      <td>./config.py</td>\n",
       "      <td>None</td>\n",
       "      <td></td>\n",
       "      <td></td>\n",
       "      <td>None</td>\n",
       "      <td>None</td>\n",
       "      <td>19</td>\n",
       "      <td>1</td>\n",
       "      <td>habit</td>\n",
       "    </tr>\n",
       "  </tbody>\n",
       "</table>\n",
       "</div>"
      ],
      "text/plain": [
       "     time c2                command                      c3    c4    c5  \\\n",
       "0 -23.629  1  COMMON_WIN_PROPERTIES                     800   600  True   \n",
       "1 -22.014  0            CAMERA_INIT  PandaEPL_defaultCamera               \n",
       "2 -22.014  0                VR_INIT                                None   \n",
       "3 -22.014  0             VR_CREATED                                None   \n",
       "4 -17.510  0              CONF_LOAD             ./config.py  None         \n",
       "\n",
       "      c6    c7    c8 subid  run   type  \n",
       "0  False                19    1  habit  \n",
       "1   None  None  None    19    1  habit  \n",
       "2   None  None  None    19    1  habit  \n",
       "3   None  None  None    19    1  habit  \n",
       "4         None  None    19    1  habit  "
      ]
     },
     "execution_count": 12,
     "metadata": {},
     "output_type": "execute_result"
    }
   ],
   "source": [
    "df.head()"
   ]
  },
  {
   "cell_type": "code",
   "execution_count": 13,
   "metadata": {
    "collapsed": false
   },
   "outputs": [
    {
     "data": {
      "text/html": [
       "<div>\n",
       "<table border=\"1\" class=\"dataframe\">\n",
       "  <thead>\n",
       "    <tr style=\"text-align: right;\">\n",
       "      <th></th>\n",
       "      <th>time</th>\n",
       "      <th>command</th>\n",
       "      <th>c3</th>\n",
       "      <th>subid</th>\n",
       "      <th>run</th>\n",
       "      <th>type</th>\n",
       "    </tr>\n",
       "  </thead>\n",
       "  <tbody>\n",
       "    <tr>\n",
       "      <th>0</th>\n",
       "      <td>-8.000</td>\n",
       "      <td>SCAN</td>\n",
       "      <td>scan_triggered</td>\n",
       "      <td>19</td>\n",
       "      <td>1</td>\n",
       "      <td>habit</td>\n",
       "    </tr>\n",
       "    <tr>\n",
       "      <th>1</th>\n",
       "      <td>0.350</td>\n",
       "      <td>ORIENT</td>\n",
       "      <td>oriented_to_env</td>\n",
       "      <td>19</td>\n",
       "      <td>1</td>\n",
       "      <td>habit</td>\n",
       "    </tr>\n",
       "    <tr>\n",
       "      <th>2</th>\n",
       "      <td>11.385</td>\n",
       "      <td>ASSIGNED</td>\n",
       "      <td>zzz</td>\n",
       "      <td>19</td>\n",
       "      <td>1</td>\n",
       "      <td>habit</td>\n",
       "    </tr>\n",
       "    <tr>\n",
       "      <th>3</th>\n",
       "      <td>19.364</td>\n",
       "      <td>NAVIGATE</td>\n",
       "      <td>started_navigation</td>\n",
       "      <td>19</td>\n",
       "      <td>1</td>\n",
       "      <td>habit</td>\n",
       "    </tr>\n",
       "    <tr>\n",
       "      <th>4</th>\n",
       "      <td>85.767</td>\n",
       "      <td>ARRIVED</td>\n",
       "      <td>zzz</td>\n",
       "      <td>19</td>\n",
       "      <td>1</td>\n",
       "      <td>habit</td>\n",
       "    </tr>\n",
       "  </tbody>\n",
       "</table>\n",
       "</div>"
      ],
      "text/plain": [
       "     time   command                  c3 subid  run   type\n",
       "0  -8.000      SCAN      scan_triggered    19    1  habit\n",
       "1   0.350    ORIENT     oriented_to_env    19    1  habit\n",
       "2  11.385  ASSIGNED                 zzz    19    1  habit\n",
       "3  19.364  NAVIGATE  started_navigation    19    1  habit\n",
       "4  85.767   ARRIVED                 zzz    19    1  habit"
      ]
     },
     "execution_count": 13,
     "metadata": {},
     "output_type": "execute_result"
    }
   ],
   "source": [
    "dp = df[df.command.isin(command_list)].reset_index()\n",
    "dp = dp.drop(['c2', 'c4', 'c5', 'c6', 'c7', 'c8', 'index'], 1) # remove unncessary cols\n",
    "dp.head()"
   ]
  },
  {
   "cell_type": "markdown",
   "metadata": {},
   "source": [
    "### Drop non-targets"
   ]
  },
  {
   "cell_type": "code",
   "execution_count": 14,
   "metadata": {
    "collapsed": true
   },
   "outputs": [],
   "source": [
    "targets = ['zzz', 'Jim_Parsons', 'Beyonce', 'Paul_McCartney', \n",
    " 'Natalie_Portman', 'Benedict_Cumberbatch',\n",
    " 'Taylor_Swift', 'Katy_Perry', 'Johnny_Depp', \n",
    " 'Zooey_Deschanel', 'George_Clooney', 'Mark_Zuckerberg','Emma_Watson']\n"
   ]
  },
  {
   "cell_type": "code",
   "execution_count": 15,
   "metadata": {
    "collapsed": false
   },
   "outputs": [],
   "source": [
    "dp = dp.drop(dp[(dp.command == \"ARRIVED\") & (~dp.c3.isin(targets))].index).reset_index()"
   ]
  },
  {
   "cell_type": "code",
   "execution_count": 16,
   "metadata": {
    "collapsed": false
   },
   "outputs": [
    {
     "data": {
      "text/plain": [
       "180"
      ]
     },
     "execution_count": 16,
     "metadata": {},
     "output_type": "execute_result"
    }
   ],
   "source": [
    "len(dp[dp.command == \"NAVIGATE\"].time)"
   ]
  },
  {
   "cell_type": "code",
   "execution_count": 17,
   "metadata": {
    "collapsed": false
   },
   "outputs": [
    {
     "data": {
      "text/plain": [
       "16924"
      ]
     },
     "execution_count": 17,
     "metadata": {},
     "output_type": "execute_result"
    }
   ],
   "source": [
    "len(dp[dp.command == \"ARRIVED\"].time)"
   ]
  },
  {
   "cell_type": "code",
   "execution_count": 18,
   "metadata": {
    "collapsed": false
   },
   "outputs": [
    {
     "data": {
      "text/html": [
       "<div>\n",
       "<table border=\"1\" class=\"dataframe\">\n",
       "  <thead>\n",
       "    <tr style=\"text-align: right;\">\n",
       "      <th></th>\n",
       "      <th>index</th>\n",
       "      <th>time</th>\n",
       "      <th>command</th>\n",
       "      <th>c3</th>\n",
       "      <th>run</th>\n",
       "      <th>type</th>\n",
       "    </tr>\n",
       "    <tr>\n",
       "      <th>subid</th>\n",
       "      <th></th>\n",
       "      <th></th>\n",
       "      <th></th>\n",
       "      <th></th>\n",
       "      <th></th>\n",
       "      <th></th>\n",
       "    </tr>\n",
       "  </thead>\n",
       "  <tbody>\n",
       "    <tr>\n",
       "      <th>19</th>\n",
       "      <td>13457</td>\n",
       "      <td>13457</td>\n",
       "      <td>13457</td>\n",
       "      <td>13457</td>\n",
       "      <td>13457</td>\n",
       "      <td>13457</td>\n",
       "    </tr>\n",
       "    <tr>\n",
       "      <th>20</th>\n",
       "      <td>36</td>\n",
       "      <td>36</td>\n",
       "      <td>36</td>\n",
       "      <td>36</td>\n",
       "      <td>36</td>\n",
       "      <td>36</td>\n",
       "    </tr>\n",
       "    <tr>\n",
       "      <th>21</th>\n",
       "      <td>2350</td>\n",
       "      <td>2350</td>\n",
       "      <td>2350</td>\n",
       "      <td>2350</td>\n",
       "      <td>2350</td>\n",
       "      <td>2350</td>\n",
       "    </tr>\n",
       "    <tr>\n",
       "      <th>22</th>\n",
       "      <td>1045</td>\n",
       "      <td>1045</td>\n",
       "      <td>1045</td>\n",
       "      <td>1045</td>\n",
       "      <td>1045</td>\n",
       "      <td>1045</td>\n",
       "    </tr>\n",
       "    <tr>\n",
       "      <th>23</th>\n",
       "      <td>36</td>\n",
       "      <td>36</td>\n",
       "      <td>36</td>\n",
       "      <td>36</td>\n",
       "      <td>36</td>\n",
       "      <td>36</td>\n",
       "    </tr>\n",
       "  </tbody>\n",
       "</table>\n",
       "</div>"
      ],
      "text/plain": [
       "       index   time  command     c3    run   type\n",
       "subid                                            \n",
       "19     13457  13457    13457  13457  13457  13457\n",
       "20        36     36       36     36     36     36\n",
       "21      2350   2350     2350   2350   2350   2350\n",
       "22      1045   1045     1045   1045   1045   1045\n",
       "23        36     36       36     36     36     36"
      ]
     },
     "execution_count": 18,
     "metadata": {},
     "output_type": "execute_result"
    }
   ],
   "source": [
    "pd.groupby(dp[dp.command == \"ARRIVED\"], by=['subid']).count()"
   ]
  },
  {
   "cell_type": "markdown",
   "metadata": {},
   "source": [
    "### Get indexes for navigated, and first arrived"
   ]
  },
  {
   "cell_type": "code",
   "execution_count": 19,
   "metadata": {
    "collapsed": false
   },
   "outputs": [],
   "source": [
    "ind = np.concatenate((dp[(dp.command == \"NAVIGATE\")].index, \n",
    "                      dp[(dp.command == \"NAVIGATE\")].index + 1))"
   ]
  },
  {
   "cell_type": "code",
   "execution_count": 20,
   "metadata": {
    "collapsed": false
   },
   "outputs": [
    {
     "data": {
      "text/html": [
       "<div>\n",
       "<table border=\"1\" class=\"dataframe\">\n",
       "  <thead>\n",
       "    <tr style=\"text-align: right;\">\n",
       "      <th></th>\n",
       "      <th>index</th>\n",
       "      <th>time</th>\n",
       "      <th>command</th>\n",
       "      <th>c3</th>\n",
       "      <th>subid</th>\n",
       "      <th>run</th>\n",
       "      <th>type</th>\n",
       "    </tr>\n",
       "  </thead>\n",
       "  <tbody>\n",
       "    <tr>\n",
       "      <th>0</th>\n",
       "      <td>0</td>\n",
       "      <td>-8.000</td>\n",
       "      <td>SCAN</td>\n",
       "      <td>scan_triggered</td>\n",
       "      <td>19</td>\n",
       "      <td>1</td>\n",
       "      <td>habit</td>\n",
       "    </tr>\n",
       "    <tr>\n",
       "      <th>1</th>\n",
       "      <td>1</td>\n",
       "      <td>0.350</td>\n",
       "      <td>ORIENT</td>\n",
       "      <td>oriented_to_env</td>\n",
       "      <td>19</td>\n",
       "      <td>1</td>\n",
       "      <td>habit</td>\n",
       "    </tr>\n",
       "    <tr>\n",
       "      <th>2</th>\n",
       "      <td>2</td>\n",
       "      <td>11.385</td>\n",
       "      <td>ASSIGNED</td>\n",
       "      <td>zzz</td>\n",
       "      <td>19</td>\n",
       "      <td>1</td>\n",
       "      <td>habit</td>\n",
       "    </tr>\n",
       "    <tr>\n",
       "      <th>3</th>\n",
       "      <td>3</td>\n",
       "      <td>19.364</td>\n",
       "      <td>NAVIGATE</td>\n",
       "      <td>started_navigation</td>\n",
       "      <td>19</td>\n",
       "      <td>1</td>\n",
       "      <td>habit</td>\n",
       "    </tr>\n",
       "    <tr>\n",
       "      <th>4</th>\n",
       "      <td>4</td>\n",
       "      <td>85.767</td>\n",
       "      <td>ARRIVED</td>\n",
       "      <td>zzz</td>\n",
       "      <td>19</td>\n",
       "      <td>1</td>\n",
       "      <td>habit</td>\n",
       "    </tr>\n",
       "  </tbody>\n",
       "</table>\n",
       "</div>"
      ],
      "text/plain": [
       "   index    time   command                  c3 subid  run   type\n",
       "0      0  -8.000      SCAN      scan_triggered    19    1  habit\n",
       "1      1   0.350    ORIENT     oriented_to_env    19    1  habit\n",
       "2      2  11.385  ASSIGNED                 zzz    19    1  habit\n",
       "3      3  19.364  NAVIGATE  started_navigation    19    1  habit\n",
       "4      4  85.767   ARRIVED                 zzz    19    1  habit"
      ]
     },
     "execution_count": 20,
     "metadata": {},
     "output_type": "execute_result"
    }
   ],
   "source": [
    "dp.head()"
   ]
  },
  {
   "cell_type": "code",
   "execution_count": 21,
   "metadata": {
    "collapsed": false
   },
   "outputs": [
    {
     "data": {
      "text/html": [
       "<div>\n",
       "<table border=\"1\" class=\"dataframe\">\n",
       "  <thead>\n",
       "    <tr style=\"text-align: right;\">\n",
       "      <th></th>\n",
       "      <th>index</th>\n",
       "      <th>time</th>\n",
       "      <th>command</th>\n",
       "      <th>c3</th>\n",
       "      <th>run</th>\n",
       "      <th>type</th>\n",
       "    </tr>\n",
       "    <tr>\n",
       "      <th>subid</th>\n",
       "      <th></th>\n",
       "      <th></th>\n",
       "      <th></th>\n",
       "      <th></th>\n",
       "      <th></th>\n",
       "      <th></th>\n",
       "    </tr>\n",
       "  </thead>\n",
       "  <tbody>\n",
       "    <tr>\n",
       "      <th>19</th>\n",
       "      <td>72</td>\n",
       "      <td>72</td>\n",
       "      <td>72</td>\n",
       "      <td>72</td>\n",
       "      <td>72</td>\n",
       "      <td>72</td>\n",
       "    </tr>\n",
       "    <tr>\n",
       "      <th>20</th>\n",
       "      <td>72</td>\n",
       "      <td>72</td>\n",
       "      <td>72</td>\n",
       "      <td>72</td>\n",
       "      <td>72</td>\n",
       "      <td>72</td>\n",
       "    </tr>\n",
       "    <tr>\n",
       "      <th>21</th>\n",
       "      <td>72</td>\n",
       "      <td>72</td>\n",
       "      <td>72</td>\n",
       "      <td>72</td>\n",
       "      <td>72</td>\n",
       "      <td>72</td>\n",
       "    </tr>\n",
       "    <tr>\n",
       "      <th>22</th>\n",
       "      <td>72</td>\n",
       "      <td>72</td>\n",
       "      <td>72</td>\n",
       "      <td>72</td>\n",
       "      <td>72</td>\n",
       "      <td>72</td>\n",
       "    </tr>\n",
       "    <tr>\n",
       "      <th>23</th>\n",
       "      <td>72</td>\n",
       "      <td>72</td>\n",
       "      <td>72</td>\n",
       "      <td>72</td>\n",
       "      <td>72</td>\n",
       "      <td>72</td>\n",
       "    </tr>\n",
       "  </tbody>\n",
       "</table>\n",
       "</div>"
      ],
      "text/plain": [
       "       index  time  command  c3  run  type\n",
       "subid                                     \n",
       "19        72    72       72  72   72    72\n",
       "20        72    72       72  72   72    72\n",
       "21        72    72       72  72   72    72\n",
       "22        72    72       72  72   72    72\n",
       "23        72    72       72  72   72    72"
      ]
     },
     "execution_count": 21,
     "metadata": {},
     "output_type": "execute_result"
    }
   ],
   "source": [
    "dp.loc[ind].groupby(by=['subid']).count()"
   ]
  },
  {
   "cell_type": "markdown",
   "metadata": {
    "collapsed": false
   },
   "source": [
    "Are these the same shape?"
   ]
  },
  {
   "cell_type": "code",
   "execution_count": 22,
   "metadata": {
    "collapsed": false
   },
   "outputs": [
    {
     "name": "stdout",
     "output_type": "stream",
     "text": [
      "(180, 7)\n",
      "(180, 7)\n"
     ]
    }
   ],
   "source": [
    "dsub = dp.loc[ind]\n",
    "\n",
    "print dsub[dsub.command == \"NAVIGATE\"].shape\n",
    "print dsub[dsub.command == \"ARRIVED\"].shape"
   ]
  },
  {
   "cell_type": "code",
   "execution_count": 23,
   "metadata": {
    "collapsed": false
   },
   "outputs": [],
   "source": [
    "nav_vals = dsub[dsub.command == \"NAVIGATE\"].subid.values\n",
    "arr_vals = dsub[dsub.command == \"ARRIVED\"].subid.values\n",
    "\n",
    "\n",
    "for x in np.arange(len(arr_vals)):\n",
    "    if nav_vals[x] != arr_vals[x]:\n",
    "        print nav_vals[x]"
   ]
  },
  {
   "cell_type": "code",
   "execution_count": 24,
   "metadata": {
    "collapsed": false
   },
   "outputs": [
    {
     "data": {
      "text/plain": [
       "180"
      ]
     },
     "execution_count": 24,
     "metadata": {},
     "output_type": "execute_result"
    }
   ],
   "source": [
    "nav_duration = dsub[dsub.command == \"ARRIVED\"].time.values - dsub[dsub.command == \"NAVIGATE\"].time.values\n",
    "len(nav_duration)"
   ]
  },
  {
   "cell_type": "code",
   "execution_count": 25,
   "metadata": {
    "collapsed": false
   },
   "outputs": [],
   "source": [
    "dp['duration'] = 0\n",
    "dp.loc[dp.command == 'NAVIGATE', 'duration'] = nav_duration"
   ]
  },
  {
   "cell_type": "code",
   "execution_count": 26,
   "metadata": {
    "collapsed": false
   },
   "outputs": [],
   "source": [
    "ind = np.concatenate((dp[(dp.command == \"NAVIGATE\")].index, \n",
    "                      dp[(dp.command == \"NAVIGATE\")].index + 1, #first arrived\n",
    "                      dp[(dp.command == \"ORIENT\")].index,\n",
    "                      dp[(dp.command == \"ASSIGNED\")].index))\n",
    "dp = dp.loc[ind].reset_index()"
   ]
  },
  {
   "cell_type": "code",
   "execution_count": 27,
   "metadata": {
    "collapsed": true
   },
   "outputs": [],
   "source": [
    "dp.loc[dp.command == 'ORIENT', 'duration'] = 11\n",
    "dp.loc[dp.command == 'ASSIGNED', 'duration'] = 8\n",
    "dp.loc[dp.command == 'ARRIVED', 'duration'] = 1"
   ]
  },
  {
   "cell_type": "code",
   "execution_count": 28,
   "metadata": {
    "collapsed": false
   },
   "outputs": [
    {
     "data": {
      "text/html": [
       "<div>\n",
       "<table border=\"1\" class=\"dataframe\">\n",
       "  <thead>\n",
       "    <tr style=\"text-align: right;\">\n",
       "      <th></th>\n",
       "      <th>level_0</th>\n",
       "      <th>index</th>\n",
       "      <th>time</th>\n",
       "      <th>command</th>\n",
       "      <th>c3</th>\n",
       "      <th>subid</th>\n",
       "      <th>run</th>\n",
       "      <th>type</th>\n",
       "      <th>duration</th>\n",
       "    </tr>\n",
       "  </thead>\n",
       "  <tbody>\n",
       "    <tr>\n",
       "      <th>0</th>\n",
       "      <td>3</td>\n",
       "      <td>3</td>\n",
       "      <td>19.364</td>\n",
       "      <td>NAVIGATE</td>\n",
       "      <td>started_navigation</td>\n",
       "      <td>19</td>\n",
       "      <td>1</td>\n",
       "      <td>habit</td>\n",
       "      <td>66.403</td>\n",
       "    </tr>\n",
       "    <tr>\n",
       "      <th>1</th>\n",
       "      <td>7</td>\n",
       "      <td>7</td>\n",
       "      <td>118.757</td>\n",
       "      <td>NAVIGATE</td>\n",
       "      <td>started_navigation</td>\n",
       "      <td>19</td>\n",
       "      <td>1</td>\n",
       "      <td>habit</td>\n",
       "      <td>47.484</td>\n",
       "    </tr>\n",
       "    <tr>\n",
       "      <th>2</th>\n",
       "      <td>11</td>\n",
       "      <td>11</td>\n",
       "      <td>199.232</td>\n",
       "      <td>NAVIGATE</td>\n",
       "      <td>started_navigation</td>\n",
       "      <td>19</td>\n",
       "      <td>1</td>\n",
       "      <td>habit</td>\n",
       "      <td>35.058</td>\n",
       "    </tr>\n",
       "    <tr>\n",
       "      <th>3</th>\n",
       "      <td>16</td>\n",
       "      <td>16</td>\n",
       "      <td>19.235</td>\n",
       "      <td>NAVIGATE</td>\n",
       "      <td>started_navigation</td>\n",
       "      <td>19</td>\n",
       "      <td>2</td>\n",
       "      <td>habit</td>\n",
       "      <td>45.781</td>\n",
       "    </tr>\n",
       "    <tr>\n",
       "      <th>4</th>\n",
       "      <td>20</td>\n",
       "      <td>20</td>\n",
       "      <td>98.008</td>\n",
       "      <td>NAVIGATE</td>\n",
       "      <td>started_navigation</td>\n",
       "      <td>19</td>\n",
       "      <td>2</td>\n",
       "      <td>habit</td>\n",
       "      <td>45.995</td>\n",
       "    </tr>\n",
       "  </tbody>\n",
       "</table>\n",
       "</div>"
      ],
      "text/plain": [
       "   level_0  index     time   command                  c3 subid  run   type  \\\n",
       "0        3      3   19.364  NAVIGATE  started_navigation    19    1  habit   \n",
       "1        7      7  118.757  NAVIGATE  started_navigation    19    1  habit   \n",
       "2       11     11  199.232  NAVIGATE  started_navigation    19    1  habit   \n",
       "3       16     16   19.235  NAVIGATE  started_navigation    19    2  habit   \n",
       "4       20     20   98.008  NAVIGATE  started_navigation    19    2  habit   \n",
       "\n",
       "   duration  \n",
       "0    66.403  \n",
       "1    47.484  \n",
       "2    35.058  \n",
       "3    45.781  \n",
       "4    45.995  "
      ]
     },
     "execution_count": 28,
     "metadata": {},
     "output_type": "execute_result"
    }
   ],
   "source": [
    "dp.head()"
   ]
  },
  {
   "cell_type": "code",
   "execution_count": 29,
   "metadata": {
    "collapsed": false
   },
   "outputs": [
    {
     "data": {
      "text/html": [
       "<div>\n",
       "<table border=\"1\" class=\"dataframe\">\n",
       "  <thead>\n",
       "    <tr style=\"text-align: right;\">\n",
       "      <th></th>\n",
       "      <th>level_0</th>\n",
       "      <th>index</th>\n",
       "      <th>time</th>\n",
       "      <th>command</th>\n",
       "      <th>c3</th>\n",
       "      <th>run</th>\n",
       "      <th>type</th>\n",
       "      <th>duration</th>\n",
       "    </tr>\n",
       "    <tr>\n",
       "      <th>subid</th>\n",
       "      <th></th>\n",
       "      <th></th>\n",
       "      <th></th>\n",
       "      <th></th>\n",
       "      <th></th>\n",
       "      <th></th>\n",
       "      <th></th>\n",
       "      <th></th>\n",
       "    </tr>\n",
       "  </thead>\n",
       "  <tbody>\n",
       "    <tr>\n",
       "      <th>19</th>\n",
       "      <td>36</td>\n",
       "      <td>36</td>\n",
       "      <td>36</td>\n",
       "      <td>36</td>\n",
       "      <td>36</td>\n",
       "      <td>36</td>\n",
       "      <td>36</td>\n",
       "      <td>36</td>\n",
       "    </tr>\n",
       "    <tr>\n",
       "      <th>20</th>\n",
       "      <td>36</td>\n",
       "      <td>36</td>\n",
       "      <td>36</td>\n",
       "      <td>36</td>\n",
       "      <td>36</td>\n",
       "      <td>36</td>\n",
       "      <td>36</td>\n",
       "      <td>36</td>\n",
       "    </tr>\n",
       "    <tr>\n",
       "      <th>21</th>\n",
       "      <td>36</td>\n",
       "      <td>36</td>\n",
       "      <td>36</td>\n",
       "      <td>36</td>\n",
       "      <td>36</td>\n",
       "      <td>36</td>\n",
       "      <td>36</td>\n",
       "      <td>36</td>\n",
       "    </tr>\n",
       "    <tr>\n",
       "      <th>22</th>\n",
       "      <td>36</td>\n",
       "      <td>36</td>\n",
       "      <td>36</td>\n",
       "      <td>36</td>\n",
       "      <td>36</td>\n",
       "      <td>36</td>\n",
       "      <td>36</td>\n",
       "      <td>36</td>\n",
       "    </tr>\n",
       "    <tr>\n",
       "      <th>23</th>\n",
       "      <td>36</td>\n",
       "      <td>36</td>\n",
       "      <td>36</td>\n",
       "      <td>36</td>\n",
       "      <td>36</td>\n",
       "      <td>36</td>\n",
       "      <td>36</td>\n",
       "      <td>36</td>\n",
       "    </tr>\n",
       "  </tbody>\n",
       "</table>\n",
       "</div>"
      ],
      "text/plain": [
       "       level_0  index  time  command  c3  run  type  duration\n",
       "subid                                                        \n",
       "19          36     36    36       36  36   36    36        36\n",
       "20          36     36    36       36  36   36    36        36\n",
       "21          36     36    36       36  36   36    36        36\n",
       "22          36     36    36       36  36   36    36        36\n",
       "23          36     36    36       36  36   36    36        36"
      ]
     },
     "execution_count": 29,
     "metadata": {},
     "output_type": "execute_result"
    }
   ],
   "source": [
    "dp.groupby(by=['subid']).count()/4"
   ]
  },
  {
   "cell_type": "code",
   "execution_count": 30,
   "metadata": {
    "collapsed": false
   },
   "outputs": [
    {
     "data": {
      "text/plain": [
       "{'boxes': [<matplotlib.lines.Line2D at 0x11f76e390>],\n",
       " 'caps': [<matplotlib.lines.Line2D at 0x144f2d590>,\n",
       "  <matplotlib.lines.Line2D at 0x144f2dbd0>],\n",
       " 'fliers': [<matplotlib.lines.Line2D at 0x144610890>],\n",
       " 'means': [],\n",
       " 'medians': [<matplotlib.lines.Line2D at 0x144610250>],\n",
       " 'whiskers': [<matplotlib.lines.Line2D at 0x144f19850>,\n",
       "  <matplotlib.lines.Line2D at 0x144f19f10>]}"
      ]
     },
     "execution_count": 30,
     "metadata": {},
     "output_type": "execute_result"
    },
    {
     "data": {
      "image/png": "[encoded data removed]",
      "text/plain": [
       "<matplotlib.figure.Figure at 0x1445a1e50>"
      ]
     },
     "metadata": {},
     "output_type": "display_data"
    }
   ],
   "source": [
    "plt.boxplot(dp[(dp.command == 'NAVIGATE')].duration.values)"
   ]
  },
  {
   "cell_type": "code",
   "execution_count": 31,
   "metadata": {
    "collapsed": false
   },
   "outputs": [
    {
     "name": "stderr",
     "output_type": "stream",
     "text": [
      "/Users/steph-backup/anaconda/lib/python2.7/site-packages/ipykernel/__main__.py:2: SettingWithCopyWarning: \n",
      "A value is trying to be set on a copy of a slice from a DataFrame\n",
      "\n",
      "See the caveats in the documentation: http://pandas.pydata.org/pandas-docs/stable/indexing.html#indexing-view-versus-copy\n",
      "  from ipykernel import kernelapp as app\n"
     ]
    }
   ],
   "source": [
    "dpnavdur = dp[(dp.command == 'NAVIGATE')]\n",
    "dpnavdur.drop(['level_0', 'index', 'c3'], axis=1, inplace=True)\n",
    "dpnavdur.to_csv('/Volumes/group/awagner/sgagnon/SST/analysis/nav/group_nav_durations.csv', index=False)"
   ]
  },
  {
   "cell_type": "markdown",
   "metadata": {},
   "source": [
    "#### Distribution of min navigation times"
   ]
  },
  {
   "cell_type": "code",
   "execution_count": 32,
   "metadata": {
    "collapsed": false
   },
   "outputs": [
    {
     "data": {
      "text/plain": [
       "array([ 12.356,  13.81 ,  16.47 ,  15.033,  13.59 ])"
      ]
     },
     "execution_count": 32,
     "metadata": {},
     "output_type": "execute_result"
    }
   ],
   "source": [
    "dp[(dp.command == 'NAVIGATE')].groupby(['subid']).min().reset_index().duration.values"
   ]
  },
  {
   "cell_type": "code",
   "execution_count": 33,
   "metadata": {
    "collapsed": false
   },
   "outputs": [
    {
     "data": {
      "text/html": [
       "<div>\n",
       "<table border=\"1\" class=\"dataframe\">\n",
       "  <thead>\n",
       "    <tr style=\"text-align: right;\">\n",
       "      <th></th>\n",
       "      <th>level_0</th>\n",
       "      <th>index</th>\n",
       "      <th>time</th>\n",
       "      <th>command</th>\n",
       "      <th>c3</th>\n",
       "      <th>subid</th>\n",
       "      <th>run</th>\n",
       "      <th>type</th>\n",
       "      <th>duration</th>\n",
       "    </tr>\n",
       "  </thead>\n",
       "  <tbody>\n",
       "    <tr>\n",
       "      <th>0</th>\n",
       "      <td>3</td>\n",
       "      <td>3</td>\n",
       "      <td>19.364</td>\n",
       "      <td>NAVIGATE</td>\n",
       "      <td>started_navigation</td>\n",
       "      <td>19</td>\n",
       "      <td>1</td>\n",
       "      <td>habit</td>\n",
       "      <td>66.403</td>\n",
       "    </tr>\n",
       "    <tr>\n",
       "      <th>1</th>\n",
       "      <td>7</td>\n",
       "      <td>7</td>\n",
       "      <td>118.757</td>\n",
       "      <td>NAVIGATE</td>\n",
       "      <td>started_navigation</td>\n",
       "      <td>19</td>\n",
       "      <td>1</td>\n",
       "      <td>habit</td>\n",
       "      <td>47.484</td>\n",
       "    </tr>\n",
       "    <tr>\n",
       "      <th>2</th>\n",
       "      <td>11</td>\n",
       "      <td>11</td>\n",
       "      <td>199.232</td>\n",
       "      <td>NAVIGATE</td>\n",
       "      <td>started_navigation</td>\n",
       "      <td>19</td>\n",
       "      <td>1</td>\n",
       "      <td>habit</td>\n",
       "      <td>35.058</td>\n",
       "    </tr>\n",
       "    <tr>\n",
       "      <th>3</th>\n",
       "      <td>16</td>\n",
       "      <td>16</td>\n",
       "      <td>19.235</td>\n",
       "      <td>NAVIGATE</td>\n",
       "      <td>started_navigation</td>\n",
       "      <td>19</td>\n",
       "      <td>2</td>\n",
       "      <td>habit</td>\n",
       "      <td>45.781</td>\n",
       "    </tr>\n",
       "    <tr>\n",
       "      <th>4</th>\n",
       "      <td>20</td>\n",
       "      <td>20</td>\n",
       "      <td>98.008</td>\n",
       "      <td>NAVIGATE</td>\n",
       "      <td>started_navigation</td>\n",
       "      <td>19</td>\n",
       "      <td>2</td>\n",
       "      <td>habit</td>\n",
       "      <td>45.995</td>\n",
       "    </tr>\n",
       "  </tbody>\n",
       "</table>\n",
       "</div>"
      ],
      "text/plain": [
       "   level_0  index     time   command                  c3 subid  run   type  \\\n",
       "0        3      3   19.364  NAVIGATE  started_navigation    19    1  habit   \n",
       "1        7      7  118.757  NAVIGATE  started_navigation    19    1  habit   \n",
       "2       11     11  199.232  NAVIGATE  started_navigation    19    1  habit   \n",
       "3       16     16   19.235  NAVIGATE  started_navigation    19    2  habit   \n",
       "4       20     20   98.008  NAVIGATE  started_navigation    19    2  habit   \n",
       "\n",
       "   duration  \n",
       "0    66.403  \n",
       "1    47.484  \n",
       "2    35.058  \n",
       "3    45.781  \n",
       "4    45.995  "
      ]
     },
     "execution_count": 33,
     "metadata": {},
     "output_type": "execute_result"
    }
   ],
   "source": [
    "dp.head()"
   ]
  },
  {
   "cell_type": "markdown",
   "metadata": {},
   "source": [
    "## Add environment labels to df"
   ]
  },
  {
   "cell_type": "code",
   "execution_count": 34,
   "metadata": {
    "collapsed": false
   },
   "outputs": [
    {
     "data": {
      "text/html": [
       "<div>\n",
       "<table border=\"1\" class=\"dataframe\">\n",
       "  <thead>\n",
       "    <tr style=\"text-align: right;\">\n",
       "      <th></th>\n",
       "      <th>subid</th>\n",
       "      <th>rep</th>\n",
       "      <th>run</th>\n",
       "      <th>trial</th>\n",
       "      <th>env</th>\n",
       "    </tr>\n",
       "  </thead>\n",
       "  <tbody>\n",
       "    <tr>\n",
       "      <th>0</th>\n",
       "      <td>1</td>\n",
       "      <td>1</td>\n",
       "      <td>1</td>\n",
       "      <td>1</td>\n",
       "      <td>1</td>\n",
       "    </tr>\n",
       "    <tr>\n",
       "      <th>1</th>\n",
       "      <td>1</td>\n",
       "      <td>1</td>\n",
       "      <td>1</td>\n",
       "      <td>2</td>\n",
       "      <td>8</td>\n",
       "    </tr>\n",
       "    <tr>\n",
       "      <th>2</th>\n",
       "      <td>1</td>\n",
       "      <td>1</td>\n",
       "      <td>1</td>\n",
       "      <td>3</td>\n",
       "      <td>9</td>\n",
       "    </tr>\n",
       "    <tr>\n",
       "      <th>3</th>\n",
       "      <td>1</td>\n",
       "      <td>1</td>\n",
       "      <td>2</td>\n",
       "      <td>1</td>\n",
       "      <td>4</td>\n",
       "    </tr>\n",
       "    <tr>\n",
       "      <th>4</th>\n",
       "      <td>1</td>\n",
       "      <td>1</td>\n",
       "      <td>2</td>\n",
       "      <td>2</td>\n",
       "      <td>5</td>\n",
       "    </tr>\n",
       "  </tbody>\n",
       "</table>\n",
       "</div>"
      ],
      "text/plain": [
       "  subid  rep  run  trial  env\n",
       "0     1    1    1      1    1\n",
       "1     1    1    1      2    8\n",
       "2     1    1    1      3    9\n",
       "3     1    1    2      1    4\n",
       "4     1    1    2      2    5"
      ]
     },
     "execution_count": 34,
     "metadata": {},
     "output_type": "execute_result"
    }
   ],
   "source": [
    "trial_order.head()"
   ]
  },
  {
   "cell_type": "code",
   "execution_count": 35,
   "metadata": {
    "collapsed": false
   },
   "outputs": [
    {
     "name": "stderr",
     "output_type": "stream",
     "text": [
      "/Users/steph-backup/anaconda/lib/python2.7/site-packages/ipykernel/__main__.py:2: FutureWarning: sort(columns=....) is deprecated, use sort_values(by=.....)\n",
      "  from ipykernel import kernelapp as app\n"
     ]
    },
    {
     "data": {
      "text/html": [
       "<div>\n",
       "<table border=\"1\" class=\"dataframe\">\n",
       "  <thead>\n",
       "    <tr style=\"text-align: right;\">\n",
       "      <th></th>\n",
       "      <th>index</th>\n",
       "      <th>time</th>\n",
       "      <th>command</th>\n",
       "      <th>c3</th>\n",
       "      <th>subid</th>\n",
       "      <th>run</th>\n",
       "      <th>type</th>\n",
       "      <th>duration</th>\n",
       "    </tr>\n",
       "  </thead>\n",
       "  <tbody>\n",
       "    <tr>\n",
       "      <th>0</th>\n",
       "      <td>360</td>\n",
       "      <td>0.350</td>\n",
       "      <td>ORIENT</td>\n",
       "      <td>oriented_to_env</td>\n",
       "      <td>19</td>\n",
       "      <td>1</td>\n",
       "      <td>habit</td>\n",
       "      <td>11.000</td>\n",
       "    </tr>\n",
       "    <tr>\n",
       "      <th>1</th>\n",
       "      <td>540</td>\n",
       "      <td>11.385</td>\n",
       "      <td>ASSIGNED</td>\n",
       "      <td>zzz</td>\n",
       "      <td>19</td>\n",
       "      <td>1</td>\n",
       "      <td>habit</td>\n",
       "      <td>8.000</td>\n",
       "    </tr>\n",
       "    <tr>\n",
       "      <th>2</th>\n",
       "      <td>0</td>\n",
       "      <td>19.364</td>\n",
       "      <td>NAVIGATE</td>\n",
       "      <td>started_navigation</td>\n",
       "      <td>19</td>\n",
       "      <td>1</td>\n",
       "      <td>habit</td>\n",
       "      <td>66.403</td>\n",
       "    </tr>\n",
       "    <tr>\n",
       "      <th>3</th>\n",
       "      <td>180</td>\n",
       "      <td>85.767</td>\n",
       "      <td>ARRIVED</td>\n",
       "      <td>zzz</td>\n",
       "      <td>19</td>\n",
       "      <td>1</td>\n",
       "      <td>habit</td>\n",
       "      <td>1.000</td>\n",
       "    </tr>\n",
       "    <tr>\n",
       "      <th>4</th>\n",
       "      <td>361</td>\n",
       "      <td>99.742</td>\n",
       "      <td>ORIENT</td>\n",
       "      <td>oriented_to_env</td>\n",
       "      <td>19</td>\n",
       "      <td>1</td>\n",
       "      <td>habit</td>\n",
       "      <td>11.000</td>\n",
       "    </tr>\n",
       "  </tbody>\n",
       "</table>\n",
       "</div>"
      ],
      "text/plain": [
       "   index    time   command                  c3 subid  run   type  duration\n",
       "0    360   0.350    ORIENT     oriented_to_env    19    1  habit    11.000\n",
       "1    540  11.385  ASSIGNED                 zzz    19    1  habit     8.000\n",
       "2      0  19.364  NAVIGATE  started_navigation    19    1  habit    66.403\n",
       "3    180  85.767   ARRIVED                 zzz    19    1  habit     1.000\n",
       "4    361  99.742    ORIENT     oriented_to_env    19    1  habit    11.000"
      ]
     },
     "execution_count": 35,
     "metadata": {},
     "output_type": "execute_result"
    }
   ],
   "source": [
    "dp.drop(['level_0', 'index'], axis=1, inplace=True)\n",
    "dp = dp.sort(columns=['subid', 'run', 'time']).reset_index()\n",
    "dp.head()"
   ]
  },
  {
   "cell_type": "code",
   "execution_count": 36,
   "metadata": {
    "collapsed": false
   },
   "outputs": [
    {
     "name": "stderr",
     "output_type": "stream",
     "text": [
      "/Users/steph-backup/anaconda/lib/python2.7/site-packages/ipykernel/__main__.py:2: SettingWithCopyWarning: \n",
      "A value is trying to be set on a copy of a slice from a DataFrame\n",
      "\n",
      "See the caveats in the documentation: http://pandas.pydata.org/pandas-docs/stable/indexing.html#indexing-view-versus-copy\n",
      "  from ipykernel import kernelapp as app\n"
     ]
    },
    {
     "data": {
      "text/html": [
       "<div>\n",
       "<table border=\"1\" class=\"dataframe\">\n",
       "  <thead>\n",
       "    <tr style=\"text-align: right;\">\n",
       "      <th></th>\n",
       "      <th>time</th>\n",
       "      <th>command</th>\n",
       "      <th>c3</th>\n",
       "      <th>subid</th>\n",
       "      <th>run</th>\n",
       "      <th>type</th>\n",
       "      <th>duration</th>\n",
       "    </tr>\n",
       "  </thead>\n",
       "  <tbody>\n",
       "    <tr>\n",
       "      <th>0</th>\n",
       "      <td>0.350</td>\n",
       "      <td>ORIENT</td>\n",
       "      <td>oriented_to_env</td>\n",
       "      <td>19</td>\n",
       "      <td>1</td>\n",
       "      <td>habit</td>\n",
       "      <td>11</td>\n",
       "    </tr>\n",
       "    <tr>\n",
       "      <th>4</th>\n",
       "      <td>99.742</td>\n",
       "      <td>ORIENT</td>\n",
       "      <td>oriented_to_env</td>\n",
       "      <td>19</td>\n",
       "      <td>1</td>\n",
       "      <td>habit</td>\n",
       "      <td>11</td>\n",
       "    </tr>\n",
       "    <tr>\n",
       "      <th>8</th>\n",
       "      <td>180.217</td>\n",
       "      <td>ORIENT</td>\n",
       "      <td>oriented_to_env</td>\n",
       "      <td>19</td>\n",
       "      <td>1</td>\n",
       "      <td>habit</td>\n",
       "      <td>11</td>\n",
       "    </tr>\n",
       "    <tr>\n",
       "      <th>12</th>\n",
       "      <td>0.242</td>\n",
       "      <td>ORIENT</td>\n",
       "      <td>oriented_to_env</td>\n",
       "      <td>19</td>\n",
       "      <td>2</td>\n",
       "      <td>habit</td>\n",
       "      <td>11</td>\n",
       "    </tr>\n",
       "    <tr>\n",
       "      <th>16</th>\n",
       "      <td>78.995</td>\n",
       "      <td>ORIENT</td>\n",
       "      <td>oriented_to_env</td>\n",
       "      <td>19</td>\n",
       "      <td>2</td>\n",
       "      <td>habit</td>\n",
       "      <td>11</td>\n",
       "    </tr>\n",
       "  </tbody>\n",
       "</table>\n",
       "</div>"
      ],
      "text/plain": [
       "       time command               c3 subid  run   type  duration\n",
       "0     0.350  ORIENT  oriented_to_env    19    1  habit        11\n",
       "4    99.742  ORIENT  oriented_to_env    19    1  habit        11\n",
       "8   180.217  ORIENT  oriented_to_env    19    1  habit        11\n",
       "12    0.242  ORIENT  oriented_to_env    19    2  habit        11\n",
       "16   78.995  ORIENT  oriented_to_env    19    2  habit        11"
      ]
     },
     "execution_count": 36,
     "metadata": {},
     "output_type": "execute_result"
    }
   ],
   "source": [
    "orient_onsets = dp.loc[dp.command == 'ORIENT']\n",
    "orient_onsets.drop(['index'], axis=1, inplace=True)\n",
    "orient_onsets.head()"
   ]
  },
  {
   "cell_type": "code",
   "execution_count": 37,
   "metadata": {
    "collapsed": false
   },
   "outputs": [
    {
     "name": "stderr",
     "output_type": "stream",
     "text": [
      "/Users/steph-backup/anaconda/lib/python2.7/site-packages/ipykernel/__main__.py:1: SettingWithCopyWarning: \n",
      "A value is trying to be set on a copy of a slice from a DataFrame.\n",
      "Try using .loc[row_indexer,col_indexer] = value instead\n",
      "\n",
      "See the caveats in the documentation: http://pandas.pydata.org/pandas-docs/stable/indexing.html#indexing-view-versus-copy\n",
      "  if __name__ == '__main__':\n",
      "/Users/steph-backup/anaconda/lib/python2.7/site-packages/pandas/core/indexing.py:426: SettingWithCopyWarning: \n",
      "A value is trying to be set on a copy of a slice from a DataFrame.\n",
      "Try using .loc[row_indexer,col_indexer] = value instead\n",
      "\n",
      "See the caveats in the documentation: http://pandas.pydata.org/pandas-docs/stable/indexing.html#indexing-view-versus-copy\n",
      "  self.obj[item] = s\n"
     ]
    }
   ],
   "source": [
    "orient_onsets['trial'] = 0 # init trial number\n",
    "\n",
    "for counter, ind in enumerate(orient_onsets.index):\n",
    "    if counter == 0: # first trial\n",
    "        first_ind = ind\n",
    "        orient_onsets.loc[ind, 'trial'] = 1\n",
    "        prev_ind = ind\n",
    "    else:\n",
    "        if orient_onsets.loc[ind, 'run'] == orient_onsets.loc[prev_ind, 'run']:\n",
    "            orient_onsets.loc[ind, 'trial'] = orient_onsets.loc[prev_ind, 'trial'] + 1\n",
    "            prev_ind = ind\n",
    "        else:\n",
    "            orient_onsets.loc[ind, 'trial'] = 1\n",
    "            prev_ind = ind"
   ]
  },
  {
   "cell_type": "code",
   "execution_count": 38,
   "metadata": {
    "collapsed": false
   },
   "outputs": [
    {
     "data": {
      "text/html": [
       "<div>\n",
       "<table border=\"1\" class=\"dataframe\">\n",
       "  <thead>\n",
       "    <tr style=\"text-align: right;\">\n",
       "      <th></th>\n",
       "      <th>time</th>\n",
       "      <th>command</th>\n",
       "      <th>c3</th>\n",
       "      <th>subid</th>\n",
       "      <th>run</th>\n",
       "      <th>type</th>\n",
       "      <th>duration</th>\n",
       "      <th>trial</th>\n",
       "    </tr>\n",
       "  </thead>\n",
       "  <tbody>\n",
       "    <tr>\n",
       "      <th>0</th>\n",
       "      <td>0.350</td>\n",
       "      <td>ORIENT</td>\n",
       "      <td>oriented_to_env</td>\n",
       "      <td>19</td>\n",
       "      <td>1</td>\n",
       "      <td>habit</td>\n",
       "      <td>11</td>\n",
       "      <td>1</td>\n",
       "    </tr>\n",
       "    <tr>\n",
       "      <th>4</th>\n",
       "      <td>99.742</td>\n",
       "      <td>ORIENT</td>\n",
       "      <td>oriented_to_env</td>\n",
       "      <td>19</td>\n",
       "      <td>1</td>\n",
       "      <td>habit</td>\n",
       "      <td>11</td>\n",
       "      <td>2</td>\n",
       "    </tr>\n",
       "    <tr>\n",
       "      <th>8</th>\n",
       "      <td>180.217</td>\n",
       "      <td>ORIENT</td>\n",
       "      <td>oriented_to_env</td>\n",
       "      <td>19</td>\n",
       "      <td>1</td>\n",
       "      <td>habit</td>\n",
       "      <td>11</td>\n",
       "      <td>3</td>\n",
       "    </tr>\n",
       "    <tr>\n",
       "      <th>12</th>\n",
       "      <td>0.242</td>\n",
       "      <td>ORIENT</td>\n",
       "      <td>oriented_to_env</td>\n",
       "      <td>19</td>\n",
       "      <td>2</td>\n",
       "      <td>habit</td>\n",
       "      <td>11</td>\n",
       "      <td>1</td>\n",
       "    </tr>\n",
       "    <tr>\n",
       "      <th>16</th>\n",
       "      <td>78.995</td>\n",
       "      <td>ORIENT</td>\n",
       "      <td>oriented_to_env</td>\n",
       "      <td>19</td>\n",
       "      <td>2</td>\n",
       "      <td>habit</td>\n",
       "      <td>11</td>\n",
       "      <td>2</td>\n",
       "    </tr>\n",
       "  </tbody>\n",
       "</table>\n",
       "</div>"
      ],
      "text/plain": [
       "       time command               c3 subid  run   type  duration  trial\n",
       "0     0.350  ORIENT  oriented_to_env    19    1  habit        11      1\n",
       "4    99.742  ORIENT  oriented_to_env    19    1  habit        11      2\n",
       "8   180.217  ORIENT  oriented_to_env    19    1  habit        11      3\n",
       "12    0.242  ORIENT  oriented_to_env    19    2  habit        11      1\n",
       "16   78.995  ORIENT  oriented_to_env    19    2  habit        11      2"
      ]
     },
     "execution_count": 38,
     "metadata": {},
     "output_type": "execute_result"
    }
   ],
   "source": [
    "orient_onsets.head()"
   ]
  },
  {
   "cell_type": "code",
   "execution_count": 39,
   "metadata": {
    "collapsed": false
   },
   "outputs": [
    {
     "data": {
      "text/html": [
       "<div>\n",
       "<table border=\"1\" class=\"dataframe\">\n",
       "  <thead>\n",
       "    <tr style=\"text-align: right;\">\n",
       "      <th></th>\n",
       "      <th>index</th>\n",
       "      <th>time</th>\n",
       "      <th>command</th>\n",
       "      <th>c3</th>\n",
       "      <th>subid</th>\n",
       "      <th>run</th>\n",
       "      <th>type</th>\n",
       "      <th>duration</th>\n",
       "      <th>trial</th>\n",
       "      <th>rep</th>\n",
       "      <th>env</th>\n",
       "    </tr>\n",
       "  </thead>\n",
       "  <tbody>\n",
       "    <tr>\n",
       "      <th>0</th>\n",
       "      <td>0</td>\n",
       "      <td>0.350</td>\n",
       "      <td>ORIENT</td>\n",
       "      <td>oriented_to_env</td>\n",
       "      <td>19</td>\n",
       "      <td>1</td>\n",
       "      <td>habit</td>\n",
       "      <td>11</td>\n",
       "      <td>1</td>\n",
       "      <td>1</td>\n",
       "      <td>7</td>\n",
       "    </tr>\n",
       "    <tr>\n",
       "      <th>1</th>\n",
       "      <td>4</td>\n",
       "      <td>99.742</td>\n",
       "      <td>ORIENT</td>\n",
       "      <td>oriented_to_env</td>\n",
       "      <td>19</td>\n",
       "      <td>1</td>\n",
       "      <td>habit</td>\n",
       "      <td>11</td>\n",
       "      <td>2</td>\n",
       "      <td>1</td>\n",
       "      <td>11</td>\n",
       "    </tr>\n",
       "    <tr>\n",
       "      <th>2</th>\n",
       "      <td>8</td>\n",
       "      <td>180.217</td>\n",
       "      <td>ORIENT</td>\n",
       "      <td>oriented_to_env</td>\n",
       "      <td>19</td>\n",
       "      <td>1</td>\n",
       "      <td>habit</td>\n",
       "      <td>11</td>\n",
       "      <td>3</td>\n",
       "      <td>1</td>\n",
       "      <td>6</td>\n",
       "    </tr>\n",
       "    <tr>\n",
       "      <th>3</th>\n",
       "      <td>12</td>\n",
       "      <td>0.242</td>\n",
       "      <td>ORIENT</td>\n",
       "      <td>oriented_to_env</td>\n",
       "      <td>19</td>\n",
       "      <td>2</td>\n",
       "      <td>habit</td>\n",
       "      <td>11</td>\n",
       "      <td>1</td>\n",
       "      <td>1</td>\n",
       "      <td>1</td>\n",
       "    </tr>\n",
       "    <tr>\n",
       "      <th>4</th>\n",
       "      <td>16</td>\n",
       "      <td>78.995</td>\n",
       "      <td>ORIENT</td>\n",
       "      <td>oriented_to_env</td>\n",
       "      <td>19</td>\n",
       "      <td>2</td>\n",
       "      <td>habit</td>\n",
       "      <td>11</td>\n",
       "      <td>2</td>\n",
       "      <td>1</td>\n",
       "      <td>8</td>\n",
       "    </tr>\n",
       "  </tbody>\n",
       "</table>\n",
       "</div>"
      ],
      "text/plain": [
       "   index     time command               c3 subid  run   type  duration  trial  \\\n",
       "0      0    0.350  ORIENT  oriented_to_env    19    1  habit        11      1   \n",
       "1      4   99.742  ORIENT  oriented_to_env    19    1  habit        11      2   \n",
       "2      8  180.217  ORIENT  oriented_to_env    19    1  habit        11      3   \n",
       "3     12    0.242  ORIENT  oriented_to_env    19    2  habit        11      1   \n",
       "4     16   78.995  ORIENT  oriented_to_env    19    2  habit        11      2   \n",
       "\n",
       "   rep  env  \n",
       "0    1    7  \n",
       "1    1   11  \n",
       "2    1    6  \n",
       "3    1    1  \n",
       "4    1    8  "
      ]
     },
     "execution_count": 39,
     "metadata": {},
     "output_type": "execute_result"
    }
   ],
   "source": [
    "orient_onsets = orient_onsets.reset_index().merge(trial_order)\n",
    "orient_onsets.head()"
   ]
  },
  {
   "cell_type": "code",
   "execution_count": 40,
   "metadata": {
    "collapsed": false
   },
   "outputs": [
    {
     "data": {
      "text/html": [
       "<div>\n",
       "<table border=\"1\" class=\"dataframe\">\n",
       "  <thead>\n",
       "    <tr style=\"text-align: right;\">\n",
       "      <th></th>\n",
       "      <th>index</th>\n",
       "      <th>time</th>\n",
       "      <th>command</th>\n",
       "      <th>c3</th>\n",
       "      <th>subid</th>\n",
       "      <th>run</th>\n",
       "      <th>type</th>\n",
       "      <th>duration</th>\n",
       "    </tr>\n",
       "  </thead>\n",
       "  <tbody>\n",
       "    <tr>\n",
       "      <th>0</th>\n",
       "      <td>360</td>\n",
       "      <td>0.350</td>\n",
       "      <td>ORIENT</td>\n",
       "      <td>oriented_to_env</td>\n",
       "      <td>19</td>\n",
       "      <td>1</td>\n",
       "      <td>habit</td>\n",
       "      <td>11.000</td>\n",
       "    </tr>\n",
       "    <tr>\n",
       "      <th>1</th>\n",
       "      <td>540</td>\n",
       "      <td>11.385</td>\n",
       "      <td>ASSIGNED</td>\n",
       "      <td>zzz</td>\n",
       "      <td>19</td>\n",
       "      <td>1</td>\n",
       "      <td>habit</td>\n",
       "      <td>8.000</td>\n",
       "    </tr>\n",
       "    <tr>\n",
       "      <th>2</th>\n",
       "      <td>0</td>\n",
       "      <td>19.364</td>\n",
       "      <td>NAVIGATE</td>\n",
       "      <td>started_navigation</td>\n",
       "      <td>19</td>\n",
       "      <td>1</td>\n",
       "      <td>habit</td>\n",
       "      <td>66.403</td>\n",
       "    </tr>\n",
       "    <tr>\n",
       "      <th>3</th>\n",
       "      <td>180</td>\n",
       "      <td>85.767</td>\n",
       "      <td>ARRIVED</td>\n",
       "      <td>zzz</td>\n",
       "      <td>19</td>\n",
       "      <td>1</td>\n",
       "      <td>habit</td>\n",
       "      <td>1.000</td>\n",
       "    </tr>\n",
       "    <tr>\n",
       "      <th>4</th>\n",
       "      <td>361</td>\n",
       "      <td>99.742</td>\n",
       "      <td>ORIENT</td>\n",
       "      <td>oriented_to_env</td>\n",
       "      <td>19</td>\n",
       "      <td>1</td>\n",
       "      <td>habit</td>\n",
       "      <td>11.000</td>\n",
       "    </tr>\n",
       "  </tbody>\n",
       "</table>\n",
       "</div>"
      ],
      "text/plain": [
       "   index    time   command                  c3 subid  run   type  duration\n",
       "0    360   0.350    ORIENT     oriented_to_env    19    1  habit    11.000\n",
       "1    540  11.385  ASSIGNED                 zzz    19    1  habit     8.000\n",
       "2      0  19.364  NAVIGATE  started_navigation    19    1  habit    66.403\n",
       "3    180  85.767   ARRIVED                 zzz    19    1  habit     1.000\n",
       "4    361  99.742    ORIENT     oriented_to_env    19    1  habit    11.000"
      ]
     },
     "execution_count": 40,
     "metadata": {},
     "output_type": "execute_result"
    }
   ],
   "source": [
    "dp.head()"
   ]
  },
  {
   "cell_type": "code",
   "execution_count": 41,
   "metadata": {
    "collapsed": false
   },
   "outputs": [
    {
     "data": {
      "text/html": [
       "<div>\n",
       "<table border=\"1\" class=\"dataframe\">\n",
       "  <thead>\n",
       "    <tr style=\"text-align: right;\">\n",
       "      <th></th>\n",
       "      <th>index</th>\n",
       "      <th>time</th>\n",
       "      <th>command</th>\n",
       "      <th>c3</th>\n",
       "      <th>subid</th>\n",
       "      <th>run</th>\n",
       "      <th>type</th>\n",
       "      <th>duration</th>\n",
       "      <th>env</th>\n",
       "      <th>rep</th>\n",
       "      <th>trial</th>\n",
       "    </tr>\n",
       "  </thead>\n",
       "  <tbody>\n",
       "    <tr>\n",
       "      <th>0</th>\n",
       "      <td>360</td>\n",
       "      <td>0.350</td>\n",
       "      <td>ORIENT</td>\n",
       "      <td>oriented_to_env</td>\n",
       "      <td>19</td>\n",
       "      <td>1</td>\n",
       "      <td>habit</td>\n",
       "      <td>11.000</td>\n",
       "      <td>env7</td>\n",
       "      <td>1</td>\n",
       "      <td>1</td>\n",
       "    </tr>\n",
       "    <tr>\n",
       "      <th>1</th>\n",
       "      <td>540</td>\n",
       "      <td>11.385</td>\n",
       "      <td>ASSIGNED</td>\n",
       "      <td>zzz</td>\n",
       "      <td>19</td>\n",
       "      <td>1</td>\n",
       "      <td>habit</td>\n",
       "      <td>8.000</td>\n",
       "      <td>env7</td>\n",
       "      <td>1</td>\n",
       "      <td>1</td>\n",
       "    </tr>\n",
       "    <tr>\n",
       "      <th>2</th>\n",
       "      <td>0</td>\n",
       "      <td>19.364</td>\n",
       "      <td>NAVIGATE</td>\n",
       "      <td>started_navigation</td>\n",
       "      <td>19</td>\n",
       "      <td>1</td>\n",
       "      <td>habit</td>\n",
       "      <td>66.403</td>\n",
       "      <td>env7</td>\n",
       "      <td>1</td>\n",
       "      <td>1</td>\n",
       "    </tr>\n",
       "    <tr>\n",
       "      <th>3</th>\n",
       "      <td>180</td>\n",
       "      <td>85.767</td>\n",
       "      <td>ARRIVED</td>\n",
       "      <td>zzz</td>\n",
       "      <td>19</td>\n",
       "      <td>1</td>\n",
       "      <td>habit</td>\n",
       "      <td>1.000</td>\n",
       "      <td>env7</td>\n",
       "      <td>1</td>\n",
       "      <td>1</td>\n",
       "    </tr>\n",
       "    <tr>\n",
       "      <th>4</th>\n",
       "      <td>361</td>\n",
       "      <td>99.742</td>\n",
       "      <td>ORIENT</td>\n",
       "      <td>oriented_to_env</td>\n",
       "      <td>19</td>\n",
       "      <td>1</td>\n",
       "      <td>habit</td>\n",
       "      <td>11.000</td>\n",
       "      <td>env11</td>\n",
       "      <td>1</td>\n",
       "      <td>2</td>\n",
       "    </tr>\n",
       "  </tbody>\n",
       "</table>\n",
       "</div>"
      ],
      "text/plain": [
       "   index    time   command                  c3 subid  run   type  duration  \\\n",
       "0    360   0.350    ORIENT     oriented_to_env    19    1  habit    11.000   \n",
       "1    540  11.385  ASSIGNED                 zzz    19    1  habit     8.000   \n",
       "2      0  19.364  NAVIGATE  started_navigation    19    1  habit    66.403   \n",
       "3    180  85.767   ARRIVED                 zzz    19    1  habit     1.000   \n",
       "4    361  99.742    ORIENT     oriented_to_env    19    1  habit    11.000   \n",
       "\n",
       "     env  rep  trial  \n",
       "0   env7    1      1  \n",
       "1   env7    1      1  \n",
       "2   env7    1      1  \n",
       "3   env7    1      1  \n",
       "4  env11    1      2  "
      ]
     },
     "execution_count": 41,
     "metadata": {},
     "output_type": "execute_result"
    }
   ],
   "source": [
    "dp['env'] = np.nan\n",
    "dp['rep'] = np.nan\n",
    "dp['trial'] = np.nan\n",
    "\n",
    "for i in orient_onsets.index:\n",
    "    index_val = orient_onsets.loc[i, 'index']\n",
    "    dp.loc[index_val, 'env'] = 'env' + orient_onsets.loc[i, 'env'].astype(str)\n",
    "    dp.loc[index_val, 'rep'] = orient_onsets.loc[i, 'rep']\n",
    "    dp.loc[index_val, 'trial'] = orient_onsets.loc[i, 'trial']\n",
    "\n",
    "dp.env.fillna(method='ffill', inplace=True)\n",
    "dp.rep.fillna(method='ffill', inplace=True)\n",
    "dp.trial.fillna(method='ffill', inplace=True)\n",
    "dp.head()"
   ]
  },
  {
   "cell_type": "code",
   "execution_count": 42,
   "metadata": {
    "collapsed": false
   },
   "outputs": [
    {
     "name": "stdout",
     "output_type": "stream",
     "text": [
      "180\n",
      "180\n"
     ]
    }
   ],
   "source": [
    "print len('env' + orient_onsets.env.astype(str))\n",
    "print len(dp.loc[orient_onsets['index'], 'env'])"
   ]
  },
  {
   "cell_type": "code",
   "execution_count": 43,
   "metadata": {
    "collapsed": false
   },
   "outputs": [
    {
     "data": {
      "text/html": [
       "<div>\n",
       "<table border=\"1\" class=\"dataframe\">\n",
       "  <thead>\n",
       "    <tr style=\"text-align: right;\">\n",
       "      <th></th>\n",
       "      <th>index</th>\n",
       "      <th>time</th>\n",
       "      <th>command</th>\n",
       "      <th>c3</th>\n",
       "      <th>subid</th>\n",
       "      <th>run</th>\n",
       "      <th>type</th>\n",
       "      <th>duration</th>\n",
       "      <th>env</th>\n",
       "      <th>rep</th>\n",
       "      <th>trial</th>\n",
       "    </tr>\n",
       "  </thead>\n",
       "  <tbody>\n",
       "    <tr>\n",
       "      <th>0</th>\n",
       "      <td>360</td>\n",
       "      <td>0.350</td>\n",
       "      <td>ORIENT</td>\n",
       "      <td>oriented_to_env</td>\n",
       "      <td>19</td>\n",
       "      <td>1</td>\n",
       "      <td>habit</td>\n",
       "      <td>11.000</td>\n",
       "      <td>env7</td>\n",
       "      <td>1</td>\n",
       "      <td>1</td>\n",
       "    </tr>\n",
       "    <tr>\n",
       "      <th>1</th>\n",
       "      <td>540</td>\n",
       "      <td>11.385</td>\n",
       "      <td>ASSIGNED</td>\n",
       "      <td>zzz</td>\n",
       "      <td>19</td>\n",
       "      <td>1</td>\n",
       "      <td>habit</td>\n",
       "      <td>8.000</td>\n",
       "      <td>env7</td>\n",
       "      <td>1</td>\n",
       "      <td>1</td>\n",
       "    </tr>\n",
       "    <tr>\n",
       "      <th>2</th>\n",
       "      <td>0</td>\n",
       "      <td>19.364</td>\n",
       "      <td>NAVIGATE</td>\n",
       "      <td>started_navigation</td>\n",
       "      <td>19</td>\n",
       "      <td>1</td>\n",
       "      <td>habit</td>\n",
       "      <td>66.403</td>\n",
       "      <td>env7</td>\n",
       "      <td>1</td>\n",
       "      <td>1</td>\n",
       "    </tr>\n",
       "    <tr>\n",
       "      <th>3</th>\n",
       "      <td>180</td>\n",
       "      <td>85.767</td>\n",
       "      <td>ARRIVED</td>\n",
       "      <td>zzz</td>\n",
       "      <td>19</td>\n",
       "      <td>1</td>\n",
       "      <td>habit</td>\n",
       "      <td>1.000</td>\n",
       "      <td>env7</td>\n",
       "      <td>1</td>\n",
       "      <td>1</td>\n",
       "    </tr>\n",
       "    <tr>\n",
       "      <th>4</th>\n",
       "      <td>361</td>\n",
       "      <td>99.742</td>\n",
       "      <td>ORIENT</td>\n",
       "      <td>oriented_to_env</td>\n",
       "      <td>19</td>\n",
       "      <td>1</td>\n",
       "      <td>habit</td>\n",
       "      <td>11.000</td>\n",
       "      <td>env11</td>\n",
       "      <td>1</td>\n",
       "      <td>2</td>\n",
       "    </tr>\n",
       "  </tbody>\n",
       "</table>\n",
       "</div>"
      ],
      "text/plain": [
       "   index    time   command                  c3 subid  run   type  duration  \\\n",
       "0    360   0.350    ORIENT     oriented_to_env    19    1  habit    11.000   \n",
       "1    540  11.385  ASSIGNED                 zzz    19    1  habit     8.000   \n",
       "2      0  19.364  NAVIGATE  started_navigation    19    1  habit    66.403   \n",
       "3    180  85.767   ARRIVED                 zzz    19    1  habit     1.000   \n",
       "4    361  99.742    ORIENT     oriented_to_env    19    1  habit    11.000   \n",
       "\n",
       "     env  rep  trial  \n",
       "0   env7    1      1  \n",
       "1   env7    1      1  \n",
       "2   env7    1      1  \n",
       "3   env7    1      1  \n",
       "4  env11    1      2  "
      ]
     },
     "execution_count": 43,
     "metadata": {},
     "output_type": "execute_result"
    }
   ],
   "source": [
    "dp.head()"
   ]
  },
  {
   "cell_type": "markdown",
   "metadata": {},
   "source": [
    "### Merge onsets w/route taken"
   ]
  },
  {
   "cell_type": "code",
   "execution_count": 226,
   "metadata": {
    "collapsed": false
   },
   "outputs": [
    {
     "data": {
      "text/html": [
       "<div>\n",
       "<table border=\"1\" class=\"dataframe\">\n",
       "  <thead>\n",
       "    <tr style=\"text-align: right;\">\n",
       "      <th></th>\n",
       "      <th>index</th>\n",
       "      <th>time</th>\n",
       "      <th>command</th>\n",
       "      <th>c3</th>\n",
       "      <th>subid</th>\n",
       "      <th>run</th>\n",
       "      <th>type</th>\n",
       "      <th>duration</th>\n",
       "      <th>env</th>\n",
       "      <th>rep</th>\n",
       "      <th>trial</th>\n",
       "    </tr>\n",
       "  </thead>\n",
       "  <tbody>\n",
       "    <tr>\n",
       "      <th>0</th>\n",
       "      <td>1218</td>\n",
       "      <td>0.278</td>\n",
       "      <td>ORIENT</td>\n",
       "      <td>oriented_to_env</td>\n",
       "      <td>1</td>\n",
       "      <td>1</td>\n",
       "      <td>habit</td>\n",
       "      <td>11.000</td>\n",
       "      <td>env1</td>\n",
       "      <td>1</td>\n",
       "      <td>1</td>\n",
       "    </tr>\n",
       "    <tr>\n",
       "      <th>1</th>\n",
       "      <td>1827</td>\n",
       "      <td>11.308</td>\n",
       "      <td>ASSIGNED</td>\n",
       "      <td>zzz</td>\n",
       "      <td>1</td>\n",
       "      <td>1</td>\n",
       "      <td>habit</td>\n",
       "      <td>8.000</td>\n",
       "      <td>env1</td>\n",
       "      <td>1</td>\n",
       "      <td>1</td>\n",
       "    </tr>\n",
       "    <tr>\n",
       "      <th>2</th>\n",
       "      <td>0</td>\n",
       "      <td>19.294</td>\n",
       "      <td>NAVIGATE</td>\n",
       "      <td>started_navigation</td>\n",
       "      <td>1</td>\n",
       "      <td>1</td>\n",
       "      <td>habit</td>\n",
       "      <td>49.284</td>\n",
       "      <td>env1</td>\n",
       "      <td>1</td>\n",
       "      <td>1</td>\n",
       "    </tr>\n",
       "    <tr>\n",
       "      <th>3</th>\n",
       "      <td>609</td>\n",
       "      <td>68.578</td>\n",
       "      <td>ARRIVED</td>\n",
       "      <td>zzz</td>\n",
       "      <td>1</td>\n",
       "      <td>1</td>\n",
       "      <td>habit</td>\n",
       "      <td>1.000</td>\n",
       "      <td>env1</td>\n",
       "      <td>1</td>\n",
       "      <td>1</td>\n",
       "    </tr>\n",
       "    <tr>\n",
       "      <th>4</th>\n",
       "      <td>1219</td>\n",
       "      <td>82.554</td>\n",
       "      <td>ORIENT</td>\n",
       "      <td>oriented_to_env</td>\n",
       "      <td>1</td>\n",
       "      <td>1</td>\n",
       "      <td>habit</td>\n",
       "      <td>11.000</td>\n",
       "      <td>env8</td>\n",
       "      <td>1</td>\n",
       "      <td>2</td>\n",
       "    </tr>\n",
       "  </tbody>\n",
       "</table>\n",
       "</div>"
      ],
      "text/plain": [
       "   index    time   command                  c3 subid  run   type  duration  \\\n",
       "0   1218   0.278    ORIENT     oriented_to_env     1    1  habit    11.000   \n",
       "1   1827  11.308  ASSIGNED                 zzz     1    1  habit     8.000   \n",
       "2      0  19.294  NAVIGATE  started_navigation     1    1  habit    49.284   \n",
       "3    609  68.578   ARRIVED                 zzz     1    1  habit     1.000   \n",
       "4   1219  82.554    ORIENT     oriented_to_env     1    1  habit    11.000   \n",
       "\n",
       "    env  rep  trial  \n",
       "0  env1    1      1  \n",
       "1  env1    1      1  \n",
       "2  env1    1      1  \n",
       "3  env1    1      1  \n",
       "4  env8    1      2  "
      ]
     },
     "execution_count": 226,
     "metadata": {},
     "output_type": "execute_result"
    }
   ],
   "source": [
    "dp_byenv = dp.copy()\n",
    "dp_byenv.head()"
   ]
  },
  {
   "cell_type": "markdown",
   "metadata": {},
   "source": [
    "#### Load in route coding"
   ]
  },
  {
   "cell_type": "code",
   "execution_count": 227,
   "metadata": {
    "collapsed": false
   },
   "outputs": [
    {
     "data": {
      "text/html": [
       "<div>\n",
       "<table border=\"1\" class=\"dataframe\">\n",
       "  <thead>\n",
       "    <tr style=\"text-align: right;\">\n",
       "      <th></th>\n",
       "      <th>subid</th>\n",
       "      <th>env</th>\n",
       "      <th>type</th>\n",
       "      <th>rep</th>\n",
       "      <th>code1</th>\n",
       "    </tr>\n",
       "  </thead>\n",
       "  <tbody>\n",
       "    <tr>\n",
       "      <th>0</th>\n",
       "      <td>1</td>\n",
       "      <td>env1</td>\n",
       "      <td>habit</td>\n",
       "      <td>1</td>\n",
       "      <td>habit</td>\n",
       "    </tr>\n",
       "    <tr>\n",
       "      <th>1</th>\n",
       "      <td>1</td>\n",
       "      <td>env1</td>\n",
       "      <td>shortcut</td>\n",
       "      <td>1</td>\n",
       "      <td>other</td>\n",
       "    </tr>\n",
       "    <tr>\n",
       "      <th>2</th>\n",
       "      <td>1</td>\n",
       "      <td>env1</td>\n",
       "      <td>shortcut</td>\n",
       "      <td>2</td>\n",
       "      <td>habit</td>\n",
       "    </tr>\n",
       "    <tr>\n",
       "      <th>3</th>\n",
       "      <td>1</td>\n",
       "      <td>env2</td>\n",
       "      <td>habit</td>\n",
       "      <td>1</td>\n",
       "      <td>habit</td>\n",
       "    </tr>\n",
       "    <tr>\n",
       "      <th>4</th>\n",
       "      <td>1</td>\n",
       "      <td>env2</td>\n",
       "      <td>shortcut</td>\n",
       "      <td>1</td>\n",
       "      <td>habit</td>\n",
       "    </tr>\n",
       "  </tbody>\n",
       "</table>\n",
       "</div>"
      ],
      "text/plain": [
       "  subid   env      type  rep  code1\n",
       "0     1  env1     habit    1  habit\n",
       "1     1  env1  shortcut    1  other\n",
       "2     1  env1  shortcut    2  habit\n",
       "3     1  env2     habit    1  habit\n",
       "4     1  env2  shortcut    1  habit"
      ]
     },
     "execution_count": 227,
     "metadata": {},
     "output_type": "execute_result"
    }
   ],
   "source": [
    "df_routecoding =  pd.read_csv('/Volumes/group/awagner/sgagnon/SST/nav_data/route_coding.csv')\n",
    "\n",
    "df_routecoding['env'] = 'env' + df_routecoding['env'].astype(str)\n",
    "df_routecoding['subid'] = df_routecoding.subid.str.replace('sst', '').astype(int)\n",
    "df_routecoding['subid'] = df_routecoding.subid.astype(str)\n",
    "df_routecoding.rename(columns={'run_type': 'type'}, inplace=True)\n",
    "\n",
    "df_routecoding.head()"
   ]
  },
  {
   "cell_type": "code",
   "execution_count": 228,
   "metadata": {
    "collapsed": false
   },
   "outputs": [
    {
     "data": {
      "text/html": [
       "<div>\n",
       "<table border=\"1\" class=\"dataframe\">\n",
       "  <thead>\n",
       "    <tr style=\"text-align: right;\">\n",
       "      <th></th>\n",
       "      <th>index</th>\n",
       "      <th>time</th>\n",
       "      <th>command</th>\n",
       "      <th>c3</th>\n",
       "      <th>subid</th>\n",
       "      <th>run</th>\n",
       "      <th>type</th>\n",
       "      <th>duration</th>\n",
       "      <th>env</th>\n",
       "      <th>rep</th>\n",
       "      <th>trial</th>\n",
       "      <th>code1</th>\n",
       "    </tr>\n",
       "  </thead>\n",
       "  <tbody>\n",
       "    <tr>\n",
       "      <th>0</th>\n",
       "      <td>1218</td>\n",
       "      <td>0.278</td>\n",
       "      <td>ORIENT</td>\n",
       "      <td>oriented_to_env</td>\n",
       "      <td>1</td>\n",
       "      <td>1</td>\n",
       "      <td>habit</td>\n",
       "      <td>11.000</td>\n",
       "      <td>env1</td>\n",
       "      <td>1</td>\n",
       "      <td>1</td>\n",
       "      <td>habit</td>\n",
       "    </tr>\n",
       "    <tr>\n",
       "      <th>1</th>\n",
       "      <td>1827</td>\n",
       "      <td>11.308</td>\n",
       "      <td>ASSIGNED</td>\n",
       "      <td>zzz</td>\n",
       "      <td>1</td>\n",
       "      <td>1</td>\n",
       "      <td>habit</td>\n",
       "      <td>8.000</td>\n",
       "      <td>env1</td>\n",
       "      <td>1</td>\n",
       "      <td>1</td>\n",
       "      <td>habit</td>\n",
       "    </tr>\n",
       "    <tr>\n",
       "      <th>2</th>\n",
       "      <td>0</td>\n",
       "      <td>19.294</td>\n",
       "      <td>NAVIGATE</td>\n",
       "      <td>started_navigation</td>\n",
       "      <td>1</td>\n",
       "      <td>1</td>\n",
       "      <td>habit</td>\n",
       "      <td>49.284</td>\n",
       "      <td>env1</td>\n",
       "      <td>1</td>\n",
       "      <td>1</td>\n",
       "      <td>habit</td>\n",
       "    </tr>\n",
       "    <tr>\n",
       "      <th>3</th>\n",
       "      <td>609</td>\n",
       "      <td>68.578</td>\n",
       "      <td>ARRIVED</td>\n",
       "      <td>zzz</td>\n",
       "      <td>1</td>\n",
       "      <td>1</td>\n",
       "      <td>habit</td>\n",
       "      <td>1.000</td>\n",
       "      <td>env1</td>\n",
       "      <td>1</td>\n",
       "      <td>1</td>\n",
       "      <td>habit</td>\n",
       "    </tr>\n",
       "    <tr>\n",
       "      <th>4</th>\n",
       "      <td>1219</td>\n",
       "      <td>82.554</td>\n",
       "      <td>ORIENT</td>\n",
       "      <td>oriented_to_env</td>\n",
       "      <td>1</td>\n",
       "      <td>1</td>\n",
       "      <td>habit</td>\n",
       "      <td>11.000</td>\n",
       "      <td>env8</td>\n",
       "      <td>1</td>\n",
       "      <td>2</td>\n",
       "      <td>other</td>\n",
       "    </tr>\n",
       "  </tbody>\n",
       "</table>\n",
       "</div>"
      ],
      "text/plain": [
       "   index    time   command                  c3 subid  run   type  duration  \\\n",
       "0   1218   0.278    ORIENT     oriented_to_env     1    1  habit    11.000   \n",
       "1   1827  11.308  ASSIGNED                 zzz     1    1  habit     8.000   \n",
       "2      0  19.294  NAVIGATE  started_navigation     1    1  habit    49.284   \n",
       "3    609  68.578   ARRIVED                 zzz     1    1  habit     1.000   \n",
       "4   1219  82.554    ORIENT     oriented_to_env     1    1  habit    11.000   \n",
       "\n",
       "    env  rep  trial  code1  \n",
       "0  env1    1      1  habit  \n",
       "1  env1    1      1  habit  \n",
       "2  env1    1      1  habit  \n",
       "3  env1    1      1  habit  \n",
       "4  env8    1      2  other  "
      ]
     },
     "execution_count": 228,
     "metadata": {},
     "output_type": "execute_result"
    }
   ],
   "source": [
    "dp_byenv = dp_byenv.merge(df_routecoding)\n",
    "dp_byenv.head()"
   ]
  },
  {
   "cell_type": "code",
   "execution_count": 229,
   "metadata": {
    "collapsed": false
   },
   "outputs": [
    {
     "data": {
      "text/html": [
       "<div>\n",
       "<table border=\"1\" class=\"dataframe\">\n",
       "  <thead>\n",
       "    <tr style=\"text-align: right;\">\n",
       "      <th></th>\n",
       "      <th>subid</th>\n",
       "      <th>env</th>\n",
       "      <th>type</th>\n",
       "      <th>rep</th>\n",
       "      <th>code1</th>\n",
       "    </tr>\n",
       "  </thead>\n",
       "  <tbody>\n",
       "    <tr>\n",
       "      <th>345</th>\n",
       "      <td>11</td>\n",
       "      <td>env8</td>\n",
       "      <td>habit</td>\n",
       "      <td>1</td>\n",
       "      <td>NaN</td>\n",
       "    </tr>\n",
       "    <tr>\n",
       "      <th>348</th>\n",
       "      <td>11</td>\n",
       "      <td>env9</td>\n",
       "      <td>habit</td>\n",
       "      <td>1</td>\n",
       "      <td>NaN</td>\n",
       "    </tr>\n",
       "    <tr>\n",
       "      <th>456</th>\n",
       "      <td>14</td>\n",
       "      <td>env9</td>\n",
       "      <td>habit</td>\n",
       "      <td>1</td>\n",
       "      <td>NaN</td>\n",
       "    </tr>\n",
       "  </tbody>\n",
       "</table>\n",
       "</div>"
      ],
      "text/plain": [
       "    subid   env   type  rep code1\n",
       "345    11  env8  habit    1   NaN\n",
       "348    11  env9  habit    1   NaN\n",
       "456    14  env9  habit    1   NaN"
      ]
     },
     "execution_count": 229,
     "metadata": {},
     "output_type": "execute_result"
    }
   ],
   "source": [
    "df_routecoding.loc[df_routecoding.code1.isnull()]"
   ]
  },
  {
   "cell_type": "code",
   "execution_count": 230,
   "metadata": {
    "collapsed": false
   },
   "outputs": [
    {
     "name": "stdout",
     "output_type": "stream",
     "text": [
      "(2436, 11)\n",
      "(2436, 12)\n"
     ]
    }
   ],
   "source": [
    "print dp.shape\n",
    "print dp_byenv.shape"
   ]
  },
  {
   "cell_type": "code",
   "execution_count": 231,
   "metadata": {
    "collapsed": false
   },
   "outputs": [
    {
     "data": {
      "text/html": [
       "<div>\n",
       "<table border=\"1\" class=\"dataframe\">\n",
       "  <thead>\n",
       "    <tr style=\"text-align: right;\">\n",
       "      <th></th>\n",
       "      <th>index</th>\n",
       "      <th>time</th>\n",
       "      <th>command</th>\n",
       "      <th>c3</th>\n",
       "      <th>subid</th>\n",
       "      <th>run</th>\n",
       "      <th>type</th>\n",
       "      <th>duration</th>\n",
       "      <th>env</th>\n",
       "      <th>rep</th>\n",
       "      <th>trial</th>\n",
       "      <th>code1</th>\n",
       "    </tr>\n",
       "  </thead>\n",
       "  <tbody>\n",
       "  </tbody>\n",
       "</table>\n",
       "</div>"
      ],
      "text/plain": [
       "Empty DataFrame\n",
       "Columns: [index, time, command, c3, subid, run, type, duration, env, rep, trial, code1]\n",
       "Index: []"
      ]
     },
     "execution_count": 231,
     "metadata": {},
     "output_type": "execute_result"
    }
   ],
   "source": [
    "dp_byenv.loc[dp_byenv.code1.isnull()]"
   ]
  },
  {
   "cell_type": "markdown",
   "metadata": {},
   "source": [
    "## Generate onsets "
   ]
  },
  {
   "cell_type": "code",
   "execution_count": 259,
   "metadata": {
    "collapsed": false
   },
   "outputs": [
    {
     "name": "stdout",
     "output_type": "stream",
     "text": [
      "19\n",
      "/Volumes/group/awagner/sgagnon/SST/data/sst19/design\n",
      "20\n",
      "/Volumes/group/awagner/sgagnon/SST/data/sst20/design\n",
      "21\n",
      "/Volumes/group/awagner/sgagnon/SST/data/sst21/design\n",
      "22\n",
      "/Volumes/group/awagner/sgagnon/SST/data/sst22/design\n",
      "23\n",
      "/Volumes/group/awagner/sgagnon/SST/data/sst23/design\n"
     ]
    }
   ],
   "source": [
    "output_filename = 'nav_cond.csv'\n",
    "output_dir = '/Volumes/group/awagner/sgagnon/SST/data'\n",
    "\n",
    "# for sub in subj_info.subid:\n",
    "for sub in ['19', '20', '21', '22', '23']:\n",
    "    print sub\n",
    "    \n",
    "    dsub = dp[(dp.subid == sub)]\n",
    "    ddesign = pd.DataFrame({'run': dsub.run, \n",
    "                            'condition': dsub.command,\n",
    "                            'onset': dsub.time,\n",
    "                            'duration': dsub.duration,\n",
    "                            'value': 1})\n",
    "    \n",
    "    # model some things as impulse rather than boxcar:\n",
    "    ddesign.loc[ddesign.condition.isin(['ASSIGNED', 'ARRIVED']), 'duration'] = 0\n",
    "    \n",
    "    if int(sub) < 10:\n",
    "        sub_output_dir = op.join(output_dir, 'sst0' + str(sub), 'design')\n",
    "    else:\n",
    "        sub_output_dir = op.join(output_dir, 'sst' + str(sub), 'design')\n",
    "        \n",
    "    print sub_output_dir\n",
    "    \n",
    "    if not os.path.exists(sub_output_dir):\n",
    "        os.makedirs(sub_output_dir)\n",
    "    \n",
    "    ddesign.to_csv(op.join(sub_output_dir, output_filename), index=False)"
   ]
  },
  {
   "cell_type": "code",
   "execution_count": 258,
   "metadata": {
    "collapsed": false
   },
   "outputs": [
    {
     "data": {
      "text/html": [
       "<div>\n",
       "<table border=\"1\" class=\"dataframe\">\n",
       "  <thead>\n",
       "    <tr style=\"text-align: right;\">\n",
       "      <th></th>\n",
       "      <th>level_0</th>\n",
       "      <th>index</th>\n",
       "      <th>time</th>\n",
       "      <th>command</th>\n",
       "      <th>c3</th>\n",
       "      <th>subid</th>\n",
       "      <th>run</th>\n",
       "      <th>type</th>\n",
       "      <th>duration</th>\n",
       "    </tr>\n",
       "  </thead>\n",
       "  <tbody>\n",
       "    <tr>\n",
       "      <th>0</th>\n",
       "      <td>3</td>\n",
       "      <td>3</td>\n",
       "      <td>19.364</td>\n",
       "      <td>NAVIGATE</td>\n",
       "      <td>started_navigation</td>\n",
       "      <td>19</td>\n",
       "      <td>1</td>\n",
       "      <td>habit</td>\n",
       "      <td>66.403</td>\n",
       "    </tr>\n",
       "    <tr>\n",
       "      <th>1</th>\n",
       "      <td>7</td>\n",
       "      <td>7</td>\n",
       "      <td>118.757</td>\n",
       "      <td>NAVIGATE</td>\n",
       "      <td>started_navigation</td>\n",
       "      <td>19</td>\n",
       "      <td>1</td>\n",
       "      <td>habit</td>\n",
       "      <td>47.484</td>\n",
       "    </tr>\n",
       "    <tr>\n",
       "      <th>2</th>\n",
       "      <td>11</td>\n",
       "      <td>11</td>\n",
       "      <td>199.232</td>\n",
       "      <td>NAVIGATE</td>\n",
       "      <td>started_navigation</td>\n",
       "      <td>19</td>\n",
       "      <td>1</td>\n",
       "      <td>habit</td>\n",
       "      <td>35.058</td>\n",
       "    </tr>\n",
       "    <tr>\n",
       "      <th>3</th>\n",
       "      <td>16</td>\n",
       "      <td>16</td>\n",
       "      <td>19.235</td>\n",
       "      <td>NAVIGATE</td>\n",
       "      <td>started_navigation</td>\n",
       "      <td>19</td>\n",
       "      <td>2</td>\n",
       "      <td>habit</td>\n",
       "      <td>45.781</td>\n",
       "    </tr>\n",
       "    <tr>\n",
       "      <th>4</th>\n",
       "      <td>20</td>\n",
       "      <td>20</td>\n",
       "      <td>98.008</td>\n",
       "      <td>NAVIGATE</td>\n",
       "      <td>started_navigation</td>\n",
       "      <td>19</td>\n",
       "      <td>2</td>\n",
       "      <td>habit</td>\n",
       "      <td>45.995</td>\n",
       "    </tr>\n",
       "  </tbody>\n",
       "</table>\n",
       "</div>"
      ],
      "text/plain": [
       "   level_0  index     time   command                  c3 subid  run   type  \\\n",
       "0        3      3   19.364  NAVIGATE  started_navigation    19    1  habit   \n",
       "1        7      7  118.757  NAVIGATE  started_navigation    19    1  habit   \n",
       "2       11     11  199.232  NAVIGATE  started_navigation    19    1  habit   \n",
       "3       16     16   19.235  NAVIGATE  started_navigation    19    2  habit   \n",
       "4       20     20   98.008  NAVIGATE  started_navigation    19    2  habit   \n",
       "\n",
       "   duration  \n",
       "0    66.403  \n",
       "1    47.484  \n",
       "2    35.058  \n",
       "3    45.781  \n",
       "4    45.995  "
      ]
     },
     "execution_count": 258,
     "metadata": {},
     "output_type": "execute_result"
    }
   ],
   "source": [
    "dp.head()"
   ]
  },
  {
   "cell_type": "code",
   "execution_count": 260,
   "metadata": {
    "collapsed": false
   },
   "outputs": [
    {
     "name": "stdout",
     "output_type": "stream",
     "text": [
      "19\n",
      "/Volumes/group/awagner/sgagnon/SST/data/sst19/design\n",
      "20\n",
      "/Volumes/group/awagner/sgagnon/SST/data/sst20/design\n",
      "21\n",
      "/Volumes/group/awagner/sgagnon/SST/data/sst21/design\n",
      "22\n",
      "/Volumes/group/awagner/sgagnon/SST/data/sst22/design\n",
      "23\n",
      "/Volumes/group/awagner/sgagnon/SST/data/sst23/design\n"
     ]
    }
   ],
   "source": [
    "output_filename = 'nav_cond_byruntype.csv'\n",
    "output_dir = '/Volumes/group/awagner/sgagnon/SST/data'\n",
    "\n",
    "# for sub in subj_info.subid:\n",
    "for sub in ['19', '20', '21', '22', '23']:\n",
    "    print sub\n",
    "    \n",
    "    dsub = dp[(dp.subid == sub)]\n",
    "    ddesign = pd.DataFrame({'run': dsub.run, \n",
    "                            'condition': dsub.command + '_' + dsub['type'],\n",
    "                            'onset': dsub.time,\n",
    "                            'duration': dsub.duration,\n",
    "                            'value': 1})\n",
    "    \n",
    "    # model some things as impulse rather than boxcar:\n",
    "    ddesign.loc[ddesign.condition.isin(['ASSIGNED_shortcut', 'ARRIVED_shortcut',\n",
    "                                        'ASSIGNED_habit', 'ARRIVED_habit']), 'duration'] = 0\n",
    "    \n",
    "    if int(sub) < 10:\n",
    "        sub_output_dir = op.join(output_dir, 'sst0' + str(sub), 'design')\n",
    "    else:\n",
    "        sub_output_dir = op.join(output_dir, 'sst' + str(sub), 'design')\n",
    "        \n",
    "    print sub_output_dir\n",
    "    \n",
    "    if not os.path.exists(sub_output_dir):\n",
    "        os.makedirs(sub_output_dir)\n",
    "    \n",
    "    ddesign.to_csv(op.join(sub_output_dir, output_filename), index=False)"
   ]
  },
  {
   "cell_type": "code",
   "execution_count": 138,
   "metadata": {
    "collapsed": false
   },
   "outputs": [
    {
     "data": {
      "text/html": [
       "<div>\n",
       "<table border=\"1\" class=\"dataframe\">\n",
       "  <thead>\n",
       "    <tr style=\"text-align: right;\">\n",
       "      <th></th>\n",
       "      <th>index</th>\n",
       "      <th>time</th>\n",
       "      <th>command</th>\n",
       "      <th>c3</th>\n",
       "      <th>subid</th>\n",
       "      <th>run</th>\n",
       "      <th>type</th>\n",
       "      <th>duration</th>\n",
       "      <th>env</th>\n",
       "      <th>rep</th>\n",
       "      <th>trial</th>\n",
       "    </tr>\n",
       "  </thead>\n",
       "  <tbody>\n",
       "    <tr>\n",
       "      <th>0</th>\n",
       "      <td>1218</td>\n",
       "      <td>0.278</td>\n",
       "      <td>ORIENT</td>\n",
       "      <td>oriented_to_env</td>\n",
       "      <td>1</td>\n",
       "      <td>1</td>\n",
       "      <td>habit</td>\n",
       "      <td>11.000</td>\n",
       "      <td>env1</td>\n",
       "      <td>1</td>\n",
       "      <td>1</td>\n",
       "    </tr>\n",
       "    <tr>\n",
       "      <th>1</th>\n",
       "      <td>1827</td>\n",
       "      <td>11.308</td>\n",
       "      <td>ASSIGNED</td>\n",
       "      <td>zzz</td>\n",
       "      <td>1</td>\n",
       "      <td>1</td>\n",
       "      <td>habit</td>\n",
       "      <td>8.000</td>\n",
       "      <td>env1</td>\n",
       "      <td>1</td>\n",
       "      <td>1</td>\n",
       "    </tr>\n",
       "    <tr>\n",
       "      <th>2</th>\n",
       "      <td>0</td>\n",
       "      <td>19.294</td>\n",
       "      <td>NAVIGATE</td>\n",
       "      <td>started_navigation</td>\n",
       "      <td>1</td>\n",
       "      <td>1</td>\n",
       "      <td>habit</td>\n",
       "      <td>49.284</td>\n",
       "      <td>env1</td>\n",
       "      <td>1</td>\n",
       "      <td>1</td>\n",
       "    </tr>\n",
       "    <tr>\n",
       "      <th>3</th>\n",
       "      <td>609</td>\n",
       "      <td>68.578</td>\n",
       "      <td>ARRIVED</td>\n",
       "      <td>zzz</td>\n",
       "      <td>1</td>\n",
       "      <td>1</td>\n",
       "      <td>habit</td>\n",
       "      <td>1.000</td>\n",
       "      <td>env1</td>\n",
       "      <td>1</td>\n",
       "      <td>1</td>\n",
       "    </tr>\n",
       "    <tr>\n",
       "      <th>4</th>\n",
       "      <td>1219</td>\n",
       "      <td>82.554</td>\n",
       "      <td>ORIENT</td>\n",
       "      <td>oriented_to_env</td>\n",
       "      <td>1</td>\n",
       "      <td>1</td>\n",
       "      <td>habit</td>\n",
       "      <td>11.000</td>\n",
       "      <td>env8</td>\n",
       "      <td>1</td>\n",
       "      <td>2</td>\n",
       "    </tr>\n",
       "  </tbody>\n",
       "</table>\n",
       "</div>"
      ],
      "text/plain": [
       "   index    time   command                  c3 subid  run   type  duration  \\\n",
       "0   1218   0.278    ORIENT     oriented_to_env     1    1  habit    11.000   \n",
       "1   1827  11.308  ASSIGNED                 zzz     1    1  habit     8.000   \n",
       "2      0  19.294  NAVIGATE  started_navigation     1    1  habit    49.284   \n",
       "3    609  68.578   ARRIVED                 zzz     1    1  habit     1.000   \n",
       "4   1219  82.554    ORIENT     oriented_to_env     1    1  habit    11.000   \n",
       "\n",
       "    env  rep  trial  \n",
       "0  env1    1      1  \n",
       "1  env1    1      1  \n",
       "2  env1    1      1  \n",
       "3  env1    1      1  \n",
       "4  env8    1      2  "
      ]
     },
     "execution_count": 138,
     "metadata": {},
     "output_type": "execute_result"
    }
   ],
   "source": [
    "dp.head()"
   ]
  },
  {
   "cell_type": "code",
   "execution_count": 139,
   "metadata": {
    "collapsed": false
   },
   "outputs": [
    {
     "data": {
      "text/html": [
       "<div>\n",
       "<table border=\"1\" class=\"dataframe\">\n",
       "  <thead>\n",
       "    <tr style=\"text-align: right;\">\n",
       "      <th></th>\n",
       "      <th>index</th>\n",
       "      <th>time</th>\n",
       "      <th>command</th>\n",
       "      <th>c3</th>\n",
       "      <th>subid</th>\n",
       "      <th>run</th>\n",
       "      <th>type</th>\n",
       "      <th>duration</th>\n",
       "      <th>env</th>\n",
       "      <th>rep</th>\n",
       "      <th>trial</th>\n",
       "      <th>code1</th>\n",
       "      <th>cond_label</th>\n",
       "      <th>duration_foronsetfile</th>\n",
       "    </tr>\n",
       "  </thead>\n",
       "  <tbody>\n",
       "    <tr>\n",
       "      <th>0</th>\n",
       "      <td>1218</td>\n",
       "      <td>0.278</td>\n",
       "      <td>ORIENT</td>\n",
       "      <td>oriented_to_env</td>\n",
       "      <td>1</td>\n",
       "      <td>1</td>\n",
       "      <td>habit</td>\n",
       "      <td>11.000</td>\n",
       "      <td>env1</td>\n",
       "      <td>1</td>\n",
       "      <td>1</td>\n",
       "      <td>habit</td>\n",
       "      <td>ORIENT_habit</td>\n",
       "      <td>11.000</td>\n",
       "    </tr>\n",
       "    <tr>\n",
       "      <th>1</th>\n",
       "      <td>1827</td>\n",
       "      <td>11.308</td>\n",
       "      <td>ASSIGNED</td>\n",
       "      <td>zzz</td>\n",
       "      <td>1</td>\n",
       "      <td>1</td>\n",
       "      <td>habit</td>\n",
       "      <td>8.000</td>\n",
       "      <td>env1</td>\n",
       "      <td>1</td>\n",
       "      <td>1</td>\n",
       "      <td>habit</td>\n",
       "      <td>ASSIGNED_habit</td>\n",
       "      <td>0.000</td>\n",
       "    </tr>\n",
       "    <tr>\n",
       "      <th>2</th>\n",
       "      <td>0</td>\n",
       "      <td>19.294</td>\n",
       "      <td>NAVIGATE</td>\n",
       "      <td>started_navigation</td>\n",
       "      <td>1</td>\n",
       "      <td>1</td>\n",
       "      <td>habit</td>\n",
       "      <td>49.284</td>\n",
       "      <td>env1</td>\n",
       "      <td>1</td>\n",
       "      <td>1</td>\n",
       "      <td>habit</td>\n",
       "      <td>NAVIGATE_habit</td>\n",
       "      <td>49.284</td>\n",
       "    </tr>\n",
       "    <tr>\n",
       "      <th>3</th>\n",
       "      <td>609</td>\n",
       "      <td>68.578</td>\n",
       "      <td>ARRIVED</td>\n",
       "      <td>zzz</td>\n",
       "      <td>1</td>\n",
       "      <td>1</td>\n",
       "      <td>habit</td>\n",
       "      <td>1.000</td>\n",
       "      <td>env1</td>\n",
       "      <td>1</td>\n",
       "      <td>1</td>\n",
       "      <td>habit</td>\n",
       "      <td>ARRIVED_habit</td>\n",
       "      <td>0.000</td>\n",
       "    </tr>\n",
       "    <tr>\n",
       "      <th>4</th>\n",
       "      <td>1219</td>\n",
       "      <td>82.554</td>\n",
       "      <td>ORIENT</td>\n",
       "      <td>oriented_to_env</td>\n",
       "      <td>1</td>\n",
       "      <td>1</td>\n",
       "      <td>habit</td>\n",
       "      <td>11.000</td>\n",
       "      <td>env8</td>\n",
       "      <td>1</td>\n",
       "      <td>2</td>\n",
       "      <td>other</td>\n",
       "      <td>ORIENT_habit</td>\n",
       "      <td>11.000</td>\n",
       "    </tr>\n",
       "  </tbody>\n",
       "</table>\n",
       "</div>"
      ],
      "text/plain": [
       "   index    time   command                  c3 subid  run   type  duration  \\\n",
       "0   1218   0.278    ORIENT     oriented_to_env     1    1  habit    11.000   \n",
       "1   1827  11.308  ASSIGNED                 zzz     1    1  habit     8.000   \n",
       "2      0  19.294  NAVIGATE  started_navigation     1    1  habit    49.284   \n",
       "3    609  68.578   ARRIVED                 zzz     1    1  habit     1.000   \n",
       "4   1219  82.554    ORIENT     oriented_to_env     1    1  habit    11.000   \n",
       "\n",
       "    env  rep  trial  code1      cond_label  duration_foronsetfile  \n",
       "0  env1    1      1  habit    ORIENT_habit                 11.000  \n",
       "1  env1    1      1  habit  ASSIGNED_habit                  0.000  \n",
       "2  env1    1      1  habit  NAVIGATE_habit                 49.284  \n",
       "3  env1    1      1  habit   ARRIVED_habit                  0.000  \n",
       "4  env8    1      2  other    ORIENT_habit                 11.000  "
      ]
     },
     "execution_count": 139,
     "metadata": {},
     "output_type": "execute_result"
    }
   ],
   "source": [
    "dp_byenv['cond_label'] = dp_byenv.command + '_' + dp_byenv['type']\n",
    "dp_byenv.loc[dp_byenv['type'] == 'shortcut', 'cond_label'] = dp_byenv.command + '_' + dp_byenv['type'] + '_TAKE' + dp_byenv.code1\n",
    "\n",
    "dp_byenv['duration_foronsetfile'] = dp_byenv.duration\n",
    "dp_byenv.loc[dp_byenv.command.isin(['ARRIVED', 'ASSIGNED']),'duration_foronsetfile'] = 0\n",
    "\n",
    "dp_byenv.head()"
   ]
  },
  {
   "cell_type": "markdown",
   "metadata": {},
   "source": [
    "### Determine trial counts"
   ]
  },
  {
   "cell_type": "code",
   "execution_count": 164,
   "metadata": {
    "collapsed": false
   },
   "outputs": [
    {
     "data": {
      "text/plain": [
       "<seaborn.axisgrid.FacetGrid at 0x18f847a10>"
      ]
     },
     "execution_count": 164,
     "metadata": {},
     "output_type": "execute_result"
    },
    {
     "data": {
      "image/png": "[encoded data removed]",
      "text/plain": [
       "<matplotlib.figure.Figure at 0x18fadbe50>"
      ]
     },
     "metadata": {},
     "output_type": "display_data"
    }
   ],
   "source": [
    "dp_o = dp_byenv.loc[dp_byenv.command == 'ORIENT'].groupby(['subid', 'cond_label']).count().reset_index()\n",
    "dp_o = dp_o.pivot_table(values='env', index='subid', columns='cond_label', fill_value=0).reset_index()\n",
    "dp_o = pd.melt(dp_o, id_vars='subid', value_vars=list(dp_byenv.loc[dp_byenv.command == 'ORIENT'].cond_label.unique()))\n",
    "\n",
    "g = sns.factorplot(x='cond_label', y='value', units='subid', ci=95, data=dp_o, aspect=2)\n",
    "g.set_xticklabels(rotation=90)"
   ]
  },
  {
   "cell_type": "code",
   "execution_count": 163,
   "metadata": {
    "collapsed": false
   },
   "outputs": [
    {
     "data": {
      "text/html": [
       "<div>\n",
       "<table border=\"1\" class=\"dataframe\">\n",
       "  <thead>\n",
       "    <tr style=\"text-align: right;\">\n",
       "      <th></th>\n",
       "      <th>subid</th>\n",
       "      <th>cond_label</th>\n",
       "      <th>value</th>\n",
       "    </tr>\n",
       "  </thead>\n",
       "  <tbody>\n",
       "    <tr>\n",
       "      <th>21</th>\n",
       "      <td>13</td>\n",
       "      <td>ORIENT_shortcut_TAKEother</td>\n",
       "      <td>1</td>\n",
       "    </tr>\n",
       "    <tr>\n",
       "      <th>23</th>\n",
       "      <td>15</td>\n",
       "      <td>ORIENT_shortcut_TAKEother</td>\n",
       "      <td>0</td>\n",
       "    </tr>\n",
       "    <tr>\n",
       "      <th>27</th>\n",
       "      <td>2</td>\n",
       "      <td>ORIENT_shortcut_TAKEother</td>\n",
       "      <td>1</td>\n",
       "    </tr>\n",
       "    <tr>\n",
       "      <th>46</th>\n",
       "      <td>4</td>\n",
       "      <td>ORIENT_shortcut_TAKEhabit</td>\n",
       "      <td>1</td>\n",
       "    </tr>\n",
       "    <tr>\n",
       "      <th>50</th>\n",
       "      <td>9</td>\n",
       "      <td>ORIENT_shortcut_TAKEhabit</td>\n",
       "      <td>1</td>\n",
       "    </tr>\n",
       "    <tr>\n",
       "      <th>75</th>\n",
       "      <td>16</td>\n",
       "      <td>ORIENT_shortcut_TAKEbacktrack</td>\n",
       "      <td>0</td>\n",
       "    </tr>\n",
       "    <tr>\n",
       "      <th>77</th>\n",
       "      <td>19</td>\n",
       "      <td>ORIENT_shortcut_TAKEbacktrack</td>\n",
       "      <td>1</td>\n",
       "    </tr>\n",
       "    <tr>\n",
       "      <th>80</th>\n",
       "      <td>4</td>\n",
       "      <td>ORIENT_shortcut_TAKEbacktrack</td>\n",
       "      <td>1</td>\n",
       "    </tr>\n",
       "    <tr>\n",
       "      <th>82</th>\n",
       "      <td>6</td>\n",
       "      <td>ORIENT_shortcut_TAKEbacktrack</td>\n",
       "      <td>1</td>\n",
       "    </tr>\n",
       "    <tr>\n",
       "      <th>83</th>\n",
       "      <td>7</td>\n",
       "      <td>ORIENT_shortcut_TAKEbacktrack</td>\n",
       "      <td>1</td>\n",
       "    </tr>\n",
       "    <tr>\n",
       "      <th>84</th>\n",
       "      <td>9</td>\n",
       "      <td>ORIENT_shortcut_TAKEbacktrack</td>\n",
       "      <td>0</td>\n",
       "    </tr>\n",
       "  </tbody>\n",
       "</table>\n",
       "</div>"
      ],
      "text/plain": [
       "   subid                     cond_label  value\n",
       "21    13      ORIENT_shortcut_TAKEother      1\n",
       "23    15      ORIENT_shortcut_TAKEother      0\n",
       "27     2      ORIENT_shortcut_TAKEother      1\n",
       "46     4      ORIENT_shortcut_TAKEhabit      1\n",
       "50     9      ORIENT_shortcut_TAKEhabit      1\n",
       "75    16  ORIENT_shortcut_TAKEbacktrack      0\n",
       "77    19  ORIENT_shortcut_TAKEbacktrack      1\n",
       "80     4  ORIENT_shortcut_TAKEbacktrack      1\n",
       "82     6  ORIENT_shortcut_TAKEbacktrack      1\n",
       "83     7  ORIENT_shortcut_TAKEbacktrack      1\n",
       "84     9  ORIENT_shortcut_TAKEbacktrack      0"
      ]
     },
     "execution_count": 163,
     "metadata": {},
     "output_type": "execute_result"
    }
   ],
   "source": [
    "dp_o.loc[dp_o.value < 2]"
   ]
  },
  {
   "cell_type": "code",
   "execution_count": 140,
   "metadata": {
    "collapsed": false
   },
   "outputs": [
    {
     "name": "stdout",
     "output_type": "stream",
     "text": [
      "1\n",
      "/Volumes/group/awagner/sgagnon/SST/data/sst01/design\n",
      "2\n",
      "/Volumes/group/awagner/sgagnon/SST/data/sst02/design\n",
      "3\n",
      "/Volumes/group/awagner/sgagnon/SST/data/sst03/design\n",
      "4\n",
      "/Volumes/group/awagner/sgagnon/SST/data/sst04/design\n",
      "5\n",
      "/Volumes/group/awagner/sgagnon/SST/data/sst05/design\n",
      "6\n",
      "/Volumes/group/awagner/sgagnon/SST/data/sst06/design\n",
      "7\n",
      "/Volumes/group/awagner/sgagnon/SST/data/sst07/design\n",
      "9\n",
      "/Volumes/group/awagner/sgagnon/SST/data/sst09/design\n",
      "10\n",
      "/Volumes/group/awagner/sgagnon/SST/data/sst10/design\n",
      "11\n",
      "/Volumes/group/awagner/sgagnon/SST/data/sst11/design\n",
      "12\n",
      "/Volumes/group/awagner/sgagnon/SST/data/sst12/design\n",
      "13\n",
      "/Volumes/group/awagner/sgagnon/SST/data/sst13/design\n",
      "14\n",
      "/Volumes/group/awagner/sgagnon/SST/data/sst14/design\n",
      "15\n",
      "/Volumes/group/awagner/sgagnon/SST/data/sst15/design\n",
      "16\n",
      "/Volumes/group/awagner/sgagnon/SST/data/sst16/design\n",
      "18\n",
      "/Volumes/group/awagner/sgagnon/SST/data/sst18/design\n",
      "19\n",
      "/Volumes/group/awagner/sgagnon/SST/data/sst19/design\n"
     ]
    }
   ],
   "source": [
    "output_filename = 'nav_cond_byruntype_byroute.csv'\n",
    "output_dir = '/Volumes/group/awagner/sgagnon/SST/data'\n",
    "\n",
    "for sub in subj_info.subid:\n",
    "    print sub\n",
    "     \n",
    "    dsub = dp_byenv[(dp_byenv.subid == sub)]\n",
    "    ddesign = pd.DataFrame({'run': dsub.run, \n",
    "                            'condition': dsub.cond_label,\n",
    "                            'onset': dsub.time,\n",
    "                            'duration': dsub.duration_foronsetfile,\n",
    "                            'value': 1})\n",
    "        \n",
    "    if int(sub) < 10:\n",
    "        sub_output_dir = op.join(output_dir, 'sst0' + str(sub), 'design')\n",
    "    else:\n",
    "        sub_output_dir = op.join(output_dir, 'sst' + str(sub), 'design')\n",
    "        \n",
    "    print sub_output_dir\n",
    "    \n",
    "    if not os.path.exists(sub_output_dir):\n",
    "        os.makedirs(sub_output_dir)\n",
    "    \n",
    "    ddesign.to_csv(op.join(sub_output_dir, output_filename), index=False)"
   ]
  },
  {
   "cell_type": "code",
   "execution_count": 44,
   "metadata": {
    "collapsed": false
   },
   "outputs": [
    {
     "name": "stdout",
     "output_type": "stream",
     "text": [
      "19\n",
      "/Volumes/group/awagner/sgagnon/SST/data/sst19/design\n",
      "20\n",
      "/Volumes/group/awagner/sgagnon/SST/data/sst20/design\n",
      "21\n",
      "/Volumes/group/awagner/sgagnon/SST/data/sst21/design\n",
      "22\n",
      "/Volumes/group/awagner/sgagnon/SST/data/sst22/design\n",
      "23\n",
      "/Volumes/group/awagner/sgagnon/SST/data/sst23/design\n"
     ]
    },
    {
     "name": "stderr",
     "output_type": "stream",
     "text": [
      "/Users/steph-backup/anaconda/lib/python2.7/site-packages/ipykernel/__main__.py:10: SettingWithCopyWarning: \n",
      "A value is trying to be set on a copy of a slice from a DataFrame.\n",
      "Try using .loc[row_indexer,col_indexer] = value instead\n",
      "\n",
      "See the caveats in the documentation: http://pandas.pydata.org/pandas-docs/stable/indexing.html#indexing-view-versus-copy\n"
     ]
    }
   ],
   "source": [
    "output_filename = 'nav_cond_byenv.csv'\n",
    "output_dir = '/Volumes/group/awagner/sgagnon/SST/data'\n",
    "\n",
    "# for sub in subj_info.subid:\n",
    "for sub in ['19', '20', '21', '22', '23']:\n",
    "\n",
    "    print sub\n",
    "    \n",
    "    dsub = dp[(dp.subid == sub)]\n",
    "    dsub['command_detailed'] = dsub.command + '_' + dsub['type'] + '_' + dsub.env + '_rep' + dsub.rep.map(int).map(str)\n",
    "    ddesign = pd.DataFrame({'run': dsub.run, \n",
    "                            'condition': dsub.command_detailed, \n",
    "                            'onset': dsub.time,\n",
    "                            'duration': dsub.duration,\n",
    "                            'value': 1})\n",
    "    \n",
    "    # model some things as impulse rather than boxcar:\n",
    "    ddesign.loc[ddesign.condition.isin(['ASSIGNED', 'ARRIVED']), 'duration'] = 0\n",
    "    \n",
    "    if int(sub) < 10:\n",
    "        sub_output_dir = op.join(output_dir, 'sst0' + str(sub), 'design')\n",
    "    else:\n",
    "        sub_output_dir = op.join(output_dir, 'sst' + str(sub), 'design')\n",
    "        \n",
    "    print sub_output_dir\n",
    "    \n",
    "    if not os.path.exists(sub_output_dir):\n",
    "        os.makedirs(sub_output_dir)\n",
    "    \n",
    "    ddesign.to_csv(op.join(sub_output_dir, output_filename), index=False)"
   ]
  },
  {
   "cell_type": "markdown",
   "metadata": {},
   "source": [
    "## If just modeling the \"orient\" period to remove that variance from model."
   ]
  },
  {
   "cell_type": "code",
   "execution_count": 46,
   "metadata": {
    "collapsed": false
   },
   "outputs": [
    {
     "name": "stdout",
     "output_type": "stream",
     "text": [
      "19\n",
      "/Volumes/group/awagner/sgagnon/SST/data/sst19/design\n",
      "20\n",
      "/Volumes/group/awagner/sgagnon/SST/data/sst20/design\n",
      "21\n",
      "/Volumes/group/awagner/sgagnon/SST/data/sst21/design\n",
      "22\n",
      "/Volumes/group/awagner/sgagnon/SST/data/sst22/design\n",
      "23\n",
      "/Volumes/group/awagner/sgagnon/SST/data/sst23/design\n"
     ]
    }
   ],
   "source": [
    "output_filename = 'nav_ORIENT.csv'\n",
    "output_dir = '/Volumes/group/awagner/sgagnon/SST/data'\n",
    "\n",
    "dp_orient = dp.loc[dp.command == 'ORIENT']\n",
    "\n",
    "# for sub in subj_info.subid:\n",
    "for sub in ['19', '20', '21', '22', '23']:\n",
    "    print sub\n",
    "    \n",
    "    dsub = dp_orient[(dp_orient.subid == sub)]\n",
    "    ddesign = pd.DataFrame({'run': dsub.run, \n",
    "                            'condition': dsub.command,\n",
    "                            'onset': dsub.time,\n",
    "                            'duration': dsub.duration,\n",
    "                            'value': 1})\n",
    "        \n",
    "    if int(sub) < 10:\n",
    "        sub_output_dir = op.join(output_dir, 'sst0' + str(sub), 'design')\n",
    "    else:\n",
    "        sub_output_dir = op.join(output_dir, 'sst' + str(sub), 'design')\n",
    "        \n",
    "    print sub_output_dir\n",
    "    \n",
    "    if not os.path.exists(sub_output_dir):\n",
    "        os.makedirs(sub_output_dir)\n",
    "    \n",
    "    ddesign.to_csv(op.join(sub_output_dir, output_filename), index=False)"
   ]
  },
  {
   "cell_type": "code",
   "execution_count": null,
   "metadata": {
    "collapsed": true
   },
   "outputs": [],
   "source": []
  },
  {
   "cell_type": "code",
   "execution_count": null,
   "metadata": {
    "collapsed": true
   },
   "outputs": [],
   "source": []
  },
  {
   "cell_type": "code",
   "execution_count": null,
   "metadata": {
    "collapsed": true
   },
   "outputs": [],
   "source": []
  }
 ],
 "metadata": {
  "kernelspec": {
   "display_name": "Python 2",
   "language": "python",
   "name": "python2"
  },
  "language_info": {
   "codemirror_mode": {
    "name": "ipython",
    "version": 2
   },
   "file_extension": ".py",
   "mimetype": "text/x-python",
   "name": "python",
   "nbconvert_exporter": "python",
   "pygments_lexer": "ipython2",
   "version": "2.7.12"
  }
 },
 "nbformat": 4,
 "nbformat_minor": 0
}
