{
 "cells": [
  {
   "cell_type": "markdown",
   "metadata": {},
   "source": [
    "# Analyze post-test questionnaires"
   ]
  },
  {
   "cell_type": "code",
   "execution_count": 1,
   "metadata": {
    "collapsed": false
   },
   "outputs": [
    {
     "name": "stderr",
     "output_type": "stream",
     "text": [
      "/Users/sgagnon/anaconda/lib/python2.7/site-packages/matplotlib/font_manager.py:273: UserWarning: Matplotlib is building the font cache using fc-list. This may take a moment.\n",
      "  warnings.warn('Matplotlib is building the font cache using fc-list. This may take a moment.')\n",
      "/Users/sgagnon/anaconda/lib/python2.7/site-packages/matplotlib/__init__.py:872: UserWarning: axes.color_cycle is deprecated and replaced with axes.prop_cycle; please use the latter.\n",
      "  warnings.warn(self.msg_depr % (key, alt_key))\n"
     ]
    }
   ],
   "source": [
    "import pandas as pd\n",
    "import seaborn as sns\n",
    "import matplotlib.pyplot as plt\n",
    "import os.path as op\n",
    "import glob\n",
    "\n",
    "# for plotting\n",
    "sns.set(style='whitegrid', context='poster')\n",
    "%matplotlib inline\n",
    "\n",
    "# R for stats\n",
    "# %load_ext rpy2.ipython\n",
    "# %R require(lme4)\n",
    "# %R require(lmerTest)"
   ]
  },
  {
   "cell_type": "code",
   "execution_count": 2,
   "metadata": {
    "collapsed": true
   },
   "outputs": [],
   "source": [
    "dirs = dict()\n",
    "dirs['basedir'] = op.join(op.expanduser('~'), 'Experiments/SST')\n",
    "dirs['datadir'] = op.join(dirs['basedir'], 'data')\n",
    "dirs['analydir'] = op.join(dirs['basedir'], 'analysis')\n",
    "dirs['subj_info_file'] = op.join(dirs['datadir'], 'subj_info.csv')"
   ]
  },
  {
   "cell_type": "code",
   "execution_count": 9,
   "metadata": {
    "collapsed": false
   },
   "outputs": [
    {
     "data": {
      "text/html": [
       "<div style=\"max-height:1000px;max-width:1500px;overflow:auto;\">\n",
       "<table border=\"1\" class=\"dataframe\">\n",
       "  <thead>\n",
       "    <tr style=\"text-align: right;\">\n",
       "      <th></th>\n",
       "      <th>subid</th>\n",
       "      <th>group</th>\n",
       "      <th>remove</th>\n",
       "    </tr>\n",
       "  </thead>\n",
       "  <tbody>\n",
       "    <tr>\n",
       "      <th>1</th>\n",
       "      <td>  2</td>\n",
       "      <td> control</td>\n",
       "      <td>NaN</td>\n",
       "    </tr>\n",
       "    <tr>\n",
       "      <th>2</th>\n",
       "      <td>  3</td>\n",
       "      <td> control</td>\n",
       "      <td>NaN</td>\n",
       "    </tr>\n",
       "    <tr>\n",
       "      <th>3</th>\n",
       "      <td>  4</td>\n",
       "      <td> control</td>\n",
       "      <td>NaN</td>\n",
       "    </tr>\n",
       "    <tr>\n",
       "      <th>4</th>\n",
       "      <td>  5</td>\n",
       "      <td> control</td>\n",
       "      <td>NaN</td>\n",
       "    </tr>\n",
       "    <tr>\n",
       "      <th>5</th>\n",
       "      <td>  6</td>\n",
       "      <td> control</td>\n",
       "      <td>NaN</td>\n",
       "    </tr>\n",
       "    <tr>\n",
       "      <th>6</th>\n",
       "      <td>  7</td>\n",
       "      <td> control</td>\n",
       "      <td>NaN</td>\n",
       "    </tr>\n",
       "    <tr>\n",
       "      <th>7</th>\n",
       "      <td>  9</td>\n",
       "      <td> control</td>\n",
       "      <td>NaN</td>\n",
       "    </tr>\n",
       "    <tr>\n",
       "      <th>8</th>\n",
       "      <td> 10</td>\n",
       "      <td> control</td>\n",
       "      <td>NaN</td>\n",
       "    </tr>\n",
       "    <tr>\n",
       "      <th>9</th>\n",
       "      <td> 11</td>\n",
       "      <td> control</td>\n",
       "      <td>NaN</td>\n",
       "    </tr>\n",
       "  </tbody>\n",
       "</table>\n",
       "</div>"
      ],
      "text/plain": [
       "  subid    group  remove\n",
       "1     2  control     NaN\n",
       "2     3  control     NaN\n",
       "3     4  control     NaN\n",
       "4     5  control     NaN\n",
       "5     6  control     NaN\n",
       "6     7  control     NaN\n",
       "7     9  control     NaN\n",
       "8    10  control     NaN\n",
       "9    11  control     NaN"
      ]
     },
     "execution_count": 9,
     "metadata": {},
     "output_type": "execute_result"
    }
   ],
   "source": [
    "subj_info = pd.read_csv(dirs['subj_info_file'])\n",
    "subj_info = subj_info[pd.isnull(subj_info.remove)]\n",
    "subj_info[['subid']] = subj_info.subid.astype(str)\n",
    "\n",
    "subj_info"
   ]
  },
  {
   "cell_type": "code",
   "execution_count": 11,
   "metadata": {
    "collapsed": false
   },
   "outputs": [
    {
     "name": "stdout",
     "output_type": "stream",
     "text": [
      "2\n",
      "3\n",
      "4\n",
      "5\n",
      "6\n",
      "7\n",
      "9\n",
      "10\n",
      "11\n"
     ]
    }
   ],
   "source": [
    "dq = pd.DataFrame() \n",
    "questionnaires = ['QSR', 'QSR2']\n",
    "\n",
    "for subid in subj_info.subid:\n",
    "    print subid\n",
    "\n",
    "    for questionnaire in questionnaires:\n",
    "        # add test file\n",
    "        qfile = glob.glob(op.join(dirs['datadir'], 'Quest', 'SST_' + \n",
    "                                  subid + '_post1_*_' + questionnaire + '.xls'))[0]\n",
    "        d2 = pd.read_csv(qfile, sep='\\t')\n",
    "        d2['subid'] = subid\n",
    "        dq = dq.append(d2, ignore_index=True)\n",
    "        "
   ]
  },
  {
   "cell_type": "code",
   "execution_count": 12,
   "metadata": {
    "collapsed": false
   },
   "outputs": [
    {
     "data": {
      "text/html": [
       "<div style=\"max-height:1000px;max-width:1500px;overflow:auto;\">\n",
       "<table border=\"1\" class=\"dataframe\">\n",
       "  <thead>\n",
       "    <tr style=\"text-align: right;\">\n",
       "      <th></th>\n",
       "      <th>subid</th>\n",
       "      <th>questionLabel</th>\n",
       "      <th>subScaleName</th>\n",
       "      <th>adjustedRating</th>\n",
       "    </tr>\n",
       "  </thead>\n",
       "  <tbody>\n",
       "    <tr>\n",
       "      <th>0</th>\n",
       "      <td> 2</td>\n",
       "      <td>  Q1</td>\n",
       "      <td> generalSOD</td>\n",
       "      <td> 4</td>\n",
       "    </tr>\n",
       "    <tr>\n",
       "      <th>1</th>\n",
       "      <td> 2</td>\n",
       "      <td>  Q2</td>\n",
       "      <td> generalSOD</td>\n",
       "      <td> 4</td>\n",
       "    </tr>\n",
       "    <tr>\n",
       "      <th>2</th>\n",
       "      <td> 2</td>\n",
       "      <td> Q3a</td>\n",
       "      <td>      route</td>\n",
       "      <td> 4</td>\n",
       "    </tr>\n",
       "    <tr>\n",
       "      <th>3</th>\n",
       "      <td> 2</td>\n",
       "      <td> Q3b</td>\n",
       "      <td>   landmark</td>\n",
       "      <td> 4</td>\n",
       "    </tr>\n",
       "    <tr>\n",
       "      <th>4</th>\n",
       "      <td> 2</td>\n",
       "      <td> Q3c</td>\n",
       "      <td>     survey</td>\n",
       "      <td> 4</td>\n",
       "    </tr>\n",
       "  </tbody>\n",
       "</table>\n",
       "</div>"
      ],
      "text/plain": [
       "  subid questionLabel subScaleName  adjustedRating\n",
       "0     2            Q1   generalSOD               4\n",
       "1     2            Q2   generalSOD               4\n",
       "2     2           Q3a        route               4\n",
       "3     2           Q3b     landmark               4\n",
       "4     2           Q3c       survey               4"
      ]
     },
     "execution_count": 12,
     "metadata": {},
     "output_type": "execute_result"
    }
   ],
   "source": [
    "dq = dq[['subid', 'questionLabel', 'subScaleName', 'adjustedRating']]\n",
    "dq.head()"
   ]
  },
  {
   "cell_type": "code",
   "execution_count": 13,
   "metadata": {
    "collapsed": false
   },
   "outputs": [
    {
     "name": "stderr",
     "output_type": "stream",
     "text": [
      "/Users/sgagnon/anaconda/lib/python2.7/site-packages/matplotlib/__init__.py:892: UserWarning: axes.color_cycle is deprecated and replaced with axes.prop_cycle; please use the latter.\n",
      "  warnings.warn(self.msg_depr % (key, alt_key))\n"
     ]
    },
    {
     "data": {
      "text/plain": [
       "<seaborn.axisgrid.FacetGrid at 0x111725110>"
      ]
     },
     "execution_count": 13,
     "metadata": {},
     "output_type": "execute_result"
    },
    {
     "data": {
      "image/png": "[encoded data removed]",
      "text/plain": [
       "<matplotlib.figure.Figure at 0x1117252d0>"
      ]
     },
     "metadata": {},
     "output_type": "display_data"
    }
   ],
   "source": [
    "data = dq.groupby(['subid', 'subScaleName']).sum().reset_index()\n",
    "sns.factorplot(x='subScaleName', y='adjustedRating', aspect=3,\n",
    "               kind='violin', \n",
    "               units='subid', ci=68, data=data)"
   ]
  },
  {
   "cell_type": "markdown",
   "metadata": {},
   "source": [
    "## Compute survey - landmark score"
   ]
  },
  {
   "cell_type": "code",
   "execution_count": 14,
   "metadata": {
    "collapsed": false
   },
   "outputs": [
    {
     "data": {
      "text/html": [
       "<div style=\"max-height:1000px;max-width:1500px;overflow:auto;\">\n",
       "<table border=\"1\" class=\"dataframe\">\n",
       "  <thead>\n",
       "    <tr style=\"text-align: right;\">\n",
       "      <th>subScaleName</th>\n",
       "      <th>subid</th>\n",
       "      <th>compass</th>\n",
       "      <th>generalSOD</th>\n",
       "      <th>landmark</th>\n",
       "      <th>route</th>\n",
       "      <th>survey</th>\n",
       "      <th>surveySpatial</th>\n",
       "      <th>verbalSpatial</th>\n",
       "    </tr>\n",
       "  </thead>\n",
       "  <tbody>\n",
       "    <tr>\n",
       "      <th>0</th>\n",
       "      <td> 10</td>\n",
       "      <td> 12</td>\n",
       "      <td> 21</td>\n",
       "      <td>  6</td>\n",
       "      <td>  7</td>\n",
       "      <td> 10</td>\n",
       "      <td> 3</td>\n",
       "      <td> 3</td>\n",
       "    </tr>\n",
       "    <tr>\n",
       "      <th>1</th>\n",
       "      <td> 11</td>\n",
       "      <td>  4</td>\n",
       "      <td> 11</td>\n",
       "      <td>  8</td>\n",
       "      <td>  8</td>\n",
       "      <td>  5</td>\n",
       "      <td> 4</td>\n",
       "      <td> 3</td>\n",
       "    </tr>\n",
       "    <tr>\n",
       "      <th>2</th>\n",
       "      <td>  2</td>\n",
       "      <td>  9</td>\n",
       "      <td> 18</td>\n",
       "      <td>  8</td>\n",
       "      <td>  8</td>\n",
       "      <td>  8</td>\n",
       "      <td> 4</td>\n",
       "      <td> 2</td>\n",
       "    </tr>\n",
       "    <tr>\n",
       "      <th>3</th>\n",
       "      <td>  3</td>\n",
       "      <td> 11</td>\n",
       "      <td> 19</td>\n",
       "      <td>  6</td>\n",
       "      <td>  3</td>\n",
       "      <td>  8</td>\n",
       "      <td> 3</td>\n",
       "      <td> 4</td>\n",
       "    </tr>\n",
       "    <tr>\n",
       "      <th>4</th>\n",
       "      <td>  4</td>\n",
       "      <td>  5</td>\n",
       "      <td> 18</td>\n",
       "      <td>  8</td>\n",
       "      <td> 10</td>\n",
       "      <td>  6</td>\n",
       "      <td> 3</td>\n",
       "      <td> 2</td>\n",
       "    </tr>\n",
       "    <tr>\n",
       "      <th>5</th>\n",
       "      <td>  5</td>\n",
       "      <td>  8</td>\n",
       "      <td> 18</td>\n",
       "      <td> 10</td>\n",
       "      <td>  7</td>\n",
       "      <td>  5</td>\n",
       "      <td> 3</td>\n",
       "      <td> 1</td>\n",
       "    </tr>\n",
       "    <tr>\n",
       "      <th>6</th>\n",
       "      <td>  6</td>\n",
       "      <td> 10</td>\n",
       "      <td> 17</td>\n",
       "      <td>  9</td>\n",
       "      <td>  9</td>\n",
       "      <td>  7</td>\n",
       "      <td> 2</td>\n",
       "      <td> 5</td>\n",
       "    </tr>\n",
       "    <tr>\n",
       "      <th>7</th>\n",
       "      <td>  7</td>\n",
       "      <td>  5</td>\n",
       "      <td> 20</td>\n",
       "      <td>  6</td>\n",
       "      <td>  9</td>\n",
       "      <td>  7</td>\n",
       "      <td> 4</td>\n",
       "      <td> 3</td>\n",
       "    </tr>\n",
       "    <tr>\n",
       "      <th>8</th>\n",
       "      <td>  9</td>\n",
       "      <td> 10</td>\n",
       "      <td> 17</td>\n",
       "      <td>  7</td>\n",
       "      <td>  8</td>\n",
       "      <td>  5</td>\n",
       "      <td> 4</td>\n",
       "      <td> 4</td>\n",
       "    </tr>\n",
       "  </tbody>\n",
       "</table>\n",
       "</div>"
      ],
      "text/plain": [
       "subScaleName subid  compass  generalSOD  landmark  route  survey  \\\n",
       "0               10       12          21         6      7      10   \n",
       "1               11        4          11         8      8       5   \n",
       "2                2        9          18         8      8       8   \n",
       "3                3       11          19         6      3       8   \n",
       "4                4        5          18         8     10       6   \n",
       "5                5        8          18        10      7       5   \n",
       "6                6       10          17         9      9       7   \n",
       "7                7        5          20         6      9       7   \n",
       "8                9       10          17         7      8       5   \n",
       "\n",
       "subScaleName  surveySpatial  verbalSpatial  \n",
       "0                         3              3  \n",
       "1                         4              3  \n",
       "2                         4              2  \n",
       "3                         3              4  \n",
       "4                         3              2  \n",
       "5                         3              1  \n",
       "6                         2              5  \n",
       "7                         4              3  \n",
       "8                         4              4  "
      ]
     },
     "execution_count": 14,
     "metadata": {},
     "output_type": "execute_result"
    }
   ],
   "source": [
    "data = dq.groupby(['subid', 'subScaleName']).sum().reset_index()\n",
    "data = data.pivot(index='subid', columns='subScaleName', values='adjustedRating').reset_index()\n",
    "data"
   ]
  },
  {
   "cell_type": "code",
   "execution_count": 15,
   "metadata": {
    "collapsed": false
   },
   "outputs": [
    {
     "data": {
      "text/plain": [
       "<matplotlib.axes._subplots.AxesSubplot at 0x111725290>"
      ]
     },
     "execution_count": 15,
     "metadata": {},
     "output_type": "execute_result"
    },
    {
     "data": {
      "image/png": "[encoded data removed]",
      "text/plain": [
       "<matplotlib.figure.Figure at 0x1117250d0>"
      ]
     },
     "metadata": {},
     "output_type": "display_data"
    }
   ],
   "source": [
    "data['survey_pref'] = data.survey - data.landmark\n",
    "sns.violinplot(data.survey_pref)"
   ]
  },
  {
   "cell_type": "code",
   "execution_count": 16,
   "metadata": {
    "collapsed": false
   },
   "outputs": [
    {
     "data": {
      "text/html": [
       "<div style=\"max-height:1000px;max-width:1500px;overflow:auto;\">\n",
       "<table border=\"1\" class=\"dataframe\">\n",
       "  <thead>\n",
       "    <tr style=\"text-align: right;\">\n",
       "      <th>subScaleName</th>\n",
       "      <th>subid</th>\n",
       "      <th>compass</th>\n",
       "      <th>generalSOD</th>\n",
       "      <th>landmark</th>\n",
       "      <th>route</th>\n",
       "      <th>survey</th>\n",
       "      <th>surveySpatial</th>\n",
       "      <th>verbalSpatial</th>\n",
       "      <th>survey_pref</th>\n",
       "    </tr>\n",
       "  </thead>\n",
       "  <tbody>\n",
       "    <tr>\n",
       "      <th>0</th>\n",
       "      <td> 10</td>\n",
       "      <td> 12</td>\n",
       "      <td> 21</td>\n",
       "      <td>  6</td>\n",
       "      <td>  7</td>\n",
       "      <td> 10</td>\n",
       "      <td> 3</td>\n",
       "      <td> 3</td>\n",
       "      <td> 4</td>\n",
       "    </tr>\n",
       "    <tr>\n",
       "      <th>1</th>\n",
       "      <td> 11</td>\n",
       "      <td>  4</td>\n",
       "      <td> 11</td>\n",
       "      <td>  8</td>\n",
       "      <td>  8</td>\n",
       "      <td>  5</td>\n",
       "      <td> 4</td>\n",
       "      <td> 3</td>\n",
       "      <td>-3</td>\n",
       "    </tr>\n",
       "    <tr>\n",
       "      <th>2</th>\n",
       "      <td>  2</td>\n",
       "      <td>  9</td>\n",
       "      <td> 18</td>\n",
       "      <td>  8</td>\n",
       "      <td>  8</td>\n",
       "      <td>  8</td>\n",
       "      <td> 4</td>\n",
       "      <td> 2</td>\n",
       "      <td> 0</td>\n",
       "    </tr>\n",
       "    <tr>\n",
       "      <th>3</th>\n",
       "      <td>  3</td>\n",
       "      <td> 11</td>\n",
       "      <td> 19</td>\n",
       "      <td>  6</td>\n",
       "      <td>  3</td>\n",
       "      <td>  8</td>\n",
       "      <td> 3</td>\n",
       "      <td> 4</td>\n",
       "      <td> 2</td>\n",
       "    </tr>\n",
       "    <tr>\n",
       "      <th>4</th>\n",
       "      <td>  4</td>\n",
       "      <td>  5</td>\n",
       "      <td> 18</td>\n",
       "      <td>  8</td>\n",
       "      <td> 10</td>\n",
       "      <td>  6</td>\n",
       "      <td> 3</td>\n",
       "      <td> 2</td>\n",
       "      <td>-2</td>\n",
       "    </tr>\n",
       "    <tr>\n",
       "      <th>5</th>\n",
       "      <td>  5</td>\n",
       "      <td>  8</td>\n",
       "      <td> 18</td>\n",
       "      <td> 10</td>\n",
       "      <td>  7</td>\n",
       "      <td>  5</td>\n",
       "      <td> 3</td>\n",
       "      <td> 1</td>\n",
       "      <td>-5</td>\n",
       "    </tr>\n",
       "    <tr>\n",
       "      <th>6</th>\n",
       "      <td>  6</td>\n",
       "      <td> 10</td>\n",
       "      <td> 17</td>\n",
       "      <td>  9</td>\n",
       "      <td>  9</td>\n",
       "      <td>  7</td>\n",
       "      <td> 2</td>\n",
       "      <td> 5</td>\n",
       "      <td>-2</td>\n",
       "    </tr>\n",
       "    <tr>\n",
       "      <th>7</th>\n",
       "      <td>  7</td>\n",
       "      <td>  5</td>\n",
       "      <td> 20</td>\n",
       "      <td>  6</td>\n",
       "      <td>  9</td>\n",
       "      <td>  7</td>\n",
       "      <td> 4</td>\n",
       "      <td> 3</td>\n",
       "      <td> 1</td>\n",
       "    </tr>\n",
       "    <tr>\n",
       "      <th>8</th>\n",
       "      <td>  9</td>\n",
       "      <td> 10</td>\n",
       "      <td> 17</td>\n",
       "      <td>  7</td>\n",
       "      <td>  8</td>\n",
       "      <td>  5</td>\n",
       "      <td> 4</td>\n",
       "      <td> 4</td>\n",
       "      <td>-2</td>\n",
       "    </tr>\n",
       "  </tbody>\n",
       "</table>\n",
       "</div>"
      ],
      "text/plain": [
       "subScaleName subid  compass  generalSOD  landmark  route  survey  \\\n",
       "0               10       12          21         6      7      10   \n",
       "1               11        4          11         8      8       5   \n",
       "2                2        9          18         8      8       8   \n",
       "3                3       11          19         6      3       8   \n",
       "4                4        5          18         8     10       6   \n",
       "5                5        8          18        10      7       5   \n",
       "6                6       10          17         9      9       7   \n",
       "7                7        5          20         6      9       7   \n",
       "8                9       10          17         7      8       5   \n",
       "\n",
       "subScaleName  surveySpatial  verbalSpatial  survey_pref  \n",
       "0                         3              3            4  \n",
       "1                         4              3           -3  \n",
       "2                         4              2            0  \n",
       "3                         3              4            2  \n",
       "4                         3              2           -2  \n",
       "5                         3              1           -5  \n",
       "6                         2              5           -2  \n",
       "7                         4              3            1  \n",
       "8                         4              4           -2  "
      ]
     },
     "execution_count": 16,
     "metadata": {},
     "output_type": "execute_result"
    }
   ],
   "source": [
    "data"
   ]
  },
  {
   "cell_type": "code",
   "execution_count": 17,
   "metadata": {
    "collapsed": true
   },
   "outputs": [],
   "source": [
    "file_tosave = op.join(dirs['datadir'], 'Quest/Questionnaires_group.csv')\n",
    "data.to_csv(file_tosave)"
   ]
  },
  {
   "cell_type": "code",
   "execution_count": null,
   "metadata": {
    "collapsed": true
   },
   "outputs": [],
   "source": []
  },
  {
   "cell_type": "code",
   "execution_count": null,
   "metadata": {
    "collapsed": true
   },
   "outputs": [],
   "source": []
  },
  {
   "cell_type": "code",
   "execution_count": null,
   "metadata": {
    "collapsed": true
   },
   "outputs": [],
   "source": []
  }
 ],
 "metadata": {
  "kernelspec": {
   "display_name": "Python 2",
   "language": "python",
   "name": "python2"
  },
  "language_info": {
   "codemirror_mode": {
    "name": "ipython",
    "version": 2
   },
   "file_extension": ".py",
   "mimetype": "text/x-python",
   "name": "python",
   "nbconvert_exporter": "python",
   "pygments_lexer": "ipython2",
   "version": "2.7.11"
  }
 },
 "nbformat": 4,
 "nbformat_minor": 0
}
