{
 "cells": [
  {
   "cell_type": "markdown",
   "metadata": {},
   "source": [
    "# Analyze post-test questionnaires"
   ]
  },
  {
   "cell_type": "code",
   "execution_count": 11,
   "metadata": {
    "collapsed": false
   },
   "outputs": [
    {
     "name": "stdout",
     "output_type": "stream",
     "text": [
      "The rpy2.ipython extension is already loaded. To reload it, use:\n",
      "  %reload_ext rpy2.ipython\n"
     ]
    },
    {
     "data": {
      "text/plain": [
       "array([1], dtype=int32)"
      ]
     },
     "execution_count": 11,
     "metadata": {},
     "output_type": "execute_result"
    }
   ],
   "source": [
    "import pandas as pd\n",
    "import seaborn as sns\n",
    "import matplotlib.pyplot as plt\n",
    "import os.path as op\n",
    "import glob\n",
    "\n",
    "# for plotting\n",
    "sns.set(style='whitegrid', context='poster')\n",
    "%matplotlib inline\n",
    "\n",
    "# R for stats\n",
    "%load_ext rpy2.ipython\n",
    "%R require(lme4)\n",
    "%R require(lmerTest)"
   ]
  },
  {
   "cell_type": "code",
   "execution_count": 12,
   "metadata": {
    "collapsed": true
   },
   "outputs": [],
   "source": [
    "dirs = dict()\n",
    "dirs['basedir'] = op.join(op.expanduser('~'), 'Experiments/SST')\n",
    "dirs['datadir'] = op.join(dirs['basedir'], 'data')\n",
    "dirs['analydir'] = op.join(dirs['basedir'], 'analysis')\n",
    "dirs['subj_info_file'] = op.join(dirs['datadir'], 'subj_info.csv')"
   ]
  },
  {
   "cell_type": "code",
   "execution_count": 13,
   "metadata": {
    "collapsed": false
   },
   "outputs": [
    {
     "data": {
      "text/html": [
       "<div style=\"max-height:1000px;max-width:1500px;overflow:auto;\">\n",
       "<table border=\"1\" class=\"dataframe\">\n",
       "  <thead>\n",
       "    <tr style=\"text-align: right;\">\n",
       "      <th></th>\n",
       "      <th>subid</th>\n",
       "      <th>group</th>\n",
       "      <th>voltage</th>\n",
       "      <th>remove</th>\n",
       "    </tr>\n",
       "  </thead>\n",
       "  <tbody>\n",
       "    <tr>\n",
       "      <th>0</th>\n",
       "      <td> 1</td>\n",
       "      <td> pilot</td>\n",
       "      <td> 0</td>\n",
       "      <td>NaN</td>\n",
       "    </tr>\n",
       "    <tr>\n",
       "      <th>1</th>\n",
       "      <td> 2</td>\n",
       "      <td> pilot</td>\n",
       "      <td> 0</td>\n",
       "      <td>NaN</td>\n",
       "    </tr>\n",
       "    <tr>\n",
       "      <th>2</th>\n",
       "      <td> 3</td>\n",
       "      <td> pilot</td>\n",
       "      <td> 0</td>\n",
       "      <td>NaN</td>\n",
       "    </tr>\n",
       "    <tr>\n",
       "      <th>3</th>\n",
       "      <td> 4</td>\n",
       "      <td> pilot</td>\n",
       "      <td> 0</td>\n",
       "      <td>NaN</td>\n",
       "    </tr>\n",
       "    <tr>\n",
       "      <th>4</th>\n",
       "      <td> 5</td>\n",
       "      <td> pilot</td>\n",
       "      <td> 0</td>\n",
       "      <td>NaN</td>\n",
       "    </tr>\n",
       "    <tr>\n",
       "      <th>5</th>\n",
       "      <td> 6</td>\n",
       "      <td> pilot</td>\n",
       "      <td> 0</td>\n",
       "      <td>NaN</td>\n",
       "    </tr>\n",
       "    <tr>\n",
       "      <th>6</th>\n",
       "      <td> 7</td>\n",
       "      <td> pilot</td>\n",
       "      <td> 0</td>\n",
       "      <td>NaN</td>\n",
       "    </tr>\n",
       "    <tr>\n",
       "      <th>7</th>\n",
       "      <td> 8</td>\n",
       "      <td> pilot</td>\n",
       "      <td> 0</td>\n",
       "      <td>NaN</td>\n",
       "    </tr>\n",
       "  </tbody>\n",
       "</table>\n",
       "</div>"
      ],
      "text/plain": [
       "  subid  group  voltage  remove\n",
       "0     1  pilot        0     NaN\n",
       "1     2  pilot        0     NaN\n",
       "2     3  pilot        0     NaN\n",
       "3     4  pilot        0     NaN\n",
       "4     5  pilot        0     NaN\n",
       "5     6  pilot        0     NaN\n",
       "6     7  pilot        0     NaN\n",
       "7     8  pilot        0     NaN"
      ]
     },
     "execution_count": 13,
     "metadata": {},
     "output_type": "execute_result"
    }
   ],
   "source": [
    "subj_info = pd.read_csv(dirs['subj_info_file'])\n",
    "subj_info = subj_info[pd.isnull(subj_info.remove)]\n",
    "subj_info[['subid']] = subj_info.subid.astype(str)\n",
    "\n",
    "subj_info"
   ]
  },
  {
   "cell_type": "code",
   "execution_count": 14,
   "metadata": {
    "collapsed": false
   },
   "outputs": [
    {
     "name": "stdout",
     "output_type": "stream",
     "text": [
      "1\n",
      "2\n",
      "3\n",
      "4\n",
      "5\n",
      "6\n",
      "7\n",
      "8\n"
     ]
    }
   ],
   "source": [
    "dq = pd.DataFrame() \n",
    "questionnaires = ['QSR', 'QSR2']\n",
    "\n",
    "for subid in subj_info.subid:\n",
    "    print subid\n",
    "\n",
    "    for questionnaire in questionnaires:\n",
    "        # add test file\n",
    "        qfile = glob.glob(op.join(dirs['datadir'], 'Quest', 'SST_' + \n",
    "                                  subid + '_post1_*_' + questionnaire + '.xls'))[0]\n",
    "        d2 = pd.read_csv(qfile, sep='\\t')\n",
    "        d2['subid'] = subid\n",
    "        dq = dq.append(d2, ignore_index=True)\n",
    "        "
   ]
  },
  {
   "cell_type": "code",
   "execution_count": 15,
   "metadata": {
    "collapsed": false
   },
   "outputs": [
    {
     "data": {
      "text/html": [
       "<div style=\"max-height:1000px;max-width:1500px;overflow:auto;\">\n",
       "<table border=\"1\" class=\"dataframe\">\n",
       "  <thead>\n",
       "    <tr style=\"text-align: right;\">\n",
       "      <th></th>\n",
       "      <th>subid</th>\n",
       "      <th>questionLabel</th>\n",
       "      <th>subScaleName</th>\n",
       "      <th>adjustedRating</th>\n",
       "    </tr>\n",
       "  </thead>\n",
       "  <tbody>\n",
       "    <tr>\n",
       "      <th>0</th>\n",
       "      <td> 1</td>\n",
       "      <td>  Q1</td>\n",
       "      <td> generalSOD</td>\n",
       "      <td> 1</td>\n",
       "    </tr>\n",
       "    <tr>\n",
       "      <th>1</th>\n",
       "      <td> 1</td>\n",
       "      <td>  Q2</td>\n",
       "      <td> generalSOD</td>\n",
       "      <td> 1</td>\n",
       "    </tr>\n",
       "    <tr>\n",
       "      <th>2</th>\n",
       "      <td> 1</td>\n",
       "      <td> Q3a</td>\n",
       "      <td>      route</td>\n",
       "      <td> 4</td>\n",
       "    </tr>\n",
       "    <tr>\n",
       "      <th>3</th>\n",
       "      <td> 1</td>\n",
       "      <td> Q3b</td>\n",
       "      <td>   landmark</td>\n",
       "      <td> 5</td>\n",
       "    </tr>\n",
       "    <tr>\n",
       "      <th>4</th>\n",
       "      <td> 1</td>\n",
       "      <td> Q3c</td>\n",
       "      <td>     survey</td>\n",
       "      <td> 3</td>\n",
       "    </tr>\n",
       "  </tbody>\n",
       "</table>\n",
       "</div>"
      ],
      "text/plain": [
       "  subid questionLabel subScaleName  adjustedRating\n",
       "0     1            Q1   generalSOD               1\n",
       "1     1            Q2   generalSOD               1\n",
       "2     1           Q3a        route               4\n",
       "3     1           Q3b     landmark               5\n",
       "4     1           Q3c       survey               3"
      ]
     },
     "execution_count": 15,
     "metadata": {},
     "output_type": "execute_result"
    }
   ],
   "source": [
    "dq = dq[['subid', 'questionLabel', 'subScaleName', 'adjustedRating']]\n",
    "dq.head()"
   ]
  },
  {
   "cell_type": "code",
   "execution_count": 16,
   "metadata": {
    "collapsed": false
   },
   "outputs": [
    {
     "data": {
      "text/plain": [
       "<seaborn.axisgrid.FacetGrid at 0x10efbad90>"
      ]
     },
     "execution_count": 16,
     "metadata": {},
     "output_type": "execute_result"
    },
    {
     "data": {
      "image/png": "[encoded data removed]",
      "text/plain": [
       "<matplotlib.figure.Figure at 0x10b74a0d0>"
      ]
     },
     "metadata": {},
     "output_type": "display_data"
    }
   ],
   "source": [
    "data = dq.groupby(['subid', 'subScaleName']).sum().reset_index()\n",
    "sns.factorplot(x='subScaleName', y='adjustedRating', aspect=3,\n",
    "               kind='violin', \n",
    "               units='subid', ci=68, data=data)"
   ]
  },
  {
   "cell_type": "markdown",
   "metadata": {},
   "source": [
    "## Compute survey - landmark score"
   ]
  },
  {
   "cell_type": "code",
   "execution_count": 17,
   "metadata": {
    "collapsed": false
   },
   "outputs": [
    {
     "data": {
      "text/html": [
       "<div style=\"max-height:1000px;max-width:1500px;overflow:auto;\">\n",
       "<table border=\"1\" class=\"dataframe\">\n",
       "  <thead>\n",
       "    <tr style=\"text-align: right;\">\n",
       "      <th>subScaleName</th>\n",
       "      <th>subid</th>\n",
       "      <th>compass</th>\n",
       "      <th>generalSOD</th>\n",
       "      <th>landmark</th>\n",
       "      <th>route</th>\n",
       "      <th>survey</th>\n",
       "      <th>surveySpatial</th>\n",
       "      <th>verbalSpatial</th>\n",
       "    </tr>\n",
       "  </thead>\n",
       "  <tbody>\n",
       "    <tr>\n",
       "      <th>0</th>\n",
       "      <td> 1</td>\n",
       "      <td>  6</td>\n",
       "      <td> 11</td>\n",
       "      <td> 10</td>\n",
       "      <td> 8</td>\n",
       "      <td> 6</td>\n",
       "      <td> 5</td>\n",
       "      <td> 3</td>\n",
       "    </tr>\n",
       "    <tr>\n",
       "      <th>1</th>\n",
       "      <td> 2</td>\n",
       "      <td>  5</td>\n",
       "      <td> 12</td>\n",
       "      <td> 10</td>\n",
       "      <td> 8</td>\n",
       "      <td> 5</td>\n",
       "      <td> 4</td>\n",
       "      <td> 2</td>\n",
       "    </tr>\n",
       "    <tr>\n",
       "      <th>2</th>\n",
       "      <td> 3</td>\n",
       "      <td>  5</td>\n",
       "      <td> 15</td>\n",
       "      <td>  8</td>\n",
       "      <td> 8</td>\n",
       "      <td> 4</td>\n",
       "      <td> 2</td>\n",
       "      <td> 5</td>\n",
       "    </tr>\n",
       "    <tr>\n",
       "      <th>3</th>\n",
       "      <td> 4</td>\n",
       "      <td>  7</td>\n",
       "      <td> 16</td>\n",
       "      <td>  9</td>\n",
       "      <td> 8</td>\n",
       "      <td> 7</td>\n",
       "      <td> 4</td>\n",
       "      <td> 3</td>\n",
       "    </tr>\n",
       "    <tr>\n",
       "      <th>4</th>\n",
       "      <td> 5</td>\n",
       "      <td>  5</td>\n",
       "      <td> 10</td>\n",
       "      <td>  8</td>\n",
       "      <td> 2</td>\n",
       "      <td> 2</td>\n",
       "      <td> 5</td>\n",
       "      <td> 1</td>\n",
       "    </tr>\n",
       "    <tr>\n",
       "      <th>5</th>\n",
       "      <td> 6</td>\n",
       "      <td> 12</td>\n",
       "      <td> 19</td>\n",
       "      <td> 10</td>\n",
       "      <td> 8</td>\n",
       "      <td> 5</td>\n",
       "      <td> 1</td>\n",
       "      <td> 5</td>\n",
       "    </tr>\n",
       "    <tr>\n",
       "      <th>6</th>\n",
       "      <td> 7</td>\n",
       "      <td>  5</td>\n",
       "      <td> 10</td>\n",
       "      <td>  7</td>\n",
       "      <td> 8</td>\n",
       "      <td> 6</td>\n",
       "      <td> 3</td>\n",
       "      <td> 3</td>\n",
       "    </tr>\n",
       "    <tr>\n",
       "      <th>7</th>\n",
       "      <td> 8</td>\n",
       "      <td>  6</td>\n",
       "      <td> 12</td>\n",
       "      <td>  9</td>\n",
       "      <td> 6</td>\n",
       "      <td> 3</td>\n",
       "      <td> 4</td>\n",
       "      <td> 4</td>\n",
       "    </tr>\n",
       "  </tbody>\n",
       "</table>\n",
       "</div>"
      ],
      "text/plain": [
       "subScaleName subid  compass  generalSOD  landmark  route  survey  \\\n",
       "0                1        6          11        10      8       6   \n",
       "1                2        5          12        10      8       5   \n",
       "2                3        5          15         8      8       4   \n",
       "3                4        7          16         9      8       7   \n",
       "4                5        5          10         8      2       2   \n",
       "5                6       12          19        10      8       5   \n",
       "6                7        5          10         7      8       6   \n",
       "7                8        6          12         9      6       3   \n",
       "\n",
       "subScaleName  surveySpatial  verbalSpatial  \n",
       "0                         5              3  \n",
       "1                         4              2  \n",
       "2                         2              5  \n",
       "3                         4              3  \n",
       "4                         5              1  \n",
       "5                         1              5  \n",
       "6                         3              3  \n",
       "7                         4              4  "
      ]
     },
     "execution_count": 17,
     "metadata": {},
     "output_type": "execute_result"
    }
   ],
   "source": [
    "data = dq.groupby(['subid', 'subScaleName']).sum().reset_index()\n",
    "data = data.pivot(index='subid', columns='subScaleName', values='adjustedRating').reset_index()\n",
    "data"
   ]
  },
  {
   "cell_type": "code",
   "execution_count": 18,
   "metadata": {
    "collapsed": false
   },
   "outputs": [
    {
     "data": {
      "text/plain": [
       "<matplotlib.axes.AxesSubplot at 0x10ede0e90>"
      ]
     },
     "execution_count": 18,
     "metadata": {},
     "output_type": "execute_result"
    },
    {
     "data": {
      "image/png": "[encoded data removed]",
      "text/plain": [
       "<matplotlib.figure.Figure at 0x11228df90>"
      ]
     },
     "metadata": {},
     "output_type": "display_data"
    }
   ],
   "source": [
    "data['survey_pref'] = data.survey - data.landmark\n",
    "sns.violinplot(data.survey_pref)"
   ]
  },
  {
   "cell_type": "code",
   "execution_count": 20,
   "metadata": {
    "collapsed": false
   },
   "outputs": [
    {
     "data": {
      "text/html": [
       "<div style=\"max-height:1000px;max-width:1500px;overflow:auto;\">\n",
       "<table border=\"1\" class=\"dataframe\">\n",
       "  <thead>\n",
       "    <tr style=\"text-align: right;\">\n",
       "      <th>subScaleName</th>\n",
       "      <th>subid</th>\n",
       "      <th>compass</th>\n",
       "      <th>generalSOD</th>\n",
       "      <th>landmark</th>\n",
       "      <th>route</th>\n",
       "      <th>survey</th>\n",
       "      <th>surveySpatial</th>\n",
       "      <th>verbalSpatial</th>\n",
       "      <th>survey_pref</th>\n",
       "    </tr>\n",
       "  </thead>\n",
       "  <tbody>\n",
       "    <tr>\n",
       "      <th>0</th>\n",
       "      <td> 1</td>\n",
       "      <td>  6</td>\n",
       "      <td> 11</td>\n",
       "      <td> 10</td>\n",
       "      <td> 8</td>\n",
       "      <td> 6</td>\n",
       "      <td> 5</td>\n",
       "      <td> 3</td>\n",
       "      <td>-4</td>\n",
       "    </tr>\n",
       "    <tr>\n",
       "      <th>1</th>\n",
       "      <td> 2</td>\n",
       "      <td>  5</td>\n",
       "      <td> 12</td>\n",
       "      <td> 10</td>\n",
       "      <td> 8</td>\n",
       "      <td> 5</td>\n",
       "      <td> 4</td>\n",
       "      <td> 2</td>\n",
       "      <td>-5</td>\n",
       "    </tr>\n",
       "    <tr>\n",
       "      <th>2</th>\n",
       "      <td> 3</td>\n",
       "      <td>  5</td>\n",
       "      <td> 15</td>\n",
       "      <td>  8</td>\n",
       "      <td> 8</td>\n",
       "      <td> 4</td>\n",
       "      <td> 2</td>\n",
       "      <td> 5</td>\n",
       "      <td>-4</td>\n",
       "    </tr>\n",
       "    <tr>\n",
       "      <th>3</th>\n",
       "      <td> 4</td>\n",
       "      <td>  7</td>\n",
       "      <td> 16</td>\n",
       "      <td>  9</td>\n",
       "      <td> 8</td>\n",
       "      <td> 7</td>\n",
       "      <td> 4</td>\n",
       "      <td> 3</td>\n",
       "      <td>-2</td>\n",
       "    </tr>\n",
       "    <tr>\n",
       "      <th>4</th>\n",
       "      <td> 5</td>\n",
       "      <td>  5</td>\n",
       "      <td> 10</td>\n",
       "      <td>  8</td>\n",
       "      <td> 2</td>\n",
       "      <td> 2</td>\n",
       "      <td> 5</td>\n",
       "      <td> 1</td>\n",
       "      <td>-6</td>\n",
       "    </tr>\n",
       "    <tr>\n",
       "      <th>5</th>\n",
       "      <td> 6</td>\n",
       "      <td> 12</td>\n",
       "      <td> 19</td>\n",
       "      <td> 10</td>\n",
       "      <td> 8</td>\n",
       "      <td> 5</td>\n",
       "      <td> 1</td>\n",
       "      <td> 5</td>\n",
       "      <td>-5</td>\n",
       "    </tr>\n",
       "    <tr>\n",
       "      <th>6</th>\n",
       "      <td> 7</td>\n",
       "      <td>  5</td>\n",
       "      <td> 10</td>\n",
       "      <td>  7</td>\n",
       "      <td> 8</td>\n",
       "      <td> 6</td>\n",
       "      <td> 3</td>\n",
       "      <td> 3</td>\n",
       "      <td>-1</td>\n",
       "    </tr>\n",
       "    <tr>\n",
       "      <th>7</th>\n",
       "      <td> 8</td>\n",
       "      <td>  6</td>\n",
       "      <td> 12</td>\n",
       "      <td>  9</td>\n",
       "      <td> 6</td>\n",
       "      <td> 3</td>\n",
       "      <td> 4</td>\n",
       "      <td> 4</td>\n",
       "      <td>-6</td>\n",
       "    </tr>\n",
       "  </tbody>\n",
       "</table>\n",
       "</div>"
      ],
      "text/plain": [
       "subScaleName subid  compass  generalSOD  landmark  route  survey  \\\n",
       "0                1        6          11        10      8       6   \n",
       "1                2        5          12        10      8       5   \n",
       "2                3        5          15         8      8       4   \n",
       "3                4        7          16         9      8       7   \n",
       "4                5        5          10         8      2       2   \n",
       "5                6       12          19        10      8       5   \n",
       "6                7        5          10         7      8       6   \n",
       "7                8        6          12         9      6       3   \n",
       "\n",
       "subScaleName  surveySpatial  verbalSpatial  survey_pref  \n",
       "0                         5              3           -4  \n",
       "1                         4              2           -5  \n",
       "2                         2              5           -4  \n",
       "3                         4              3           -2  \n",
       "4                         5              1           -6  \n",
       "5                         1              5           -5  \n",
       "6                         3              3           -1  \n",
       "7                         4              4           -6  "
      ]
     },
     "execution_count": 20,
     "metadata": {},
     "output_type": "execute_result"
    }
   ],
   "source": [
    "data"
   ]
  },
  {
   "cell_type": "code",
   "execution_count": 19,
   "metadata": {
    "collapsed": true
   },
   "outputs": [],
   "source": [
    "file_tosave = op.join(dirs['datadir'], 'Quest/Questionnaires_group.csv')\n",
    "data.to_csv(file_tosave)"
   ]
  },
  {
   "cell_type": "code",
   "execution_count": null,
   "metadata": {
    "collapsed": true
   },
   "outputs": [],
   "source": []
  },
  {
   "cell_type": "code",
   "execution_count": null,
   "metadata": {
    "collapsed": true
   },
   "outputs": [],
   "source": []
  },
  {
   "cell_type": "code",
   "execution_count": null,
   "metadata": {
    "collapsed": true
   },
   "outputs": [],
   "source": []
  }
 ],
 "metadata": {
  "kernelspec": {
   "display_name": "Python 2",
   "language": "python",
   "name": "python2"
  },
  "language_info": {
   "codemirror_mode": {
    "name": "ipython",
    "version": 2
   },
   "file_extension": ".py",
   "mimetype": "text/x-python",
   "name": "python",
   "nbconvert_exporter": "python",
   "pygments_lexer": "ipython2",
   "version": "2.7.10"
  }
 },
 "nbformat": 4,
 "nbformat_minor": 0
}
