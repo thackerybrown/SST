{
 "cells": [
  {
   "cell_type": "markdown",
   "metadata": {},
   "source": [
    "# SST (Spatial Stress Test) Analysis"
   ]
  },
  {
   "cell_type": "markdown",
   "metadata": {},
   "source": [
    "fMRI Data Collected 2015-2016"
   ]
  },
  {
   "cell_type": "code",
   "execution_count": 3,
   "metadata": {
    "collapsed": false
   },
   "outputs": [
    {
     "name": "stderr",
     "output_type": "stream",
     "text": [
      "/Users/sgagnon/anaconda/lib/python2.7/site-packages/matplotlib/font_manager.py:273: UserWarning: Matplotlib is building the font cache using fc-list. This may take a moment.\n",
      "  warnings.warn('Matplotlib is building the font cache using fc-list. This may take a moment.')\n",
      "/Users/sgagnon/anaconda/lib/python2.7/site-packages/matplotlib/__init__.py:872: UserWarning: axes.color_cycle is deprecated and replaced with axes.prop_cycle; please use the latter.\n",
      "  warnings.warn(self.msg_depr % (key, alt_key))\n",
      "/Users/sgagnon/anaconda/lib/python2.7/site-packages/IPython/html.py:14: ShimWarning: The `IPython.html` package has been deprecated. You should import from `notebook` instead. `IPython.html.widgets` has moved to `ipywidgets`.\n",
      "  \"`IPython.html.widgets` has moved to `ipywidgets`.\", ShimWarning)\n"
     ]
    }
   ],
   "source": [
    "import pandas as pd\n",
    "import moss\n",
    "from scipy import stats\n",
    "import scipy as sp\n",
    "import seaborn as sns\n",
    "import numpy as np\n",
    "import matplotlib\n",
    "import matplotlib.pyplot as plt\n",
    "import os.path as op\n",
    "import re\n",
    "\n",
    "#widget ability\n",
    "from IPython.html.widgets import interact, interactive, fixed\n",
    "from IPython.html import widgets\n",
    "from IPython.display import clear_output, display, HTML\n",
    "\n",
    "import glob\n",
    "\n",
    "# Gather project info & functions\n",
    "from sst_setup_project import *\n",
    "\n",
    "# for plotting\n",
    "sns.set(style='whitegrid', context='poster')\n",
    "%matplotlib inline"
   ]
  },
  {
   "cell_type": "markdown",
   "metadata": {},
   "source": [
    "### Set up directories & exp-specific information"
   ]
  },
  {
   "cell_type": "code",
   "execution_count": 4,
   "metadata": {
    "collapsed": false
   },
   "outputs": [],
   "source": [
    "dirs = dict()\n",
    "dirs['basedir'] = op.join(op.expanduser('~'), 'Experiments/SST')\n",
    "dirs['datadir'] = op.join(dirs['basedir'], 'data')\n",
    "dirs['analydir'] = op.join(dirs['basedir'], 'analysis')\n",
    "dirs['subj_info_file'] = op.join(dirs['datadir'], 'subj_info.csv')\n",
    "dirs['shortcut_file'] = op.join(dirs['datadir'], 'shortcut_coords.csv')\n",
    "dirs['navdir'] = '/Volumes/group/awagner/sgagnon/SST/nav_data'"
   ]
  },
  {
   "cell_type": "code",
   "execution_count": 5,
   "metadata": {
    "collapsed": false
   },
   "outputs": [],
   "source": [
    "proj = gather_experiment_info(exp_name='SST', dirs=dirs)"
   ]
  },
  {
   "cell_type": "markdown",
   "metadata": {},
   "source": [
    "### Read in subject information"
   ]
  },
  {
   "cell_type": "code",
   "execution_count": 6,
   "metadata": {
    "collapsed": false
   },
   "outputs": [
    {
     "data": {
      "text/html": [
       "<div style=\"max-height:1000px;max-width:1500px;overflow:auto;\">\n",
       "<table border=\"1\" class=\"dataframe\">\n",
       "  <thead>\n",
       "    <tr style=\"text-align: right;\">\n",
       "      <th></th>\n",
       "      <th>subid</th>\n",
       "      <th>group</th>\n",
       "      <th>remove</th>\n",
       "    </tr>\n",
       "  </thead>\n",
       "  <tbody>\n",
       "    <tr>\n",
       "      <th>1 </th>\n",
       "      <td>  2</td>\n",
       "      <td> control</td>\n",
       "      <td>NaN</td>\n",
       "    </tr>\n",
       "    <tr>\n",
       "      <th>2 </th>\n",
       "      <td>  3</td>\n",
       "      <td> control</td>\n",
       "      <td>NaN</td>\n",
       "    </tr>\n",
       "    <tr>\n",
       "      <th>3 </th>\n",
       "      <td>  4</td>\n",
       "      <td> control</td>\n",
       "      <td>NaN</td>\n",
       "    </tr>\n",
       "    <tr>\n",
       "      <th>4 </th>\n",
       "      <td>  5</td>\n",
       "      <td> control</td>\n",
       "      <td>NaN</td>\n",
       "    </tr>\n",
       "    <tr>\n",
       "      <th>5 </th>\n",
       "      <td>  6</td>\n",
       "      <td> control</td>\n",
       "      <td>NaN</td>\n",
       "    </tr>\n",
       "    <tr>\n",
       "      <th>6 </th>\n",
       "      <td>  7</td>\n",
       "      <td> control</td>\n",
       "      <td>NaN</td>\n",
       "    </tr>\n",
       "    <tr>\n",
       "      <th>7 </th>\n",
       "      <td>  9</td>\n",
       "      <td> control</td>\n",
       "      <td>NaN</td>\n",
       "    </tr>\n",
       "    <tr>\n",
       "      <th>9 </th>\n",
       "      <td> 11</td>\n",
       "      <td> control</td>\n",
       "      <td>NaN</td>\n",
       "    </tr>\n",
       "    <tr>\n",
       "      <th>10</th>\n",
       "      <td> 12</td>\n",
       "      <td> control</td>\n",
       "      <td>NaN</td>\n",
       "    </tr>\n",
       "  </tbody>\n",
       "</table>\n",
       "</div>"
      ],
      "text/plain": [
       "   subid    group  remove\n",
       "1      2  control     NaN\n",
       "2      3  control     NaN\n",
       "3      4  control     NaN\n",
       "4      5  control     NaN\n",
       "5      6  control     NaN\n",
       "6      7  control     NaN\n",
       "7      9  control     NaN\n",
       "9     11  control     NaN\n",
       "10    12  control     NaN"
      ]
     },
     "execution_count": 6,
     "metadata": {},
     "output_type": "execute_result"
    }
   ],
   "source": [
    "subj_info = pd.read_csv(dirs['subj_info_file'])\n",
    "subj_info = subj_info[pd.isnull(subj_info.remove)]\n",
    "subj_info[['subid']] = subj_info.subid.astype(str)\n",
    "subj_info"
   ]
  },
  {
   "cell_type": "code",
   "execution_count": 7,
   "metadata": {
    "collapsed": false
   },
   "outputs": [
    {
     "data": {
      "text/html": [
       "<div style=\"max-height:1000px;max-width:1500px;overflow:auto;\">\n",
       "<table border=\"1\" class=\"dataframe\">\n",
       "  <thead>\n",
       "    <tr style=\"text-align: right;\">\n",
       "      <th></th>\n",
       "      <th>env</th>\n",
       "      <th>x_lo</th>\n",
       "      <th>x_hi</th>\n",
       "      <th>y_lo</th>\n",
       "      <th>y_hi</th>\n",
       "    </tr>\n",
       "  </thead>\n",
       "  <tbody>\n",
       "    <tr>\n",
       "      <th>0 </th>\n",
       "      <td>  env1</td>\n",
       "      <td> 16</td>\n",
       "      <td> 32</td>\n",
       "      <td>  5</td>\n",
       "      <td> 15</td>\n",
       "    </tr>\n",
       "    <tr>\n",
       "      <th>1 </th>\n",
       "      <td>  env2</td>\n",
       "      <td>  8</td>\n",
       "      <td> 28</td>\n",
       "      <td> 28</td>\n",
       "      <td> 48</td>\n",
       "    </tr>\n",
       "    <tr>\n",
       "      <th>2 </th>\n",
       "      <td>  env3</td>\n",
       "      <td> 24</td>\n",
       "      <td> 40</td>\n",
       "      <td> 16</td>\n",
       "      <td> 24</td>\n",
       "    </tr>\n",
       "    <tr>\n",
       "      <th>3 </th>\n",
       "      <td>  env4</td>\n",
       "      <td> 16</td>\n",
       "      <td> 32</td>\n",
       "      <td> 16</td>\n",
       "      <td> 24</td>\n",
       "    </tr>\n",
       "    <tr>\n",
       "      <th>4 </th>\n",
       "      <td>  env5</td>\n",
       "      <td> 12</td>\n",
       "      <td> 20</td>\n",
       "      <td> 20</td>\n",
       "      <td> 31</td>\n",
       "    </tr>\n",
       "    <tr>\n",
       "      <th>5 </th>\n",
       "      <td>  env6</td>\n",
       "      <td> 24</td>\n",
       "      <td> 40</td>\n",
       "      <td> 24</td>\n",
       "      <td> 40</td>\n",
       "    </tr>\n",
       "    <tr>\n",
       "      <th>6 </th>\n",
       "      <td>  env7</td>\n",
       "      <td> 10</td>\n",
       "      <td> 15</td>\n",
       "      <td> 30</td>\n",
       "      <td> 40</td>\n",
       "    </tr>\n",
       "    <tr>\n",
       "      <th>7 </th>\n",
       "      <td>  env8</td>\n",
       "      <td> 16</td>\n",
       "      <td> 32</td>\n",
       "      <td>  0</td>\n",
       "      <td> 16</td>\n",
       "    </tr>\n",
       "    <tr>\n",
       "      <th>8 </th>\n",
       "      <td>  env9</td>\n",
       "      <td> 24</td>\n",
       "      <td> 35</td>\n",
       "      <td>  0</td>\n",
       "      <td> 12</td>\n",
       "    </tr>\n",
       "    <tr>\n",
       "      <th>9 </th>\n",
       "      <td> env10</td>\n",
       "      <td> 48</td>\n",
       "      <td> 56</td>\n",
       "      <td> 24</td>\n",
       "      <td> 40</td>\n",
       "    </tr>\n",
       "    <tr>\n",
       "      <th>10</th>\n",
       "      <td> env11</td>\n",
       "      <td> 24</td>\n",
       "      <td> 32</td>\n",
       "      <td> 40</td>\n",
       "      <td> 48</td>\n",
       "    </tr>\n",
       "    <tr>\n",
       "      <th>11</th>\n",
       "      <td> env12</td>\n",
       "      <td> 24</td>\n",
       "      <td> 35</td>\n",
       "      <td> 30</td>\n",
       "      <td> 45</td>\n",
       "    </tr>\n",
       "  </tbody>\n",
       "</table>\n",
       "</div>"
      ],
      "text/plain": [
       "      env  x_lo  x_hi  y_lo  y_hi\n",
       "0    env1    16    32     5    15\n",
       "1    env2     8    28    28    48\n",
       "2    env3    24    40    16    24\n",
       "3    env4    16    32    16    24\n",
       "4    env5    12    20    20    31\n",
       "5    env6    24    40    24    40\n",
       "6    env7    10    15    30    40\n",
       "7    env8    16    32     0    16\n",
       "8    env9    24    35     0    12\n",
       "9   env10    48    56    24    40\n",
       "10  env11    24    32    40    48\n",
       "11  env12    24    35    30    45"
      ]
     },
     "execution_count": 7,
     "metadata": {},
     "output_type": "execute_result"
    }
   ],
   "source": [
    "shortcut_coords = pd.read_csv(dirs['shortcut_file'])\n",
    "shortcut_coords"
   ]
  },
  {
   "cell_type": "code",
   "execution_count": null,
   "metadata": {
    "collapsed": true
   },
   "outputs": [],
   "source": [
    "\n"
   ]
  },
  {
   "cell_type": "markdown",
   "metadata": {},
   "source": [
    "## Read in data files"
   ]
  },
  {
   "cell_type": "code",
   "execution_count": null,
   "metadata": {
    "collapsed": false
   },
   "outputs": [],
   "source": []
  },
  {
   "cell_type": "code",
   "execution_count": 8,
   "metadata": {
    "collapsed": false
   },
   "outputs": [
    {
     "data": {
      "text/plain": [
       "1      2\n",
       "2      3\n",
       "3      4\n",
       "4      5\n",
       "5      6\n",
       "6      7\n",
       "7      9\n",
       "9     11\n",
       "10    12\n",
       "Name: subid, dtype: object"
      ]
     },
     "execution_count": 8,
     "metadata": {},
     "output_type": "execute_result"
    }
   ],
   "source": [
    "subj_info.subid"
   ]
  },
  {
   "cell_type": "code",
   "execution_count": 10,
   "metadata": {
    "collapsed": false
   },
   "outputs": [
    {
     "name": "stdout",
     "output_type": "stream",
     "text": [
      "2\n",
      "3\n",
      "4\n",
      "5\n",
      "6\n",
      "7\n",
      "9\n",
      "11\n",
      "12\n"
     ]
    }
   ],
   "source": [
    "df = pd.DataFrame() # dataframe of subjs x envs\n",
    "test = True\n",
    "questionnaires_shock  = False\n",
    "questionnaires_post  = False\n",
    "\n",
    "# iterate through subjects\n",
    "for subid in subj_info.subid:\n",
    "    print subid\n",
    "    \n",
    "    if test:\n",
    "        for run_num in range(1, 12+1):\n",
    "            # add test file\n",
    "            \n",
    "            if int(subid) < 10:\n",
    "                test_file = glob.glob(op.join(dirs['navdir'], 'sst0' + str(subid), 'run'+ str(run_num),\n",
    "                                      'session_*', 'log.txt'))[0]\n",
    "            else:\n",
    "                test_file = glob.glob(op.join(dirs['navdir'], 'sst' + str(subid), 'run'+ str(run_num),\n",
    "                                      'session_*', 'log.txt'))[0]    \n",
    "\n",
    "            output = []\n",
    "            with open(test_file) as f:\n",
    "                data = f.readlines()\n",
    "\n",
    "                for line in data:\n",
    "                    columns = re.split('\\t|\\r|\\n', line)\n",
    "                    output.append(columns)\n",
    "            d2 = pd.DataFrame(output, columns = ['time', 'c2', 'command', \n",
    "                                                 'c3', 'c4', 'c5', 'c6', 'c7', 'c8'])\n",
    "\n",
    "            # include subid and env\n",
    "            d2['subid'] = subid\n",
    "            d2['run'] = run_num\n",
    "\n",
    "            # force time to be integer, subtract trigger time from each run\n",
    "            d2.time = d2.time.astype(int)\n",
    "            d2.time = d2.time - d2.loc[d2.command == 'SCAN', 'time'].values[0]\n",
    "            \n",
    "            # convert to seconds\n",
    "            d2.time = d2.time/1000\n",
    "            d2.time = d2.time - 8 # adjust for tossed volumes (4)\n",
    "\n",
    "            df = df.append(d2, ignore_index=True)\n",
    "\n",
    "# Compiled group data\n",
    "if questionnaires_shock:\n",
    "    q_file = op.join(dirs['basedir'], 'data/Quest/Questionnaires_shockblock_group.csv')\n",
    "    dq_shock = pd.read_csv(q_file, index_col=0)\n",
    "\n",
    "if questionnaires_post:\n",
    "    q_file = op.join(dirs['basedir'], 'data/Quest/Questionnaires_group.csv')\n",
    "    dq_post = pd.read_csv(q_file, index_col=0)\n",
    "    dq_post['subid'] = dq_post.subid.astype(str)"
   ]
  },
  {
   "cell_type": "markdown",
   "metadata": {},
   "source": [
    "## Look at data"
   ]
  },
  {
   "cell_type": "code",
   "execution_count": 11,
   "metadata": {
    "collapsed": false
   },
   "outputs": [
    {
     "data": {
      "text/html": [
       "<div style=\"max-height:1000px;max-width:1500px;overflow:auto;\">\n",
       "<table border=\"1\" class=\"dataframe\">\n",
       "  <thead>\n",
       "    <tr style=\"text-align: right;\">\n",
       "      <th></th>\n",
       "      <th>time</th>\n",
       "      <th>c2</th>\n",
       "      <th>command</th>\n",
       "      <th>c3</th>\n",
       "      <th>c4</th>\n",
       "      <th>c5</th>\n",
       "      <th>c6</th>\n",
       "      <th>c7</th>\n",
       "      <th>c8</th>\n",
       "      <th>subid</th>\n",
       "      <th>run</th>\n",
       "    </tr>\n",
       "  </thead>\n",
       "  <tbody>\n",
       "    <tr>\n",
       "      <th>0</th>\n",
       "      <td>-16.305</td>\n",
       "      <td> 1</td>\n",
       "      <td> COMMON_WIN_PROPERTIES</td>\n",
       "      <td>                    800</td>\n",
       "      <td>  600</td>\n",
       "      <td> True</td>\n",
       "      <td> False</td>\n",
       "      <td>     </td>\n",
       "      <td>     </td>\n",
       "      <td> 2</td>\n",
       "      <td> 1</td>\n",
       "    </tr>\n",
       "    <tr>\n",
       "      <th>1</th>\n",
       "      <td>-16.180</td>\n",
       "      <td> 0</td>\n",
       "      <td>           CAMERA_INIT</td>\n",
       "      <td> PandaEPL_defaultCamera</td>\n",
       "      <td>     </td>\n",
       "      <td>     </td>\n",
       "      <td>  None</td>\n",
       "      <td> None</td>\n",
       "      <td> None</td>\n",
       "      <td> 2</td>\n",
       "      <td> 1</td>\n",
       "    </tr>\n",
       "    <tr>\n",
       "      <th>2</th>\n",
       "      <td>-16.180</td>\n",
       "      <td> 0</td>\n",
       "      <td>               VR_INIT</td>\n",
       "      <td>                       </td>\n",
       "      <td>     </td>\n",
       "      <td> None</td>\n",
       "      <td>  None</td>\n",
       "      <td> None</td>\n",
       "      <td> None</td>\n",
       "      <td> 2</td>\n",
       "      <td> 1</td>\n",
       "    </tr>\n",
       "    <tr>\n",
       "      <th>3</th>\n",
       "      <td>-16.180</td>\n",
       "      <td> 0</td>\n",
       "      <td>            VR_CREATED</td>\n",
       "      <td>                       </td>\n",
       "      <td>     </td>\n",
       "      <td> None</td>\n",
       "      <td>  None</td>\n",
       "      <td> None</td>\n",
       "      <td> None</td>\n",
       "      <td> 2</td>\n",
       "      <td> 1</td>\n",
       "    </tr>\n",
       "    <tr>\n",
       "      <th>4</th>\n",
       "      <td>-14.130</td>\n",
       "      <td> 0</td>\n",
       "      <td>             CONF_LOAD</td>\n",
       "      <td>            ./config.py</td>\n",
       "      <td> None</td>\n",
       "      <td>     </td>\n",
       "      <td>      </td>\n",
       "      <td> None</td>\n",
       "      <td> None</td>\n",
       "      <td> 2</td>\n",
       "      <td> 1</td>\n",
       "    </tr>\n",
       "  </tbody>\n",
       "</table>\n",
       "</div>"
      ],
      "text/plain": [
       "     time c2                command                      c3    c4    c5  \\\n",
       "0 -16.305  1  COMMON_WIN_PROPERTIES                     800   600  True   \n",
       "1 -16.180  0            CAMERA_INIT  PandaEPL_defaultCamera               \n",
       "2 -16.180  0                VR_INIT                                None   \n",
       "3 -16.180  0             VR_CREATED                                None   \n",
       "4 -14.130  0              CONF_LOAD             ./config.py  None         \n",
       "\n",
       "      c6    c7    c8 subid  run  \n",
       "0  False                 2    1  \n",
       "1   None  None  None     2    1  \n",
       "2   None  None  None     2    1  \n",
       "3   None  None  None     2    1  \n",
       "4         None  None     2    1  "
      ]
     },
     "execution_count": 11,
     "metadata": {},
     "output_type": "execute_result"
    }
   ],
   "source": [
    "df.head()"
   ]
  },
  {
   "cell_type": "markdown",
   "metadata": {},
   "source": [
    "### Look at 2D position in space"
   ]
  },
  {
   "cell_type": "code",
   "execution_count": 12,
   "metadata": {
    "collapsed": true
   },
   "outputs": [],
   "source": [
    "command_list = ['SCAN', 'ORIENT', 'ASSIGNED', 'NAVIGATE', 'ARRIVED']"
   ]
  },
  {
   "cell_type": "code",
   "execution_count": 13,
   "metadata": {
    "collapsed": false
   },
   "outputs": [
    {
     "data": {
      "text/html": [
       "<div style=\"max-height:1000px;max-width:1500px;overflow:auto;\">\n",
       "<table border=\"1\" class=\"dataframe\">\n",
       "  <thead>\n",
       "    <tr style=\"text-align: right;\">\n",
       "      <th></th>\n",
       "      <th>time</th>\n",
       "      <th>c2</th>\n",
       "      <th>command</th>\n",
       "      <th>c3</th>\n",
       "      <th>c4</th>\n",
       "      <th>c5</th>\n",
       "      <th>c6</th>\n",
       "      <th>c7</th>\n",
       "      <th>c8</th>\n",
       "      <th>subid</th>\n",
       "      <th>run</th>\n",
       "    </tr>\n",
       "  </thead>\n",
       "  <tbody>\n",
       "    <tr>\n",
       "      <th>0</th>\n",
       "      <td>-16.305</td>\n",
       "      <td> 1</td>\n",
       "      <td> COMMON_WIN_PROPERTIES</td>\n",
       "      <td>                    800</td>\n",
       "      <td>  600</td>\n",
       "      <td> True</td>\n",
       "      <td> False</td>\n",
       "      <td>     </td>\n",
       "      <td>     </td>\n",
       "      <td> 2</td>\n",
       "      <td> 1</td>\n",
       "    </tr>\n",
       "    <tr>\n",
       "      <th>1</th>\n",
       "      <td>-16.180</td>\n",
       "      <td> 0</td>\n",
       "      <td>           CAMERA_INIT</td>\n",
       "      <td> PandaEPL_defaultCamera</td>\n",
       "      <td>     </td>\n",
       "      <td>     </td>\n",
       "      <td>  None</td>\n",
       "      <td> None</td>\n",
       "      <td> None</td>\n",
       "      <td> 2</td>\n",
       "      <td> 1</td>\n",
       "    </tr>\n",
       "    <tr>\n",
       "      <th>2</th>\n",
       "      <td>-16.180</td>\n",
       "      <td> 0</td>\n",
       "      <td>               VR_INIT</td>\n",
       "      <td>                       </td>\n",
       "      <td>     </td>\n",
       "      <td> None</td>\n",
       "      <td>  None</td>\n",
       "      <td> None</td>\n",
       "      <td> None</td>\n",
       "      <td> 2</td>\n",
       "      <td> 1</td>\n",
       "    </tr>\n",
       "    <tr>\n",
       "      <th>3</th>\n",
       "      <td>-16.180</td>\n",
       "      <td> 0</td>\n",
       "      <td>            VR_CREATED</td>\n",
       "      <td>                       </td>\n",
       "      <td>     </td>\n",
       "      <td> None</td>\n",
       "      <td>  None</td>\n",
       "      <td> None</td>\n",
       "      <td> None</td>\n",
       "      <td> 2</td>\n",
       "      <td> 1</td>\n",
       "    </tr>\n",
       "    <tr>\n",
       "      <th>4</th>\n",
       "      <td>-14.130</td>\n",
       "      <td> 0</td>\n",
       "      <td>             CONF_LOAD</td>\n",
       "      <td>            ./config.py</td>\n",
       "      <td> None</td>\n",
       "      <td>     </td>\n",
       "      <td>      </td>\n",
       "      <td> None</td>\n",
       "      <td> None</td>\n",
       "      <td> 2</td>\n",
       "      <td> 1</td>\n",
       "    </tr>\n",
       "  </tbody>\n",
       "</table>\n",
       "</div>"
      ],
      "text/plain": [
       "     time c2                command                      c3    c4    c5  \\\n",
       "0 -16.305  1  COMMON_WIN_PROPERTIES                     800   600  True   \n",
       "1 -16.180  0            CAMERA_INIT  PandaEPL_defaultCamera               \n",
       "2 -16.180  0                VR_INIT                                None   \n",
       "3 -16.180  0             VR_CREATED                                None   \n",
       "4 -14.130  0              CONF_LOAD             ./config.py  None         \n",
       "\n",
       "      c6    c7    c8 subid  run  \n",
       "0  False                 2    1  \n",
       "1   None  None  None     2    1  \n",
       "2   None  None  None     2    1  \n",
       "3   None  None  None     2    1  \n",
       "4         None  None     2    1  "
      ]
     },
     "execution_count": 13,
     "metadata": {},
     "output_type": "execute_result"
    }
   ],
   "source": [
    "df.head()"
   ]
  },
  {
   "cell_type": "code",
   "execution_count": 14,
   "metadata": {
    "collapsed": false
   },
   "outputs": [
    {
     "data": {
      "text/html": [
       "<div style=\"max-height:1000px;max-width:1500px;overflow:auto;\">\n",
       "<table border=\"1\" class=\"dataframe\">\n",
       "  <thead>\n",
       "    <tr style=\"text-align: right;\">\n",
       "      <th></th>\n",
       "      <th>time</th>\n",
       "      <th>command</th>\n",
       "      <th>c3</th>\n",
       "      <th>subid</th>\n",
       "      <th>run</th>\n",
       "    </tr>\n",
       "  </thead>\n",
       "  <tbody>\n",
       "    <tr>\n",
       "      <th>0</th>\n",
       "      <td> -8.00</td>\n",
       "      <td>     SCAN</td>\n",
       "      <td>     scan_triggered</td>\n",
       "      <td> 2</td>\n",
       "      <td> 1</td>\n",
       "    </tr>\n",
       "    <tr>\n",
       "      <th>1</th>\n",
       "      <td>  0.24</td>\n",
       "      <td>   ORIENT</td>\n",
       "      <td>    oriented_to_env</td>\n",
       "      <td> 2</td>\n",
       "      <td> 1</td>\n",
       "    </tr>\n",
       "    <tr>\n",
       "      <th>2</th>\n",
       "      <td> 11.28</td>\n",
       "      <td> ASSIGNED</td>\n",
       "      <td>                zzz</td>\n",
       "      <td> 2</td>\n",
       "      <td> 1</td>\n",
       "    </tr>\n",
       "    <tr>\n",
       "      <th>3</th>\n",
       "      <td> 19.26</td>\n",
       "      <td> NAVIGATE</td>\n",
       "      <td> started_navigation</td>\n",
       "      <td> 2</td>\n",
       "      <td> 1</td>\n",
       "    </tr>\n",
       "    <tr>\n",
       "      <th>4</th>\n",
       "      <td> 81.14</td>\n",
       "      <td>  ARRIVED</td>\n",
       "      <td>                zzz</td>\n",
       "      <td> 2</td>\n",
       "      <td> 1</td>\n",
       "    </tr>\n",
       "  </tbody>\n",
       "</table>\n",
       "</div>"
      ],
      "text/plain": [
       "    time   command                  c3 subid  run\n",
       "0  -8.00      SCAN      scan_triggered     2    1\n",
       "1   0.24    ORIENT     oriented_to_env     2    1\n",
       "2  11.28  ASSIGNED                 zzz     2    1\n",
       "3  19.26  NAVIGATE  started_navigation     2    1\n",
       "4  81.14   ARRIVED                 zzz     2    1"
      ]
     },
     "execution_count": 14,
     "metadata": {},
     "output_type": "execute_result"
    }
   ],
   "source": [
    "dp = df[df.command.isin(command_list)].reset_index()\n",
    "dp = dp.drop(['c2', 'c4', 'c5', 'c6', 'c7', 'c8', 'index'], 1) # remove unncessary cols\n",
    "dp.head()"
   ]
  },
  {
   "cell_type": "markdown",
   "metadata": {},
   "source": [
    "### Drop non-targets"
   ]
  },
  {
   "cell_type": "code",
   "execution_count": 15,
   "metadata": {
    "collapsed": true
   },
   "outputs": [],
   "source": [
    "targets = ['zzz', 'Jim_Parsons', 'Beyonce', 'Paul_McCartney', \n",
    " 'Natalie_Portman', 'Benedict_Cumberbatch',\n",
    " 'Taylor_Swift', 'Katy_Perry', 'Johnny_Depp', \n",
    " 'Zooey_Deschanel', 'George_Clooney', 'Mark_Zuckerberg','Emma_Watson']\n"
   ]
  },
  {
   "cell_type": "code",
   "execution_count": 16,
   "metadata": {
    "collapsed": false
   },
   "outputs": [],
   "source": [
    "dp = dp.drop(dp[(dp.command == \"ARRIVED\") & (~dp.c3.isin(targets))].index).reset_index()"
   ]
  },
  {
   "cell_type": "code",
   "execution_count": 17,
   "metadata": {
    "collapsed": false
   },
   "outputs": [
    {
     "data": {
      "text/plain": [
       "322"
      ]
     },
     "execution_count": 17,
     "metadata": {},
     "output_type": "execute_result"
    }
   ],
   "source": [
    "len(dp[dp.command == \"NAVIGATE\"].time)"
   ]
  },
  {
   "cell_type": "code",
   "execution_count": 18,
   "metadata": {
    "collapsed": false
   },
   "outputs": [
    {
     "data": {
      "text/plain": [
       "33574"
      ]
     },
     "execution_count": 18,
     "metadata": {},
     "output_type": "execute_result"
    }
   ],
   "source": [
    "len(dp[dp.command == \"ARRIVED\"].time)"
   ]
  },
  {
   "cell_type": "code",
   "execution_count": 19,
   "metadata": {
    "collapsed": false
   },
   "outputs": [
    {
     "data": {
      "text/html": [
       "<div style=\"max-height:1000px;max-width:1500px;overflow:auto;\">\n",
       "<table border=\"1\" class=\"dataframe\">\n",
       "  <thead>\n",
       "    <tr style=\"text-align: right;\">\n",
       "      <th></th>\n",
       "      <th>index</th>\n",
       "      <th>time</th>\n",
       "      <th>command</th>\n",
       "      <th>c3</th>\n",
       "      <th>run</th>\n",
       "    </tr>\n",
       "    <tr>\n",
       "      <th>subid</th>\n",
       "      <th></th>\n",
       "      <th></th>\n",
       "      <th></th>\n",
       "      <th></th>\n",
       "      <th></th>\n",
       "    </tr>\n",
       "  </thead>\n",
       "  <tbody>\n",
       "    <tr>\n",
       "      <th>11</th>\n",
       "      <td>  1085</td>\n",
       "      <td>  1085</td>\n",
       "      <td>  1085</td>\n",
       "      <td>  1085</td>\n",
       "      <td>  1085</td>\n",
       "    </tr>\n",
       "    <tr>\n",
       "      <th>12</th>\n",
       "      <td>  6946</td>\n",
       "      <td>  6946</td>\n",
       "      <td>  6946</td>\n",
       "      <td>  6946</td>\n",
       "      <td>  6946</td>\n",
       "    </tr>\n",
       "    <tr>\n",
       "      <th>2</th>\n",
       "      <td>    36</td>\n",
       "      <td>    36</td>\n",
       "      <td>    36</td>\n",
       "      <td>    36</td>\n",
       "      <td>    36</td>\n",
       "    </tr>\n",
       "    <tr>\n",
       "      <th>3</th>\n",
       "      <td>    36</td>\n",
       "      <td>    36</td>\n",
       "      <td>    36</td>\n",
       "      <td>    36</td>\n",
       "      <td>    36</td>\n",
       "    </tr>\n",
       "    <tr>\n",
       "      <th>4</th>\n",
       "      <td> 22309</td>\n",
       "      <td> 22309</td>\n",
       "      <td> 22309</td>\n",
       "      <td> 22309</td>\n",
       "      <td> 22309</td>\n",
       "    </tr>\n",
       "    <tr>\n",
       "      <th>5</th>\n",
       "      <td>   569</td>\n",
       "      <td>   569</td>\n",
       "      <td>   569</td>\n",
       "      <td>   569</td>\n",
       "      <td>   569</td>\n",
       "    </tr>\n",
       "    <tr>\n",
       "      <th>6</th>\n",
       "      <td>  1343</td>\n",
       "      <td>  1343</td>\n",
       "      <td>  1343</td>\n",
       "      <td>  1343</td>\n",
       "      <td>  1343</td>\n",
       "    </tr>\n",
       "    <tr>\n",
       "      <th>7</th>\n",
       "      <td>    36</td>\n",
       "      <td>    36</td>\n",
       "      <td>    36</td>\n",
       "      <td>    36</td>\n",
       "      <td>    36</td>\n",
       "    </tr>\n",
       "    <tr>\n",
       "      <th>9</th>\n",
       "      <td>  1214</td>\n",
       "      <td>  1214</td>\n",
       "      <td>  1214</td>\n",
       "      <td>  1214</td>\n",
       "      <td>  1214</td>\n",
       "    </tr>\n",
       "  </tbody>\n",
       "</table>\n",
       "</div>"
      ],
      "text/plain": [
       "       index   time  command     c3    run\n",
       "subid                                     \n",
       "11      1085   1085     1085   1085   1085\n",
       "12      6946   6946     6946   6946   6946\n",
       "2         36     36       36     36     36\n",
       "3         36     36       36     36     36\n",
       "4      22309  22309    22309  22309  22309\n",
       "5        569    569      569    569    569\n",
       "6       1343   1343     1343   1343   1343\n",
       "7         36     36       36     36     36\n",
       "9       1214   1214     1214   1214   1214"
      ]
     },
     "execution_count": 19,
     "metadata": {},
     "output_type": "execute_result"
    }
   ],
   "source": [
    "pd.groupby(dp[dp.command == \"ARRIVED\"], by=['subid']).count()"
   ]
  },
  {
   "cell_type": "markdown",
   "metadata": {},
   "source": [
    "### Get indexes for navigated, and first arrived"
   ]
  },
  {
   "cell_type": "code",
   "execution_count": 20,
   "metadata": {
    "collapsed": false
   },
   "outputs": [],
   "source": [
    "ind = np.concatenate((dp[(dp.command == \"NAVIGATE\")].index, \n",
    "                      dp[(dp.command == \"NAVIGATE\")].index + 1))"
   ]
  },
  {
   "cell_type": "code",
   "execution_count": 21,
   "metadata": {
    "collapsed": false
   },
   "outputs": [
    {
     "data": {
      "text/html": [
       "<div style=\"max-height:1000px;max-width:1500px;overflow:auto;\">\n",
       "<table border=\"1\" class=\"dataframe\">\n",
       "  <thead>\n",
       "    <tr style=\"text-align: right;\">\n",
       "      <th></th>\n",
       "      <th>index</th>\n",
       "      <th>time</th>\n",
       "      <th>command</th>\n",
       "      <th>c3</th>\n",
       "      <th>run</th>\n",
       "    </tr>\n",
       "    <tr>\n",
       "      <th>subid</th>\n",
       "      <th></th>\n",
       "      <th></th>\n",
       "      <th></th>\n",
       "      <th></th>\n",
       "      <th></th>\n",
       "    </tr>\n",
       "  </thead>\n",
       "  <tbody>\n",
       "    <tr>\n",
       "      <th>11</th>\n",
       "      <td> 68</td>\n",
       "      <td> 68</td>\n",
       "      <td> 68</td>\n",
       "      <td> 68</td>\n",
       "      <td> 68</td>\n",
       "    </tr>\n",
       "    <tr>\n",
       "      <th>12</th>\n",
       "      <td> 72</td>\n",
       "      <td> 72</td>\n",
       "      <td> 72</td>\n",
       "      <td> 72</td>\n",
       "      <td> 72</td>\n",
       "    </tr>\n",
       "    <tr>\n",
       "      <th>2</th>\n",
       "      <td> 72</td>\n",
       "      <td> 72</td>\n",
       "      <td> 72</td>\n",
       "      <td> 72</td>\n",
       "      <td> 72</td>\n",
       "    </tr>\n",
       "    <tr>\n",
       "      <th>3</th>\n",
       "      <td> 72</td>\n",
       "      <td> 72</td>\n",
       "      <td> 72</td>\n",
       "      <td> 72</td>\n",
       "      <td> 72</td>\n",
       "    </tr>\n",
       "    <tr>\n",
       "      <th>4</th>\n",
       "      <td> 72</td>\n",
       "      <td> 72</td>\n",
       "      <td> 72</td>\n",
       "      <td> 72</td>\n",
       "      <td> 72</td>\n",
       "    </tr>\n",
       "    <tr>\n",
       "      <th>5</th>\n",
       "      <td> 72</td>\n",
       "      <td> 72</td>\n",
       "      <td> 72</td>\n",
       "      <td> 72</td>\n",
       "      <td> 72</td>\n",
       "    </tr>\n",
       "    <tr>\n",
       "      <th>6</th>\n",
       "      <td> 72</td>\n",
       "      <td> 72</td>\n",
       "      <td> 72</td>\n",
       "      <td> 72</td>\n",
       "      <td> 72</td>\n",
       "    </tr>\n",
       "    <tr>\n",
       "      <th>7</th>\n",
       "      <td> 72</td>\n",
       "      <td> 72</td>\n",
       "      <td> 72</td>\n",
       "      <td> 72</td>\n",
       "      <td> 72</td>\n",
       "    </tr>\n",
       "    <tr>\n",
       "      <th>9</th>\n",
       "      <td> 72</td>\n",
       "      <td> 72</td>\n",
       "      <td> 72</td>\n",
       "      <td> 72</td>\n",
       "      <td> 72</td>\n",
       "    </tr>\n",
       "  </tbody>\n",
       "</table>\n",
       "</div>"
      ],
      "text/plain": [
       "       index  time  command  c3  run\n",
       "subid                               \n",
       "11        68    68       68  68   68\n",
       "12        72    72       72  72   72\n",
       "2         72    72       72  72   72\n",
       "3         72    72       72  72   72\n",
       "4         72    72       72  72   72\n",
       "5         72    72       72  72   72\n",
       "6         72    72       72  72   72\n",
       "7         72    72       72  72   72\n",
       "9         72    72       72  72   72"
      ]
     },
     "execution_count": 21,
     "metadata": {},
     "output_type": "execute_result"
    }
   ],
   "source": [
    "dp.loc[ind].groupby(by=['subid']).count()"
   ]
  },
  {
   "cell_type": "code",
   "execution_count": null,
   "metadata": {
    "collapsed": true
   },
   "outputs": [],
   "source": []
  },
  {
   "cell_type": "code",
   "execution_count": 22,
   "metadata": {
    "collapsed": false
   },
   "outputs": [
    {
     "data": {
      "text/plain": [
       "322"
      ]
     },
     "execution_count": 22,
     "metadata": {},
     "output_type": "execute_result"
    }
   ],
   "source": [
    "dsub = dp.loc[ind]\n",
    "nav_duration = dsub[dsub.command == \"ARRIVED\"].time.values - dsub[dsub.command == \"NAVIGATE\"].time.values\n",
    "len(nav_duration)"
   ]
  },
  {
   "cell_type": "code",
   "execution_count": 23,
   "metadata": {
    "collapsed": false
   },
   "outputs": [],
   "source": [
    "dp['duration'] = 0\n",
    "dp.loc[dp.command == 'NAVIGATE', 'duration'] = nav_duration"
   ]
  },
  {
   "cell_type": "code",
   "execution_count": 24,
   "metadata": {
    "collapsed": false
   },
   "outputs": [],
   "source": [
    "ind = np.concatenate((dp[(dp.command == \"NAVIGATE\")].index, \n",
    "                      dp[(dp.command == \"NAVIGATE\")].index + 1, #first arrived\n",
    "                      dp[(dp.command == \"ORIENT\")].index,\n",
    "                      dp[(dp.command == \"ASSIGNED\")].index))\n",
    "dp = dp.loc[ind].reset_index()"
   ]
  },
  {
   "cell_type": "code",
   "execution_count": 25,
   "metadata": {
    "collapsed": true
   },
   "outputs": [],
   "source": [
    "dp.loc[dp.command == 'ORIENT', 'duration'] = 11\n",
    "dp.loc[dp.command == 'ASSIGNED', 'duration'] = 8\n",
    "dp.loc[dp.command == 'ARRIVED', 'duration'] = 1"
   ]
  },
  {
   "cell_type": "code",
   "execution_count": 26,
   "metadata": {
    "collapsed": false
   },
   "outputs": [
    {
     "data": {
      "text/html": [
       "<div style=\"max-height:1000px;max-width:1500px;overflow:auto;\">\n",
       "<table border=\"1\" class=\"dataframe\">\n",
       "  <thead>\n",
       "    <tr style=\"text-align: right;\">\n",
       "      <th></th>\n",
       "      <th>level_0</th>\n",
       "      <th>index</th>\n",
       "      <th>time</th>\n",
       "      <th>command</th>\n",
       "      <th>c3</th>\n",
       "      <th>subid</th>\n",
       "      <th>run</th>\n",
       "      <th>duration</th>\n",
       "    </tr>\n",
       "  </thead>\n",
       "  <tbody>\n",
       "    <tr>\n",
       "      <th>0</th>\n",
       "      <td>  3</td>\n",
       "      <td>  3</td>\n",
       "      <td>  19.26</td>\n",
       "      <td> NAVIGATE</td>\n",
       "      <td> started_navigation</td>\n",
       "      <td> 2</td>\n",
       "      <td> 1</td>\n",
       "      <td> 61.88</td>\n",
       "    </tr>\n",
       "    <tr>\n",
       "      <th>1</th>\n",
       "      <td>  7</td>\n",
       "      <td>  7</td>\n",
       "      <td> 114.14</td>\n",
       "      <td> NAVIGATE</td>\n",
       "      <td> started_navigation</td>\n",
       "      <td> 2</td>\n",
       "      <td> 1</td>\n",
       "      <td> 27.93</td>\n",
       "    </tr>\n",
       "    <tr>\n",
       "      <th>2</th>\n",
       "      <td> 11</td>\n",
       "      <td> 11</td>\n",
       "      <td> 175.07</td>\n",
       "      <td> NAVIGATE</td>\n",
       "      <td> started_navigation</td>\n",
       "      <td> 2</td>\n",
       "      <td> 1</td>\n",
       "      <td> 50.39</td>\n",
       "    </tr>\n",
       "    <tr>\n",
       "      <th>3</th>\n",
       "      <td> 16</td>\n",
       "      <td> 16</td>\n",
       "      <td>  19.25</td>\n",
       "      <td> NAVIGATE</td>\n",
       "      <td> started_navigation</td>\n",
       "      <td> 2</td>\n",
       "      <td> 2</td>\n",
       "      <td> 38.02</td>\n",
       "    </tr>\n",
       "    <tr>\n",
       "      <th>4</th>\n",
       "      <td> 20</td>\n",
       "      <td> 20</td>\n",
       "      <td>  90.26</td>\n",
       "      <td> NAVIGATE</td>\n",
       "      <td> started_navigation</td>\n",
       "      <td> 2</td>\n",
       "      <td> 2</td>\n",
       "      <td> 32.36</td>\n",
       "    </tr>\n",
       "  </tbody>\n",
       "</table>\n",
       "</div>"
      ],
      "text/plain": [
       "   level_0  index    time   command                  c3 subid  run  duration\n",
       "0        3      3   19.26  NAVIGATE  started_navigation     2    1     61.88\n",
       "1        7      7  114.14  NAVIGATE  started_navigation     2    1     27.93\n",
       "2       11     11  175.07  NAVIGATE  started_navigation     2    1     50.39\n",
       "3       16     16   19.25  NAVIGATE  started_navigation     2    2     38.02\n",
       "4       20     20   90.26  NAVIGATE  started_navigation     2    2     32.36"
      ]
     },
     "execution_count": 26,
     "metadata": {},
     "output_type": "execute_result"
    }
   ],
   "source": [
    "dp.head()"
   ]
  },
  {
   "cell_type": "code",
   "execution_count": 27,
   "metadata": {
    "collapsed": false
   },
   "outputs": [
    {
     "data": {
      "text/html": [
       "<div style=\"max-height:1000px;max-width:1500px;overflow:auto;\">\n",
       "<table border=\"1\" class=\"dataframe\">\n",
       "  <thead>\n",
       "    <tr style=\"text-align: right;\">\n",
       "      <th></th>\n",
       "      <th>level_0</th>\n",
       "      <th>index</th>\n",
       "      <th>time</th>\n",
       "      <th>command</th>\n",
       "      <th>c3</th>\n",
       "      <th>run</th>\n",
       "      <th>duration</th>\n",
       "    </tr>\n",
       "    <tr>\n",
       "      <th>subid</th>\n",
       "      <th></th>\n",
       "      <th></th>\n",
       "      <th></th>\n",
       "      <th></th>\n",
       "      <th></th>\n",
       "      <th></th>\n",
       "      <th></th>\n",
       "    </tr>\n",
       "  </thead>\n",
       "  <tbody>\n",
       "    <tr>\n",
       "      <th>11</th>\n",
       "      <td> 34</td>\n",
       "      <td> 34</td>\n",
       "      <td> 34</td>\n",
       "      <td> 34</td>\n",
       "      <td> 34</td>\n",
       "      <td> 34</td>\n",
       "      <td> 34</td>\n",
       "    </tr>\n",
       "    <tr>\n",
       "      <th>12</th>\n",
       "      <td> 36</td>\n",
       "      <td> 36</td>\n",
       "      <td> 36</td>\n",
       "      <td> 36</td>\n",
       "      <td> 36</td>\n",
       "      <td> 36</td>\n",
       "      <td> 36</td>\n",
       "    </tr>\n",
       "    <tr>\n",
       "      <th>2</th>\n",
       "      <td> 36</td>\n",
       "      <td> 36</td>\n",
       "      <td> 36</td>\n",
       "      <td> 36</td>\n",
       "      <td> 36</td>\n",
       "      <td> 36</td>\n",
       "      <td> 36</td>\n",
       "    </tr>\n",
       "    <tr>\n",
       "      <th>3</th>\n",
       "      <td> 36</td>\n",
       "      <td> 36</td>\n",
       "      <td> 36</td>\n",
       "      <td> 36</td>\n",
       "      <td> 36</td>\n",
       "      <td> 36</td>\n",
       "      <td> 36</td>\n",
       "    </tr>\n",
       "    <tr>\n",
       "      <th>4</th>\n",
       "      <td> 36</td>\n",
       "      <td> 36</td>\n",
       "      <td> 36</td>\n",
       "      <td> 36</td>\n",
       "      <td> 36</td>\n",
       "      <td> 36</td>\n",
       "      <td> 36</td>\n",
       "    </tr>\n",
       "    <tr>\n",
       "      <th>5</th>\n",
       "      <td> 36</td>\n",
       "      <td> 36</td>\n",
       "      <td> 36</td>\n",
       "      <td> 36</td>\n",
       "      <td> 36</td>\n",
       "      <td> 36</td>\n",
       "      <td> 36</td>\n",
       "    </tr>\n",
       "    <tr>\n",
       "      <th>6</th>\n",
       "      <td> 36</td>\n",
       "      <td> 36</td>\n",
       "      <td> 36</td>\n",
       "      <td> 36</td>\n",
       "      <td> 36</td>\n",
       "      <td> 36</td>\n",
       "      <td> 36</td>\n",
       "    </tr>\n",
       "    <tr>\n",
       "      <th>7</th>\n",
       "      <td> 36</td>\n",
       "      <td> 36</td>\n",
       "      <td> 36</td>\n",
       "      <td> 36</td>\n",
       "      <td> 36</td>\n",
       "      <td> 36</td>\n",
       "      <td> 36</td>\n",
       "    </tr>\n",
       "    <tr>\n",
       "      <th>9</th>\n",
       "      <td> 36</td>\n",
       "      <td> 36</td>\n",
       "      <td> 36</td>\n",
       "      <td> 36</td>\n",
       "      <td> 36</td>\n",
       "      <td> 36</td>\n",
       "      <td> 36</td>\n",
       "    </tr>\n",
       "  </tbody>\n",
       "</table>\n",
       "</div>"
      ],
      "text/plain": [
       "       level_0  index  time  command  c3  run  duration\n",
       "subid                                                  \n",
       "11          34     34    34       34  34   34        34\n",
       "12          36     36    36       36  36   36        36\n",
       "2           36     36    36       36  36   36        36\n",
       "3           36     36    36       36  36   36        36\n",
       "4           36     36    36       36  36   36        36\n",
       "5           36     36    36       36  36   36        36\n",
       "6           36     36    36       36  36   36        36\n",
       "7           36     36    36       36  36   36        36\n",
       "9           36     36    36       36  36   36        36"
      ]
     },
     "execution_count": 27,
     "metadata": {},
     "output_type": "execute_result"
    }
   ],
   "source": [
    "dp.groupby(by=['subid']).count()/4"
   ]
  },
  {
   "cell_type": "code",
   "execution_count": 28,
   "metadata": {
    "collapsed": false
   },
   "outputs": [
    {
     "data": {
      "text/plain": [
       "{'boxes': [<matplotlib.lines.Line2D at 0x13cff3110>],\n",
       " 'caps': [<matplotlib.lines.Line2D at 0x13cff3fd0>,\n",
       "  <matplotlib.lines.Line2D at 0x13d003650>],\n",
       " 'fliers': [<matplotlib.lines.Line2D at 0x13d00e310>],\n",
       " 'means': [],\n",
       " 'medians': [<matplotlib.lines.Line2D at 0x13d003c90>],\n",
       " 'whiskers': [<matplotlib.lines.Line2D at 0x112477710>,\n",
       "  <matplotlib.lines.Line2D at 0x13cff3990>]}"
      ]
     },
     "execution_count": 28,
     "metadata": {},
     "output_type": "execute_result"
    },
    {
     "data": {
      "image/png": "[encoded data removed]",
      "text/plain": [
       "<matplotlib.figure.Figure at 0x1122d1b50>"
      ]
     },
     "metadata": {},
     "output_type": "display_data"
    }
   ],
   "source": [
    "plt.boxplot(dp[(dp.command == 'NAVIGATE')].duration.values)"
   ]
  },
  {
   "cell_type": "code",
   "execution_count": 31,
   "metadata": {
    "collapsed": false
   },
   "outputs": [
    {
     "data": {
      "text/html": [
       "<div style=\"max-height:1000px;max-width:1500px;overflow:auto;\">\n",
       "<table border=\"1\" class=\"dataframe\">\n",
       "  <thead>\n",
       "    <tr style=\"text-align: right;\">\n",
       "      <th></th>\n",
       "      <th>level_0</th>\n",
       "      <th>index</th>\n",
       "      <th>time</th>\n",
       "      <th>command</th>\n",
       "      <th>c3</th>\n",
       "      <th>subid</th>\n",
       "      <th>run</th>\n",
       "      <th>duration</th>\n",
       "    </tr>\n",
       "  </thead>\n",
       "  <tbody>\n",
       "    <tr>\n",
       "      <th>0</th>\n",
       "      <td>  3</td>\n",
       "      <td>  3</td>\n",
       "      <td>  19.26</td>\n",
       "      <td> NAVIGATE</td>\n",
       "      <td> started_navigation</td>\n",
       "      <td> 2</td>\n",
       "      <td> 1</td>\n",
       "      <td> 61.88</td>\n",
       "    </tr>\n",
       "    <tr>\n",
       "      <th>1</th>\n",
       "      <td>  7</td>\n",
       "      <td>  7</td>\n",
       "      <td> 114.14</td>\n",
       "      <td> NAVIGATE</td>\n",
       "      <td> started_navigation</td>\n",
       "      <td> 2</td>\n",
       "      <td> 1</td>\n",
       "      <td> 27.93</td>\n",
       "    </tr>\n",
       "    <tr>\n",
       "      <th>2</th>\n",
       "      <td> 11</td>\n",
       "      <td> 11</td>\n",
       "      <td> 175.07</td>\n",
       "      <td> NAVIGATE</td>\n",
       "      <td> started_navigation</td>\n",
       "      <td> 2</td>\n",
       "      <td> 1</td>\n",
       "      <td> 50.39</td>\n",
       "    </tr>\n",
       "    <tr>\n",
       "      <th>3</th>\n",
       "      <td> 16</td>\n",
       "      <td> 16</td>\n",
       "      <td>  19.25</td>\n",
       "      <td> NAVIGATE</td>\n",
       "      <td> started_navigation</td>\n",
       "      <td> 2</td>\n",
       "      <td> 2</td>\n",
       "      <td> 38.02</td>\n",
       "    </tr>\n",
       "    <tr>\n",
       "      <th>4</th>\n",
       "      <td> 20</td>\n",
       "      <td> 20</td>\n",
       "      <td>  90.26</td>\n",
       "      <td> NAVIGATE</td>\n",
       "      <td> started_navigation</td>\n",
       "      <td> 2</td>\n",
       "      <td> 2</td>\n",
       "      <td> 32.36</td>\n",
       "    </tr>\n",
       "  </tbody>\n",
       "</table>\n",
       "</div>"
      ],
      "text/plain": [
       "   level_0  index    time   command                  c3 subid  run  duration\n",
       "0        3      3   19.26  NAVIGATE  started_navigation     2    1     61.88\n",
       "1        7      7  114.14  NAVIGATE  started_navigation     2    1     27.93\n",
       "2       11     11  175.07  NAVIGATE  started_navigation     2    1     50.39\n",
       "3       16     16   19.25  NAVIGATE  started_navigation     2    2     38.02\n",
       "4       20     20   90.26  NAVIGATE  started_navigation     2    2     32.36"
      ]
     },
     "execution_count": 31,
     "metadata": {},
     "output_type": "execute_result"
    }
   ],
   "source": [
    "dp[(dp.command == 'NAVIGATE')].head()"
   ]
  },
  {
   "cell_type": "markdown",
   "metadata": {},
   "source": [
    "#### Distribution of min navigation times"
   ]
  },
  {
   "cell_type": "code",
   "execution_count": 33,
   "metadata": {
    "collapsed": false
   },
   "outputs": [
    {
     "data": {
      "text/plain": [
       "{'boxes': [<matplotlib.lines.Line2D at 0x13cbd68d0>],\n",
       " 'caps': [<matplotlib.lines.Line2D at 0x13cbe27d0>,\n",
       "  <matplotlib.lines.Line2D at 0x13cbe2e10>],\n",
       " 'fliers': [<matplotlib.lines.Line2D at 0x13cbeead0>],\n",
       " 'means': [],\n",
       " 'medians': [<matplotlib.lines.Line2D at 0x13cbee490>],\n",
       " 'whiskers': [<matplotlib.lines.Line2D at 0x13cbd6ad0>,\n",
       "  <matplotlib.lines.Line2D at 0x13cbe2190>]}"
      ]
     },
     "execution_count": 33,
     "metadata": {},
     "output_type": "execute_result"
    },
    {
     "data": {
      "image/png": "[encoded data removed]",
      "text/plain": [
       "<matplotlib.figure.Figure at 0x13c9d4850>"
      ]
     },
     "metadata": {},
     "output_type": "display_data"
    }
   ],
   "source": [
    "plt.boxplot(dp[(dp.command == 'NAVIGATE')].groupby(['subid']).min().reset_index().duration.values)"
   ]
  },
  {
   "cell_type": "markdown",
   "metadata": {},
   "source": [
    "## Generate onsets "
   ]
  },
  {
   "cell_type": "code",
   "execution_count": 218,
   "metadata": {
    "collapsed": false
   },
   "outputs": [
    {
     "name": "stdout",
     "output_type": "stream",
     "text": [
      "2\n",
      "/Volumes/group/awagner/sgagnon/SST/data/sst02/design\n",
      "3\n",
      "/Volumes/group/awagner/sgagnon/SST/data/sst03/design\n",
      "4\n",
      "/Volumes/group/awagner/sgagnon/SST/data/sst04/design\n",
      "5\n",
      "/Volumes/group/awagner/sgagnon/SST/data/sst05/design\n",
      "6\n",
      "/Volumes/group/awagner/sgagnon/SST/data/sst06/design\n",
      "7\n",
      "/Volumes/group/awagner/sgagnon/SST/data/sst07/design\n",
      "9\n",
      "/Volumes/group/awagner/sgagnon/SST/data/sst09/design\n",
      "11\n",
      "/Volumes/group/awagner/sgagnon/SST/data/sst11/design\n"
     ]
    }
   ],
   "source": [
    "output_filename = 'nav_cond.csv'\n",
    "output_dir = '/Volumes/group/awagner/sgagnon/SST/data'\n",
    "\n",
    "for sub in subj_info.subid:\n",
    "    print sub\n",
    "    \n",
    "    dsub = dp[(dp.subid == sub)]\n",
    "    ddesign = pd.DataFrame({'run': dsub.run, \n",
    "                            'condition': dsub.command,\n",
    "                            'onset': dsub.time,\n",
    "                            'duration': dsub.duration,\n",
    "                            'value': 1})\n",
    "#     print ddesign\n",
    "    \n",
    "    if int(sub) < 10:\n",
    "        sub_output_dir = op.join(output_dir, 'sst0' + str(sub), 'design')\n",
    "    else:\n",
    "        sub_output_dir = op.join(output_dir, 'sst' + str(sub), 'design')\n",
    "        \n",
    "    print sub_output_dir\n",
    "    \n",
    "    if not os.path.exists(sub_output_dir):\n",
    "        os.makedirs(sub_output_dir)\n",
    "    \n",
    "    ddesign.to_csv(op.join(sub_output_dir, output_filename), index=False)"
   ]
  },
  {
   "cell_type": "code",
   "execution_count": null,
   "metadata": {
    "collapsed": true
   },
   "outputs": [],
   "source": []
  },
  {
   "cell_type": "code",
   "execution_count": null,
   "metadata": {
    "collapsed": true
   },
   "outputs": [],
   "source": []
  },
  {
   "cell_type": "code",
   "execution_count": null,
   "metadata": {
    "collapsed": true
   },
   "outputs": [],
   "source": []
  },
  {
   "cell_type": "code",
   "execution_count": null,
   "metadata": {
    "collapsed": true
   },
   "outputs": [],
   "source": []
  },
  {
   "cell_type": "markdown",
   "metadata": {},
   "source": [
    "## Plot environment"
   ]
  },
  {
   "cell_type": "code",
   "execution_count": 176,
   "metadata": {
    "collapsed": false
   },
   "outputs": [
    {
     "ename": "AttributeError",
     "evalue": "'DataFrame' object has no attribute 'env'",
     "output_type": "error",
     "traceback": [
      "\u001b[0;31m---------------------------------------------------------------------------\u001b[0m",
      "\u001b[0;31mAttributeError\u001b[0m                            Traceback (most recent call last)",
      "\u001b[0;32m<ipython-input-176-3dc3820ca83c>\u001b[0m in \u001b[0;36m<module>\u001b[0;34m()\u001b[0m\n\u001b[1;32m      2\u001b[0m     \u001b[0mplot_environment\u001b[0m\u001b[0;34m(\u001b[0m\u001b[0menv\u001b[0m\u001b[0;34m,\u001b[0m \u001b[0mdp\u001b[0m\u001b[0;34m,\u001b[0m \u001b[0mproj\u001b[0m\u001b[0;34m)\u001b[0m\u001b[0;34m\u001b[0m\u001b[0m\n\u001b[1;32m      3\u001b[0m \u001b[0;34m\u001b[0m\u001b[0m\n\u001b[0;32m----> 4\u001b[0;31m \u001b[0menv_opts\u001b[0m \u001b[0;34m=\u001b[0m \u001b[0mwidgets\u001b[0m\u001b[0;34m.\u001b[0m\u001b[0mDropdown\u001b[0m\u001b[0;34m(\u001b[0m\u001b[0moptions\u001b[0m\u001b[0;34m=\u001b[0m\u001b[0mlist\u001b[0m\u001b[0;34m(\u001b[0m\u001b[0mdp\u001b[0m\u001b[0;34m.\u001b[0m\u001b[0menv\u001b[0m\u001b[0;34m.\u001b[0m\u001b[0munique\u001b[0m\u001b[0;34m(\u001b[0m\u001b[0;34m)\u001b[0m\u001b[0;34m)\u001b[0m\u001b[0;34m)\u001b[0m\u001b[0;34m\u001b[0m\u001b[0m\n\u001b[0m\u001b[1;32m      5\u001b[0m \u001b[0;34m\u001b[0m\u001b[0m\n\u001b[1;32m      6\u001b[0m w = widgets.interact(plot_env, \n",
      "\u001b[0;32m/Users/sgagnon/anaconda/lib/python2.7/site-packages/pandas/core/generic.pyc\u001b[0m in \u001b[0;36m__getattr__\u001b[0;34m(self, name)\u001b[0m\n\u001b[1;32m   1945\u001b[0m                 \u001b[0;32mreturn\u001b[0m \u001b[0mself\u001b[0m\u001b[0;34m[\u001b[0m\u001b[0mname\u001b[0m\u001b[0;34m]\u001b[0m\u001b[0;34m\u001b[0m\u001b[0m\n\u001b[1;32m   1946\u001b[0m             raise AttributeError(\"'%s' object has no attribute '%s'\" %\n\u001b[0;32m-> 1947\u001b[0;31m                                  (type(self).__name__, name))\n\u001b[0m\u001b[1;32m   1948\u001b[0m \u001b[0;34m\u001b[0m\u001b[0m\n\u001b[1;32m   1949\u001b[0m     \u001b[0;32mdef\u001b[0m \u001b[0m__setattr__\u001b[0m\u001b[0;34m(\u001b[0m\u001b[0mself\u001b[0m\u001b[0;34m,\u001b[0m \u001b[0mname\u001b[0m\u001b[0;34m,\u001b[0m \u001b[0mvalue\u001b[0m\u001b[0;34m)\u001b[0m\u001b[0;34m:\u001b[0m\u001b[0;34m\u001b[0m\u001b[0m\n",
      "\u001b[0;31mAttributeError\u001b[0m: 'DataFrame' object has no attribute 'env'"
     ]
    }
   ],
   "source": [
    "def plot_env(env):\n",
    "    plot_environment(env, dp, proj)\n",
    "    \n",
    "env_opts = widgets.Dropdown(options=list(dp.env.unique()))\n",
    "\n",
    "w = widgets.interact(plot_env, \n",
    "                     env=env_opts)"
   ]
  },
  {
   "cell_type": "markdown",
   "metadata": {},
   "source": [
    "## Visualize paths "
   ]
  },
  {
   "cell_type": "code",
   "execution_count": 19,
   "metadata": {
    "collapsed": false
   },
   "outputs": [
    {
     "data": {
      "image/png": "[encoded data removed]",
      "text/plain": [
       "<matplotlib.figure.Figure at 0x10c4c7710>"
      ]
     },
     "metadata": {},
     "output_type": "display_data"
    }
   ],
   "source": [
    "def plot_sub(subj, env, test_trial):\n",
    "    plot_paths(env=env, subj=subj, \n",
    "           dp=dp[dp.test_trial == test_trial], \n",
    "           proj=proj)\n",
    "    \n",
    "subj_opts = widgets.Dropdown(options=list(dp.subid.unique()))\n",
    "env_opts = widgets.Dropdown(options=list(dp.env.unique()))\n",
    "test_opts = widgets.Dropdown(options=list(['training', 'test1', 'test2']))\n",
    "\n",
    "w = widgets.interact(plot_sub, \n",
    "                     subj=subj_opts, \n",
    "                     env=env_opts, \n",
    "                     test_trial=test_opts)"
   ]
  },
  {
   "cell_type": "code",
   "execution_count": null,
   "metadata": {
    "collapsed": true
   },
   "outputs": [],
   "source": []
  }
 ],
 "metadata": {
  "kernelspec": {
   "display_name": "Python 2",
   "language": "python",
   "name": "python2"
  },
  "language_info": {
   "codemirror_mode": {
    "name": "ipython",
    "version": 2
   },
   "file_extension": ".py",
   "mimetype": "text/x-python",
   "name": "python",
   "nbconvert_exporter": "python",
   "pygments_lexer": "ipython2",
   "version": "2.7.11"
  }
 },
 "nbformat": 4,
 "nbformat_minor": 0
}
