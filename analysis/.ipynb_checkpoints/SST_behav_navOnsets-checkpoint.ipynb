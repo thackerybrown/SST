{
 "cells": [
  {
   "cell_type": "markdown",
   "metadata": {},
   "source": [
    "# SST (Spatial Stress Test) Analysis"
   ]
  },
  {
   "cell_type": "markdown",
   "metadata": {},
   "source": [
    "fMRI Data Collected 2015-2016"
   ]
  },
  {
   "cell_type": "code",
   "execution_count": null,
   "metadata": {
    "collapsed": false
   },
   "outputs": [],
   "source": [
    "import pandas as pd\n",
    "import moss\n",
    "from scipy import stats\n",
    "import scipy as sp\n",
    "import seaborn as sns\n",
    "import numpy as np\n",
    "import matplotlib\n",
    "import matplotlib.pyplot as plt\n",
    "import os.path as op\n",
    "import re\n",
    "\n",
    "#widget ability\n",
    "from IPython.html.widgets import interact, interactive, fixed\n",
    "from IPython.html import widgets\n",
    "from IPython.display import clear_output, display, HTML\n",
    "\n",
    "import glob\n",
    "\n",
    "# Gather project info & functions\n",
    "from sst_setup_project import *\n",
    "\n",
    "# for plotting\n",
    "sns.set(style='whitegrid', context='poster')\n",
    "%matplotlib inline"
   ]
  },
  {
   "cell_type": "markdown",
   "metadata": {},
   "source": [
    "### Set up directories & exp-specific information"
   ]
  },
  {
   "cell_type": "code",
   "execution_count": null,
   "metadata": {
    "collapsed": false
   },
   "outputs": [],
   "source": [
    "dirs = dict()\n",
    "dirs['basedir'] = op.join(op.expanduser('~'), 'Experiments/SST')\n",
    "dirs['datadir'] = op.join(dirs['basedir'], 'data')\n",
    "dirs['analydir'] = op.join(dirs['basedir'], 'analysis')\n",
    "dirs['subj_info_file'] = op.join(dirs['datadir'], 'subj_info.csv')\n",
    "dirs['shortcut_file'] = op.join(dirs['datadir'], 'shortcut_coords.csv')\n",
    "dirs['navdir'] = '/Volumes/group/awagner/sgagnon/SST/nav_data'\n",
    "dirs['order_file'] = op.join(dirs['basedir'], 'data','SST_env_order.csv')"
   ]
  },
  {
   "cell_type": "code",
   "execution_count": null,
   "metadata": {
    "collapsed": false
   },
   "outputs": [],
   "source": [
    "proj = gather_experiment_info(exp_name='SST', dirs=dirs)"
   ]
  },
  {
   "cell_type": "markdown",
   "metadata": {},
   "source": [
    "### Read in subject information"
   ]
  },
  {
   "cell_type": "code",
   "execution_count": null,
   "metadata": {
    "collapsed": false
   },
   "outputs": [],
   "source": [
    "subj_info = pd.read_csv(dirs['subj_info_file'])\n",
    "subj_info = subj_info[pd.isnull(subj_info.remove)]\n",
    "subj_info[['subid']] = subj_info.subid.astype(str)\n",
    "subj_info"
   ]
  },
  {
   "cell_type": "code",
   "execution_count": null,
   "metadata": {
    "collapsed": false
   },
   "outputs": [],
   "source": [
    "shortcut_coords = pd.read_csv(dirs['shortcut_file'])\n",
    "shortcut_coords"
   ]
  },
  {
   "cell_type": "code",
   "execution_count": null,
   "metadata": {
    "collapsed": false
   },
   "outputs": [],
   "source": [
    "trial_order = pd.read_csv(dirs['order_file'])\n",
    "trial_order[['subid']] = trial_order[['subid']].astype(str)\n",
    "trial_order.head()"
   ]
  },
  {
   "cell_type": "code",
   "execution_count": null,
   "metadata": {
    "collapsed": false
   },
   "outputs": [],
   "source": [
    "len(trial_order.subid.unique())"
   ]
  },
  {
   "cell_type": "markdown",
   "metadata": {},
   "source": [
    "## Read in data files"
   ]
  },
  {
   "cell_type": "code",
   "execution_count": null,
   "metadata": {
    "collapsed": false
   },
   "outputs": [],
   "source": [
    "subj_info.subid"
   ]
  },
  {
   "cell_type": "code",
   "execution_count": null,
   "metadata": {
    "collapsed": false
   },
   "outputs": [],
   "source": [
    "df = pd.DataFrame() # dataframe of subjs x envs\n",
    "test = True\n",
    "questionnaires_shock  = False\n",
    "questionnaires_post  = False\n",
    "\n",
    "# iterate through subjects\n",
    "for subid in subj_info.subid:\n",
    "    print subid\n",
    "    \n",
    "    if test:\n",
    "        for run_num in range(1, 12+1):\n",
    "            # add test file\n",
    "            \n",
    "            if int(subid) < 10:\n",
    "                test_file = glob.glob(op.join(dirs['navdir'], 'sst0' + str(subid), 'run'+ str(run_num),\n",
    "                                      'session_*', 'log.txt'))[0]\n",
    "            else:\n",
    "                test_file = glob.glob(op.join(dirs['navdir'], 'sst' + str(subid), 'run'+ str(run_num),\n",
    "                                      'session_*', 'log.txt'))[0]    \n",
    "\n",
    "            output = []\n",
    "            with open(test_file) as f:\n",
    "                data = f.readlines()\n",
    "\n",
    "                for line in data:\n",
    "                    columns = re.split('\\t|\\r|\\n', line)\n",
    "                    output.append(columns)\n",
    "            d2 = pd.DataFrame(output, columns = ['time', 'c2', 'command', \n",
    "                                                 'c3', 'c4', 'c5', 'c6', 'c7', 'c8'])\n",
    "\n",
    "            # include subid and env\n",
    "            d2['subid'] = subid\n",
    "            d2['run'] = run_num\n",
    "\n",
    "            if run_num < 5:\n",
    "                d2['type'] = 'habit'\n",
    "            else:\n",
    "                d2['type'] = 'shortcut'\n",
    "            \n",
    "            # force time to be integer, subtract trigger time from each run\n",
    "            d2.time = d2.time.astype(int)\n",
    "            d2.time = d2.time - d2.loc[d2.command == 'SCAN', 'time'].values[0]\n",
    "            \n",
    "            # convert to seconds\n",
    "            d2.time = d2.time/1000\n",
    "            d2.time = d2.time - 8 # adjust for tossed volumes (4 TRs, 8 s (2s TR))\n",
    "\n",
    "            df = df.append(d2, ignore_index=True)\n",
    "\n",
    "# Compiled group data\n",
    "if questionnaires_shock:\n",
    "    q_file = op.join(dirs['basedir'], 'data/Quest/Questionnaires_shockblock_group.csv')\n",
    "    dq_shock = pd.read_csv(q_file, index_col=0)\n",
    "\n",
    "if questionnaires_post:\n",
    "    q_file = op.join(dirs['basedir'], 'data/Quest/Questionnaires_group.csv')\n",
    "    dq_post = pd.read_csv(q_file, index_col=0)\n",
    "    dq_post['subid'] = dq_post.subid.astype(str)"
   ]
  },
  {
   "cell_type": "markdown",
   "metadata": {},
   "source": [
    "## Look at data"
   ]
  },
  {
   "cell_type": "code",
   "execution_count": null,
   "metadata": {
    "collapsed": false
   },
   "outputs": [],
   "source": [
    "df.head()"
   ]
  },
  {
   "cell_type": "markdown",
   "metadata": {},
   "source": [
    "### Look at 2D position in space"
   ]
  },
  {
   "cell_type": "code",
   "execution_count": null,
   "metadata": {
    "collapsed": true
   },
   "outputs": [],
   "source": [
    "command_list = ['SCAN', 'ORIENT', 'ASSIGNED', 'NAVIGATE', 'ARRIVED']"
   ]
  },
  {
   "cell_type": "code",
   "execution_count": null,
   "metadata": {
    "collapsed": false
   },
   "outputs": [],
   "source": [
    "df.head()"
   ]
  },
  {
   "cell_type": "code",
   "execution_count": null,
   "metadata": {
    "collapsed": false
   },
   "outputs": [],
   "source": [
    "dp = df[df.command.isin(command_list)].reset_index()\n",
    "dp = dp.drop(['c2', 'c4', 'c5', 'c6', 'c7', 'c8', 'index'], 1) # remove unncessary cols\n",
    "dp.head()"
   ]
  },
  {
   "cell_type": "markdown",
   "metadata": {},
   "source": [
    "### Drop non-targets"
   ]
  },
  {
   "cell_type": "code",
   "execution_count": null,
   "metadata": {
    "collapsed": true
   },
   "outputs": [],
   "source": [
    "targets = ['zzz', 'Jim_Parsons', 'Beyonce', 'Paul_McCartney', \n",
    " 'Natalie_Portman', 'Benedict_Cumberbatch',\n",
    " 'Taylor_Swift', 'Katy_Perry', 'Johnny_Depp', \n",
    " 'Zooey_Deschanel', 'George_Clooney', 'Mark_Zuckerberg','Emma_Watson']\n"
   ]
  },
  {
   "cell_type": "code",
   "execution_count": null,
   "metadata": {
    "collapsed": false
   },
   "outputs": [],
   "source": [
    "dp = dp.drop(dp[(dp.command == \"ARRIVED\") & (~dp.c3.isin(targets))].index).reset_index()"
   ]
  },
  {
   "cell_type": "code",
   "execution_count": null,
   "metadata": {
    "collapsed": false
   },
   "outputs": [],
   "source": [
    "len(dp[dp.command == \"NAVIGATE\"].time)"
   ]
  },
  {
   "cell_type": "code",
   "execution_count": null,
   "metadata": {
    "collapsed": false
   },
   "outputs": [],
   "source": [
    "len(dp[dp.command == \"ARRIVED\"].time)"
   ]
  },
  {
   "cell_type": "code",
   "execution_count": null,
   "metadata": {
    "collapsed": false
   },
   "outputs": [],
   "source": [
    "pd.groupby(dp[dp.command == \"ARRIVED\"], by=['subid']).count()"
   ]
  },
  {
   "cell_type": "markdown",
   "metadata": {},
   "source": [
    "### Get indexes for navigated, and first arrived"
   ]
  },
  {
   "cell_type": "code",
   "execution_count": null,
   "metadata": {
    "collapsed": false
   },
   "outputs": [],
   "source": [
    "ind = np.concatenate((dp[(dp.command == \"NAVIGATE\")].index, \n",
    "                      dp[(dp.command == \"NAVIGATE\")].index + 1))"
   ]
  },
  {
   "cell_type": "code",
   "execution_count": null,
   "metadata": {
    "collapsed": false
   },
   "outputs": [],
   "source": [
    "dp.head()"
   ]
  },
  {
   "cell_type": "code",
   "execution_count": null,
   "metadata": {
    "collapsed": false
   },
   "outputs": [],
   "source": [
    "dp.loc[ind].groupby(by=['subid']).count()"
   ]
  },
  {
   "cell_type": "markdown",
   "metadata": {
    "collapsed": false
   },
   "source": [
    "Are these the same shape?"
   ]
  },
  {
   "cell_type": "code",
   "execution_count": null,
   "metadata": {
    "collapsed": false
   },
   "outputs": [],
   "source": [
    "dsub = dp.loc[ind]\n",
    "\n",
    "print dsub[dsub.command == \"NAVIGATE\"].shape\n",
    "print dsub[dsub.command == \"ARRIVED\"].shape"
   ]
  },
  {
   "cell_type": "code",
   "execution_count": null,
   "metadata": {
    "collapsed": false
   },
   "outputs": [],
   "source": [
    "nav_vals = dsub[dsub.command == \"NAVIGATE\"].subid.values\n",
    "arr_vals = dsub[dsub.command == \"ARRIVED\"].subid.values\n",
    "\n",
    "\n",
    "for x in np.arange(len(arr_vals)):\n",
    "    if nav_vals[x] != arr_vals[x]:\n",
    "        print nav_vals[x]"
   ]
  },
  {
   "cell_type": "code",
   "execution_count": null,
   "metadata": {
    "collapsed": false
   },
   "outputs": [],
   "source": [
    "nav_duration = dsub[dsub.command == \"ARRIVED\"].time.values - dsub[dsub.command == \"NAVIGATE\"].time.values\n",
    "len(nav_duration)"
   ]
  },
  {
   "cell_type": "code",
   "execution_count": null,
   "metadata": {
    "collapsed": false
   },
   "outputs": [],
   "source": [
    "dp['duration'] = 0\n",
    "dp.loc[dp.command == 'NAVIGATE', 'duration'] = nav_duration"
   ]
  },
  {
   "cell_type": "code",
   "execution_count": null,
   "metadata": {
    "collapsed": false
   },
   "outputs": [],
   "source": [
    "ind = np.concatenate((dp[(dp.command == \"NAVIGATE\")].index, \n",
    "                      dp[(dp.command == \"NAVIGATE\")].index + 1, #first arrived\n",
    "                      dp[(dp.command == \"ORIENT\")].index,\n",
    "                      dp[(dp.command == \"ASSIGNED\")].index))\n",
    "dp = dp.loc[ind].reset_index()"
   ]
  },
  {
   "cell_type": "code",
   "execution_count": null,
   "metadata": {
    "collapsed": true
   },
   "outputs": [],
   "source": [
    "dp.loc[dp.command == 'ORIENT', 'duration'] = 11\n",
    "dp.loc[dp.command == 'ASSIGNED', 'duration'] = 8\n",
    "dp.loc[dp.command == 'ARRIVED', 'duration'] = 1"
   ]
  },
  {
   "cell_type": "code",
   "execution_count": null,
   "metadata": {
    "collapsed": false
   },
   "outputs": [],
   "source": [
    "dp.head()"
   ]
  },
  {
   "cell_type": "code",
   "execution_count": null,
   "metadata": {
    "collapsed": false
   },
   "outputs": [],
   "source": [
    "dp.groupby(by=['subid']).count()/4"
   ]
  },
  {
   "cell_type": "code",
   "execution_count": null,
   "metadata": {
    "collapsed": false
   },
   "outputs": [],
   "source": [
    "plt.boxplot(dp[(dp.command == 'NAVIGATE')].duration.values)"
   ]
  },
  {
   "cell_type": "code",
   "execution_count": null,
   "metadata": {
    "collapsed": false
   },
   "outputs": [],
   "source": [
    "dpnavdur = dp[(dp.command == 'NAVIGATE')]\n",
    "dpnavdur.drop(['level_0', 'index', 'c3'], axis=1, inplace=True)\n",
    "dpnavdur.to_csv('/Volumes/group/awagner/sgagnon/SST/analysis/nav/group_nav_durations.csv', index=False)"
   ]
  },
  {
   "cell_type": "markdown",
   "metadata": {},
   "source": [
    "#### Distribution of min navigation times"
   ]
  },
  {
   "cell_type": "code",
   "execution_count": null,
   "metadata": {
    "collapsed": false
   },
   "outputs": [],
   "source": [
    "dp[(dp.command == 'NAVIGATE')].groupby(['subid']).min().reset_index().duration.values"
   ]
  },
  {
   "cell_type": "code",
   "execution_count": null,
   "metadata": {
    "collapsed": false
   },
   "outputs": [],
   "source": [
    "dp.head()"
   ]
  },
  {
   "cell_type": "markdown",
   "metadata": {},
   "source": [
    "## Add environment labels to df"
   ]
  },
  {
   "cell_type": "code",
   "execution_count": null,
   "metadata": {
    "collapsed": false
   },
   "outputs": [],
   "source": [
    "trial_order.head()"
   ]
  },
  {
   "cell_type": "code",
   "execution_count": null,
   "metadata": {
    "collapsed": false
   },
   "outputs": [],
   "source": [
    "dp.drop(['level_0', 'index'], axis=1, inplace=True)\n",
    "dp = dp.sort(columns=['subid', 'run', 'time']).reset_index()\n",
    "dp.head()"
   ]
  },
  {
   "cell_type": "code",
   "execution_count": null,
   "metadata": {
    "collapsed": false
   },
   "outputs": [],
   "source": [
    "orient_onsets = dp.loc[dp.command == 'ORIENT']\n",
    "orient_onsets.drop(['index'], axis=1, inplace=True)\n",
    "orient_onsets.head()"
   ]
  },
  {
   "cell_type": "code",
   "execution_count": null,
   "metadata": {
    "collapsed": false
   },
   "outputs": [],
   "source": [
    "orient_onsets['trial'] = 0 # init trial number\n",
    "\n",
    "for counter, ind in enumerate(orient_onsets.index):\n",
    "    if counter == 0: # first trial\n",
    "        first_ind = ind\n",
    "        orient_onsets.loc[ind, 'trial'] = 1\n",
    "        prev_ind = ind\n",
    "    else:\n",
    "        if orient_onsets.loc[ind, 'run'] == orient_onsets.loc[prev_ind, 'run']:\n",
    "            orient_onsets.loc[ind, 'trial'] = orient_onsets.loc[prev_ind, 'trial'] + 1\n",
    "            prev_ind = ind\n",
    "        else:\n",
    "            orient_onsets.loc[ind, 'trial'] = 1\n",
    "            prev_ind = ind"
   ]
  },
  {
   "cell_type": "code",
   "execution_count": null,
   "metadata": {
    "collapsed": false
   },
   "outputs": [],
   "source": [
    "orient_onsets.head()"
   ]
  },
  {
   "cell_type": "code",
   "execution_count": null,
   "metadata": {
    "collapsed": false
   },
   "outputs": [],
   "source": [
    "orient_onsets = orient_onsets.reset_index().merge(trial_order)\n",
    "orient_onsets.head()"
   ]
  },
  {
   "cell_type": "code",
   "execution_count": null,
   "metadata": {
    "collapsed": false
   },
   "outputs": [],
   "source": [
    "dp.head()"
   ]
  },
  {
   "cell_type": "code",
   "execution_count": null,
   "metadata": {
    "collapsed": false
   },
   "outputs": [],
   "source": [
    "dp['env'] = np.nan\n",
    "dp['rep'] = np.nan\n",
    "dp['trial'] = np.nan\n",
    "\n",
    "for i in orient_onsets.index:\n",
    "    index_val = orient_onsets.loc[i, 'index']\n",
    "    dp.loc[index_val, 'env'] = 'env' + orient_onsets.loc[i, 'env'].astype(str)\n",
    "    dp.loc[index_val, 'rep'] = orient_onsets.loc[i, 'rep']\n",
    "    dp.loc[index_val, 'trial'] = orient_onsets.loc[i, 'trial']\n",
    "\n",
    "dp.env.fillna(method='ffill', inplace=True)\n",
    "dp.rep.fillna(method='ffill', inplace=True)\n",
    "dp.trial.fillna(method='ffill', inplace=True)\n",
    "dp.head()"
   ]
  },
  {
   "cell_type": "code",
   "execution_count": null,
   "metadata": {
    "collapsed": false
   },
   "outputs": [],
   "source": [
    "print len('env' + orient_onsets.env.astype(str))\n",
    "print len(dp.loc[orient_onsets['index'], 'env'])"
   ]
  },
  {
   "cell_type": "markdown",
   "metadata": {},
   "source": [
    "## Generate onsets "
   ]
  },
  {
   "cell_type": "code",
   "execution_count": 43,
   "metadata": {
    "collapsed": false
   },
   "outputs": [
    {
     "name": "stdout",
     "output_type": "stream",
     "text": [
      "1\n",
      "/Volumes/group/awagner/sgagnon/SST/data/sst01/design\n",
      "2\n",
      "/Volumes/group/awagner/sgagnon/SST/data/sst02/design\n",
      "3\n",
      "/Volumes/group/awagner/sgagnon/SST/data/sst03/design\n",
      "4\n",
      "/Volumes/group/awagner/sgagnon/SST/data/sst04/design\n",
      "5\n",
      "/Volumes/group/awagner/sgagnon/SST/data/sst05/design\n",
      "6\n",
      "/Volumes/group/awagner/sgagnon/SST/data/sst06/design\n",
      "7\n",
      "/Volumes/group/awagner/sgagnon/SST/data/sst07/design\n",
      "9\n",
      "/Volumes/group/awagner/sgagnon/SST/data/sst09/design\n",
      "10\n",
      "/Volumes/group/awagner/sgagnon/SST/data/sst10/design\n",
      "11\n",
      "/Volumes/group/awagner/sgagnon/SST/data/sst11/design\n",
      "12\n",
      "/Volumes/group/awagner/sgagnon/SST/data/sst12/design\n",
      "13\n",
      "/Volumes/group/awagner/sgagnon/SST/data/sst13/design\n",
      "14\n",
      "/Volumes/group/awagner/sgagnon/SST/data/sst14/design\n",
      "15\n",
      "/Volumes/group/awagner/sgagnon/SST/data/sst15/design\n",
      "16\n",
      "/Volumes/group/awagner/sgagnon/SST/data/sst16/design\n",
      "18\n",
      "/Volumes/group/awagner/sgagnon/SST/data/sst18/design\n",
      "19\n",
      "/Volumes/group/awagner/sgagnon/SST/data/sst19/design\n"
     ]
    }
   ],
   "source": [
    "output_filename = 'nav_cond.csv'\n",
    "output_dir = '/Volumes/group/awagner/sgagnon/SST/data'\n",
    "\n",
    "for sub in subj_info.subid:\n",
    "    print sub\n",
    "    \n",
    "    dsub = dp[(dp.subid == sub)]\n",
    "    ddesign = pd.DataFrame({'run': dsub.run, \n",
    "                            'condition': dsub.command,\n",
    "                            'onset': dsub.time,\n",
    "                            'duration': dsub.duration,\n",
    "                            'value': 1})\n",
    "    \n",
    "    # model some things as impulse rather than boxcar:\n",
    "    ddesign.loc[ddesign.condition.isin(['ASSIGNED', 'ARRIVED']), 'duration'] = 0\n",
    "    \n",
    "    if int(sub) < 10:\n",
    "        sub_output_dir = op.join(output_dir, 'sst0' + str(sub), 'design')\n",
    "    else:\n",
    "        sub_output_dir = op.join(output_dir, 'sst' + str(sub), 'design')\n",
    "        \n",
    "    print sub_output_dir\n",
    "    \n",
    "    if not os.path.exists(sub_output_dir):\n",
    "        os.makedirs(sub_output_dir)\n",
    "    \n",
    "    ddesign.to_csv(op.join(sub_output_dir, output_filename), index=False)"
   ]
  },
  {
   "cell_type": "code",
   "execution_count": 44,
   "metadata": {
    "collapsed": false
   },
   "outputs": [
    {
     "data": {
      "text/html": [
       "<div>\n",
       "<table border=\"1\" class=\"dataframe\">\n",
       "  <thead>\n",
       "    <tr style=\"text-align: right;\">\n",
       "      <th></th>\n",
       "      <th>index</th>\n",
       "      <th>time</th>\n",
       "      <th>command</th>\n",
       "      <th>c3</th>\n",
       "      <th>subid</th>\n",
       "      <th>run</th>\n",
       "      <th>type</th>\n",
       "      <th>duration</th>\n",
       "      <th>env</th>\n",
       "      <th>rep</th>\n",
       "      <th>trial</th>\n",
       "    </tr>\n",
       "  </thead>\n",
       "  <tbody>\n",
       "    <tr>\n",
       "      <th>0</th>\n",
       "      <td>1218</td>\n",
       "      <td>0.278</td>\n",
       "      <td>ORIENT</td>\n",
       "      <td>oriented_to_env</td>\n",
       "      <td>1</td>\n",
       "      <td>1</td>\n",
       "      <td>habit</td>\n",
       "      <td>11.000</td>\n",
       "      <td>env1</td>\n",
       "      <td>1</td>\n",
       "      <td>1</td>\n",
       "    </tr>\n",
       "    <tr>\n",
       "      <th>1</th>\n",
       "      <td>1827</td>\n",
       "      <td>11.308</td>\n",
       "      <td>ASSIGNED</td>\n",
       "      <td>zzz</td>\n",
       "      <td>1</td>\n",
       "      <td>1</td>\n",
       "      <td>habit</td>\n",
       "      <td>8.000</td>\n",
       "      <td>env1</td>\n",
       "      <td>1</td>\n",
       "      <td>1</td>\n",
       "    </tr>\n",
       "    <tr>\n",
       "      <th>2</th>\n",
       "      <td>0</td>\n",
       "      <td>19.294</td>\n",
       "      <td>NAVIGATE</td>\n",
       "      <td>started_navigation</td>\n",
       "      <td>1</td>\n",
       "      <td>1</td>\n",
       "      <td>habit</td>\n",
       "      <td>49.284</td>\n",
       "      <td>env1</td>\n",
       "      <td>1</td>\n",
       "      <td>1</td>\n",
       "    </tr>\n",
       "    <tr>\n",
       "      <th>3</th>\n",
       "      <td>609</td>\n",
       "      <td>68.578</td>\n",
       "      <td>ARRIVED</td>\n",
       "      <td>zzz</td>\n",
       "      <td>1</td>\n",
       "      <td>1</td>\n",
       "      <td>habit</td>\n",
       "      <td>1.000</td>\n",
       "      <td>env1</td>\n",
       "      <td>1</td>\n",
       "      <td>1</td>\n",
       "    </tr>\n",
       "    <tr>\n",
       "      <th>4</th>\n",
       "      <td>1219</td>\n",
       "      <td>82.554</td>\n",
       "      <td>ORIENT</td>\n",
       "      <td>oriented_to_env</td>\n",
       "      <td>1</td>\n",
       "      <td>1</td>\n",
       "      <td>habit</td>\n",
       "      <td>11.000</td>\n",
       "      <td>env8</td>\n",
       "      <td>1</td>\n",
       "      <td>2</td>\n",
       "    </tr>\n",
       "  </tbody>\n",
       "</table>\n",
       "</div>"
      ],
      "text/plain": [
       "   index    time   command                  c3 subid  run   type  duration  \\\n",
       "0   1218   0.278    ORIENT     oriented_to_env     1    1  habit    11.000   \n",
       "1   1827  11.308  ASSIGNED                 zzz     1    1  habit     8.000   \n",
       "2      0  19.294  NAVIGATE  started_navigation     1    1  habit    49.284   \n",
       "3    609  68.578   ARRIVED                 zzz     1    1  habit     1.000   \n",
       "4   1219  82.554    ORIENT     oriented_to_env     1    1  habit    11.000   \n",
       "\n",
       "    env  rep  trial  \n",
       "0  env1    1      1  \n",
       "1  env1    1      1  \n",
       "2  env1    1      1  \n",
       "3  env1    1      1  \n",
       "4  env8    1      2  "
      ]
     },
     "execution_count": 44,
     "metadata": {},
     "output_type": "execute_result"
    }
   ],
   "source": [
    "dp.head()"
   ]
  },
  {
   "cell_type": "code",
   "execution_count": 45,
   "metadata": {
    "collapsed": false
   },
   "outputs": [
    {
     "name": "stdout",
     "output_type": "stream",
     "text": [
      "1\n",
      "/Volumes/group/awagner/sgagnon/SST/data/sst01/design\n",
      "2\n",
      "/Volumes/group/awagner/sgagnon/SST/data/sst02/design\n",
      "3\n",
      "/Volumes/group/awagner/sgagnon/SST/data/sst03/design\n",
      "4\n",
      "/Volumes/group/awagner/sgagnon/SST/data/sst04/design\n",
      "5\n",
      "/Volumes/group/awagner/sgagnon/SST/data/sst05/design\n",
      "6\n",
      "/Volumes/group/awagner/sgagnon/SST/data/sst06/design\n",
      "7\n",
      "/Volumes/group/awagner/sgagnon/SST/data/sst07/design\n",
      "9\n",
      "/Volumes/group/awagner/sgagnon/SST/data/sst09/design\n",
      "10\n",
      "/Volumes/group/awagner/sgagnon/SST/data/sst10/design\n",
      "11\n",
      "/Volumes/group/awagner/sgagnon/SST/data/sst11/design\n",
      "12\n",
      "/Volumes/group/awagner/sgagnon/SST/data/sst12/design\n",
      "13\n",
      "/Volumes/group/awagner/sgagnon/SST/data/sst13/design\n",
      "14\n",
      "/Volumes/group/awagner/sgagnon/SST/data/sst14/design\n",
      "15\n",
      "/Volumes/group/awagner/sgagnon/SST/data/sst15/design\n",
      "16\n",
      "/Volumes/group/awagner/sgagnon/SST/data/sst16/design\n",
      "18\n",
      "/Volumes/group/awagner/sgagnon/SST/data/sst18/design\n",
      "19\n",
      "/Volumes/group/awagner/sgagnon/SST/data/sst19/design\n"
     ]
    },
    {
     "name": "stderr",
     "output_type": "stream",
     "text": [
      "/Users/steph-backup/anaconda/lib/python2.7/site-packages/ipykernel/__main__.py:8: SettingWithCopyWarning: \n",
      "A value is trying to be set on a copy of a slice from a DataFrame.\n",
      "Try using .loc[row_indexer,col_indexer] = value instead\n",
      "\n",
      "See the caveats in the documentation: http://pandas.pydata.org/pandas-docs/stable/indexing.html#indexing-view-versus-copy\n"
     ]
    }
   ],
   "source": [
    "output_filename = 'nav_cond_byenv.csv'\n",
    "output_dir = '/Volumes/group/awagner/sgagnon/SST/data'\n",
    "\n",
    "for sub in subj_info.subid:\n",
    "    print sub\n",
    "    \n",
    "    dsub = dp[(dp.subid == sub)]\n",
    "    dsub['command_detailed'] = dsub.command + '_' + dsub['type'] + '_' + dsub.env + '_rep' + dsub.rep.map(int).map(str)\n",
    "    ddesign = pd.DataFrame({'run': dsub.run, \n",
    "                            'condition': dsub.command_detailed, \n",
    "                            'onset': dsub.time,\n",
    "                            'duration': dsub.duration,\n",
    "                            'value': 1})\n",
    "    \n",
    "    # model some things as impulse rather than boxcar:\n",
    "    ddesign.loc[ddesign.condition.isin(['ASSIGNED', 'ARRIVED']), 'duration'] = 0\n",
    "    \n",
    "    if int(sub) < 10:\n",
    "        sub_output_dir = op.join(output_dir, 'sst0' + str(sub), 'design')\n",
    "    else:\n",
    "        sub_output_dir = op.join(output_dir, 'sst' + str(sub), 'design')\n",
    "        \n",
    "    print sub_output_dir\n",
    "    \n",
    "    if not os.path.exists(sub_output_dir):\n",
    "        os.makedirs(sub_output_dir)\n",
    "    \n",
    "    ddesign.to_csv(op.join(sub_output_dir, output_filename), index=False)"
   ]
  },
  {
   "cell_type": "markdown",
   "metadata": {},
   "source": [
    "## If just modeling the \"orient\" period to remove that variance from model."
   ]
  },
  {
   "cell_type": "code",
   "execution_count": null,
   "metadata": {
    "collapsed": true
   },
   "outputs": [],
   "source": [
    "dp.loc[dp.condition == 'ORIENT']"
   ]
  },
  {
   "cell_type": "code",
   "execution_count": null,
   "metadata": {
    "collapsed": true
   },
   "outputs": [],
   "source": [
    "output_filename = 'nav_ORIENT.csv'\n",
    "output_dir = '/Volumes/group/awagner/sgagnon/SST/data'\n",
    "\n",
    "dp_orient = dp.loc[dp.condition == 'ORIENT']\n",
    "\n",
    "for sub in subj_info.subid:\n",
    "    print sub\n",
    "    \n",
    "    dsub = dp_orient[(dp_orient.subid == sub)]\n",
    "    ddesign = pd.DataFrame({'run': dsub.run, \n",
    "                            'condition': dsub.command,\n",
    "                            'onset': dsub.time,\n",
    "                            'duration': dsub.duration,\n",
    "                            'value': 1})\n",
    "        \n",
    "    if int(sub) < 10:\n",
    "        sub_output_dir = op.join(output_dir, 'sst0' + str(sub), 'design')\n",
    "    else:\n",
    "        sub_output_dir = op.join(output_dir, 'sst' + str(sub), 'design')\n",
    "        \n",
    "    print sub_output_dir\n",
    "    \n",
    "    if not os.path.exists(sub_output_dir):\n",
    "        os.makedirs(sub_output_dir)\n",
    "    \n",
    "    ddesign.to_csv(op.join(sub_output_dir, output_filename), index=False)"
   ]
  },
  {
   "cell_type": "code",
   "execution_count": null,
   "metadata": {
    "collapsed": true
   },
   "outputs": [],
   "source": []
  },
  {
   "cell_type": "code",
   "execution_count": null,
   "metadata": {
    "collapsed": true
   },
   "outputs": [],
   "source": []
  },
  {
   "cell_type": "code",
   "execution_count": null,
   "metadata": {
    "collapsed": true
   },
   "outputs": [],
   "source": []
  }
 ],
 "metadata": {
  "kernelspec": {
   "display_name": "Python 2",
   "language": "python",
   "name": "python2"
  },
  "language_info": {
   "codemirror_mode": {
    "name": "ipython",
    "version": 2
   },
   "file_extension": ".py",
   "mimetype": "text/x-python",
   "name": "python",
   "nbconvert_exporter": "python",
   "pygments_lexer": "ipython2",
   "version": "2.7.11"
  }
 },
 "nbformat": 4,
 "nbformat_minor": 0
}
