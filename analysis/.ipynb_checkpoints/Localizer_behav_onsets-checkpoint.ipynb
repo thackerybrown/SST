{
 "cells": [
  {
   "cell_type": "markdown",
   "metadata": {},
   "source": [
    "# Localizer Behavioral Data & Onset Generation"
   ]
  },
  {
   "cell_type": "code",
   "execution_count": 1,
   "metadata": {
    "collapsed": false
   },
   "outputs": [
    {
     "data": {
      "text/plain": [
       "Loading required package: lme4\n",
       "Loading required package: Matrix\n"
      ]
     },
     "metadata": {},
     "output_type": "display_data"
    },
    {
     "data": {
      "text/plain": [
       "Loading required package: lmerTest\n",
       "\n",
       "Attaching package: ‘lmerTest’\n",
       "\n",
       "The following object is masked from ‘package:lme4’:\n",
       "\n",
       "    lmer\n",
       "\n",
       "The following object is masked from ‘package:stats’:\n",
       "\n",
       "    step\n",
       "\n"
      ]
     },
     "metadata": {},
     "output_type": "display_data"
    }
   ],
   "source": [
    "import pandas as pd\n",
    "import moss\n",
    "from scipy import stats\n",
    "import scipy as sp\n",
    "import seaborn as sns\n",
    "import numpy as np\n",
    "import matplotlib\n",
    "import matplotlib.pyplot as plt\n",
    "import os.path as op\n",
    "import os\n",
    "\n",
    "# for plotting\n",
    "sns.set(style='whitegrid', context='poster')\n",
    "%matplotlib inline\n",
    "\n",
    "# R for stats\n",
    "%load_ext rpy2.ipython\n",
    "%R require(lme4)\n",
    "%R require(lmerTest)"
   ]
  },
  {
   "cell_type": "markdown",
   "metadata": {},
   "source": [
    "## Gather experiment info"
   ]
  },
  {
   "cell_type": "code",
   "execution_count": 2,
   "metadata": {
    "collapsed": false
   },
   "outputs": [],
   "source": [
    "dirs = dict()\n",
    "dirs['basedir'] = op.join(op.expanduser('~'), 'Experiments/SST')\n",
    "dirs['datadir'] = op.join(dirs['basedir'], 'data/')\n",
    "dirs['analydir'] = op.join(dirs['basedir'], 'analysis')\n",
    "dirs['subj_info_file'] = op.join(dirs['datadir'], 'subj_info.csv')"
   ]
  },
  {
   "cell_type": "code",
   "execution_count": 3,
   "metadata": {
    "collapsed": false
   },
   "outputs": [
    {
     "data": {
      "text/html": [
       "<div style=\"max-height:1000px;max-width:1500px;overflow:auto;\">\n",
       "<table border=\"1\" class=\"dataframe\">\n",
       "  <thead>\n",
       "    <tr style=\"text-align: right;\">\n",
       "      <th></th>\n",
       "      <th>subid</th>\n",
       "      <th>group</th>\n",
       "      <th>remove</th>\n",
       "    </tr>\n",
       "  </thead>\n",
       "  <tbody>\n",
       "    <tr>\n",
       "      <th>0</th>\n",
       "      <td> 1</td>\n",
       "      <td> control</td>\n",
       "      <td>NaN</td>\n",
       "    </tr>\n",
       "  </tbody>\n",
       "</table>\n",
       "</div>"
      ],
      "text/plain": [
       "   subid    group  remove\n",
       "0      1  control     NaN"
      ]
     },
     "execution_count": 3,
     "metadata": {},
     "output_type": "execute_result"
    }
   ],
   "source": [
    "subj_info = pd.read_csv(dirs['subj_info_file'])\n",
    "subj_info = subj_info[pd.isnull(subj_info.remove)]\n",
    "subj_info"
   ]
  },
  {
   "cell_type": "markdown",
   "metadata": {},
   "source": [
    "## Load in data"
   ]
  },
  {
   "cell_type": "code",
   "execution_count": 4,
   "metadata": {
    "collapsed": false
   },
   "outputs": [
    {
     "name": "stdout",
     "output_type": "stream",
     "text": [
      "1\n"
     ]
    }
   ],
   "source": [
    "dl = pd.DataFrame()\n",
    "\n",
    "for subid in subj_info.subid:\n",
    "    print subid\n",
    "    \n",
    "    # add study file\n",
    "    study_file = op.join(dirs['datadir'], str(subid), str(subid) + '_behav_localizer.csv')\n",
    "    d = pd.read_csv(study_file)\n",
    "    d['subid'] = subid\n",
    "    dl = dl.append(d, ignore_index=True)\n",
    "    \n",
    "# Merge with subj_info\n",
    "dl = dl.merge(subj_info, on='subid', how='outer')"
   ]
  },
  {
   "cell_type": "code",
   "execution_count": 5,
   "metadata": {
    "collapsed": false
   },
   "outputs": [
    {
     "data": {
      "text/html": [
       "<div style=\"max-height:1000px;max-width:1500px;overflow:auto;\">\n",
       "<table border=\"1\" class=\"dataframe\">\n",
       "  <thead>\n",
       "    <tr style=\"text-align: right;\">\n",
       "      <th></th>\n",
       "      <th>index</th>\n",
       "      <th>run</th>\n",
       "      <th>trial</th>\n",
       "      <th>onset</th>\n",
       "      <th>duration</th>\n",
       "      <th>cond</th>\n",
       "      <th>rep</th>\n",
       "      <th>resp</th>\n",
       "      <th>acc</th>\n",
       "      <th>respRT</th>\n",
       "      <th>ISIresp</th>\n",
       "      <th>ISIacc</th>\n",
       "      <th>ISIrespRT</th>\n",
       "      <th>subid</th>\n",
       "      <th>group</th>\n",
       "      <th>remove</th>\n",
       "    </tr>\n",
       "  </thead>\n",
       "  <tbody>\n",
       "    <tr>\n",
       "      <th>0</th>\n",
       "      <td> 1</td>\n",
       "      <td> 1</td>\n",
       "      <td> 1</td>\n",
       "      <td> 12.0024</td>\n",
       "      <td> 1.5982</td>\n",
       "      <td> tool</td>\n",
       "      <td> 0</td>\n",
       "      <td> NR</td>\n",
       "      <td> 0</td>\n",
       "      <td> 999.0000</td>\n",
       "      <td> NR</td>\n",
       "      <td> 0</td>\n",
       "      <td> 999.0000</td>\n",
       "      <td> 1</td>\n",
       "      <td> control</td>\n",
       "      <td>NaN</td>\n",
       "    </tr>\n",
       "    <tr>\n",
       "      <th>1</th>\n",
       "      <td> 2</td>\n",
       "      <td> 1</td>\n",
       "      <td> 2</td>\n",
       "      <td> 13.6023</td>\n",
       "      <td> 1.5982</td>\n",
       "      <td> tool</td>\n",
       "      <td> 0</td>\n",
       "      <td>  0</td>\n",
       "      <td> 1</td>\n",
       "      <td>   0.5790</td>\n",
       "      <td> NR</td>\n",
       "      <td> 0</td>\n",
       "      <td> 999.0000</td>\n",
       "      <td> 1</td>\n",
       "      <td> control</td>\n",
       "      <td>NaN</td>\n",
       "    </tr>\n",
       "    <tr>\n",
       "      <th>2</th>\n",
       "      <td> 3</td>\n",
       "      <td> 1</td>\n",
       "      <td> 3</td>\n",
       "      <td> 15.2007</td>\n",
       "      <td> 1.5998</td>\n",
       "      <td> tool</td>\n",
       "      <td> 1</td>\n",
       "      <td> NR</td>\n",
       "      <td> 0</td>\n",
       "      <td> 999.0000</td>\n",
       "      <td>  1</td>\n",
       "      <td> 1</td>\n",
       "      <td>   0.1555</td>\n",
       "      <td> 1</td>\n",
       "      <td> control</td>\n",
       "      <td>NaN</td>\n",
       "    </tr>\n",
       "    <tr>\n",
       "      <th>3</th>\n",
       "      <td> 4</td>\n",
       "      <td> 1</td>\n",
       "      <td> 4</td>\n",
       "      <td> 16.8008</td>\n",
       "      <td> 1.6003</td>\n",
       "      <td> tool</td>\n",
       "      <td> 0</td>\n",
       "      <td>  0</td>\n",
       "      <td> 1</td>\n",
       "      <td>   0.4888</td>\n",
       "      <td> NR</td>\n",
       "      <td> 0</td>\n",
       "      <td>   0.5864</td>\n",
       "      <td> 1</td>\n",
       "      <td> control</td>\n",
       "      <td>NaN</td>\n",
       "    </tr>\n",
       "    <tr>\n",
       "      <th>4</th>\n",
       "      <td> 5</td>\n",
       "      <td> 1</td>\n",
       "      <td> 5</td>\n",
       "      <td> 18.4012</td>\n",
       "      <td> 1.5996</td>\n",
       "      <td> tool</td>\n",
       "      <td> 0</td>\n",
       "      <td>  0</td>\n",
       "      <td> 1</td>\n",
       "      <td>   0.5235</td>\n",
       "      <td> NR</td>\n",
       "      <td> 0</td>\n",
       "      <td> 999.0000</td>\n",
       "      <td> 1</td>\n",
       "      <td> control</td>\n",
       "      <td>NaN</td>\n",
       "    </tr>\n",
       "  </tbody>\n",
       "</table>\n",
       "</div>"
      ],
      "text/plain": [
       "   index  run  trial    onset  duration  cond  rep resp  acc    respRT  \\\n",
       "0      1    1      1  12.0024    1.5982  tool    0   NR    0  999.0000   \n",
       "1      2    1      2  13.6023    1.5982  tool    0    0    1    0.5790   \n",
       "2      3    1      3  15.2007    1.5998  tool    1   NR    0  999.0000   \n",
       "3      4    1      4  16.8008    1.6003  tool    0    0    1    0.4888   \n",
       "4      5    1      5  18.4012    1.5996  tool    0    0    1    0.5235   \n",
       "\n",
       "  ISIresp  ISIacc  ISIrespRT  subid    group  remove  \n",
       "0      NR       0   999.0000      1  control     NaN  \n",
       "1      NR       0   999.0000      1  control     NaN  \n",
       "2       1       1     0.1555      1  control     NaN  \n",
       "3      NR       0     0.5864      1  control     NaN  \n",
       "4      NR       0   999.0000      1  control     NaN  "
      ]
     },
     "execution_count": 5,
     "metadata": {},
     "output_type": "execute_result"
    }
   ],
   "source": [
    "dl.head()"
   ]
  },
  {
   "cell_type": "code",
   "execution_count": 6,
   "metadata": {
    "collapsed": false
   },
   "outputs": [
    {
     "data": {
      "text/plain": [
       "group\n",
       "control    1\n",
       "Name: subid, dtype: int64"
      ]
     },
     "execution_count": 6,
     "metadata": {},
     "output_type": "execute_result"
    }
   ],
   "source": [
    "dl.groupby(['subid', 'group']).mean().reset_index().groupby('group').count().subid"
   ]
  },
  {
   "cell_type": "markdown",
   "metadata": {},
   "source": [
    "### Deal with no responses (NR): Set ISI resp as resp"
   ]
  },
  {
   "cell_type": "code",
   "execution_count": 7,
   "metadata": {
    "collapsed": false
   },
   "outputs": [
    {
     "name": "stderr",
     "output_type": "stream",
     "text": [
      "/Users/sgagnon/anaconda/lib/python2.7/site-packages/IPython/kernel/__main__.py:1: SettingWithCopyWarning: \n",
      "A value is trying to be set on a copy of a slice from a DataFrame\n",
      "\n",
      "See the the caveats in the documentation: http://pandas.pydata.org/pandas-docs/stable/indexing.html#indexing-view-versus-copy\n",
      "  if __name__ == '__main__':\n",
      "/Users/sgagnon/anaconda/lib/python2.7/site-packages/IPython/kernel/__main__.py:2: SettingWithCopyWarning: \n",
      "A value is trying to be set on a copy of a slice from a DataFrame\n",
      "\n",
      "See the the caveats in the documentation: http://pandas.pydata.org/pandas-docs/stable/indexing.html#indexing-view-versus-copy\n",
      "  from IPython.kernel.zmq import kernelapp as app\n",
      "/Users/sgagnon/anaconda/lib/python2.7/site-packages/IPython/kernel/__main__.py:3: SettingWithCopyWarning: \n",
      "A value is trying to be set on a copy of a slice from a DataFrame\n",
      "\n",
      "See the the caveats in the documentation: http://pandas.pydata.org/pandas-docs/stable/indexing.html#indexing-view-versus-copy\n",
      "  app.launch_new_instance()\n"
     ]
    }
   ],
   "source": [
    "dl.respRT[dl.resp == 'NR'] = dl.ISIrespRT[dl.resp == 'NR'] + .6 # adjust for stimTime\n",
    "dl.acc[dl.resp == 'NR'] = dl.ISIacc[dl.resp == 'NR']\n",
    "dl.resp[dl.resp == 'NR'] = dl.ISIresp[dl.resp == 'NR']\n",
    "\n",
    "drop_cols = ['ISIrespRT', 'ISIresp', 'ISIacc', 'remove', 'index']\n",
    "dl.drop(drop_cols, 1, inplace=True)\n",
    "\n",
    "# Correct duration of image trials by subtracting ITI (1s fix)\n",
    "dl['duration_adj'] = dl.duration\n",
    "dl.ix[dl.cond != 'rest', 'duration_adj'] = dl.ix[dl.cond != 'rest', 'duration_adj'] - 1 # subtract ITI"
   ]
  },
  {
   "cell_type": "code",
   "execution_count": 8,
   "metadata": {
    "collapsed": false
   },
   "outputs": [
    {
     "data": {
      "text/html": [
       "<div style=\"max-height:1000px;max-width:1500px;overflow:auto;\">\n",
       "<table border=\"1\" class=\"dataframe\">\n",
       "  <thead>\n",
       "    <tr style=\"text-align: right;\">\n",
       "      <th></th>\n",
       "      <th>run</th>\n",
       "      <th>trial</th>\n",
       "      <th>onset</th>\n",
       "      <th>duration</th>\n",
       "      <th>cond</th>\n",
       "      <th>rep</th>\n",
       "      <th>resp</th>\n",
       "      <th>acc</th>\n",
       "      <th>respRT</th>\n",
       "      <th>subid</th>\n",
       "      <th>group</th>\n",
       "      <th>duration_adj</th>\n",
       "    </tr>\n",
       "  </thead>\n",
       "  <tbody>\n",
       "    <tr>\n",
       "      <th>0</th>\n",
       "      <td> 1</td>\n",
       "      <td> 1</td>\n",
       "      <td> 12.0024</td>\n",
       "      <td> 1.5982</td>\n",
       "      <td> tool</td>\n",
       "      <td> 0</td>\n",
       "      <td> NR</td>\n",
       "      <td> 0</td>\n",
       "      <td> 999.6000</td>\n",
       "      <td> 1</td>\n",
       "      <td> control</td>\n",
       "      <td> 0.5982</td>\n",
       "    </tr>\n",
       "    <tr>\n",
       "      <th>1</th>\n",
       "      <td> 1</td>\n",
       "      <td> 2</td>\n",
       "      <td> 13.6023</td>\n",
       "      <td> 1.5982</td>\n",
       "      <td> tool</td>\n",
       "      <td> 0</td>\n",
       "      <td>  0</td>\n",
       "      <td> 1</td>\n",
       "      <td>   0.5790</td>\n",
       "      <td> 1</td>\n",
       "      <td> control</td>\n",
       "      <td> 0.5982</td>\n",
       "    </tr>\n",
       "    <tr>\n",
       "      <th>2</th>\n",
       "      <td> 1</td>\n",
       "      <td> 3</td>\n",
       "      <td> 15.2007</td>\n",
       "      <td> 1.5998</td>\n",
       "      <td> tool</td>\n",
       "      <td> 1</td>\n",
       "      <td>  1</td>\n",
       "      <td> 1</td>\n",
       "      <td>   0.7555</td>\n",
       "      <td> 1</td>\n",
       "      <td> control</td>\n",
       "      <td> 0.5998</td>\n",
       "    </tr>\n",
       "    <tr>\n",
       "      <th>3</th>\n",
       "      <td> 1</td>\n",
       "      <td> 4</td>\n",
       "      <td> 16.8008</td>\n",
       "      <td> 1.6003</td>\n",
       "      <td> tool</td>\n",
       "      <td> 0</td>\n",
       "      <td>  0</td>\n",
       "      <td> 1</td>\n",
       "      <td>   0.4888</td>\n",
       "      <td> 1</td>\n",
       "      <td> control</td>\n",
       "      <td> 0.6003</td>\n",
       "    </tr>\n",
       "    <tr>\n",
       "      <th>4</th>\n",
       "      <td> 1</td>\n",
       "      <td> 5</td>\n",
       "      <td> 18.4012</td>\n",
       "      <td> 1.5996</td>\n",
       "      <td> tool</td>\n",
       "      <td> 0</td>\n",
       "      <td>  0</td>\n",
       "      <td> 1</td>\n",
       "      <td>   0.5235</td>\n",
       "      <td> 1</td>\n",
       "      <td> control</td>\n",
       "      <td> 0.5996</td>\n",
       "    </tr>\n",
       "  </tbody>\n",
       "</table>\n",
       "</div>"
      ],
      "text/plain": [
       "   run  trial    onset  duration  cond  rep resp  acc    respRT  subid  \\\n",
       "0    1      1  12.0024    1.5982  tool    0   NR    0  999.6000      1   \n",
       "1    1      2  13.6023    1.5982  tool    0    0    1    0.5790      1   \n",
       "2    1      3  15.2007    1.5998  tool    1    1    1    0.7555      1   \n",
       "3    1      4  16.8008    1.6003  tool    0    0    1    0.4888      1   \n",
       "4    1      5  18.4012    1.5996  tool    0    0    1    0.5235      1   \n",
       "\n",
       "     group  duration_adj  \n",
       "0  control        0.5982  \n",
       "1  control        0.5982  \n",
       "2  control        0.5998  \n",
       "3  control        0.6003  \n",
       "4  control        0.5996  "
      ]
     },
     "execution_count": 8,
     "metadata": {},
     "output_type": "execute_result"
    }
   ],
   "source": [
    "dl.head()"
   ]
  },
  {
   "cell_type": "markdown",
   "metadata": {},
   "source": [
    "### Remove time for lead-in (12 s)"
   ]
  },
  {
   "cell_type": "code",
   "execution_count": 9,
   "metadata": {
    "collapsed": false
   },
   "outputs": [
    {
     "data": {
      "text/html": [
       "<div style=\"max-height:1000px;max-width:1500px;overflow:auto;\">\n",
       "<table border=\"1\" class=\"dataframe\">\n",
       "  <thead>\n",
       "    <tr style=\"text-align: right;\">\n",
       "      <th></th>\n",
       "      <th>run</th>\n",
       "      <th>trial</th>\n",
       "      <th>onset</th>\n",
       "      <th>duration</th>\n",
       "      <th>cond</th>\n",
       "      <th>rep</th>\n",
       "      <th>resp</th>\n",
       "      <th>acc</th>\n",
       "      <th>respRT</th>\n",
       "      <th>subid</th>\n",
       "      <th>group</th>\n",
       "      <th>duration_adj</th>\n",
       "      <th>onset_adj</th>\n",
       "    </tr>\n",
       "  </thead>\n",
       "  <tbody>\n",
       "    <tr>\n",
       "      <th>0</th>\n",
       "      <td> 1</td>\n",
       "      <td> 1</td>\n",
       "      <td> 12.0024</td>\n",
       "      <td> 1.5982</td>\n",
       "      <td> tool</td>\n",
       "      <td> 0</td>\n",
       "      <td> NR</td>\n",
       "      <td> 0</td>\n",
       "      <td> 999.6000</td>\n",
       "      <td> 1</td>\n",
       "      <td> control</td>\n",
       "      <td> 0.5982</td>\n",
       "      <td> 0.0024</td>\n",
       "    </tr>\n",
       "    <tr>\n",
       "      <th>1</th>\n",
       "      <td> 1</td>\n",
       "      <td> 2</td>\n",
       "      <td> 13.6023</td>\n",
       "      <td> 1.5982</td>\n",
       "      <td> tool</td>\n",
       "      <td> 0</td>\n",
       "      <td>  0</td>\n",
       "      <td> 1</td>\n",
       "      <td>   0.5790</td>\n",
       "      <td> 1</td>\n",
       "      <td> control</td>\n",
       "      <td> 0.5982</td>\n",
       "      <td> 1.6023</td>\n",
       "    </tr>\n",
       "    <tr>\n",
       "      <th>2</th>\n",
       "      <td> 1</td>\n",
       "      <td> 3</td>\n",
       "      <td> 15.2007</td>\n",
       "      <td> 1.5998</td>\n",
       "      <td> tool</td>\n",
       "      <td> 1</td>\n",
       "      <td>  1</td>\n",
       "      <td> 1</td>\n",
       "      <td>   0.7555</td>\n",
       "      <td> 1</td>\n",
       "      <td> control</td>\n",
       "      <td> 0.5998</td>\n",
       "      <td> 3.2007</td>\n",
       "    </tr>\n",
       "    <tr>\n",
       "      <th>3</th>\n",
       "      <td> 1</td>\n",
       "      <td> 4</td>\n",
       "      <td> 16.8008</td>\n",
       "      <td> 1.6003</td>\n",
       "      <td> tool</td>\n",
       "      <td> 0</td>\n",
       "      <td>  0</td>\n",
       "      <td> 1</td>\n",
       "      <td>   0.4888</td>\n",
       "      <td> 1</td>\n",
       "      <td> control</td>\n",
       "      <td> 0.6003</td>\n",
       "      <td> 4.8008</td>\n",
       "    </tr>\n",
       "    <tr>\n",
       "      <th>4</th>\n",
       "      <td> 1</td>\n",
       "      <td> 5</td>\n",
       "      <td> 18.4012</td>\n",
       "      <td> 1.5996</td>\n",
       "      <td> tool</td>\n",
       "      <td> 0</td>\n",
       "      <td>  0</td>\n",
       "      <td> 1</td>\n",
       "      <td>   0.5235</td>\n",
       "      <td> 1</td>\n",
       "      <td> control</td>\n",
       "      <td> 0.5996</td>\n",
       "      <td> 6.4012</td>\n",
       "    </tr>\n",
       "  </tbody>\n",
       "</table>\n",
       "</div>"
      ],
      "text/plain": [
       "   run  trial    onset  duration  cond  rep resp  acc    respRT  subid  \\\n",
       "0    1      1  12.0024    1.5982  tool    0   NR    0  999.6000      1   \n",
       "1    1      2  13.6023    1.5982  tool    0    0    1    0.5790      1   \n",
       "2    1      3  15.2007    1.5998  tool    1    1    1    0.7555      1   \n",
       "3    1      4  16.8008    1.6003  tool    0    0    1    0.4888      1   \n",
       "4    1      5  18.4012    1.5996  tool    0    0    1    0.5235      1   \n",
       "\n",
       "     group  duration_adj  onset_adj  \n",
       "0  control        0.5982     0.0024  \n",
       "1  control        0.5982     1.6023  \n",
       "2  control        0.5998     3.2007  \n",
       "3  control        0.6003     4.8008  \n",
       "4  control        0.5996     6.4012  "
      ]
     },
     "execution_count": 9,
     "metadata": {},
     "output_type": "execute_result"
    }
   ],
   "source": [
    "dl['onset_adj'] = dl.onset - 12\n",
    "dl.head()"
   ]
  },
  {
   "cell_type": "code",
   "execution_count": 18,
   "metadata": {
    "collapsed": false
   },
   "outputs": [
    {
     "data": {
      "text/plain": [
       "<matplotlib.axes.AxesSubplot at 0x1152c2310>"
      ]
     },
     "execution_count": 18,
     "metadata": {},
     "output_type": "execute_result"
    },
    {
     "data": {
      "image/png": "[encoded data removed]",
      "text/plain": [
       "<matplotlib.figure.Figure at 0x10ef527d0>"
      ]
     },
     "metadata": {},
     "output_type": "display_data"
    }
   ],
   "source": [
    "f = plt.figure(figsize=(10,3))\n",
    "ax = f.add_subplot(111)\n",
    "sns.distplot(dl[dl.duration_adj < 5].duration_adj, ax=ax)"
   ]
  },
  {
   "cell_type": "code",
   "execution_count": 19,
   "metadata": {
    "collapsed": false
   },
   "outputs": [
    {
     "data": {
      "text/plain": [
       "<matplotlib.axes.AxesSubplot at 0x14584b1d0>"
      ]
     },
     "execution_count": 19,
     "metadata": {},
     "output_type": "execute_result"
    },
    {
     "data": {
      "image/png": "[encoded data removed]",
      "text/plain": [
       "<matplotlib.figure.Figure at 0x10ee97e10>"
      ]
     },
     "metadata": {},
     "output_type": "display_data"
    }
   ],
   "source": [
    "f = plt.figure(figsize=(10,3))\n",
    "ax = f.add_subplot(111)\n",
    "sns.distplot(dl[dl.duration_adj > 5].duration, ax=ax)"
   ]
  },
  {
   "cell_type": "markdown",
   "metadata": {},
   "source": [
    "## Analyze RTs"
   ]
  },
  {
   "cell_type": "code",
   "execution_count": 20,
   "metadata": {
    "collapsed": false
   },
   "outputs": [
    {
     "data": {
      "text/plain": [
       "<seaborn.axisgrid.FacetGrid at 0x1460b37d0>"
      ]
     },
     "execution_count": 20,
     "metadata": {},
     "output_type": "execute_result"
    },
    {
     "data": {
      "image/png": "[encoded data removed]",
      "text/plain": [
       "<matplotlib.figure.Figure at 0x1460b3950>"
      ]
     },
     "metadata": {},
     "output_type": "display_data"
    }
   ],
   "source": [
    "dl_resp = dl[(dl.resp != 'NR') & (dl.cond != 'rest')]\n",
    "means = dl_resp.groupby(['subid', 'group', 'cond', 'rep', 'acc']).mean().reset_index()\n",
    "\n",
    "sns.factorplot(x='cond', hue='acc', y='respRT', col='group',\n",
    "               units='subid', ci=68, dodge=.1,\n",
    "               data=means, aspect=2)"
   ]
  },
  {
   "cell_type": "markdown",
   "metadata": {},
   "source": [
    "## Analyze Accuracy"
   ]
  },
  {
   "cell_type": "code",
   "execution_count": 21,
   "metadata": {
    "collapsed": false
   },
   "outputs": [
    {
     "data": {
      "text/plain": [
       "<seaborn.axisgrid.FacetGrid at 0x145f51510>"
      ]
     },
     "execution_count": 21,
     "metadata": {},
     "output_type": "execute_result"
    },
    {
     "data": {
      "image/png": "[encoded data removed]",
      "text/plain": [
       "<matplotlib.figure.Figure at 0x145e8f290>"
      ]
     },
     "metadata": {},
     "output_type": "display_data"
    }
   ],
   "source": [
    "dl_resp = dl[(dl.cond != 'rest')]\n",
    "means = dl_resp.groupby(['subid', 'group', 'cond', 'rep']).mean().reset_index()\n",
    "\n",
    "sns.factorplot(x='cond', y='acc', col='group',\n",
    "               units='subid', ci=68, dodge=.1,\n",
    "               data=means, aspect=2)"
   ]
  },
  {
   "cell_type": "code",
   "execution_count": null,
   "metadata": {
    "collapsed": false
   },
   "outputs": [],
   "source": []
  },
  {
   "cell_type": "markdown",
   "metadata": {},
   "source": [
    "---"
   ]
  },
  {
   "cell_type": "markdown",
   "metadata": {},
   "source": [
    "## Generate onset files"
   ]
  },
  {
   "cell_type": "markdown",
   "metadata": {},
   "source": [
    "Each csv file must have a column for `run`, `condition`, `onset`, `duration`, and `value`"
   ]
  },
  {
   "cell_type": "code",
   "execution_count": 35,
   "metadata": {
    "collapsed": false
   },
   "outputs": [],
   "source": [
    "output_filename = 'localizer_cond.csv'\n",
    "output_dir = '/Volumes/group/awagner/sgagnon/SST/data'\n",
    "\n",
    "for subid in subj_info.subid:\n",
    "    \n",
    "    dsub = dl[(dl.subid == subid) & (dl.cond != 'rest')]\n",
    "    ddesign = pd.DataFrame({'run': dsub.run,\n",
    "                            'condition': dsub.cond,\n",
    "                            'onset': dsub.onset_adj,\n",
    "                            'duration': dsub.duration_adj,\n",
    "                            'value': 1})\n",
    "    \n",
    "    sub_output_dir = op.join(output_dir, subid.replace('loc', 'ap'), 'design')\n",
    "    if not os.path.exists(sub_output_dir):\n",
    "        os.makedirs(sub_output_dir)\n",
    "    \n",
    "    ddesign.to_csv(op.join(sub_output_dir, output_filename), index=False)"
   ]
  },
  {
   "cell_type": "code",
   "execution_count": 36,
   "metadata": {
    "collapsed": false
   },
   "outputs": [],
   "source": [
    "output_filename = 'localizer_cond_mvpa.csv'\n",
    "output_dir = '/Volumes/group/awagner/sgagnon/AP/data'\n",
    "\n",
    "for subid in subj_info.subid:\n",
    "    dsub = dl[(dl.subid == subid)] # & (dl.cond != 'rest')\n",
    "    ddesign = pd.DataFrame({'run': dsub.run + 6,\n",
    "                            'condition': dsub.cond,\n",
    "                            'onset': dsub.onset_adj,\n",
    "                            'duration': dsub.duration_adj,\n",
    "                            'value': 1})\n",
    "    \n",
    "    ddesign.to_csv(op.join(output_dir, subid.replace('loc', 'ap'), \n",
    "                           'design', output_filename), index=False)"
   ]
  },
  {
   "cell_type": "code",
   "execution_count": null,
   "metadata": {
    "collapsed": false
   },
   "outputs": [],
   "source": []
  }
 ],
 "metadata": {
  "kernelspec": {
   "display_name": "Python 2",
   "language": "python",
   "name": "python2"
  },
  "language_info": {
   "codemirror_mode": {
    "name": "ipython",
    "version": 2
   },
   "file_extension": ".py",
   "mimetype": "text/x-python",
   "name": "python",
   "nbconvert_exporter": "python",
   "pygments_lexer": "ipython2",
   "version": "2.7.10"
  }
 },
 "nbformat": 4,
 "nbformat_minor": 0
}
