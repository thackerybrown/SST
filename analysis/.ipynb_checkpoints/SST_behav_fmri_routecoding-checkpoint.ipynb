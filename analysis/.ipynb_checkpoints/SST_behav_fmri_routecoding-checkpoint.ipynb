{
 "cells": [
  {
   "cell_type": "markdown",
   "metadata": {},
   "source": [
    "# SST (Spatial Stress Test) Behavioral Analysis"
   ]
  },
  {
   "cell_type": "markdown",
   "metadata": {},
   "source": [
    "Data Collected June 2015"
   ]
  },
  {
   "cell_type": "code",
   "execution_count": 1,
   "metadata": {
    "collapsed": false
   },
   "outputs": [
    {
     "name": "stdout",
     "output_type": "stream",
     "text": [
      "v2\n"
     ]
    }
   ],
   "source": [
    "import pandas as pd\n",
    "import moss\n",
    "from scipy import stats\n",
    "import scipy as sp\n",
    "import seaborn as sns\n",
    "import numpy as np\n",
    "import matplotlib\n",
    "import matplotlib.pyplot as plt\n",
    "import os.path as op\n",
    "import re\n",
    "\n",
    "#widget ability\n",
    "import ipywidgets\n",
    "from ipywidgets import interact, interactive, fixed\n",
    "from IPython.display import clear_output, display, HTML\n",
    "\n",
    "import glob\n",
    "\n",
    "# Gather project info & functions\n",
    "from sst_setup_project import *\n",
    "\n",
    "# for plotting\n",
    "sns.set(style='whitegrid', context='poster')\n",
    "%matplotlib inline\n",
    "\n",
    "# R for stats\n",
    "# %load_ext rpy2.ipython\n",
    "# %R require(lme4)\n",
    "# %R require(lmerTest)"
   ]
  },
  {
   "cell_type": "markdown",
   "metadata": {},
   "source": [
    "### Set up directories & exp-specific information"
   ]
  },
  {
   "cell_type": "code",
   "execution_count": 2,
   "metadata": {
    "collapsed": false
   },
   "outputs": [],
   "source": [
    "dirs = dict()\n",
    "dirs['basedir'] = op.join(op.expanduser('~'), 'Experiments/SST')\n",
    "dirs['navdir'] = op.join('/Volumes/group/awagner/sgagnon/SST/nav_data')\n",
    "dirs['analydir'] = op.join(dirs['basedir'], 'analysis')\n",
    "dirs['subj_info_file'] = op.join(dirs['navdir'], 'analysis', 'subj_info.csv')\n",
    "dirs['shortcut_file'] = op.join(dirs['navdir'], 'analysis','shortcut_coords.csv')\n",
    "dirs['order_file'] = op.join(dirs['navdir'], 'analysis','SST_env_order_training.csv')"
   ]
  },
  {
   "cell_type": "code",
   "execution_count": 3,
   "metadata": {
    "collapsed": false
   },
   "outputs": [
    {
     "name": "stdout",
     "output_type": "stream",
     "text": [
      "v2\n"
     ]
    }
   ],
   "source": [
    "proj = gather_experiment_info(exp_name='SST', dirs=dirs)"
   ]
  },
  {
   "cell_type": "markdown",
   "metadata": {},
   "source": [
    "### Read in subject information"
   ]
  },
  {
   "cell_type": "code",
   "execution_count": 4,
   "metadata": {
    "collapsed": false
   },
   "outputs": [
    {
     "data": {
      "text/plain": [
       "control    19\n",
       "stress     17\n",
       "Name: group, dtype: int64"
      ]
     },
     "execution_count": 4,
     "metadata": {},
     "output_type": "execute_result"
    }
   ],
   "source": [
    "subj_info = pd.read_csv(dirs['subj_info_file'])\n",
    "subj_info = subj_info[pd.isnull(subj_info.remove)]\n",
    "subj_info[['subid']] = subj_info.subid.astype(str)\n",
    "subj_info.group.value_counts()"
   ]
  },
  {
   "cell_type": "code",
   "execution_count": 5,
   "metadata": {
    "collapsed": false,
    "scrolled": true
   },
   "outputs": [
    {
     "data": {
      "text/html": [
       "<div>\n",
       "<table border=\"1\" class=\"dataframe\">\n",
       "  <thead>\n",
       "    <tr style=\"text-align: right;\">\n",
       "      <th></th>\n",
       "      <th>env</th>\n",
       "      <th>x_lo</th>\n",
       "      <th>x_hi</th>\n",
       "      <th>y_lo</th>\n",
       "      <th>y_hi</th>\n",
       "    </tr>\n",
       "  </thead>\n",
       "  <tbody>\n",
       "    <tr>\n",
       "      <th>0</th>\n",
       "      <td>env1</td>\n",
       "      <td>16</td>\n",
       "      <td>32</td>\n",
       "      <td>5</td>\n",
       "      <td>15</td>\n",
       "    </tr>\n",
       "    <tr>\n",
       "      <th>1</th>\n",
       "      <td>env2</td>\n",
       "      <td>8</td>\n",
       "      <td>28</td>\n",
       "      <td>28</td>\n",
       "      <td>48</td>\n",
       "    </tr>\n",
       "    <tr>\n",
       "      <th>2</th>\n",
       "      <td>env3</td>\n",
       "      <td>24</td>\n",
       "      <td>40</td>\n",
       "      <td>16</td>\n",
       "      <td>24</td>\n",
       "    </tr>\n",
       "    <tr>\n",
       "      <th>3</th>\n",
       "      <td>env4</td>\n",
       "      <td>16</td>\n",
       "      <td>32</td>\n",
       "      <td>16</td>\n",
       "      <td>24</td>\n",
       "    </tr>\n",
       "    <tr>\n",
       "      <th>4</th>\n",
       "      <td>env5</td>\n",
       "      <td>12</td>\n",
       "      <td>20</td>\n",
       "      <td>20</td>\n",
       "      <td>31</td>\n",
       "    </tr>\n",
       "    <tr>\n",
       "      <th>5</th>\n",
       "      <td>env6</td>\n",
       "      <td>24</td>\n",
       "      <td>40</td>\n",
       "      <td>24</td>\n",
       "      <td>40</td>\n",
       "    </tr>\n",
       "    <tr>\n",
       "      <th>6</th>\n",
       "      <td>env7</td>\n",
       "      <td>10</td>\n",
       "      <td>15</td>\n",
       "      <td>30</td>\n",
       "      <td>40</td>\n",
       "    </tr>\n",
       "    <tr>\n",
       "      <th>7</th>\n",
       "      <td>env8</td>\n",
       "      <td>16</td>\n",
       "      <td>32</td>\n",
       "      <td>0</td>\n",
       "      <td>16</td>\n",
       "    </tr>\n",
       "    <tr>\n",
       "      <th>8</th>\n",
       "      <td>env9</td>\n",
       "      <td>24</td>\n",
       "      <td>35</td>\n",
       "      <td>0</td>\n",
       "      <td>12</td>\n",
       "    </tr>\n",
       "    <tr>\n",
       "      <th>9</th>\n",
       "      <td>env10</td>\n",
       "      <td>48</td>\n",
       "      <td>56</td>\n",
       "      <td>24</td>\n",
       "      <td>40</td>\n",
       "    </tr>\n",
       "    <tr>\n",
       "      <th>10</th>\n",
       "      <td>env11</td>\n",
       "      <td>24</td>\n",
       "      <td>32</td>\n",
       "      <td>40</td>\n",
       "      <td>48</td>\n",
       "    </tr>\n",
       "    <tr>\n",
       "      <th>11</th>\n",
       "      <td>env12</td>\n",
       "      <td>24</td>\n",
       "      <td>35</td>\n",
       "      <td>30</td>\n",
       "      <td>45</td>\n",
       "    </tr>\n",
       "  </tbody>\n",
       "</table>\n",
       "</div>"
      ],
      "text/plain": [
       "      env  x_lo  x_hi  y_lo  y_hi\n",
       "0    env1    16    32     5    15\n",
       "1    env2     8    28    28    48\n",
       "2    env3    24    40    16    24\n",
       "3    env4    16    32    16    24\n",
       "4    env5    12    20    20    31\n",
       "5    env6    24    40    24    40\n",
       "6    env7    10    15    30    40\n",
       "7    env8    16    32     0    16\n",
       "8    env9    24    35     0    12\n",
       "9   env10    48    56    24    40\n",
       "10  env11    24    32    40    48\n",
       "11  env12    24    35    30    45"
      ]
     },
     "execution_count": 5,
     "metadata": {},
     "output_type": "execute_result"
    }
   ],
   "source": [
    "shortcut_coords = pd.read_csv(dirs['shortcut_file'])\n",
    "shortcut_coords"
   ]
  },
  {
   "cell_type": "code",
   "execution_count": 6,
   "metadata": {
    "collapsed": false
   },
   "outputs": [
    {
     "data": {
      "text/html": [
       "<div>\n",
       "<table border=\"1\" class=\"dataframe\">\n",
       "  <thead>\n",
       "    <tr style=\"text-align: right;\">\n",
       "      <th></th>\n",
       "      <th>subid</th>\n",
       "      <th>rep</th>\n",
       "      <th>run</th>\n",
       "      <th>trial</th>\n",
       "      <th>env</th>\n",
       "    </tr>\n",
       "  </thead>\n",
       "  <tbody>\n",
       "    <tr>\n",
       "      <th>1399</th>\n",
       "      <td>50</td>\n",
       "      <td>2</td>\n",
       "      <td>11</td>\n",
       "      <td>2</td>\n",
       "      <td>12</td>\n",
       "    </tr>\n",
       "    <tr>\n",
       "      <th>1400</th>\n",
       "      <td>50</td>\n",
       "      <td>2</td>\n",
       "      <td>11</td>\n",
       "      <td>3</td>\n",
       "      <td>4</td>\n",
       "    </tr>\n",
       "    <tr>\n",
       "      <th>1401</th>\n",
       "      <td>50</td>\n",
       "      <td>2</td>\n",
       "      <td>12</td>\n",
       "      <td>1</td>\n",
       "      <td>2</td>\n",
       "    </tr>\n",
       "    <tr>\n",
       "      <th>1402</th>\n",
       "      <td>50</td>\n",
       "      <td>2</td>\n",
       "      <td>12</td>\n",
       "      <td>2</td>\n",
       "      <td>1</td>\n",
       "    </tr>\n",
       "    <tr>\n",
       "      <th>1403</th>\n",
       "      <td>50</td>\n",
       "      <td>2</td>\n",
       "      <td>12</td>\n",
       "      <td>3</td>\n",
       "      <td>6</td>\n",
       "    </tr>\n",
       "  </tbody>\n",
       "</table>\n",
       "</div>"
      ],
      "text/plain": [
       "     subid  rep  run  trial  env\n",
       "1399    50    2   11      2   12\n",
       "1400    50    2   11      3    4\n",
       "1401    50    2   12      1    2\n",
       "1402    50    2   12      2    1\n",
       "1403    50    2   12      3    6"
      ]
     },
     "execution_count": 6,
     "metadata": {},
     "output_type": "execute_result"
    }
   ],
   "source": [
    "trial_order = pd.read_csv(dirs['order_file'])\n",
    "trial_order[['subid']] = trial_order[['subid']].astype(str)\n",
    "trial_order.tail()"
   ]
  },
  {
   "cell_type": "markdown",
   "metadata": {},
   "source": [
    "## Read in/concatenate data files"
   ]
  },
  {
   "cell_type": "markdown",
   "metadata": {},
   "source": [
    "#### Only need to run this if first time:"
   ]
  },
  {
   "cell_type": "code",
   "execution_count": 7,
   "metadata": {
    "collapsed": false
   },
   "outputs": [
    {
     "name": "stdout",
     "output_type": "stream",
     "text": [
      "3\n"
     ]
    },
    {
     "name": "stderr",
     "output_type": "stream",
     "text": [
      "/Users/sgagnon/anaconda/lib/python2.7/site-packages/ipykernel/__main__.py:81: SettingWithCopyWarning: \n",
      "A value is trying to be set on a copy of a slice from a DataFrame.\n",
      "Try using .loc[row_indexer,col_indexer] = value instead\n",
      "\n",
      "See the caveats in the documentation: http://pandas.pydata.org/pandas-docs/stable/indexing.html#indexing-view-versus-copy\n",
      "/Users/sgagnon/anaconda/lib/python2.7/site-packages/pandas/core/indexing.py:477: SettingWithCopyWarning: \n",
      "A value is trying to be set on a copy of a slice from a DataFrame.\n",
      "Try using .loc[row_indexer,col_indexer] = value instead\n",
      "\n",
      "See the caveats in the documentation: http://pandas.pydata.org/pandas-docs/stable/indexing.html#indexing-view-versus-copy\n",
      "  self.obj[item] = s\n"
     ]
    },
    {
     "name": "stdout",
     "output_type": "stream",
     "text": [
      "subj d2 shape:(256507, 10)\n",
      "36\n",
      "36\n",
      "subj dp (downsampled) shape:(4011, 14)\n",
      "Group df shape: (4011, 14)\n",
      "_______________________________________\n"
     ]
    }
   ],
   "source": [
    "df = pd.DataFrame() # dataframe of subjs x envs\n",
    "test = True\n",
    "questionnaires_shock  = False\n",
    "questionnaires_post  = False\n",
    "n_runs = 12\n",
    "\n",
    "test_types = ['habit', 'shortcut']\n",
    "\n",
    "# iterate through subjects\n",
    "# for subid in subj_info.subid:\n",
    "for subid in ['3']:\n",
    "    print subid\n",
    "    \n",
    "    if test:\n",
    "        d2 = pd.DataFrame() # dataframe of test files for a subj\n",
    "\n",
    "        # iterate through environments\n",
    "        for run_num in range(1, n_runs+1):\n",
    "\n",
    "            # deal w/num -> str IDs\n",
    "            if int(subid) < 10:\n",
    "                sub_str = 'sst0'\n",
    "            else:\n",
    "                sub_str = 'sst'\n",
    "                \n",
    "            # add test file\n",
    "            test_files = glob.glob(op.join(dirs['navdir'], sub_str + str(subid), \n",
    "                                           'run'+ str(run_num),\n",
    "                                           'session_*', 'log.txt'))\n",
    "            \n",
    "            # get all files, including crashes where 2 files/run\n",
    "            # note that grouping files into same run if a crash; \n",
    "            # this will be diff than for fmri data (where 2 sep runs)\n",
    "            for i, test_file in enumerate(test_files):\n",
    "                \n",
    "                if i > 0: print '***** something happened, '+str(i+1)+' files for run ' +str(run_num)+'! *****'\n",
    "                \n",
    "                output = []\n",
    "                with open(test_file) as f:\n",
    "                    data = f.readlines()\n",
    "\n",
    "                    for line in data:\n",
    "                        columns = re.split('\\t|\\r|\\n', line)\n",
    "                        output.append(columns)\n",
    "\n",
    "                d1 = pd.DataFrame(output, columns = ['time', 'c2', 'command', \n",
    "                                                     'c3', 'c4', 'c5', 'c6', 'c7', 'c8'])\n",
    "\n",
    "                # include subid and env\n",
    "                d1['subid'] = subid\n",
    "                d1['run'] = run_num\n",
    "\n",
    "                if run_num < 5:\n",
    "                    d1['type'] = 'habit'\n",
    "                else:\n",
    "                    d1['type'] = 'shortcut'\n",
    "\n",
    "                # force time to in seconds, relative to beginning of session\n",
    "                d1.time = d1.time.astype(int)/1000\n",
    "                \n",
    "                if (run_num == 1) & (i == 0):\n",
    "                    session_start = d1.time.min()                \n",
    "                d1.time = d1.time - session_start\n",
    "\n",
    "                # Append to subj's dataframe\n",
    "                d2 = d2.append(d1, ignore_index=True)\n",
    "                \n",
    "\n",
    "        d2 = d2.loc[d2.command.isin(['VROBJECT_POS', 'VROBJECT_HEADING', 'INPUT_EVENT',\n",
    "                                     'ORIENT', 'ARRIVED', 'ASSIGNED', 'NAVIGATE', \n",
    "                                     'SCAN', 'SHOCK'])]\n",
    "        d2.drop(['c2', 'c5', 'c6', 'c7', 'c8'], axis=1, inplace=True) #unneeded cols\n",
    "\n",
    "        # Any runs without 3 trials?\n",
    "        counts = pd.groupby(d2.loc[d2.command == \"ORIENT\"], by=['subid', 'run']).count().reset_index()\n",
    "        if counts[counts.command != 3].shape[0] > 0: print 'Don''t have 3 trials for a run!'\n",
    "\n",
    "        # Get orient onsets, for trial parsing\n",
    "        d2.sort(columns='time', inplace=True) # make sure sorted by time! this can be weird w/crashes\n",
    "        orient_onsets = d2[d2.command == \"ORIENT\"]\n",
    "        orient_onsets['trial'] = 0 # init trial number\n",
    "\n",
    "        for counter, ind in enumerate(orient_onsets.index):\n",
    "            if counter == 0: # first trial\n",
    "                first_ind = ind\n",
    "                orient_onsets.loc[ind, 'trial'] = 1\n",
    "                prev_ind = ind\n",
    "            else:\n",
    "                if orient_onsets.loc[ind, 'run'] == orient_onsets.loc[prev_ind, 'run']:\n",
    "                    orient_onsets.loc[ind, 'trial'] = orient_onsets.loc[prev_ind, 'trial'] + 1\n",
    "                    prev_ind = ind\n",
    "                else:\n",
    "                    orient_onsets.loc[ind, 'trial'] = 1\n",
    "                    prev_ind = ind\n",
    "\n",
    "        orient_onsets = orient_onsets.reset_index().merge(trial_order)\n",
    "\n",
    "        d2['env'] = np.nan\n",
    "        d2['rep'] = np.nan\n",
    "        d2['trial'] = np.nan\n",
    "\n",
    "        for i in orient_onsets.index:\n",
    "            index_val = orient_onsets.loc[i, 'index']\n",
    "            d2.loc[index_val, 'env'] = 'env' + orient_onsets.loc[i, 'env'].astype(str)\n",
    "            d2.loc[index_val, 'rep'] = orient_onsets.loc[i, 'rep']\n",
    "            d2.loc[index_val, 'trial'] = orient_onsets.loc[i, 'trial']\n",
    "\n",
    "        d2.env.fillna(method='ffill', inplace=True)\n",
    "        d2.rep.fillna(method='ffill', inplace=True)\n",
    "        d2.trial.fillna(method='ffill', inplace=True)\n",
    "\n",
    "        d2 = d2.loc[~d2.env.isnull()]\n",
    "\n",
    "        print 'subj d2 shape:' + str(d2.shape)\n",
    "        print len('env' + orient_onsets.env.astype(str))\n",
    "        print len(d2.loc[orient_onsets['index'], 'env'])\n",
    "\n",
    "        # Get 2D position in space\n",
    "        dp = d2[d2.command == 'VROBJECT_POS'].reset_index()\n",
    "        coordinates = pd.DataFrame(dp.c4.str.split('Point3|, |\\(|\\)').tolist())[[2, 3, 4]]\n",
    "        coordinates.rename(columns={2: 'x', 3: 'y', 4: 'z'}, inplace=True)\n",
    "\n",
    "        dp = dp.join(coordinates)\n",
    "        dp = dp.drop(['c4'], 1)\n",
    "        dp[['x', 'y', 'z']] = dp[['x', 'y', 'z']].astype(float)\n",
    "        dp.head()\n",
    "\n",
    "        # Downsample\n",
    "        dp['s'] = pd.to_datetime(dp.time, unit='s')\n",
    "        dp = dp.resample('500L', on='s').first()\n",
    "        dp.dropna(inplace=True)\n",
    "        \n",
    "        print 'subj dp (downsampled) shape:' + str(dp.shape)\n",
    "\n",
    "        # Append to group data\n",
    "        df = df.append(dp, ignore_index=True)\n",
    "        print 'Group df shape: ' + str(df.shape)\n",
    "        print '_______________________________________'\n",
    "\n",
    "# Compiled group data\n",
    "if questionnaires_shock:\n",
    "    q_file = op.join(dirs['basedir'], 'data/Quest/Questionnaires_shockblock_group.csv')\n",
    "    dq_shock = pd.read_csv(q_file, index_col=0)\n",
    "\n",
    "if questionnaires_post:\n",
    "    q_file = op.join(dirs['basedir'], 'data/Quest/Questionnaires_group.csv')\n",
    "    dq_post = pd.read_csv(q_file, index_col=0)\n",
    "    dq_post['subid'] = dq_post.subid.astype(str)"
   ]
  },
  {
   "cell_type": "markdown",
   "metadata": {},
   "source": [
    "#### Get item coordinates"
   ]
  },
  {
   "cell_type": "code",
   "execution_count": null,
   "metadata": {
    "collapsed": true
   },
   "outputs": [],
   "source": [
    "item_coordinates = pd.DataFrame()\n",
    "\n",
    "dp = d2[d2.command == 'VROBJECT_POS'].reset_index()\n",
    "coordinates = pd.DataFrame(dp.c4.str.split('Point3|, |\\(|\\)').tolist())[[2, 3, 4]]\n",
    "coordinates.rename(columns={2: 'x', 3: 'y', 4: 'z'}, inplace=True)\n",
    "dp = dp.join(coordinates)\n",
    "\n",
    "for env in set(df_in.env):\n",
    "    for item in proj['goals'][env].values():\n",
    "        ditem = dp.loc[(dp.c3 == item) & (dp.command == 'VROBJECT_POS'), ['x', 'y']].reset_index()\n",
    "        ditem = ditem.ix[0, ['x', 'y']] # get first entry\n",
    "        ditem['item'] = item\n",
    "        \n",
    "        item_coordinates = item_coordinates.append(pd.DataFrame(ditem).T, ignore_index=True)\n",
    "        \n",
    "item_coordinates.to_csv('/Volumes/group/awagner/sgagnon/SST/nav_data/item_coordinates.csv')"
   ]
  },
  {
   "cell_type": "markdown",
   "metadata": {},
   "source": [
    "## Look at data"
   ]
  },
  {
   "cell_type": "markdown",
   "metadata": {},
   "source": [
    "#### Prune down the data (>13 million rows beforehand)"
   ]
  },
  {
   "cell_type": "raw",
   "metadata": {},
   "source": [
    "filename = '/Volumes/group/awagner/sgagnon/SST/nav_data/group_fmri_logs.h5'\n",
    "df.to_hdf(filename, 'df', mode='w', format='fixed')"
   ]
  },
  {
   "cell_type": "code",
   "execution_count": 7,
   "metadata": {
    "collapsed": false
   },
   "outputs": [
    {
     "data": {
      "text/plain": [
       "(131569, 14)"
      ]
     },
     "execution_count": 7,
     "metadata": {},
     "output_type": "execute_result"
    }
   ],
   "source": [
    "filename = '/Volumes/group/awagner/sgagnon/SST/nav_data/group_fmri_logs.h5'\n",
    "df_in = pd.read_hdf(filename, 'df')\n",
    "df_in.shape"
   ]
  },
  {
   "cell_type": "markdown",
   "metadata": {},
   "source": [
    "### Plot"
   ]
  },
  {
   "cell_type": "markdown",
   "metadata": {},
   "source": [
    "- Subject 11 is missing evns 8 and 9 (run 2 of habit)"
   ]
  },
  {
   "cell_type": "code",
   "execution_count": 8,
   "metadata": {
    "collapsed": false
   },
   "outputs": [
    {
     "data": {
      "image/png": "[encoded data removed]",
      "text/plain": [
       "<matplotlib.figure.Figure at 0x122532a50>"
      ]
     },
     "metadata": {},
     "output_type": "display_data"
    }
   ],
   "source": [
    "def plot_sub(subj, env, test_trial, rep):\n",
    "    plot_paths(env=env, subj=subj, \n",
    "               dp=df_in.loc[(df_in['type'] == test_trial) &\n",
    "                            (df_in.rep == rep)], \n",
    "               proj=proj, dirs=dirs)\n",
    "    \n",
    "subj_opts = ipywidgets.Select(options=list(df_in.subid.unique()))\n",
    "env_opts = ipywidgets.ToggleButtons(options=list(np.sort(df_in.env.unique())))\n",
    "test_opts = ipywidgets.ToggleButtons(options=list(['habit', 'shortcut']))\n",
    "rep_opts = ipywidgets.IntSlider(min=1, max=2)\n",
    "\n",
    "w = ipywidgets.interact(plot_sub, \n",
    "                        subj=subj_opts, \n",
    "                        env=env_opts, \n",
    "                        test_trial=test_opts, \n",
    "                        rep=rep_opts)"
   ]
  },
  {
   "cell_type": "code",
   "execution_count": null,
   "metadata": {
    "collapsed": true
   },
   "outputs": [],
   "source": []
  }
 ],
 "metadata": {
  "kernelspec": {
   "display_name": "Python 2",
   "language": "python",
   "name": "python2"
  },
  "language_info": {
   "codemirror_mode": {
    "name": "ipython",
    "version": 2
   },
   "file_extension": ".py",
   "mimetype": "text/x-python",
   "name": "python",
   "nbconvert_exporter": "python",
   "pygments_lexer": "ipython2",
   "version": "2.7.12"
  }
 },
 "nbformat": 4,
 "nbformat_minor": 0
}
