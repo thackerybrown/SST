{
 "cells": [
  {
   "cell_type": "code",
   "execution_count": 4,
   "metadata": {
    "collapsed": false
   },
   "outputs": [],
   "source": [
    "%matplotlib inline\n",
    "import pandas as pd\n",
    "import seaborn as sns\n",
    "import matplotlib.pyplot as plt\n",
    "import numpy as np\n",
    "\n",
    "sns.set(style='ticks', font_scale=1.5)"
   ]
  },
  {
   "cell_type": "code",
   "execution_count": 85,
   "metadata": {
    "collapsed": false
   },
   "outputs": [
    {
     "data": {
      "text/html": [
       "<div style=\"max-height:1000px;max-width:1500px;overflow:auto;\">\n",
       "<table border=\"1\" class=\"dataframe\">\n",
       "  <thead>\n",
       "    <tr style=\"text-align: right;\">\n",
       "      <th></th>\n",
       "      <th>subid</th>\n",
       "      <th>group</th>\n",
       "    </tr>\n",
       "  </thead>\n",
       "  <tbody>\n",
       "    <tr>\n",
       "      <th>0</th>\n",
       "      <td> 1</td>\n",
       "      <td> control</td>\n",
       "    </tr>\n",
       "    <tr>\n",
       "      <th>1</th>\n",
       "      <td> 2</td>\n",
       "      <td> control</td>\n",
       "    </tr>\n",
       "    <tr>\n",
       "      <th>2</th>\n",
       "      <td> 3</td>\n",
       "      <td> control</td>\n",
       "    </tr>\n",
       "    <tr>\n",
       "      <th>3</th>\n",
       "      <td> 4</td>\n",
       "      <td> control</td>\n",
       "    </tr>\n",
       "    <tr>\n",
       "      <th>4</th>\n",
       "      <td> 5</td>\n",
       "      <td> control</td>\n",
       "    </tr>\n",
       "  </tbody>\n",
       "</table>\n",
       "</div>"
      ],
      "text/plain": [
       "   subid    group\n",
       "0      1  control\n",
       "1      2  control\n",
       "2      3  control\n",
       "3      4  control\n",
       "4      5  control"
      ]
     },
     "execution_count": 85,
     "metadata": {},
     "output_type": "execute_result"
    }
   ],
   "source": [
    "group_info = pd.read_csv('/Volumes/group/awagner/sgagnon/SST/scripts/subjects_groups_num.csv')\n",
    "group_info.head()"
   ]
  },
  {
   "cell_type": "code",
   "execution_count": 35,
   "metadata": {
    "collapsed": false
   },
   "outputs": [
    {
     "data": {
      "text/html": [
       "<div style=\"max-height:1000px;max-width:1500px;overflow:auto;\">\n",
       "<table border=\"1\" class=\"dataframe\">\n",
       "  <thead>\n",
       "    <tr style=\"text-align: right;\">\n",
       "      <th></th>\n",
       "      <th>subid</th>\n",
       "      <th>env</th>\n",
       "      <th>test_type</th>\n",
       "      <th>test_rep</th>\n",
       "      <th>code1</th>\n",
       "      <th>coder</th>\n",
       "    </tr>\n",
       "  </thead>\n",
       "  <tbody>\n",
       "    <tr>\n",
       "      <th>0</th>\n",
       "      <td> 1</td>\n",
       "      <td> 1</td>\n",
       "      <td>    habit</td>\n",
       "      <td> 1</td>\n",
       "      <td> habit</td>\n",
       "      <td> morgan</td>\n",
       "    </tr>\n",
       "    <tr>\n",
       "      <th>1</th>\n",
       "      <td> 1</td>\n",
       "      <td> 1</td>\n",
       "      <td> shortcut</td>\n",
       "      <td> 1</td>\n",
       "      <td> other</td>\n",
       "      <td> morgan</td>\n",
       "    </tr>\n",
       "    <tr>\n",
       "      <th>2</th>\n",
       "      <td> 1</td>\n",
       "      <td> 1</td>\n",
       "      <td> shortcut</td>\n",
       "      <td> 2</td>\n",
       "      <td> habit</td>\n",
       "      <td> morgan</td>\n",
       "    </tr>\n",
       "    <tr>\n",
       "      <th>3</th>\n",
       "      <td> 1</td>\n",
       "      <td> 2</td>\n",
       "      <td>    habit</td>\n",
       "      <td> 1</td>\n",
       "      <td> habit</td>\n",
       "      <td> morgan</td>\n",
       "    </tr>\n",
       "    <tr>\n",
       "      <th>4</th>\n",
       "      <td> 1</td>\n",
       "      <td> 2</td>\n",
       "      <td> shortcut</td>\n",
       "      <td> 1</td>\n",
       "      <td> habit</td>\n",
       "      <td> morgan</td>\n",
       "    </tr>\n",
       "  </tbody>\n",
       "</table>\n",
       "</div>"
      ],
      "text/plain": [
       "   subid  env test_type  test_rep  code1   coder\n",
       "0      1    1     habit         1  habit  morgan\n",
       "1      1    1  shortcut         1  other  morgan\n",
       "2      1    1  shortcut         2  habit  morgan\n",
       "3      1    2     habit         1  habit  morgan\n",
       "4      1    2  shortcut         1  habit  morgan"
      ]
     },
     "execution_count": 35,
     "metadata": {},
     "output_type": "execute_result"
    }
   ],
   "source": [
    "filepath='/Volumes/group/awagner/sgagnon/SST/nav_data/group/nav_coding.csv'\n",
    "d = pd.read_csv(filepath)\n",
    "d.head()"
   ]
  },
  {
   "cell_type": "code",
   "execution_count": 42,
   "metadata": {
    "collapsed": false
   },
   "outputs": [
    {
     "data": {
      "text/plain": [
       "array(['habit', 'other', 'backtrack', 'shortcut'], dtype=object)"
      ]
     },
     "execution_count": 42,
     "metadata": {},
     "output_type": "execute_result"
    }
   ],
   "source": [
    "d = d.loc[d.code1 != 'NO MAP SHOWN',:]\n",
    "codes = d.code1.unique(); codes"
   ]
  },
  {
   "cell_type": "code",
   "execution_count": 37,
   "metadata": {
    "collapsed": false
   },
   "outputs": [
    {
     "name": "stdout",
     "output_type": "stream",
     "text": [
      "(34, 6)\n"
     ]
    },
    {
     "data": {
      "text/html": [
       "<div style=\"max-height:1000px;max-width:1500px;overflow:auto;\">\n",
       "<table border=\"1\" class=\"dataframe\">\n",
       "  <thead>\n",
       "    <tr style=\"text-align: right;\">\n",
       "      <th>code1</th>\n",
       "      <th>subid</th>\n",
       "      <th>test_type</th>\n",
       "      <th>backtrack</th>\n",
       "      <th>habit</th>\n",
       "      <th>other</th>\n",
       "      <th>shortcut</th>\n",
       "    </tr>\n",
       "  </thead>\n",
       "  <tbody>\n",
       "    <tr>\n",
       "      <th>0</th>\n",
       "      <td> 1</td>\n",
       "      <td>    habit</td>\n",
       "      <td> 0</td>\n",
       "      <td>  6</td>\n",
       "      <td> 6</td>\n",
       "      <td>  0</td>\n",
       "    </tr>\n",
       "    <tr>\n",
       "      <th>1</th>\n",
       "      <td> 1</td>\n",
       "      <td> shortcut</td>\n",
       "      <td> 2</td>\n",
       "      <td> 16</td>\n",
       "      <td> 2</td>\n",
       "      <td>  4</td>\n",
       "    </tr>\n",
       "    <tr>\n",
       "      <th>2</th>\n",
       "      <td> 2</td>\n",
       "      <td>    habit</td>\n",
       "      <td> 0</td>\n",
       "      <td> 10</td>\n",
       "      <td> 2</td>\n",
       "      <td>  0</td>\n",
       "    </tr>\n",
       "    <tr>\n",
       "      <th>3</th>\n",
       "      <td> 2</td>\n",
       "      <td> shortcut</td>\n",
       "      <td> 4</td>\n",
       "      <td>  7</td>\n",
       "      <td> 3</td>\n",
       "      <td> 10</td>\n",
       "    </tr>\n",
       "    <tr>\n",
       "      <th>4</th>\n",
       "      <td> 3</td>\n",
       "      <td>    habit</td>\n",
       "      <td> 0</td>\n",
       "      <td> 11</td>\n",
       "      <td> 1</td>\n",
       "      <td>  0</td>\n",
       "    </tr>\n",
       "  </tbody>\n",
       "</table>\n",
       "</div>"
      ],
      "text/plain": [
       "code1  subid test_type  backtrack  habit  other  shortcut\n",
       "0          1     habit          0      6      6         0\n",
       "1          1  shortcut          2     16      2         4\n",
       "2          2     habit          0     10      2         0\n",
       "3          2  shortcut          4      7      3        10\n",
       "4          3     habit          0     11      1         0"
      ]
     },
     "execution_count": 37,
     "metadata": {},
     "output_type": "execute_result"
    }
   ],
   "source": [
    "data = d.groupby(['subid', 'test_type', 'code1']).count().reset_index()\n",
    "data = pd.pivot_table(data, index=['subid', 'test_type'], columns='code1', values='env').reset_index()\n",
    "data.fillna(0, inplace=True)\n",
    "print data.shape\n",
    "data.head()"
   ]
  },
  {
   "cell_type": "code",
   "execution_count": 38,
   "metadata": {
    "collapsed": false
   },
   "outputs": [
    {
     "name": "stdout",
     "output_type": "stream",
     "text": [
      "(34, 6)\n"
     ]
    },
    {
     "data": {
      "text/html": [
       "<div style=\"max-height:1000px;max-width:1500px;overflow:auto;\">\n",
       "<table border=\"1\" class=\"dataframe\">\n",
       "  <thead>\n",
       "    <tr style=\"text-align: right;\">\n",
       "      <th></th>\n",
       "      <th>subid</th>\n",
       "      <th>test_type</th>\n",
       "      <th>env</th>\n",
       "      <th>test_rep</th>\n",
       "      <th>code1</th>\n",
       "      <th>coder</th>\n",
       "    </tr>\n",
       "  </thead>\n",
       "  <tbody>\n",
       "    <tr>\n",
       "      <th>0</th>\n",
       "      <td> 1</td>\n",
       "      <td>    habit</td>\n",
       "      <td> 12</td>\n",
       "      <td> 12</td>\n",
       "      <td> 12</td>\n",
       "      <td> 12</td>\n",
       "    </tr>\n",
       "    <tr>\n",
       "      <th>1</th>\n",
       "      <td> 1</td>\n",
       "      <td> shortcut</td>\n",
       "      <td> 24</td>\n",
       "      <td> 24</td>\n",
       "      <td> 24</td>\n",
       "      <td> 24</td>\n",
       "    </tr>\n",
       "    <tr>\n",
       "      <th>2</th>\n",
       "      <td> 2</td>\n",
       "      <td>    habit</td>\n",
       "      <td> 12</td>\n",
       "      <td> 12</td>\n",
       "      <td> 12</td>\n",
       "      <td> 12</td>\n",
       "    </tr>\n",
       "    <tr>\n",
       "      <th>3</th>\n",
       "      <td> 2</td>\n",
       "      <td> shortcut</td>\n",
       "      <td> 24</td>\n",
       "      <td> 24</td>\n",
       "      <td> 24</td>\n",
       "      <td> 24</td>\n",
       "    </tr>\n",
       "    <tr>\n",
       "      <th>4</th>\n",
       "      <td> 3</td>\n",
       "      <td>    habit</td>\n",
       "      <td> 12</td>\n",
       "      <td> 12</td>\n",
       "      <td> 12</td>\n",
       "      <td> 12</td>\n",
       "    </tr>\n",
       "  </tbody>\n",
       "</table>\n",
       "</div>"
      ],
      "text/plain": [
       "   subid test_type  env  test_rep  code1  coder\n",
       "0      1     habit   12        12     12     12\n",
       "1      1  shortcut   24        24     24     24\n",
       "2      2     habit   12        12     12     12\n",
       "3      2  shortcut   24        24     24     24\n",
       "4      3     habit   12        12     12     12"
      ]
     },
     "execution_count": 38,
     "metadata": {},
     "output_type": "execute_result"
    }
   ],
   "source": [
    "data_counts = d.groupby(['subid', 'test_type']).count().reset_index()\n",
    "print data_counts.shape\n",
    "data_counts.head()"
   ]
  },
  {
   "cell_type": "code",
   "execution_count": 39,
   "metadata": {
    "collapsed": false
   },
   "outputs": [
    {
     "data": {
      "text/html": [
       "<div style=\"max-height:1000px;max-width:1500px;overflow:auto;\">\n",
       "<table border=\"1\" class=\"dataframe\">\n",
       "  <thead>\n",
       "    <tr style=\"text-align: right;\">\n",
       "      <th>code1</th>\n",
       "      <th>subid</th>\n",
       "      <th>test_type</th>\n",
       "      <th>backtrack</th>\n",
       "      <th>habit</th>\n",
       "      <th>other</th>\n",
       "      <th>shortcut</th>\n",
       "      <th>total_trials</th>\n",
       "    </tr>\n",
       "  </thead>\n",
       "  <tbody>\n",
       "    <tr>\n",
       "      <th>0</th>\n",
       "      <td> 1</td>\n",
       "      <td>    habit</td>\n",
       "      <td> 0</td>\n",
       "      <td>  6</td>\n",
       "      <td> 6</td>\n",
       "      <td>  0</td>\n",
       "      <td> 12</td>\n",
       "    </tr>\n",
       "    <tr>\n",
       "      <th>1</th>\n",
       "      <td> 1</td>\n",
       "      <td> shortcut</td>\n",
       "      <td> 2</td>\n",
       "      <td> 16</td>\n",
       "      <td> 2</td>\n",
       "      <td>  4</td>\n",
       "      <td> 24</td>\n",
       "    </tr>\n",
       "    <tr>\n",
       "      <th>2</th>\n",
       "      <td> 2</td>\n",
       "      <td>    habit</td>\n",
       "      <td> 0</td>\n",
       "      <td> 10</td>\n",
       "      <td> 2</td>\n",
       "      <td>  0</td>\n",
       "      <td> 12</td>\n",
       "    </tr>\n",
       "    <tr>\n",
       "      <th>3</th>\n",
       "      <td> 2</td>\n",
       "      <td> shortcut</td>\n",
       "      <td> 4</td>\n",
       "      <td>  7</td>\n",
       "      <td> 3</td>\n",
       "      <td> 10</td>\n",
       "      <td> 24</td>\n",
       "    </tr>\n",
       "    <tr>\n",
       "      <th>4</th>\n",
       "      <td> 3</td>\n",
       "      <td>    habit</td>\n",
       "      <td> 0</td>\n",
       "      <td> 11</td>\n",
       "      <td> 1</td>\n",
       "      <td>  0</td>\n",
       "      <td> 12</td>\n",
       "    </tr>\n",
       "  </tbody>\n",
       "</table>\n",
       "</div>"
      ],
      "text/plain": [
       "code1  subid test_type  backtrack  habit  other  shortcut  total_trials\n",
       "0          1     habit          0      6      6         0            12\n",
       "1          1  shortcut          2     16      2         4            24\n",
       "2          2     habit          0     10      2         0            12\n",
       "3          2  shortcut          4      7      3        10            24\n",
       "4          3     habit          0     11      1         0            12"
      ]
     },
     "execution_count": 39,
     "metadata": {},
     "output_type": "execute_result"
    }
   ],
   "source": [
    "data['total_trials'] = data_counts.env\n",
    "data.head()"
   ]
  },
  {
   "cell_type": "code",
   "execution_count": 58,
   "metadata": {
    "collapsed": false
   },
   "outputs": [
    {
     "data": {
      "text/html": [
       "<div style=\"max-height:1000px;max-width:1500px;overflow:auto;\">\n",
       "<table border=\"1\" class=\"dataframe\">\n",
       "  <thead>\n",
       "    <tr style=\"text-align: right;\">\n",
       "      <th>code1</th>\n",
       "      <th>habit</th>\n",
       "      <th>other</th>\n",
       "      <th>backtrack</th>\n",
       "      <th>shortcut</th>\n",
       "    </tr>\n",
       "  </thead>\n",
       "  <tbody>\n",
       "    <tr>\n",
       "      <th>0</th>\n",
       "      <td> 0.500000</td>\n",
       "      <td> 0.500000</td>\n",
       "      <td> 0.000000</td>\n",
       "      <td> 0.000000</td>\n",
       "    </tr>\n",
       "    <tr>\n",
       "      <th>1</th>\n",
       "      <td> 0.666667</td>\n",
       "      <td> 0.083333</td>\n",
       "      <td> 0.083333</td>\n",
       "      <td> 0.166667</td>\n",
       "    </tr>\n",
       "    <tr>\n",
       "      <th>2</th>\n",
       "      <td> 0.833333</td>\n",
       "      <td> 0.166667</td>\n",
       "      <td> 0.000000</td>\n",
       "      <td> 0.000000</td>\n",
       "    </tr>\n",
       "    <tr>\n",
       "      <th>3</th>\n",
       "      <td> 0.291667</td>\n",
       "      <td> 0.125000</td>\n",
       "      <td> 0.166667</td>\n",
       "      <td> 0.416667</td>\n",
       "    </tr>\n",
       "    <tr>\n",
       "      <th>4</th>\n",
       "      <td> 0.916667</td>\n",
       "      <td> 0.083333</td>\n",
       "      <td> 0.000000</td>\n",
       "      <td> 0.000000</td>\n",
       "    </tr>\n",
       "  </tbody>\n",
       "</table>\n",
       "</div>"
      ],
      "text/plain": [
       "code1     habit     other  backtrack  shortcut\n",
       "0      0.500000  0.500000   0.000000  0.000000\n",
       "1      0.666667  0.083333   0.083333  0.166667\n",
       "2      0.833333  0.166667   0.000000  0.000000\n",
       "3      0.291667  0.125000   0.166667  0.416667\n",
       "4      0.916667  0.083333   0.000000  0.000000"
      ]
     },
     "execution_count": 58,
     "metadata": {},
     "output_type": "execute_result"
    }
   ],
   "source": [
    "d1 = data.loc[:,codes]\n",
    "d2 = data.loc[:,'total_trials']\n",
    "proportions = d1.divide(d2, axis='rows')\n",
    "proportions.head()"
   ]
  },
  {
   "cell_type": "code",
   "execution_count": 59,
   "metadata": {
    "collapsed": false
   },
   "outputs": [
    {
     "data": {
      "text/html": [
       "<div style=\"max-height:1000px;max-width:1500px;overflow:auto;\">\n",
       "<table border=\"1\" class=\"dataframe\">\n",
       "  <thead>\n",
       "    <tr style=\"text-align: right;\">\n",
       "      <th>code1</th>\n",
       "      <th>habit</th>\n",
       "      <th>other</th>\n",
       "      <th>backtrack</th>\n",
       "      <th>shortcut</th>\n",
       "      <th>subid</th>\n",
       "      <th>test_type</th>\n",
       "    </tr>\n",
       "  </thead>\n",
       "  <tbody>\n",
       "    <tr>\n",
       "      <th>0</th>\n",
       "      <td> 0.500000</td>\n",
       "      <td> 0.500000</td>\n",
       "      <td> 0.000000</td>\n",
       "      <td> 0.000000</td>\n",
       "      <td> 1</td>\n",
       "      <td>    habit</td>\n",
       "    </tr>\n",
       "    <tr>\n",
       "      <th>1</th>\n",
       "      <td> 0.666667</td>\n",
       "      <td> 0.083333</td>\n",
       "      <td> 0.083333</td>\n",
       "      <td> 0.166667</td>\n",
       "      <td> 1</td>\n",
       "      <td> shortcut</td>\n",
       "    </tr>\n",
       "    <tr>\n",
       "      <th>2</th>\n",
       "      <td> 0.833333</td>\n",
       "      <td> 0.166667</td>\n",
       "      <td> 0.000000</td>\n",
       "      <td> 0.000000</td>\n",
       "      <td> 2</td>\n",
       "      <td>    habit</td>\n",
       "    </tr>\n",
       "    <tr>\n",
       "      <th>3</th>\n",
       "      <td> 0.291667</td>\n",
       "      <td> 0.125000</td>\n",
       "      <td> 0.166667</td>\n",
       "      <td> 0.416667</td>\n",
       "      <td> 2</td>\n",
       "      <td> shortcut</td>\n",
       "    </tr>\n",
       "    <tr>\n",
       "      <th>4</th>\n",
       "      <td> 0.916667</td>\n",
       "      <td> 0.083333</td>\n",
       "      <td> 0.000000</td>\n",
       "      <td> 0.000000</td>\n",
       "      <td> 3</td>\n",
       "      <td>    habit</td>\n",
       "    </tr>\n",
       "  </tbody>\n",
       "</table>\n",
       "</div>"
      ],
      "text/plain": [
       "code1     habit     other  backtrack  shortcut  subid test_type\n",
       "0      0.500000  0.500000   0.000000  0.000000      1     habit\n",
       "1      0.666667  0.083333   0.083333  0.166667      1  shortcut\n",
       "2      0.833333  0.166667   0.000000  0.000000      2     habit\n",
       "3      0.291667  0.125000   0.166667  0.416667      2  shortcut\n",
       "4      0.916667  0.083333   0.000000  0.000000      3     habit"
      ]
     },
     "execution_count": 59,
     "metadata": {},
     "output_type": "execute_result"
    }
   ],
   "source": [
    "proportions[['subid', 'test_type']] = data[['subid', 'test_type']]\n",
    "proportions.head()"
   ]
  },
  {
   "cell_type": "code",
   "execution_count": 60,
   "metadata": {
    "collapsed": false
   },
   "outputs": [
    {
     "data": {
      "text/html": [
       "<div style=\"max-height:1000px;max-width:1500px;overflow:auto;\">\n",
       "<table border=\"1\" class=\"dataframe\">\n",
       "  <thead>\n",
       "    <tr style=\"text-align: right;\">\n",
       "      <th></th>\n",
       "      <th>subid</th>\n",
       "      <th>test_type</th>\n",
       "      <th>code1</th>\n",
       "      <th>value</th>\n",
       "    </tr>\n",
       "  </thead>\n",
       "  <tbody>\n",
       "    <tr>\n",
       "      <th>0</th>\n",
       "      <td> 1</td>\n",
       "      <td>    habit</td>\n",
       "      <td> habit</td>\n",
       "      <td> 0.500000</td>\n",
       "    </tr>\n",
       "    <tr>\n",
       "      <th>1</th>\n",
       "      <td> 1</td>\n",
       "      <td> shortcut</td>\n",
       "      <td> habit</td>\n",
       "      <td> 0.666667</td>\n",
       "    </tr>\n",
       "    <tr>\n",
       "      <th>2</th>\n",
       "      <td> 2</td>\n",
       "      <td>    habit</td>\n",
       "      <td> habit</td>\n",
       "      <td> 0.833333</td>\n",
       "    </tr>\n",
       "    <tr>\n",
       "      <th>3</th>\n",
       "      <td> 2</td>\n",
       "      <td> shortcut</td>\n",
       "      <td> habit</td>\n",
       "      <td> 0.291667</td>\n",
       "    </tr>\n",
       "    <tr>\n",
       "      <th>4</th>\n",
       "      <td> 3</td>\n",
       "      <td>    habit</td>\n",
       "      <td> habit</td>\n",
       "      <td> 0.916667</td>\n",
       "    </tr>\n",
       "  </tbody>\n",
       "</table>\n",
       "</div>"
      ],
      "text/plain": [
       "   subid test_type  code1     value\n",
       "0      1     habit  habit  0.500000\n",
       "1      1  shortcut  habit  0.666667\n",
       "2      2     habit  habit  0.833333\n",
       "3      2  shortcut  habit  0.291667\n",
       "4      3     habit  habit  0.916667"
      ]
     },
     "execution_count": 60,
     "metadata": {},
     "output_type": "execute_result"
    }
   ],
   "source": [
    "proportions = pd.melt(proportions, id_vars=['subid', 'test_type'])\n",
    "proportions.head()"
   ]
  },
  {
   "cell_type": "code",
   "execution_count": 64,
   "metadata": {
    "collapsed": false
   },
   "outputs": [
    {
     "data": {
      "text/plain": [
       "<seaborn.axisgrid.FacetGrid at 0x10d582290>"
      ]
     },
     "execution_count": 64,
     "metadata": {},
     "output_type": "execute_result"
    },
    {
     "data": {
      "image/png": "[encoded data removed]",
      "text/plain": [
       "<matplotlib.figure.Figure at 0x110116a50>"
      ]
     },
     "metadata": {},
     "output_type": "display_data"
    }
   ],
   "source": [
    "sns.factorplot(x='code1', y='value', col='test_type',\n",
    "               ci=68, units='subid', data=proportions)"
   ]
  },
  {
   "cell_type": "code",
   "execution_count": 90,
   "metadata": {
    "collapsed": false
   },
   "outputs": [
    {
     "data": {
      "image/png": "[encoded data removed]",
      "text/plain": [
       "<matplotlib.figure.Figure at 0x1128d75d0>"
      ]
     },
     "metadata": {},
     "output_type": "display_data"
    }
   ],
   "source": [
    "x_order = ['shortcut', 'backtrack', 'other', 'habit']\n",
    "\n",
    "p = sns.factorplot(x='code1', y='value', order=x_order,\n",
    "                   ci=68, units='subid', aspect=1.5,\n",
    "                   data=proportions.loc[proportions.test_type == 'shortcut'])\n",
    "p.set_xlabels('')\n",
    "p.set_ylabels('proportion of trials')\n",
    "sns.despine(trim=True)\n",
    "plt.savefig('/Volumes/group/awagner/sgagnon/SST/nav_data/group/results/shortcut_choices.png', dpi=300)"
   ]
  },
  {
   "cell_type": "code",
   "execution_count": 91,
   "metadata": {
    "collapsed": false
   },
   "outputs": [
    {
     "data": {
      "text/html": [
       "<div style=\"max-height:1000px;max-width:1500px;overflow:auto;\">\n",
       "<table border=\"1\" class=\"dataframe\">\n",
       "  <thead>\n",
       "    <tr style=\"text-align: right;\">\n",
       "      <th></th>\n",
       "      <th></th>\n",
       "      <th>subid</th>\n",
       "      <th>value</th>\n",
       "    </tr>\n",
       "    <tr>\n",
       "      <th>group</th>\n",
       "      <th>code1</th>\n",
       "      <th></th>\n",
       "      <th></th>\n",
       "    </tr>\n",
       "  </thead>\n",
       "  <tbody>\n",
       "    <tr>\n",
       "      <th rowspan=\"4\" valign=\"top\">control</th>\n",
       "      <th>backtrack</th>\n",
       "      <td>  7.846154</td>\n",
       "      <td> 0.137821</td>\n",
       "    </tr>\n",
       "    <tr>\n",
       "      <th>habit</th>\n",
       "      <td>  7.846154</td>\n",
       "      <td> 0.269231</td>\n",
       "    </tr>\n",
       "    <tr>\n",
       "      <th>other</th>\n",
       "      <td>  7.846154</td>\n",
       "      <td> 0.096154</td>\n",
       "    </tr>\n",
       "    <tr>\n",
       "      <th>shortcut</th>\n",
       "      <td>  7.846154</td>\n",
       "      <td> 0.496795</td>\n",
       "    </tr>\n",
       "    <tr>\n",
       "      <th rowspan=\"4\" valign=\"top\">stress</th>\n",
       "      <th>backtrack</th>\n",
       "      <td> 15.750000</td>\n",
       "      <td> 0.145833</td>\n",
       "    </tr>\n",
       "    <tr>\n",
       "      <th>habit</th>\n",
       "      <td> 15.750000</td>\n",
       "      <td> 0.322917</td>\n",
       "    </tr>\n",
       "    <tr>\n",
       "      <th>other</th>\n",
       "      <td> 15.750000</td>\n",
       "      <td> 0.114583</td>\n",
       "    </tr>\n",
       "    <tr>\n",
       "      <th>shortcut</th>\n",
       "      <td> 15.750000</td>\n",
       "      <td> 0.416667</td>\n",
       "    </tr>\n",
       "  </tbody>\n",
       "</table>\n",
       "</div>"
      ],
      "text/plain": [
       "                       subid     value\n",
       "group   code1                         \n",
       "control backtrack   7.846154  0.137821\n",
       "        habit       7.846154  0.269231\n",
       "        other       7.846154  0.096154\n",
       "        shortcut    7.846154  0.496795\n",
       "stress  backtrack  15.750000  0.145833\n",
       "        habit      15.750000  0.322917\n",
       "        other      15.750000  0.114583\n",
       "        shortcut   15.750000  0.416667"
      ]
     },
     "execution_count": 91,
     "metadata": {},
     "output_type": "execute_result"
    }
   ],
   "source": [
    "data.merge(group_info).groupby(['group', 'code1']).mean()"
   ]
  },
  {
   "cell_type": "code",
   "execution_count": 92,
   "metadata": {
    "collapsed": false
   },
   "outputs": [
    {
     "data": {
      "image/png": "[encoded data removed]",
      "text/plain": [
       "<matplotlib.figure.Figure at 0x112be4610>"
      ]
     },
     "metadata": {},
     "output_type": "display_data"
    }
   ],
   "source": [
    "data = proportions.loc[proportions.test_type == 'shortcut']\n",
    "\n",
    "p = sns.factorplot(x='code1', y='value', hue='group',\n",
    "                   ci=68, units='subid', order=x_order,\n",
    "                   aspect=1.5, dodge=.1, palette=['dodgerblue', 'orange'],\n",
    "                   data=data.merge(group_info))\n",
    "p.set_xlabels('')\n",
    "p.set_ylabels('proportion of trials')\n",
    "sns.despine(trim=True)\n",
    "plt.savefig('/Volumes/group/awagner/sgagnon/SST/nav_data/group/results/shortcut_choices_bygroup.png', dpi=300)"
   ]
  },
  {
   "cell_type": "code",
   "execution_count": null,
   "metadata": {
    "collapsed": true
   },
   "outputs": [],
   "source": []
  }
 ],
 "metadata": {
  "kernelspec": {
   "display_name": "Python 2",
   "language": "python",
   "name": "python2"
  },
  "language_info": {
   "codemirror_mode": {
    "name": "ipython",
    "version": 2
   },
   "file_extension": ".py",
   "mimetype": "text/x-python",
   "name": "python",
   "nbconvert_exporter": "python",
   "pygments_lexer": "ipython2",
   "version": "2.7.11"
  }
 },
 "nbformat": 4,
 "nbformat_minor": 0
}
