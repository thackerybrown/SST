{
 "cells": [
  {
   "cell_type": "markdown",
   "metadata": {},
   "source": [
    "# SST (Spatial Stress Test) Analysis"
   ]
  },
  {
   "cell_type": "markdown",
   "metadata": {},
   "source": [
    "Data Collected June 2015"
   ]
  },
  {
   "cell_type": "code",
   "execution_count": 16,
   "metadata": {
    "collapsed": false
   },
   "outputs": [],
   "source": [
    "import pandas as pd\n",
    "import moss\n",
    "from scipy import stats\n",
    "import scipy as sp\n",
    "import seaborn as sns\n",
    "import numpy as np\n",
    "import matplotlib\n",
    "import matplotlib.pyplot as plt\n",
    "import os.path as op\n",
    "import re\n",
    "\n",
    "#widget ability\n",
    "from IPython.html.widgets import interact, interactive, fixed\n",
    "from IPython.html import widgets\n",
    "from IPython.display import clear_output, display, HTML\n",
    "\n",
    "import glob\n",
    "\n",
    "# Gather project info & functions\n",
    "from sst_setup_project import *\n",
    "\n",
    "# for plotting\n",
    "sns.set(style='whitegrid', context='poster')\n",
    "%matplotlib inline"
   ]
  },
  {
   "cell_type": "markdown",
   "metadata": {},
   "source": [
    "### Set up directories & exp-specific information"
   ]
  },
  {
   "cell_type": "code",
   "execution_count": 17,
   "metadata": {
    "collapsed": false
   },
   "outputs": [],
   "source": [
    "dirs = dict()\n",
    "dirs['basedir'] = op.join(op.expanduser('~'), 'Experiments/SST')\n",
    "dirs['datadir'] = op.join(dirs['basedir'], 'data')\n",
    "dirs['analydir'] = op.join(dirs['basedir'], 'analysis')\n",
    "dirs['subj_info_file'] = op.join(dirs['datadir'], 'subj_info.csv')\n",
    "dirs['shortcut_file'] = op.join(dirs['datadir'], 'shortcut_coords.csv')"
   ]
  },
  {
   "cell_type": "code",
   "execution_count": 18,
   "metadata": {
    "collapsed": false
   },
   "outputs": [],
   "source": [
    "proj = gather_experiment_info(exp_name='SST', dirs=dirs)"
   ]
  },
  {
   "cell_type": "markdown",
   "metadata": {},
   "source": [
    "### Read in subject information"
   ]
  },
  {
   "cell_type": "code",
   "execution_count": 19,
   "metadata": {
    "collapsed": false
   },
   "outputs": [
    {
     "data": {
      "text/html": [
       "<div style=\"max-height:1000px;max-width:1500px;overflow:auto;\">\n",
       "<table border=\"1\" class=\"dataframe\">\n",
       "  <thead>\n",
       "    <tr style=\"text-align: right;\">\n",
       "      <th></th>\n",
       "      <th>subid</th>\n",
       "      <th>group</th>\n",
       "      <th>voltage</th>\n",
       "      <th>remove</th>\n",
       "    </tr>\n",
       "  </thead>\n",
       "  <tbody>\n",
       "    <tr>\n",
       "      <th>0</th>\n",
       "      <td> 1</td>\n",
       "      <td> pilot</td>\n",
       "      <td> 0</td>\n",
       "      <td>NaN</td>\n",
       "    </tr>\n",
       "    <tr>\n",
       "      <th>1</th>\n",
       "      <td> 2</td>\n",
       "      <td> pilot</td>\n",
       "      <td> 0</td>\n",
       "      <td>NaN</td>\n",
       "    </tr>\n",
       "    <tr>\n",
       "      <th>2</th>\n",
       "      <td> 3</td>\n",
       "      <td> pilot</td>\n",
       "      <td> 0</td>\n",
       "      <td>NaN</td>\n",
       "    </tr>\n",
       "    <tr>\n",
       "      <th>3</th>\n",
       "      <td> 4</td>\n",
       "      <td> pilot</td>\n",
       "      <td> 0</td>\n",
       "      <td>NaN</td>\n",
       "    </tr>\n",
       "    <tr>\n",
       "      <th>4</th>\n",
       "      <td> 5</td>\n",
       "      <td> pilot</td>\n",
       "      <td> 0</td>\n",
       "      <td>NaN</td>\n",
       "    </tr>\n",
       "    <tr>\n",
       "      <th>5</th>\n",
       "      <td> 6</td>\n",
       "      <td> pilot</td>\n",
       "      <td> 0</td>\n",
       "      <td>NaN</td>\n",
       "    </tr>\n",
       "    <tr>\n",
       "      <th>6</th>\n",
       "      <td> 7</td>\n",
       "      <td> pilot</td>\n",
       "      <td> 0</td>\n",
       "      <td>NaN</td>\n",
       "    </tr>\n",
       "    <tr>\n",
       "      <th>7</th>\n",
       "      <td> 8</td>\n",
       "      <td> pilot</td>\n",
       "      <td> 0</td>\n",
       "      <td>NaN</td>\n",
       "    </tr>\n",
       "  </tbody>\n",
       "</table>\n",
       "</div>"
      ],
      "text/plain": [
       "  subid  group  voltage  remove\n",
       "0     1  pilot        0     NaN\n",
       "1     2  pilot        0     NaN\n",
       "2     3  pilot        0     NaN\n",
       "3     4  pilot        0     NaN\n",
       "4     5  pilot        0     NaN\n",
       "5     6  pilot        0     NaN\n",
       "6     7  pilot        0     NaN\n",
       "7     8  pilot        0     NaN"
      ]
     },
     "execution_count": 19,
     "metadata": {},
     "output_type": "execute_result"
    }
   ],
   "source": [
    "subj_info = pd.read_csv(dirs['subj_info_file'])\n",
    "subj_info = subj_info[pd.isnull(subj_info.remove)]\n",
    "subj_info[['subid']] = subj_info.subid.astype(str)\n",
    "subj_info"
   ]
  },
  {
   "cell_type": "code",
   "execution_count": 20,
   "metadata": {
    "collapsed": false
   },
   "outputs": [
    {
     "data": {
      "text/html": [
       "<div style=\"max-height:1000px;max-width:1500px;overflow:auto;\">\n",
       "<table border=\"1\" class=\"dataframe\">\n",
       "  <thead>\n",
       "    <tr style=\"text-align: right;\">\n",
       "      <th></th>\n",
       "      <th>env</th>\n",
       "      <th>x_lo</th>\n",
       "      <th>x_hi</th>\n",
       "      <th>y_lo</th>\n",
       "      <th>y_hi</th>\n",
       "    </tr>\n",
       "  </thead>\n",
       "  <tbody>\n",
       "    <tr>\n",
       "      <th>0 </th>\n",
       "      <td>  env1</td>\n",
       "      <td> 16</td>\n",
       "      <td> 32</td>\n",
       "      <td>  0</td>\n",
       "      <td> 24</td>\n",
       "    </tr>\n",
       "    <tr>\n",
       "      <th>1 </th>\n",
       "      <td>  env2</td>\n",
       "      <td>  8</td>\n",
       "      <td> 28</td>\n",
       "      <td> 28</td>\n",
       "      <td> 48</td>\n",
       "    </tr>\n",
       "    <tr>\n",
       "      <th>2 </th>\n",
       "      <td>  env3</td>\n",
       "      <td> 24</td>\n",
       "      <td> 40</td>\n",
       "      <td> 16</td>\n",
       "      <td> 24</td>\n",
       "    </tr>\n",
       "    <tr>\n",
       "      <th>3 </th>\n",
       "      <td>  env4</td>\n",
       "      <td> 16</td>\n",
       "      <td> 32</td>\n",
       "      <td> 16</td>\n",
       "      <td> 24</td>\n",
       "    </tr>\n",
       "    <tr>\n",
       "      <th>4 </th>\n",
       "      <td>  env5</td>\n",
       "      <td>  8</td>\n",
       "      <td> 36</td>\n",
       "      <td> 24</td>\n",
       "      <td> 40</td>\n",
       "    </tr>\n",
       "    <tr>\n",
       "      <th>5 </th>\n",
       "      <td>  env6</td>\n",
       "      <td> 24</td>\n",
       "      <td> 40</td>\n",
       "      <td> 24</td>\n",
       "      <td> 40</td>\n",
       "    </tr>\n",
       "    <tr>\n",
       "      <th>6 </th>\n",
       "      <td>  env7</td>\n",
       "      <td>  8</td>\n",
       "      <td> 48</td>\n",
       "      <td> 32</td>\n",
       "      <td> 40</td>\n",
       "    </tr>\n",
       "    <tr>\n",
       "      <th>7 </th>\n",
       "      <td>  env8</td>\n",
       "      <td> 16</td>\n",
       "      <td> 32</td>\n",
       "      <td>  0</td>\n",
       "      <td> 16</td>\n",
       "    </tr>\n",
       "    <tr>\n",
       "      <th>8 </th>\n",
       "      <td>  env9</td>\n",
       "      <td> 24</td>\n",
       "      <td> 35</td>\n",
       "      <td>  0</td>\n",
       "      <td> 12</td>\n",
       "    </tr>\n",
       "    <tr>\n",
       "      <th>9 </th>\n",
       "      <td> env10</td>\n",
       "      <td> 48</td>\n",
       "      <td> 56</td>\n",
       "      <td> 24</td>\n",
       "      <td> 40</td>\n",
       "    </tr>\n",
       "    <tr>\n",
       "      <th>10</th>\n",
       "      <td> env11</td>\n",
       "      <td> 24</td>\n",
       "      <td> 32</td>\n",
       "      <td> 40</td>\n",
       "      <td> 48</td>\n",
       "    </tr>\n",
       "    <tr>\n",
       "      <th>11</th>\n",
       "      <td> env12</td>\n",
       "      <td> 16</td>\n",
       "      <td> 32</td>\n",
       "      <td> 12</td>\n",
       "      <td> 40</td>\n",
       "    </tr>\n",
       "  </tbody>\n",
       "</table>\n",
       "</div>"
      ],
      "text/plain": [
       "      env  x_lo  x_hi  y_lo  y_hi\n",
       "0    env1    16    32     0    24\n",
       "1    env2     8    28    28    48\n",
       "2    env3    24    40    16    24\n",
       "3    env4    16    32    16    24\n",
       "4    env5     8    36    24    40\n",
       "5    env6    24    40    24    40\n",
       "6    env7     8    48    32    40\n",
       "7    env8    16    32     0    16\n",
       "8    env9    24    35     0    12\n",
       "9   env10    48    56    24    40\n",
       "10  env11    24    32    40    48\n",
       "11  env12    16    32    12    40"
      ]
     },
     "execution_count": 20,
     "metadata": {},
     "output_type": "execute_result"
    }
   ],
   "source": [
    "shortcut_coords = pd.read_csv(dirs['shortcut_file'])\n",
    "shortcut_coords"
   ]
  },
  {
   "cell_type": "markdown",
   "metadata": {},
   "source": [
    "## Read in data files"
   ]
  },
  {
   "cell_type": "code",
   "execution_count": 21,
   "metadata": {
    "collapsed": false
   },
   "outputs": [
    {
     "name": "stdout",
     "output_type": "stream",
     "text": [
      "1\n",
      "2\n",
      "3\n",
      "4\n",
      "5\n",
      "6\n",
      "7\n",
      "8\n"
     ]
    }
   ],
   "source": [
    "df = pd.DataFrame() # dataframe of subjs x envs\n",
    "test = True\n",
    "questionnaires_shock  = False\n",
    "questionnaires_post  = True\n",
    "\n",
    "test_types = ['day2_noarrows_round2', 'day3_test1', 'day3_test2']\n",
    "test_trials = ['training', 'test1', 'test2']\n",
    "\n",
    "# iterate through subjects\n",
    "for subid in subj_info.subid:\n",
    "    print subid\n",
    "    \n",
    "    if test:\n",
    "        # iterate through environments\n",
    "        for env in proj['envs']:\n",
    "            for test_type, test_trial in zip(test_types, test_trials):\n",
    "    #             print env\n",
    "                # add test file\n",
    "                test_file = glob.glob(op.join(dirs['datadir'], 'nav', test_type, env, \n",
    "                                    subid,'session_*', 'log.txt'))[0]\n",
    "                output = []\n",
    "                with open(test_file) as f:\n",
    "                    data = f.readlines()\n",
    "\n",
    "                    for line in data:\n",
    "                        columns = re.split('\\t|\\r|\\n', line)\n",
    "                        output.append(columns)\n",
    "                d2 = pd.DataFrame(output, columns = ['time', 'c2', 'command', \n",
    "                                                     'c3', 'c4', 'c5', 'c6', 'c7', 'c8'])\n",
    "\n",
    "                # include subid and env\n",
    "                d2['subid'] = subid\n",
    "                d2['env'] = env\n",
    "                d2['test_trial'] = test_trial\n",
    "\n",
    "                # force time to be integer, diff from end to beginning\n",
    "                d2.time = d2.time.astype(int)\n",
    "                d2.time = d2.time - d2.time.min()\n",
    "\n",
    "                df = df.append(d2, ignore_index=True)\n",
    "        \n",
    "# Compiled group data\n",
    "if questionnaires_shock:\n",
    "    q_file = op.join(dirs['basedir'], 'data/Quest/Questionnaires_shockblock_group.csv')\n",
    "    dq_shock = pd.read_csv(q_file, index_col=0)\n",
    "\n",
    "if questionnaires_post:\n",
    "    q_file = op.join(dirs['basedir'], 'data/Quest/Questionnaires_group.csv')\n",
    "    dq_post = pd.read_csv(q_file, index_col=0)\n",
    "    dq_post['subid'] = dq_post.subid.astype(str)"
   ]
  },
  {
   "cell_type": "markdown",
   "metadata": {},
   "source": [
    "## Look at data"
   ]
  },
  {
   "cell_type": "code",
   "execution_count": 22,
   "metadata": {
    "collapsed": false
   },
   "outputs": [
    {
     "data": {
      "text/html": [
       "<div style=\"max-height:1000px;max-width:1500px;overflow:auto;\">\n",
       "<table border=\"1\" class=\"dataframe\">\n",
       "  <thead>\n",
       "    <tr style=\"text-align: right;\">\n",
       "      <th></th>\n",
       "      <th>time</th>\n",
       "      <th>c2</th>\n",
       "      <th>command</th>\n",
       "      <th>c3</th>\n",
       "      <th>c4</th>\n",
       "      <th>c5</th>\n",
       "      <th>c6</th>\n",
       "      <th>c7</th>\n",
       "      <th>c8</th>\n",
       "      <th>subid</th>\n",
       "      <th>env</th>\n",
       "      <th>test_trial</th>\n",
       "    </tr>\n",
       "  </thead>\n",
       "  <tbody>\n",
       "    <tr>\n",
       "      <th>0</th>\n",
       "      <td>    0</td>\n",
       "      <td> 1</td>\n",
       "      <td> COMMON_WIN_PROPERTIES</td>\n",
       "      <td>                    800</td>\n",
       "      <td>  600</td>\n",
       "      <td> True</td>\n",
       "      <td> False</td>\n",
       "      <td>     </td>\n",
       "      <td>     </td>\n",
       "      <td> 1</td>\n",
       "      <td> env1</td>\n",
       "      <td> training</td>\n",
       "    </tr>\n",
       "    <tr>\n",
       "      <th>1</th>\n",
       "      <td>  140</td>\n",
       "      <td> 0</td>\n",
       "      <td>           CAMERA_INIT</td>\n",
       "      <td> PandaEPL_defaultCamera</td>\n",
       "      <td>     </td>\n",
       "      <td>     </td>\n",
       "      <td>  None</td>\n",
       "      <td> None</td>\n",
       "      <td> None</td>\n",
       "      <td> 1</td>\n",
       "      <td> env1</td>\n",
       "      <td> training</td>\n",
       "    </tr>\n",
       "    <tr>\n",
       "      <th>2</th>\n",
       "      <td>  140</td>\n",
       "      <td> 0</td>\n",
       "      <td>               VR_INIT</td>\n",
       "      <td>                       </td>\n",
       "      <td>     </td>\n",
       "      <td> None</td>\n",
       "      <td>  None</td>\n",
       "      <td> None</td>\n",
       "      <td> None</td>\n",
       "      <td> 1</td>\n",
       "      <td> env1</td>\n",
       "      <td> training</td>\n",
       "    </tr>\n",
       "    <tr>\n",
       "      <th>3</th>\n",
       "      <td>  140</td>\n",
       "      <td> 0</td>\n",
       "      <td>            VR_CREATED</td>\n",
       "      <td>                       </td>\n",
       "      <td>     </td>\n",
       "      <td> None</td>\n",
       "      <td>  None</td>\n",
       "      <td> None</td>\n",
       "      <td> None</td>\n",
       "      <td> 1</td>\n",
       "      <td> env1</td>\n",
       "      <td> training</td>\n",
       "    </tr>\n",
       "    <tr>\n",
       "      <th>4</th>\n",
       "      <td> 1946</td>\n",
       "      <td> 0</td>\n",
       "      <td>             CONF_LOAD</td>\n",
       "      <td>            ./config.py</td>\n",
       "      <td> None</td>\n",
       "      <td>     </td>\n",
       "      <td>      </td>\n",
       "      <td> None</td>\n",
       "      <td> None</td>\n",
       "      <td> 1</td>\n",
       "      <td> env1</td>\n",
       "      <td> training</td>\n",
       "    </tr>\n",
       "  </tbody>\n",
       "</table>\n",
       "</div>"
      ],
      "text/plain": [
       "   time c2                command                      c3    c4    c5     c6  \\\n",
       "0     0  1  COMMON_WIN_PROPERTIES                     800   600  True  False   \n",
       "1   140  0            CAMERA_INIT  PandaEPL_defaultCamera               None   \n",
       "2   140  0                VR_INIT                                None   None   \n",
       "3   140  0             VR_CREATED                                None   None   \n",
       "4  1946  0              CONF_LOAD             ./config.py  None                \n",
       "\n",
       "     c7    c8 subid   env test_trial  \n",
       "0                 1  env1   training  \n",
       "1  None  None     1  env1   training  \n",
       "2  None  None     1  env1   training  \n",
       "3  None  None     1  env1   training  \n",
       "4  None  None     1  env1   training  "
      ]
     },
     "execution_count": 22,
     "metadata": {},
     "output_type": "execute_result"
    }
   ],
   "source": [
    "df.head()"
   ]
  },
  {
   "cell_type": "markdown",
   "metadata": {},
   "source": [
    "### Look at 2D position in space"
   ]
  },
  {
   "cell_type": "code",
   "execution_count": 23,
   "metadata": {
    "collapsed": false
   },
   "outputs": [
    {
     "data": {
      "text/html": [
       "<div style=\"max-height:1000px;max-width:1500px;overflow:auto;\">\n",
       "<table border=\"1\" class=\"dataframe\">\n",
       "  <thead>\n",
       "    <tr style=\"text-align: right;\">\n",
       "      <th></th>\n",
       "      <th>time</th>\n",
       "      <th>c2</th>\n",
       "      <th>c3</th>\n",
       "      <th>c4</th>\n",
       "      <th>subid</th>\n",
       "      <th>env</th>\n",
       "      <th>test_trial</th>\n",
       "    </tr>\n",
       "  </thead>\n",
       "  <tbody>\n",
       "    <tr>\n",
       "      <th>0</th>\n",
       "      <td> 6656</td>\n",
       "      <td> 1</td>\n",
       "      <td>        terrain</td>\n",
       "      <td>     LPoint3f(0, 0, 0)</td>\n",
       "      <td> 1</td>\n",
       "      <td> env1</td>\n",
       "      <td> training</td>\n",
       "    </tr>\n",
       "    <tr>\n",
       "      <th>1</th>\n",
       "      <td> 6656</td>\n",
       "      <td> 1</td>\n",
       "      <td>          zebra</td>\n",
       "      <td>  LPoint3f(4, 34, 0.5)</td>\n",
       "      <td> 1</td>\n",
       "      <td> env1</td>\n",
       "      <td> training</td>\n",
       "    </tr>\n",
       "    <tr>\n",
       "      <th>2</th>\n",
       "      <td> 6656</td>\n",
       "      <td> 1</td>\n",
       "      <td>        lettuce</td>\n",
       "      <td> LPoint3f(26, 52, 0.5)</td>\n",
       "      <td> 1</td>\n",
       "      <td> env1</td>\n",
       "      <td> training</td>\n",
       "    </tr>\n",
       "    <tr>\n",
       "      <th>3</th>\n",
       "      <td> 6656</td>\n",
       "      <td> 1</td>\n",
       "      <td> George_Clooney</td>\n",
       "      <td> LPoint3f(20, 22, 0.5)</td>\n",
       "      <td> 1</td>\n",
       "      <td> env1</td>\n",
       "      <td> training</td>\n",
       "    </tr>\n",
       "    <tr>\n",
       "      <th>4</th>\n",
       "      <td> 6656</td>\n",
       "      <td> 1</td>\n",
       "      <td>            zzz</td>\n",
       "      <td> LPoint3f(12, 52, 0.2)</td>\n",
       "      <td> 1</td>\n",
       "      <td> env1</td>\n",
       "      <td> training</td>\n",
       "    </tr>\n",
       "  </tbody>\n",
       "</table>\n",
       "</div>"
      ],
      "text/plain": [
       "   time c2              c3                     c4 subid   env test_trial\n",
       "0  6656  1         terrain      LPoint3f(0, 0, 0)     1  env1   training\n",
       "1  6656  1           zebra   LPoint3f(4, 34, 0.5)     1  env1   training\n",
       "2  6656  1         lettuce  LPoint3f(26, 52, 0.5)     1  env1   training\n",
       "3  6656  1  George_Clooney  LPoint3f(20, 22, 0.5)     1  env1   training\n",
       "4  6656  1             zzz  LPoint3f(12, 52, 0.2)     1  env1   training"
      ]
     },
     "execution_count": 23,
     "metadata": {},
     "output_type": "execute_result"
    }
   ],
   "source": [
    "dp = df[df.command == 'VROBJECT_POS'].reset_index()\n",
    "dp = dp.drop(['c5', 'c6', 'c7', 'c8', 'command', 'index'], 1) # remove unncessary cols\n",
    "dp.head()"
   ]
  },
  {
   "cell_type": "code",
   "execution_count": 24,
   "metadata": {
    "collapsed": false
   },
   "outputs": [
    {
     "data": {
      "text/html": [
       "<div style=\"max-height:1000px;max-width:1500px;overflow:auto;\">\n",
       "<table border=\"1\" class=\"dataframe\">\n",
       "  <thead>\n",
       "    <tr style=\"text-align: right;\">\n",
       "      <th></th>\n",
       "      <th>time</th>\n",
       "      <th>c3</th>\n",
       "      <th>subid</th>\n",
       "      <th>env</th>\n",
       "      <th>test_trial</th>\n",
       "      <th>x</th>\n",
       "      <th>y</th>\n",
       "      <th>z</th>\n",
       "    </tr>\n",
       "  </thead>\n",
       "  <tbody>\n",
       "    <tr>\n",
       "      <th>0</th>\n",
       "      <td> 6656</td>\n",
       "      <td>        terrain</td>\n",
       "      <td> 1</td>\n",
       "      <td> env1</td>\n",
       "      <td> training</td>\n",
       "      <td>  0</td>\n",
       "      <td>  0</td>\n",
       "      <td> 0.0</td>\n",
       "    </tr>\n",
       "    <tr>\n",
       "      <th>1</th>\n",
       "      <td> 6656</td>\n",
       "      <td>          zebra</td>\n",
       "      <td> 1</td>\n",
       "      <td> env1</td>\n",
       "      <td> training</td>\n",
       "      <td>  4</td>\n",
       "      <td> 34</td>\n",
       "      <td> 0.5</td>\n",
       "    </tr>\n",
       "    <tr>\n",
       "      <th>2</th>\n",
       "      <td> 6656</td>\n",
       "      <td>        lettuce</td>\n",
       "      <td> 1</td>\n",
       "      <td> env1</td>\n",
       "      <td> training</td>\n",
       "      <td> 26</td>\n",
       "      <td> 52</td>\n",
       "      <td> 0.5</td>\n",
       "    </tr>\n",
       "    <tr>\n",
       "      <th>3</th>\n",
       "      <td> 6656</td>\n",
       "      <td> George_Clooney</td>\n",
       "      <td> 1</td>\n",
       "      <td> env1</td>\n",
       "      <td> training</td>\n",
       "      <td> 20</td>\n",
       "      <td> 22</td>\n",
       "      <td> 0.5</td>\n",
       "    </tr>\n",
       "    <tr>\n",
       "      <th>4</th>\n",
       "      <td> 6656</td>\n",
       "      <td>            zzz</td>\n",
       "      <td> 1</td>\n",
       "      <td> env1</td>\n",
       "      <td> training</td>\n",
       "      <td> 12</td>\n",
       "      <td> 52</td>\n",
       "      <td> 0.2</td>\n",
       "    </tr>\n",
       "  </tbody>\n",
       "</table>\n",
       "</div>"
      ],
      "text/plain": [
       "   time              c3 subid   env test_trial   x   y    z\n",
       "0  6656         terrain     1  env1   training   0   0  0.0\n",
       "1  6656           zebra     1  env1   training   4  34  0.5\n",
       "2  6656         lettuce     1  env1   training  26  52  0.5\n",
       "3  6656  George_Clooney     1  env1   training  20  22  0.5\n",
       "4  6656             zzz     1  env1   training  12  52  0.2"
      ]
     },
     "execution_count": 24,
     "metadata": {},
     "output_type": "execute_result"
    }
   ],
   "source": [
    "dp = dp.join(pd.DataFrame(dp.c4.str.split('Point3|, |\\(|\\)').tolist()).reindex(columns=[2, 3, 4]))\n",
    "dp.rename(columns={2: 'x', 3: 'y', 4: 'z'}, inplace=True)\n",
    "dp = dp.drop(['c4', 'c2'], 1)\n",
    "dp[['x', 'y', 'z']] = dp[['x', 'y', 'z']].astype(float)\n",
    "dp.head()"
   ]
  },
  {
   "cell_type": "markdown",
   "metadata": {},
   "source": [
    "## Plot environment"
   ]
  },
  {
   "cell_type": "code",
   "execution_count": 25,
   "metadata": {
    "collapsed": false
   },
   "outputs": [
    {
     "data": {
      "image/png": "[encoded data removed]",
      "text/plain": [
       "<matplotlib.figure.Figure at 0x14f054650>"
      ]
     },
     "metadata": {},
     "output_type": "display_data"
    }
   ],
   "source": [
    "def plot_env(env):\n",
    "    plot_environment(env, dp, proj)\n",
    "    \n",
    "env_opts = widgets.Dropdown(options=list(dp.env.unique()))\n",
    "\n",
    "w = widgets.interact(plot_env, \n",
    "                     env=env_opts)"
   ]
  },
  {
   "cell_type": "markdown",
   "metadata": {},
   "source": [
    "## Visualize paths "
   ]
  },
  {
   "cell_type": "code",
   "execution_count": 26,
   "metadata": {
    "collapsed": false
   },
   "outputs": [
    {
     "data": {
      "image/png": "[encoded data removed]",
      "text/plain": [
       "<matplotlib.figure.Figure at 0x14f0dd410>"
      ]
     },
     "metadata": {},
     "output_type": "display_data"
    }
   ],
   "source": [
    "def plot_sub(subj, env, test_trial):\n",
    "    plot_paths(env=env, subj=subj, \n",
    "           dp=dp[dp.test_trial == test_trial], \n",
    "           proj=proj)\n",
    "    \n",
    "subj_opts = widgets.Dropdown(options=list(dp.subid.unique()))\n",
    "env_opts = widgets.Dropdown(options=list(dp.env.unique()))\n",
    "test_opts = widgets.Dropdown(options=list(['test1', 'test2']))\n",
    "\n",
    "w = widgets.interact(plot_sub, \n",
    "                     subj=subj_opts, \n",
    "                     env=env_opts, \n",
    "                     test_trial=test_opts)"
   ]
  },
  {
   "cell_type": "code",
   "execution_count": null,
   "metadata": {
    "collapsed": true
   },
   "outputs": [],
   "source": []
  },
  {
   "cell_type": "code",
   "execution_count": 28,
   "metadata": {
    "collapsed": false
   },
   "outputs": [
    {
     "data": {
      "text/plain": [
       "(<matplotlib.figure.Figure at 0x13ca14b50>,\n",
       " <matplotlib.axes.AxesSubplot at 0x13c9ee090>)"
      ]
     },
     "execution_count": 28,
     "metadata": {},
     "output_type": "execute_result"
    },
    {
     "data": {
      "image/png": "[encoded data removed]",
      "text/plain": [
       "<matplotlib.figure.Figure at 0x183249a10>"
      ]
     },
     "metadata": {},
     "output_type": "display_data"
    },
    {
     "data": {
      "image/png": "[encoded data removed]",
      "text/plain": [
       "<matplotlib.figure.Figure at 0x13ca14b50>"
      ]
     },
     "metadata": {},
     "output_type": "display_data"
    }
   ],
   "source": [
    "subj=1\n",
    "env='env1'\n",
    "test_trial = 'test1'\n",
    "plot_paths(env=env, subj=subj, \n",
    "           dp=dp[dp.test_trial == test_trial], \n",
    "           proj=proj)\n",
    "test_trial = 'training'\n",
    "plot_paths(env=env, subj=subj, \n",
    "           dp=dp[dp.test_trial == test_trial], \n",
    "           proj=proj)"
   ]
  },
  {
   "cell_type": "code",
   "execution_count": null,
   "metadata": {
    "collapsed": true
   },
   "outputs": [],
   "source": []
  }
 ],
 "metadata": {
  "kernelspec": {
   "display_name": "Python 2",
   "language": "python",
   "name": "python2"
  },
  "language_info": {
   "codemirror_mode": {
    "name": "ipython",
    "version": 2
   },
   "file_extension": ".py",
   "mimetype": "text/x-python",
   "name": "python",
   "nbconvert_exporter": "python",
   "pygments_lexer": "ipython2",
   "version": "2.7.10"
  }
 },
 "nbformat": 4,
 "nbformat_minor": 0
}
