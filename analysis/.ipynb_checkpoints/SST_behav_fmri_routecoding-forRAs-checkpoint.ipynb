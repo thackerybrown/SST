{
 "cells": [
  {
   "cell_type": "markdown",
   "metadata": {},
   "source": [
    "# SST (Spatial Stress Test) Behavioral Analysis"
   ]
  },
  {
   "cell_type": "markdown",
   "metadata": {},
   "source": [
    "Data Collected through Winter 2017"
   ]
  },
  {
   "cell_type": "code",
   "execution_count": 1,
   "metadata": {
    "collapsed": false
   },
   "outputs": [
    {
     "name": "stdout",
     "output_type": "stream",
     "text": [
      "v2\n"
     ]
    }
   ],
   "source": [
    "import pandas as pd\n",
    "import moss\n",
    "from scipy import stats\n",
    "import scipy as sp\n",
    "import seaborn as sns\n",
    "import numpy as np\n",
    "import matplotlib\n",
    "import matplotlib.pyplot as plt\n",
    "import os.path as op\n",
    "import re\n",
    "\n",
    "# Gather project info & functions\n",
    "from sst_setup_project import *\n",
    "\n",
    "#widget ability\n",
    "import ipywidgets\n",
    "from ipywidgets import interact, interactive, fixed\n",
    "from IPython.display import clear_output, display, HTML\n",
    "\n",
    "import glob\n",
    "\n",
    "# for plotting\n",
    "sns.set(style='whitegrid', context='poster')\n",
    "%matplotlib inline\n",
    "\n",
    "# R for stats\n",
    "# %load_ext rpy2.ipython\n",
    "# %R require(lme4)\n",
    "# %R require(lmerTest)"
   ]
  },
  {
   "cell_type": "markdown",
   "metadata": {},
   "source": [
    "### Set up directories & exp-specific information"
   ]
  },
  {
   "cell_type": "code",
   "execution_count": 2,
   "metadata": {
    "collapsed": false
   },
   "outputs": [],
   "source": [
    "dirs = dict()\n",
    "# Change this to wherever Github repository is stored on your computer:\n",
    "dirs['basedir'] = op.join(op.expanduser('~'), 'Experiments/SST')\n",
    "dirs['analydir'] = op.join(dirs['basedir'], 'analysis')\n",
    "\n",
    "# On the server, so make sure it's mounted!\n",
    "dirs['navdir'] = op.join('/Volumes/group/awagner/sgagnon/SST/nav_data')\n",
    "dirs['subj_info_file'] = op.join(dirs['navdir'], 'analysis', 'subj_info.csv')\n",
    "dirs['order_file'] = op.join(dirs['navdir'], 'analysis', 'SST_env_order_training.csv')"
   ]
  },
  {
   "cell_type": "code",
   "execution_count": 3,
   "metadata": {
    "collapsed": false
   },
   "outputs": [
    {
     "name": "stdout",
     "output_type": "stream",
     "text": [
      "v2\n"
     ]
    }
   ],
   "source": [
    "proj = gather_experiment_info(exp_name='SST', dirs=dirs)"
   ]
  },
  {
   "cell_type": "markdown",
   "metadata": {},
   "source": [
    "## Read in subject information"
   ]
  },
  {
   "cell_type": "code",
   "execution_count": 4,
   "metadata": {
    "collapsed": false
   },
   "outputs": [
    {
     "data": {
      "text/plain": [
       "control    19\n",
       "stress     17\n",
       "Name: group, dtype: int64"
      ]
     },
     "execution_count": 4,
     "metadata": {},
     "output_type": "execute_result"
    }
   ],
   "source": [
    "subj_info = pd.read_csv(dirs['subj_info_file'])\n",
    "subj_info = subj_info[pd.isnull(subj_info.remove)]\n",
    "subj_info[['subid']] = subj_info.subid.astype(str)\n",
    "subj_info.group.value_counts()"
   ]
  },
  {
   "cell_type": "markdown",
   "metadata": {},
   "source": [
    "# Read in data"
   ]
  },
  {
   "cell_type": "code",
   "execution_count": 14,
   "metadata": {
    "collapsed": false
   },
   "outputs": [
    {
     "data": {
      "text/plain": [
       "(131569, 14)"
      ]
     },
     "execution_count": 14,
     "metadata": {},
     "output_type": "execute_result"
    }
   ],
   "source": [
    "filename = '/Volumes/group/awagner/sgagnon/SST/nav_data/group_fmri_logs.h5'\n",
    "df_in = pd.read_hdf(filename, 'df')\n",
    "df_in.shape"
   ]
  },
  {
   "cell_type": "markdown",
   "metadata": {},
   "source": [
    "# Plot"
   ]
  },
  {
   "cell_type": "markdown",
   "metadata": {},
   "source": [
    "### Some notes:\n",
    "- Subject 3 missing run 2\n",
    "- Subjects 22 have off env/trials [in run 2, crashed during env 5, but then restarted env 5 in 2nd log file; remove env 5 from first log file]\n",
    "- Subjects 13 missing trials 1-3 from run 1 [shifted envs up in order file, and removed trials 10-12]\n",
    "- Subject 11, run 2 (missing trials 1-3) [shifted envs up in order file, and removed trials 10-12]"
   ]
  },
  {
   "cell_type": "code",
   "execution_count": 15,
   "metadata": {
    "collapsed": false
   },
   "outputs": [
    {
     "data": {
      "image/png": "[encoded data removed]",
      "text/plain": [
       "<matplotlib.figure.Figure at 0x11b495810>"
      ]
     },
     "metadata": {},
     "output_type": "display_data"
    }
   ],
   "source": [
    "def plot_sub(subj, env, test_trial, rep):\n",
    "    plot_paths(env=env, subj=subj, \n",
    "               dp=df_in.loc[(df_in['type'] == test_trial) &\n",
    "                            (df_in.rep == rep)], \n",
    "               proj=proj, dirs=dirs)\n",
    "    \n",
    "subj_opts = ipywidgets.Select(options=list(df_in.subid.unique()))\n",
    "env_opts = ipywidgets.ToggleButtons(options=list(np.sort(df_in.env.unique())))\n",
    "test_opts = ipywidgets.ToggleButtons(options=list(['habit', 'shortcut']))\n",
    "rep_opts = ipywidgets.IntSlider(min=1, max=2)\n",
    "\n",
    "w = ipywidgets.interact(plot_sub, \n",
    "                        subj=subj_opts, \n",
    "                        env=env_opts, \n",
    "                        test_trial=test_opts, \n",
    "                        rep=rep_opts)"
   ]
  },
  {
   "cell_type": "code",
   "execution_count": null,
   "metadata": {
    "collapsed": true
   },
   "outputs": [],
   "source": []
  }
 ],
 "metadata": {
  "kernelspec": {
   "display_name": "Python 2",
   "language": "python",
   "name": "python2"
  },
  "language_info": {
   "codemirror_mode": {
    "name": "ipython",
    "version": 2
   },
   "file_extension": ".py",
   "mimetype": "text/x-python",
   "name": "python",
   "nbconvert_exporter": "python",
   "pygments_lexer": "ipython2",
   "version": "2.7.12"
  }
 },
 "nbformat": 4,
 "nbformat_minor": 0
}
