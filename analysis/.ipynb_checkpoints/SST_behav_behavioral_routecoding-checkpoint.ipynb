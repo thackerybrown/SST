{
 "cells": [
  {
   "cell_type": "markdown",
   "metadata": {},
   "source": [
    "# SST (Spatial Stress Test) Behavioral Analysis"
   ]
  },
  {
   "cell_type": "markdown",
   "metadata": {},
   "source": [
    "Data Collected June 2015"
   ]
  },
  {
   "cell_type": "code",
   "execution_count": 56,
   "metadata": {
    "collapsed": false
   },
   "outputs": [],
   "source": [
    "import pandas as pd\n",
    "import moss\n",
    "from scipy import stats\n",
    "import scipy as sp\n",
    "import seaborn as sns\n",
    "import numpy as np\n",
    "import matplotlib\n",
    "import matplotlib.pyplot as plt\n",
    "import os.path as op\n",
    "import re\n",
    "\n",
    "#widget ability\n",
    "import ipywidgets\n",
    "from ipywidgets import interact, interactive, fixed\n",
    "from IPython.display import clear_output, display, HTML\n",
    "\n",
    "import glob\n",
    "\n",
    "# Gather project info & functions\n",
    "from sst_setup_project import *\n",
    "\n",
    "# for plotting\n",
    "sns.set(style='whitegrid', context='poster')\n",
    "%matplotlib inline\n",
    "\n",
    "# R for stats\n",
    "# %load_ext rpy2.ipython\n",
    "# %R require(lme4)\n",
    "# %R require(lmerTest)"
   ]
  },
  {
   "cell_type": "markdown",
   "metadata": {},
   "source": [
    "### Set up directories & exp-specific information"
   ]
  },
  {
   "cell_type": "code",
   "execution_count": 57,
   "metadata": {
    "collapsed": false
   },
   "outputs": [],
   "source": [
    "dirs = dict()\n",
    "dirs['basedir'] = op.join(op.expanduser('~'), 'Experiments/SST')\n",
    "dirs['navdir'] = op.join('/Volumes/group/awagner/sgagnon/SST/nav_data')\n",
    "dirs['analydir'] = op.join(dirs['basedir'], 'analysis')\n",
    "dirs['subj_info_file'] = op.join(dirs['basedir'], 'data', 'subj_info.csv')\n",
    "dirs['shortcut_file'] = op.join(dirs['basedir'], 'data','shortcut_coords.csv')\n",
    "dirs['order_file'] = op.join(dirs['basedir'], 'data','SST_env_order_training.csv')"
   ]
  },
  {
   "cell_type": "code",
   "execution_count": 58,
   "metadata": {
    "collapsed": false
   },
   "outputs": [
    {
     "name": "stdout",
     "output_type": "stream",
     "text": [
      "v2\n"
     ]
    }
   ],
   "source": [
    "proj = gather_experiment_info(exp_name='SST', dirs=dirs)"
   ]
  },
  {
   "cell_type": "markdown",
   "metadata": {},
   "source": [
    "### Read in subject information"
   ]
  },
  {
   "cell_type": "code",
   "execution_count": 59,
   "metadata": {
    "collapsed": false
   },
   "outputs": [
    {
     "data": {
      "text/plain": [
       "control    19\n",
       "stress     17\n",
       "Name: group, dtype: int64"
      ]
     },
     "execution_count": 59,
     "metadata": {},
     "output_type": "execute_result"
    }
   ],
   "source": [
    "subj_info = pd.read_csv(dirs['subj_info_file'])\n",
    "subj_info = subj_info[pd.isnull(subj_info.remove)]\n",
    "subj_info[['subid']] = subj_info.subid.astype(str)\n",
    "subj_info.group.value_counts()"
   ]
  },
  {
   "cell_type": "code",
   "execution_count": 60,
   "metadata": {
    "collapsed": false,
    "scrolled": true
   },
   "outputs": [
    {
     "data": {
      "text/html": [
       "<div>\n",
       "<table border=\"1\" class=\"dataframe\">\n",
       "  <thead>\n",
       "    <tr style=\"text-align: right;\">\n",
       "      <th></th>\n",
       "      <th>env</th>\n",
       "      <th>x_lo</th>\n",
       "      <th>x_hi</th>\n",
       "      <th>y_lo</th>\n",
       "      <th>y_hi</th>\n",
       "    </tr>\n",
       "  </thead>\n",
       "  <tbody>\n",
       "    <tr>\n",
       "      <th>0</th>\n",
       "      <td>env1</td>\n",
       "      <td>16</td>\n",
       "      <td>32</td>\n",
       "      <td>5</td>\n",
       "      <td>15</td>\n",
       "    </tr>\n",
       "    <tr>\n",
       "      <th>1</th>\n",
       "      <td>env2</td>\n",
       "      <td>8</td>\n",
       "      <td>28</td>\n",
       "      <td>28</td>\n",
       "      <td>48</td>\n",
       "    </tr>\n",
       "    <tr>\n",
       "      <th>2</th>\n",
       "      <td>env3</td>\n",
       "      <td>24</td>\n",
       "      <td>40</td>\n",
       "      <td>16</td>\n",
       "      <td>24</td>\n",
       "    </tr>\n",
       "    <tr>\n",
       "      <th>3</th>\n",
       "      <td>env4</td>\n",
       "      <td>16</td>\n",
       "      <td>32</td>\n",
       "      <td>16</td>\n",
       "      <td>24</td>\n",
       "    </tr>\n",
       "    <tr>\n",
       "      <th>4</th>\n",
       "      <td>env5</td>\n",
       "      <td>12</td>\n",
       "      <td>20</td>\n",
       "      <td>20</td>\n",
       "      <td>31</td>\n",
       "    </tr>\n",
       "    <tr>\n",
       "      <th>5</th>\n",
       "      <td>env6</td>\n",
       "      <td>24</td>\n",
       "      <td>40</td>\n",
       "      <td>24</td>\n",
       "      <td>40</td>\n",
       "    </tr>\n",
       "    <tr>\n",
       "      <th>6</th>\n",
       "      <td>env7</td>\n",
       "      <td>10</td>\n",
       "      <td>15</td>\n",
       "      <td>30</td>\n",
       "      <td>40</td>\n",
       "    </tr>\n",
       "    <tr>\n",
       "      <th>7</th>\n",
       "      <td>env8</td>\n",
       "      <td>16</td>\n",
       "      <td>32</td>\n",
       "      <td>0</td>\n",
       "      <td>16</td>\n",
       "    </tr>\n",
       "    <tr>\n",
       "      <th>8</th>\n",
       "      <td>env9</td>\n",
       "      <td>24</td>\n",
       "      <td>35</td>\n",
       "      <td>0</td>\n",
       "      <td>12</td>\n",
       "    </tr>\n",
       "    <tr>\n",
       "      <th>9</th>\n",
       "      <td>env10</td>\n",
       "      <td>48</td>\n",
       "      <td>56</td>\n",
       "      <td>24</td>\n",
       "      <td>40</td>\n",
       "    </tr>\n",
       "    <tr>\n",
       "      <th>10</th>\n",
       "      <td>env11</td>\n",
       "      <td>24</td>\n",
       "      <td>32</td>\n",
       "      <td>40</td>\n",
       "      <td>48</td>\n",
       "    </tr>\n",
       "    <tr>\n",
       "      <th>11</th>\n",
       "      <td>env12</td>\n",
       "      <td>24</td>\n",
       "      <td>35</td>\n",
       "      <td>30</td>\n",
       "      <td>45</td>\n",
       "    </tr>\n",
       "  </tbody>\n",
       "</table>\n",
       "</div>"
      ],
      "text/plain": [
       "      env  x_lo  x_hi  y_lo  y_hi\n",
       "0    env1    16    32     5    15\n",
       "1    env2     8    28    28    48\n",
       "2    env3    24    40    16    24\n",
       "3    env4    16    32    16    24\n",
       "4    env5    12    20    20    31\n",
       "5    env6    24    40    24    40\n",
       "6    env7    10    15    30    40\n",
       "7    env8    16    32     0    16\n",
       "8    env9    24    35     0    12\n",
       "9   env10    48    56    24    40\n",
       "10  env11    24    32    40    48\n",
       "11  env12    24    35    30    45"
      ]
     },
     "execution_count": 60,
     "metadata": {},
     "output_type": "execute_result"
    }
   ],
   "source": [
    "shortcut_coords = pd.read_csv(dirs['shortcut_file'])\n",
    "shortcut_coords"
   ]
  },
  {
   "cell_type": "code",
   "execution_count": 61,
   "metadata": {
    "collapsed": false
   },
   "outputs": [
    {
     "data": {
      "text/html": [
       "<div>\n",
       "<table border=\"1\" class=\"dataframe\">\n",
       "  <thead>\n",
       "    <tr style=\"text-align: right;\">\n",
       "      <th></th>\n",
       "      <th>subid</th>\n",
       "      <th>rep</th>\n",
       "      <th>run</th>\n",
       "      <th>trial</th>\n",
       "      <th>env</th>\n",
       "    </tr>\n",
       "  </thead>\n",
       "  <tbody>\n",
       "    <tr>\n",
       "      <th>493</th>\n",
       "      <td>23</td>\n",
       "      <td>2</td>\n",
       "      <td>2</td>\n",
       "      <td>8</td>\n",
       "      <td>12</td>\n",
       "    </tr>\n",
       "    <tr>\n",
       "      <th>494</th>\n",
       "      <td>23</td>\n",
       "      <td>2</td>\n",
       "      <td>2</td>\n",
       "      <td>9</td>\n",
       "      <td>1</td>\n",
       "    </tr>\n",
       "    <tr>\n",
       "      <th>495</th>\n",
       "      <td>23</td>\n",
       "      <td>2</td>\n",
       "      <td>2</td>\n",
       "      <td>10</td>\n",
       "      <td>10</td>\n",
       "    </tr>\n",
       "    <tr>\n",
       "      <th>496</th>\n",
       "      <td>23</td>\n",
       "      <td>2</td>\n",
       "      <td>2</td>\n",
       "      <td>11</td>\n",
       "      <td>8</td>\n",
       "    </tr>\n",
       "    <tr>\n",
       "      <th>497</th>\n",
       "      <td>23</td>\n",
       "      <td>2</td>\n",
       "      <td>2</td>\n",
       "      <td>12</td>\n",
       "      <td>7</td>\n",
       "    </tr>\n",
       "  </tbody>\n",
       "</table>\n",
       "</div>"
      ],
      "text/plain": [
       "    subid  rep  run  trial  env\n",
       "493    23    2    2      8   12\n",
       "494    23    2    2      9    1\n",
       "495    23    2    2     10   10\n",
       "496    23    2    2     11    8\n",
       "497    23    2    2     12    7"
      ]
     },
     "execution_count": 61,
     "metadata": {},
     "output_type": "execute_result"
    }
   ],
   "source": [
    "trial_order = pd.read_csv(dirs['order_file'])\n",
    "trial_order[['subid']] = trial_order[['subid']].astype(str)\n",
    "trial_order.tail()"
   ]
  },
  {
   "cell_type": "markdown",
   "metadata": {},
   "source": [
    "## Read in/concatenate data files"
   ]
  },
  {
   "cell_type": "markdown",
   "metadata": {},
   "source": [
    "#### Only need to run this if first time:"
   ]
  },
  {
   "cell_type": "code",
   "execution_count": 62,
   "metadata": {
    "collapsed": false
   },
   "outputs": [
    {
     "name": "stdout",
     "output_type": "stream",
     "text": [
      "3\n",
      " ****** Missing data for run 2\n",
      "Number of trials: 12\n"
     ]
    },
    {
     "name": "stderr",
     "output_type": "stream",
     "text": [
      "/Users/sgagnon/anaconda/lib/python2.7/site-packages/ipykernel/__main__.py:76: FutureWarning: sort(columns=....) is deprecated, use sort_values(by=.....)\n",
      "/Users/sgagnon/anaconda/lib/python2.7/site-packages/ipykernel/__main__.py:79: SettingWithCopyWarning: \n",
      "A value is trying to be set on a copy of a slice from a DataFrame.\n",
      "Try using .loc[row_indexer,col_indexer] = value instead\n",
      "\n",
      "See the caveats in the documentation: http://pandas.pydata.org/pandas-docs/stable/indexing.html#indexing-view-versus-copy\n"
     ]
    },
    {
     "name": "stdout",
     "output_type": "stream",
     "text": [
      "subj d2 shape:(103935, 11)\n",
      "12\n",
      "12\n",
      "subj dp (downsampled) shape:(1259, 15)\n",
      "Group df shape: (1259, 15)\n",
      "_______________________________________\n",
      "4\n",
      "Number of trials: 24\n",
      "subj d2 shape:(198189, 11)\n",
      "24\n",
      "24\n",
      "subj dp (downsampled) shape:(2546, 15)\n",
      "Group df shape: (3805, 15)\n",
      "_______________________________________\n",
      "5\n",
      "***** something happened, 2 files for run 1! *****\n",
      "Number of trials: 24\n",
      "subj d2 shape:(223116, 11)\n",
      "24\n",
      "24\n",
      "subj dp (downsampled) shape:(2821, 15)\n",
      "Group df shape: (6626, 15)\n",
      "_______________________________________\n",
      "6\n",
      "Number of trials: 24\n",
      "subj d2 shape:(257845, 11)\n",
      "24\n",
      "24\n",
      "subj dp (downsampled) shape:(3001, 15)\n",
      "Group df shape: (9627, 15)\n",
      "_______________________________________\n",
      "7\n",
      "Number of trials: 24\n",
      "subj d2 shape:(224220, 11)\n",
      "24\n",
      "24\n",
      "subj dp (downsampled) shape:(2697, 15)\n",
      "Group df shape: (12324, 15)\n",
      "_______________________________________\n",
      "9\n",
      "***** something happened, 2 files for run 2! *****\n",
      "Number of trials: 24\n",
      "subj d2 shape:(199489, 11)\n",
      "24\n",
      "24\n",
      "subj dp (downsampled) shape:(2588, 15)\n",
      "Group df shape: (14912, 15)\n",
      "_______________________________________\n",
      "10\n",
      "***** something happened, 2 files for run 2! *****\n",
      "Number of trials: 24\n",
      "subj d2 shape:(228777, 11)\n",
      "24\n",
      "24\n",
      "subj dp (downsampled) shape:(11283, 15)\n",
      "Group df shape: (26195, 15)\n",
      "_______________________________________\n",
      "11\n",
      "Number of trials: 21\n",
      "subj d2 shape:(195952, 11)\n",
      "21\n",
      "21\n",
      "subj dp (downsampled) shape:(2288, 15)\n",
      "Group df shape: (28483, 15)\n",
      "_______________________________________\n",
      "12\n",
      "Number of trials: 24\n",
      "subj d2 shape:(221392, 11)\n",
      "24\n",
      "24\n",
      "subj dp (downsampled) shape:(3684, 15)\n",
      "Group df shape: (32167, 15)\n",
      "_______________________________________\n",
      "13\n",
      "***** something happened, 2 files for run 1! *****\n",
      "Number of trials: 21\n",
      "subj d2 shape:(195230, 11)\n",
      "21\n",
      "21\n",
      "subj dp (downsampled) shape:(2371, 15)\n",
      "Group df shape: (34538, 15)\n",
      "_______________________________________\n",
      "14\n",
      "Number of trials: 24\n",
      "subj d2 shape:(221463, 11)\n",
      "24\n",
      "24\n",
      "subj dp (downsampled) shape:(2834, 15)\n",
      "Group df shape: (37372, 15)\n",
      "_______________________________________\n",
      "15\n",
      "***** something happened, 2 files for run 1! *****\n",
      "***** something happened, 3 files for run 1! *****\n",
      "***** something happened, 2 files for run 2! *****\n",
      "Number of trials: 24\n",
      "subj d2 shape:(229441, 11)\n",
      "24\n",
      "24\n",
      "subj dp (downsampled) shape:(2724, 15)\n",
      "Group df shape: (40096, 15)\n",
      "_______________________________________\n",
      "16\n",
      "Number of trials: 24\n",
      "subj d2 shape:(221754, 11)\n",
      "24\n",
      "24\n",
      "subj dp (downsampled) shape:(2735, 15)\n",
      "Group df shape: (42831, 15)\n",
      "_______________________________________\n",
      "18\n",
      "Number of trials: 24\n",
      "subj d2 shape:(214958, 11)\n",
      "24\n",
      "24\n",
      "subj dp (downsampled) shape:(2704, 15)\n",
      "Group df shape: (45535, 15)\n",
      "_______________________________________\n",
      "19\n",
      "Number of trials: 24\n",
      "subj d2 shape:(224590, 11)\n",
      "24\n",
      "24\n",
      "subj dp (downsampled) shape:(2702, 15)\n",
      "Group df shape: (48237, 15)\n",
      "_______________________________________\n",
      "20\n",
      "Number of trials: 24\n",
      "subj d2 shape:(233145, 11)\n",
      "24\n",
      "24\n",
      "subj dp (downsampled) shape:(3049, 15)\n",
      "Group df shape: (51286, 15)\n",
      "_______________________________________\n",
      "21\n",
      "Number of trials: 24\n",
      "subj d2 shape:(175840, 11)\n",
      "24\n",
      "24\n",
      "subj dp (downsampled) shape:(2800, 15)\n",
      "Group df shape: (54086, 15)\n",
      "_______________________________________\n",
      "22\n",
      "***** something happened, 2 files for run 2! *****\n",
      "***** something happened, 3 files for run 2! *****\n",
      "Number of trials: 24\n",
      "subj d2 shape:(198266, 11)\n",
      "24\n",
      "24\n",
      "subj dp (downsampled) shape:(2993, 15)\n",
      "Group df shape: (57079, 15)\n",
      "_______________________________________\n",
      "23\n",
      "***** something happened, 2 files for run 1! *****\n",
      "Number of trials: 24\n",
      "subj d2 shape:(257564, 11)\n",
      "24\n",
      "24\n",
      "subj dp (downsampled) shape:(3001, 15)\n",
      "Group df shape: (60080, 15)\n",
      "_______________________________________\n"
     ]
    }
   ],
   "source": [
    "df = pd.DataFrame() # dataframe of subjs x envs\n",
    "test = True\n",
    "n_runs = 2\n",
    "\n",
    "test_types = ['habit']\n",
    "\n",
    "# iterate through subjects\n",
    "for subid in subj_info.subid[:19]:\n",
    "# for subid in ['7', '9', '15']:\n",
    "    print subid\n",
    "    \n",
    "    if test:\n",
    "        d2 = pd.DataFrame() # dataframe of test files for a subj\n",
    "\n",
    "        # iterate through environments\n",
    "        for run_num in range(1, n_runs+1):\n",
    "\n",
    "            # deal w/num -> str IDs\n",
    "            if int(subid) < 10:\n",
    "                sub_str = 'sst0'\n",
    "            else:\n",
    "                sub_str = 'sst'\n",
    "                \n",
    "            # add test file\n",
    "            test_files = glob.glob(op.join(dirs['navdir'], sub_str + str(subid), \n",
    "                                           'day2_run'+ str(run_num),\n",
    "                                           'session_*', 'log.txt'))\n",
    "            if len(test_files) < 1: print ' ****** Missing data for run ' + str(run_num)\n",
    "            \n",
    "            # get all files, including crashes where 2 files/run\n",
    "            # note that grouping files into same run if a crash; \n",
    "            # this will be diff than for fmri data (where 2 sep runs)\n",
    "            for i, test_file in enumerate(test_files):\n",
    "                \n",
    "                if i > 0: print '***** something happened, '+str(i+1)+' files for run ' +str(run_num)+'! *****'\n",
    "                \n",
    "                output = []\n",
    "                with open(test_file) as f:\n",
    "                    data = f.readlines()\n",
    "\n",
    "                    for line in data:\n",
    "                        columns = re.split('\\t|\\r|\\n', line)\n",
    "                        output.append(columns)\n",
    "\n",
    "                d1 = pd.DataFrame(output, columns = ['time', 'c2', 'command', \n",
    "                                                     'c3', 'c4', 'c5', 'c6', 'c7', 'c8'])\n",
    "\n",
    "                # include subid and env + habit\n",
    "                d1['subid'] = subid\n",
    "                d1['run'] = run_num\n",
    "                d1['type'] = 'habit'\n",
    "                d1['log_dir'] = test_file\n",
    "\n",
    "                # force time to in seconds, relative to beginning of session\n",
    "                d1.time = d1.time.astype(int)/1000\n",
    "                \n",
    "                if (run_num == 1) & (i == 0):\n",
    "                    session_start = d1.time.min() # beginning of session\n",
    "                d1.time = d1.time - session_start\n",
    "\n",
    "                # Append to subj's dataframe\n",
    "                d2 = d2.append(d1, ignore_index=True)\n",
    "        \n",
    "\n",
    "        # get rid of some unnessary stuff\n",
    "        d2 = d2.loc[d2.command.isin(['VROBJECT_POS', 'VROBJECT_HEADING', 'INPUT_EVENT',\n",
    "                                     'ORIENT', 'ARRIVED', 'ASSIGNED', 'NAVIGATE', \n",
    "                                     'SCAN', 'SHOCK'])]\n",
    "        d2.drop(['c2', 'c5', 'c6', 'c7', 'c8'], axis=1, inplace=True) #unneeded cols\n",
    "\n",
    "        # trial counts:\n",
    "        counts = pd.groupby(d2.loc[d2.command == \"ORIENT\"], by=['subid', 'run']).count().reset_index()\n",
    "        print 'Number of trials: ' + str(counts.command.sum())\n",
    "        \n",
    "        # Get orient onsets, for trial parsing\n",
    "        d2.sort(columns='time', inplace=True) # make sure sorted by time! this can be weird w/crashes\n",
    "        \n",
    "        orient_onsets = d2[d2.command == \"ORIENT\"]\n",
    "        orient_onsets['trial'] = 0 # init trial number\n",
    "\n",
    "        for counter, ind in enumerate(orient_onsets.index):\n",
    "            if counter == 0: # first trial\n",
    "                first_ind = ind\n",
    "                orient_onsets.loc[ind, 'trial'] = 1\n",
    "                prev_ind = ind\n",
    "            else:\n",
    "                if orient_onsets.loc[ind, 'run'] == orient_onsets.loc[prev_ind, 'run']:\n",
    "                    orient_onsets.loc[ind, 'trial'] = orient_onsets.loc[prev_ind, 'trial'] + 1\n",
    "                    prev_ind = ind\n",
    "                else: #first trial in another run\n",
    "                    orient_onsets.loc[ind, 'trial'] = 1\n",
    "                    prev_ind = ind\n",
    "                    \n",
    "#         print 'Orient onsets set:'\n",
    "#         print set(orient_onsets.trial)\n",
    "\n",
    "        orient_onsets = orient_onsets.reset_index().merge(trial_order)\n",
    "#         print orient_onsets\n",
    "\n",
    "        d2['env'] = np.nan\n",
    "        d2['rep'] = np.nan\n",
    "        d2['trial'] = np.nan\n",
    "\n",
    "        for i in orient_onsets.index:\n",
    "            index_val = orient_onsets.loc[i, 'index']\n",
    "            d2.loc[index_val, 'env'] = 'env' + orient_onsets.loc[i, 'env'].astype(str)\n",
    "            d2.loc[index_val, 'rep'] = orient_onsets.loc[i, 'rep']\n",
    "            d2.loc[index_val, 'trial'] = orient_onsets.loc[i, 'trial']\n",
    "\n",
    "        d2.env.fillna(method='ffill', inplace=True)\n",
    "        d2.rep.fillna(method='ffill', inplace=True)\n",
    "        d2.trial.fillna(method='ffill', inplace=True)\n",
    "\n",
    "        d2 = d2.loc[~d2.env.isnull()]\n",
    "\n",
    "        print 'subj d2 shape:' + str(d2.shape)\n",
    "        print len('env' + orient_onsets.env.astype(str))\n",
    "        print len(d2.loc[orient_onsets['index'], 'env'])\n",
    "        \n",
    "\n",
    "        # Get 2D position in space\n",
    "        dp = d2[d2.command == 'VROBJECT_POS'].reset_index()\n",
    "        coordinates = pd.DataFrame(dp.c4.str.split('Point3|, |\\(|\\)').tolist())[[2, 3, 4]]\n",
    "        coordinates.rename(columns={2: 'x', 3: 'y', 4: 'z'}, inplace=True)\n",
    "\n",
    "        dp = dp.join(coordinates)\n",
    "        dp = dp.drop(['c4'], 1)\n",
    "        dp[['x', 'y', 'z']] = dp[['x', 'y', 'z']].astype(float)\n",
    "        dp.head()\n",
    "\n",
    "        # Downsample\n",
    "        dp['s'] = pd.to_datetime(dp.time, unit='s')\n",
    "        dp = dp.resample('500L', on='s').first()\n",
    "        dp.dropna(inplace=True)\n",
    "        \n",
    "        print 'subj dp (downsampled) shape:' + str(dp.shape)\n",
    "\n",
    "        # Append to group data\n",
    "        df = df.append(dp, ignore_index=True)\n",
    "        print 'Group df shape: ' + str(df.shape)\n",
    "        print '_______________________________________'\n",
    "        "
   ]
  },
  {
   "cell_type": "code",
   "execution_count": null,
   "metadata": {
    "collapsed": true
   },
   "outputs": [],
   "source": []
  },
  {
   "cell_type": "markdown",
   "metadata": {},
   "source": [
    "## Look at data"
   ]
  },
  {
   "cell_type": "code",
   "execution_count": 63,
   "metadata": {
    "collapsed": true
   },
   "outputs": [],
   "source": [
    "filename = '/Volumes/group/awagner/sgagnon/SST/nav_data/group_behavioral_logs.h5'\n",
    "df.to_hdf(filename, 'df', mode='w', format='fixed')"
   ]
  },
  {
   "cell_type": "code",
   "execution_count": 64,
   "metadata": {
    "collapsed": false
   },
   "outputs": [
    {
     "data": {
      "text/plain": [
       "(60080, 15)"
      ]
     },
     "execution_count": 64,
     "metadata": {},
     "output_type": "execute_result"
    }
   ],
   "source": [
    "filename = '/Volumes/group/awagner/sgagnon/SST/nav_data/group_behavioral_logs.h5'\n",
    "df_in = pd.read_hdf(filename, 'df')\n",
    "df_in.shape"
   ]
  },
  {
   "cell_type": "markdown",
   "metadata": {},
   "source": [
    "### Plot"
   ]
  },
  {
   "cell_type": "markdown",
   "metadata": {},
   "source": [
    "- Subject 3 missing run 2\n",
    "- Subjects 22 have off env/trials [in run 2, crashed during env 5, but then restarted env 5 in 2nd log file; remove env 5 from first log file]\n",
    "- Subjects 13 missing trials 1-3 from run 1 [shifted envs up in order file, and removed trials 10-12]\n",
    "- Subject 11, run 2 (missing trials 1-3) [shifted envs up in order file, and removed trials 10-12]"
   ]
  },
  {
   "cell_type": "code",
   "execution_count": 65,
   "metadata": {
    "collapsed": false
   },
   "outputs": [
    {
     "data": {
      "image/png": "[encoded data removed]",
      "text/plain": [
       "<matplotlib.figure.Figure at 0x126409bd0>"
      ]
     },
     "metadata": {},
     "output_type": "display_data"
    }
   ],
   "source": [
    "def plot_sub(subj, env, test_trial, rep):\n",
    "    plot_paths(env=env, subj=subj, \n",
    "               dp=df_in.loc[(df_in['type'] == test_trial) &\n",
    "                            (df_in.rep == rep)], \n",
    "               proj=proj, dirs=dirs)\n",
    "    \n",
    "subj_opts = ipywidgets.Select(options=list(df_in.subid.unique()))\n",
    "env_opts = ipywidgets.ToggleButtons(options=list(np.sort(df_in.env.unique())))\n",
    "test_opts = ipywidgets.ToggleButtons(options=list(['habit', 'shortcut']))\n",
    "rep_opts = ipywidgets.IntSlider(min=1, max=2)\n",
    "\n",
    "w = ipywidgets.interact(plot_sub, \n",
    "                        subj=subj_opts, \n",
    "                        env=env_opts, \n",
    "                        test_trial=test_opts, \n",
    "                        rep=rep_opts)"
   ]
  },
  {
   "cell_type": "code",
   "execution_count": null,
   "metadata": {
    "collapsed": true
   },
   "outputs": [],
   "source": []
  }
 ],
 "metadata": {
  "kernelspec": {
   "display_name": "Python 2",
   "language": "python",
   "name": "python2"
  },
  "language_info": {
   "codemirror_mode": {
    "name": "ipython",
    "version": 2
   },
   "file_extension": ".py",
   "mimetype": "text/x-python",
   "name": "python",
   "nbconvert_exporter": "python",
   "pygments_lexer": "ipython2",
   "version": "2.7.12"
  }
 },
 "nbformat": 4,
 "nbformat_minor": 0
}
