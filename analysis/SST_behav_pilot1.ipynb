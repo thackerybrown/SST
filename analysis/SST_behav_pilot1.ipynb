{
 "metadata": {
  "name": "",
  "signature": "sha256:6e788ff0ba302a7d6bf8239ad2e47b932f1c7d1d23c81e67047ff874040446d3"
 },
 "nbformat": 3,
 "nbformat_minor": 0,
 "worksheets": [
  {
   "cells": [
    {
     "cell_type": "heading",
     "level": 1,
     "metadata": {},
     "source": [
      "SST (Spatial Stress Test) Behavioral Analysis"
     ]
    },
    {
     "cell_type": "markdown",
     "metadata": {},
     "source": [
      "Data Collected 2014"
     ]
    },
    {
     "cell_type": "code",
     "collapsed": false,
     "input": [
      "import pandas as pd\n",
      "import moss\n",
      "from scipy import stats\n",
      "import scipy as sp\n",
      "import seaborn as sns\n",
      "import numpy as np\n",
      "import matplotlib\n",
      "import matplotlib.pyplot as plt\n",
      "import os.path as op\n",
      "import re\n",
      "\n",
      "#widget ability\n",
      "from IPython.html.widgets import interact, interactive, fixed\n",
      "from IPython.html import widgets\n",
      "from IPython.display import clear_output, display, HTML\n",
      "\n",
      "# Gather project info & functions\n",
      "from sst_setup_project import *\n",
      "\n",
      "# for plotting\n",
      "sns.set(style='whitegrid', context='poster')\n",
      "%matplotlib inline\n",
      "\n",
      "# R for stats\n",
      "%load_ext rpy2.ipython\n",
      "%R require(lme4)\n",
      "%R require(lmerTest)"
     ],
     "language": "python",
     "metadata": {},
     "outputs": [
      {
       "output_type": "stream",
       "stream": "stdout",
       "text": [
        "The rpy2.ipython extension is already loaded. To reload it, use:\n",
        "  %reload_ext rpy2.ipython\n"
       ]
      },
      {
       "metadata": {},
       "output_type": "pyout",
       "prompt_number": 99,
       "text": [
        "<Vector - Python:0x14d463200 / R:0x11a38f388>\n",
        "[       1]"
       ]
      }
     ],
     "prompt_number": 99
    },
    {
     "cell_type": "heading",
     "level": 3,
     "metadata": {},
     "source": [
      "Set up directories & exp-specific information"
     ]
    },
    {
     "cell_type": "code",
     "collapsed": false,
     "input": [
      "dirs = dict()\n",
      "dirs['basedir'] = op.join(op.expanduser('~'), 'Experiments/SST')\n",
      "dirs['datadir'] = op.join(dirs['basedir'], 'data_pilot1/')\n",
      "dirs['analydir'] = op.join(dirs['basedir'], 'analysis')\n",
      "dirs['subj_info_file'] = op.join(dirs['datadir'], 'subj_info.csv')"
     ],
     "language": "python",
     "metadata": {},
     "outputs": [],
     "prompt_number": 2
    },
    {
     "cell_type": "code",
     "collapsed": false,
     "input": [
      "proj = gather_experiment_info(exp_name='SST', dirs=dirs)\n",
      "proj"
     ],
     "language": "python",
     "metadata": {},
     "outputs": [
      {
       "metadata": {},
       "output_type": "pyout",
       "prompt_number": 60,
       "text": [
        "{'comments': '',\n",
        " 'envs': ['env1', 'env2', 'env3', 'env4', 'env5', 'env6'],\n",
        " 'palette': {'control': 'seagreen',\n",
        "  'control-fmri': 'lightgreen',\n",
        "  'foil': 'violet',\n",
        "  'half1': 'royalblue',\n",
        "  'half2': 'slategray',\n",
        "  'indoor': 'dodgerblue',\n",
        "  'no response': 'gray',\n",
        "  'outdoor': 'mediumseagreen',\n",
        "  'pilot': 'cadetblue',\n",
        "  'related': 'lightseagreen',\n",
        "  'safe': 'mediumturquoise',\n",
        "  'stress': 'crimson',\n",
        "  'stress-fmri': 'lightred',\n",
        "  'threat': 'darkorange',\n",
        "  'unrelated': 'lightcoral'},\n",
        " 'subjinfo_file': 'subj_info.csv'}"
       ]
      }
     ],
     "prompt_number": 60
    },
    {
     "cell_type": "heading",
     "level": 3,
     "metadata": {},
     "source": [
      "Read in subject information"
     ]
    },
    {
     "cell_type": "code",
     "collapsed": false,
     "input": [
      "subj_info = pd.read_csv(dirs['subj_info_file'])\n",
      "subj_info = subj_info[pd.isnull(subj_info.remove)]\n",
      "subj_info"
     ],
     "language": "python",
     "metadata": {},
     "outputs": [
      {
       "html": [
        "<div style=\"max-height:1000px;max-width:1500px;overflow:auto;\">\n",
        "<table border=\"1\" class=\"dataframe\">\n",
        "  <thead>\n",
        "    <tr style=\"text-align: right;\">\n",
        "      <th></th>\n",
        "      <th>subid</th>\n",
        "      <th>voltage</th>\n",
        "      <th>gender</th>\n",
        "      <th>remove</th>\n",
        "    </tr>\n",
        "  </thead>\n",
        "  <tbody>\n",
        "    <tr>\n",
        "      <th>0</th>\n",
        "      <td>  s1</td>\n",
        "      <td> 0</td>\n",
        "      <td> M</td>\n",
        "      <td>NaN</td>\n",
        "    </tr>\n",
        "    <tr>\n",
        "      <th>2</th>\n",
        "      <td>  s3</td>\n",
        "      <td> 0</td>\n",
        "      <td> M</td>\n",
        "      <td>NaN</td>\n",
        "    </tr>\n",
        "    <tr>\n",
        "      <th>3</th>\n",
        "      <td>  s4</td>\n",
        "      <td> 0</td>\n",
        "      <td> F</td>\n",
        "      <td>NaN</td>\n",
        "    </tr>\n",
        "    <tr>\n",
        "      <th>4</th>\n",
        "      <td>  s5</td>\n",
        "      <td> 0</td>\n",
        "      <td> F</td>\n",
        "      <td>NaN</td>\n",
        "    </tr>\n",
        "    <tr>\n",
        "      <th>5</th>\n",
        "      <td>  s6</td>\n",
        "      <td> 0</td>\n",
        "      <td> F</td>\n",
        "      <td>NaN</td>\n",
        "    </tr>\n",
        "    <tr>\n",
        "      <th>6</th>\n",
        "      <td> s2a</td>\n",
        "      <td> 0</td>\n",
        "      <td> M</td>\n",
        "      <td>NaN</td>\n",
        "    </tr>\n",
        "  </tbody>\n",
        "</table>\n",
        "</div>"
       ],
       "metadata": {},
       "output_type": "pyout",
       "prompt_number": 63,
       "text": [
        "  subid  voltage gender  remove\n",
        "0    s1        0      M     NaN\n",
        "2    s3        0      M     NaN\n",
        "3    s4        0      F     NaN\n",
        "4    s5        0      F     NaN\n",
        "5    s6        0      F     NaN\n",
        "6   s2a        0      M     NaN"
       ]
      }
     ],
     "prompt_number": 63
    },
    {
     "cell_type": "heading",
     "level": 2,
     "metadata": {},
     "source": [
      "Read in data files"
     ]
    },
    {
     "cell_type": "code",
     "collapsed": false,
     "input": [
      "df = pd.DataFrame() # dataframe of subjs x envs\n",
      "test = True\n",
      "questionnaires_shock  = False\n",
      "questionnaires_post  = False\n",
      "\n",
      "# iterate through subjects\n",
      "for subid in subj_info.subid:\n",
      "    print subid\n",
      "    \n",
      "    if test:\n",
      "        # iterate through environments\n",
      "        for env in proj['envs']:\n",
      "            print env\n",
      "            # add test file\n",
      "            test_file = op.join(dirs['datadir'], env, 'data', \n",
      "                                subid, 'session_0', 'log.txt')\n",
      "            output = []\n",
      "            with open(test_file) as f:\n",
      "                data = f.readlines()\n",
      "\n",
      "                for line in data:\n",
      "                    columns = re.split('\\t|\\r|\\n', line)\n",
      "                    output.append(columns)\n",
      "            d2 = pd.DataFrame(output, columns = ['time', 'c2', 'command', \n",
      "                                                 'c3', 'c4', 'c5', 'c6', 'c7', 'c8'])\n",
      "            \n",
      "            # include subid and env\n",
      "            d2['subid'] = subid\n",
      "            d2['env'] = env\n",
      "            \n",
      "            # force time to be integer, diff from end to beginning\n",
      "            d2.time = d2.time.astype(int)\n",
      "            d2.time = d2.time - d2.time.min()\n",
      "            \n",
      "            df = df.append(d2, ignore_index=True)\n",
      "        \n",
      "# Compiled group data\n",
      "if questionnaires_shock:\n",
      "    q_file = op.join(dirs['basedir'], 'data/Quest/Questionnaires_shockblock_group.csv')\n",
      "    dq_shock = pd.read_csv(q_file, index_col=0)\n",
      "\n",
      "if questionnaires_post:\n",
      "    q_file = op.join(dirs['basedir'], 'data/Quest/Questionnaires_group.csv')\n",
      "    dq_post = pd.read_csv(q_file, index_col=0)\n"
     ],
     "language": "python",
     "metadata": {},
     "outputs": [
      {
       "output_type": "stream",
       "stream": "stdout",
       "text": [
        "s1\n",
        "env1\n",
        "env2"
       ]
      },
      {
       "output_type": "stream",
       "stream": "stdout",
       "text": [
        "\n",
        "env3"
       ]
      },
      {
       "output_type": "stream",
       "stream": "stdout",
       "text": [
        "\n",
        "env4"
       ]
      },
      {
       "output_type": "stream",
       "stream": "stdout",
       "text": [
        "\n",
        "env5"
       ]
      },
      {
       "output_type": "stream",
       "stream": "stdout",
       "text": [
        "\n",
        "env6"
       ]
      },
      {
       "output_type": "stream",
       "stream": "stdout",
       "text": [
        "\n",
        "s3"
       ]
      },
      {
       "output_type": "stream",
       "stream": "stdout",
       "text": [
        "\n",
        "env1\n",
        "env2"
       ]
      },
      {
       "output_type": "stream",
       "stream": "stdout",
       "text": [
        "\n",
        "env3"
       ]
      },
      {
       "output_type": "stream",
       "stream": "stdout",
       "text": [
        "\n",
        "env4"
       ]
      },
      {
       "output_type": "stream",
       "stream": "stdout",
       "text": [
        "\n",
        "env5"
       ]
      },
      {
       "output_type": "stream",
       "stream": "stdout",
       "text": [
        "\n",
        "env6"
       ]
      },
      {
       "output_type": "stream",
       "stream": "stdout",
       "text": [
        "\n",
        "s4"
       ]
      },
      {
       "output_type": "stream",
       "stream": "stdout",
       "text": [
        "\n",
        "env1\n",
        "env2"
       ]
      },
      {
       "output_type": "stream",
       "stream": "stdout",
       "text": [
        "\n",
        "env3"
       ]
      },
      {
       "output_type": "stream",
       "stream": "stdout",
       "text": [
        "\n",
        "env4"
       ]
      },
      {
       "output_type": "stream",
       "stream": "stdout",
       "text": [
        "\n",
        "env5"
       ]
      },
      {
       "output_type": "stream",
       "stream": "stdout",
       "text": [
        "\n",
        "env6"
       ]
      },
      {
       "output_type": "stream",
       "stream": "stdout",
       "text": [
        "\n",
        "s5"
       ]
      },
      {
       "output_type": "stream",
       "stream": "stdout",
       "text": [
        "\n",
        "env1\n",
        "env2"
       ]
      },
      {
       "output_type": "stream",
       "stream": "stdout",
       "text": [
        "\n",
        "env3"
       ]
      },
      {
       "output_type": "stream",
       "stream": "stdout",
       "text": [
        "\n",
        "env4"
       ]
      },
      {
       "output_type": "stream",
       "stream": "stdout",
       "text": [
        "\n",
        "env5"
       ]
      },
      {
       "output_type": "stream",
       "stream": "stdout",
       "text": [
        "\n",
        "env6"
       ]
      },
      {
       "output_type": "stream",
       "stream": "stdout",
       "text": [
        "\n",
        "s6"
       ]
      },
      {
       "output_type": "stream",
       "stream": "stdout",
       "text": [
        "\n",
        "env1\n",
        "env2"
       ]
      },
      {
       "output_type": "stream",
       "stream": "stdout",
       "text": [
        "\n",
        "env3"
       ]
      },
      {
       "output_type": "stream",
       "stream": "stdout",
       "text": [
        "\n",
        "env4"
       ]
      },
      {
       "output_type": "stream",
       "stream": "stdout",
       "text": [
        "\n",
        "env5"
       ]
      },
      {
       "output_type": "stream",
       "stream": "stdout",
       "text": [
        "\n",
        "env6"
       ]
      },
      {
       "output_type": "stream",
       "stream": "stdout",
       "text": [
        "\n",
        "s2a"
       ]
      },
      {
       "output_type": "stream",
       "stream": "stdout",
       "text": [
        "\n",
        "env1\n",
        "env2"
       ]
      },
      {
       "output_type": "stream",
       "stream": "stdout",
       "text": [
        "\n",
        "env3"
       ]
      },
      {
       "output_type": "stream",
       "stream": "stdout",
       "text": [
        "\n",
        "env4"
       ]
      },
      {
       "output_type": "stream",
       "stream": "stdout",
       "text": [
        "\n",
        "env5"
       ]
      },
      {
       "output_type": "stream",
       "stream": "stdout",
       "text": [
        "\n",
        "env6"
       ]
      },
      {
       "output_type": "stream",
       "stream": "stdout",
       "text": [
        "\n"
       ]
      }
     ],
     "prompt_number": 102
    },
    {
     "cell_type": "heading",
     "level": 2,
     "metadata": {},
     "source": [
      "Look at data"
     ]
    },
    {
     "cell_type": "code",
     "collapsed": false,
     "input": [
      "df.head()"
     ],
     "language": "python",
     "metadata": {},
     "outputs": [
      {
       "html": [
        "<div style=\"max-height:1000px;max-width:1500px;overflow:auto;\">\n",
        "<table border=\"1\" class=\"dataframe\">\n",
        "  <thead>\n",
        "    <tr style=\"text-align: right;\">\n",
        "      <th></th>\n",
        "      <th>time</th>\n",
        "      <th>c2</th>\n",
        "      <th>command</th>\n",
        "      <th>c3</th>\n",
        "      <th>c4</th>\n",
        "      <th>c5</th>\n",
        "      <th>c6</th>\n",
        "      <th>c7</th>\n",
        "      <th>c8</th>\n",
        "      <th>subid</th>\n",
        "      <th>env</th>\n",
        "    </tr>\n",
        "  </thead>\n",
        "  <tbody>\n",
        "    <tr>\n",
        "      <th>0</th>\n",
        "      <td>    0</td>\n",
        "      <td> 1</td>\n",
        "      <td> COMMON_WIN_PROPERTIES</td>\n",
        "      <td>                    800</td>\n",
        "      <td>  600</td>\n",
        "      <td> True</td>\n",
        "      <td> False</td>\n",
        "      <td>     </td>\n",
        "      <td>     </td>\n",
        "      <td> s1</td>\n",
        "      <td> env1</td>\n",
        "    </tr>\n",
        "    <tr>\n",
        "      <th>1</th>\n",
        "      <td>   93</td>\n",
        "      <td> 0</td>\n",
        "      <td>           CAMERA_INIT</td>\n",
        "      <td> PandaEPL_defaultCamera</td>\n",
        "      <td>     </td>\n",
        "      <td>     </td>\n",
        "      <td>  None</td>\n",
        "      <td> None</td>\n",
        "      <td> None</td>\n",
        "      <td> s1</td>\n",
        "      <td> env1</td>\n",
        "    </tr>\n",
        "    <tr>\n",
        "      <th>2</th>\n",
        "      <td>   93</td>\n",
        "      <td> 0</td>\n",
        "      <td>               VR_INIT</td>\n",
        "      <td>                       </td>\n",
        "      <td>     </td>\n",
        "      <td> None</td>\n",
        "      <td>  None</td>\n",
        "      <td> None</td>\n",
        "      <td> None</td>\n",
        "      <td> s1</td>\n",
        "      <td> env1</td>\n",
        "    </tr>\n",
        "    <tr>\n",
        "      <th>3</th>\n",
        "      <td>   93</td>\n",
        "      <td> 0</td>\n",
        "      <td>            VR_CREATED</td>\n",
        "      <td>                       </td>\n",
        "      <td>     </td>\n",
        "      <td> None</td>\n",
        "      <td>  None</td>\n",
        "      <td> None</td>\n",
        "      <td> None</td>\n",
        "      <td> s1</td>\n",
        "      <td> env1</td>\n",
        "    </tr>\n",
        "    <tr>\n",
        "      <th>4</th>\n",
        "      <td> 2423</td>\n",
        "      <td> 0</td>\n",
        "      <td>             CONF_LOAD</td>\n",
        "      <td>            ./config.py</td>\n",
        "      <td> None</td>\n",
        "      <td>     </td>\n",
        "      <td>      </td>\n",
        "      <td> None</td>\n",
        "      <td> None</td>\n",
        "      <td> s1</td>\n",
        "      <td> env1</td>\n",
        "    </tr>\n",
        "  </tbody>\n",
        "</table>\n",
        "</div>"
       ],
       "metadata": {},
       "output_type": "pyout",
       "prompt_number": 245,
       "text": [
        "   time c2                command                      c3    c4    c5     c6  \\\n",
        "0     0  1  COMMON_WIN_PROPERTIES                     800   600  True  False   \n",
        "1    93  0            CAMERA_INIT  PandaEPL_defaultCamera               None   \n",
        "2    93  0                VR_INIT                                None   None   \n",
        "3    93  0             VR_CREATED                                None   None   \n",
        "4  2423  0              CONF_LOAD             ./config.py  None                \n",
        "\n",
        "     c7    c8 subid   env  \n",
        "0                s1  env1  \n",
        "1  None  None    s1  env1  \n",
        "2  None  None    s1  env1  \n",
        "3  None  None    s1  env1  \n",
        "4  None  None    s1  env1  "
       ]
      }
     ],
     "prompt_number": 245
    },
    {
     "cell_type": "heading",
     "level": 3,
     "metadata": {},
     "source": [
      "Look at 2D position in space"
     ]
    },
    {
     "cell_type": "code",
     "collapsed": false,
     "input": [
      "dp = df[df.command == 'VROBJECT_POS'].reset_index()\n",
      "dp = dp.drop(['c5', 'c6', 'c7', 'c8', 'command', 'index'], 1) # remove unncessary cols\n",
      "dp.head()"
     ],
     "language": "python",
     "metadata": {},
     "outputs": [
      {
       "html": [
        "<div style=\"max-height:1000px;max-width:1500px;overflow:auto;\">\n",
        "<table border=\"1\" class=\"dataframe\">\n",
        "  <thead>\n",
        "    <tr style=\"text-align: right;\">\n",
        "      <th></th>\n",
        "      <th>time</th>\n",
        "      <th>c2</th>\n",
        "      <th>c3</th>\n",
        "      <th>c4</th>\n",
        "      <th>subid</th>\n",
        "      <th>env</th>\n",
        "    </tr>\n",
        "  </thead>\n",
        "  <tbody>\n",
        "    <tr>\n",
        "      <th>0</th>\n",
        "      <td> 4483</td>\n",
        "      <td> 71</td>\n",
        "      <td> terrain</td>\n",
        "      <td>       Point3(0, 0, 0)</td>\n",
        "      <td> s1</td>\n",
        "      <td> env1</td>\n",
        "    </tr>\n",
        "    <tr>\n",
        "      <th>1</th>\n",
        "      <td> 4483</td>\n",
        "      <td> 71</td>\n",
        "      <td>  barr10</td>\n",
        "      <td>  Point3(-5, 28, -0.7)</td>\n",
        "      <td> s1</td>\n",
        "      <td> env1</td>\n",
        "    </tr>\n",
        "    <tr>\n",
        "      <th>2</th>\n",
        "      <td> 4483</td>\n",
        "      <td> 71</td>\n",
        "      <td>  barr11</td>\n",
        "      <td> Point3(-5, -17, -0.7)</td>\n",
        "      <td> s1</td>\n",
        "      <td> env1</td>\n",
        "    </tr>\n",
        "    <tr>\n",
        "      <th>3</th>\n",
        "      <td> 4483</td>\n",
        "      <td> 71</td>\n",
        "      <td>  barr12</td>\n",
        "      <td>  Point3(13, 36, -0.7)</td>\n",
        "      <td> s1</td>\n",
        "      <td> env1</td>\n",
        "    </tr>\n",
        "    <tr>\n",
        "      <th>4</th>\n",
        "      <td> 4483</td>\n",
        "      <td> 71</td>\n",
        "      <td>  barr13</td>\n",
        "      <td>  Point3(13, 28, -0.7)</td>\n",
        "      <td> s1</td>\n",
        "      <td> env1</td>\n",
        "    </tr>\n",
        "  </tbody>\n",
        "</table>\n",
        "</div>"
       ],
       "metadata": {},
       "output_type": "pyout",
       "prompt_number": 312,
       "text": [
        "   time  c2       c3                     c4 subid   env\n",
        "0  4483  71  terrain        Point3(0, 0, 0)    s1  env1\n",
        "1  4483  71   barr10   Point3(-5, 28, -0.7)    s1  env1\n",
        "2  4483  71   barr11  Point3(-5, -17, -0.7)    s1  env1\n",
        "3  4483  71   barr12   Point3(13, 36, -0.7)    s1  env1\n",
        "4  4483  71   barr13   Point3(13, 28, -0.7)    s1  env1"
       ]
      }
     ],
     "prompt_number": 312
    },
    {
     "cell_type": "code",
     "collapsed": false,
     "input": [
      "dp = dp.join(pd.DataFrame(dp.c4.str.split('Point3|, |\\(|\\)').tolist()).reindex(columns=[2, 3, 4]))\n",
      "dp.rename(columns={2: 'x', 3: 'y', 4: 'z'}, inplace=True)\n",
      "dp.head()"
     ],
     "language": "python",
     "metadata": {},
     "outputs": [
      {
       "html": [
        "<div style=\"max-height:1000px;max-width:1500px;overflow:auto;\">\n",
        "<table border=\"1\" class=\"dataframe\">\n",
        "  <thead>\n",
        "    <tr style=\"text-align: right;\">\n",
        "      <th></th>\n",
        "      <th>time</th>\n",
        "      <th>c2</th>\n",
        "      <th>c3</th>\n",
        "      <th>c4</th>\n",
        "      <th>subid</th>\n",
        "      <th>env</th>\n",
        "      <th>x</th>\n",
        "      <th>y</th>\n",
        "      <th>z</th>\n",
        "    </tr>\n",
        "  </thead>\n",
        "  <tbody>\n",
        "    <tr>\n",
        "      <th>0</th>\n",
        "      <td> 4483</td>\n",
        "      <td> 71</td>\n",
        "      <td> terrain</td>\n",
        "      <td>       Point3(0, 0, 0)</td>\n",
        "      <td> s1</td>\n",
        "      <td> env1</td>\n",
        "      <td>  0</td>\n",
        "      <td>   0</td>\n",
        "      <td>    0</td>\n",
        "    </tr>\n",
        "    <tr>\n",
        "      <th>1</th>\n",
        "      <td> 4483</td>\n",
        "      <td> 71</td>\n",
        "      <td>  barr10</td>\n",
        "      <td>  Point3(-5, 28, -0.7)</td>\n",
        "      <td> s1</td>\n",
        "      <td> env1</td>\n",
        "      <td> -5</td>\n",
        "      <td>  28</td>\n",
        "      <td> -0.7</td>\n",
        "    </tr>\n",
        "    <tr>\n",
        "      <th>2</th>\n",
        "      <td> 4483</td>\n",
        "      <td> 71</td>\n",
        "      <td>  barr11</td>\n",
        "      <td> Point3(-5, -17, -0.7)</td>\n",
        "      <td> s1</td>\n",
        "      <td> env1</td>\n",
        "      <td> -5</td>\n",
        "      <td> -17</td>\n",
        "      <td> -0.7</td>\n",
        "    </tr>\n",
        "    <tr>\n",
        "      <th>3</th>\n",
        "      <td> 4483</td>\n",
        "      <td> 71</td>\n",
        "      <td>  barr12</td>\n",
        "      <td>  Point3(13, 36, -0.7)</td>\n",
        "      <td> s1</td>\n",
        "      <td> env1</td>\n",
        "      <td> 13</td>\n",
        "      <td>  36</td>\n",
        "      <td> -0.7</td>\n",
        "    </tr>\n",
        "    <tr>\n",
        "      <th>4</th>\n",
        "      <td> 4483</td>\n",
        "      <td> 71</td>\n",
        "      <td>  barr13</td>\n",
        "      <td>  Point3(13, 28, -0.7)</td>\n",
        "      <td> s1</td>\n",
        "      <td> env1</td>\n",
        "      <td> 13</td>\n",
        "      <td>  28</td>\n",
        "      <td> -0.7</td>\n",
        "    </tr>\n",
        "  </tbody>\n",
        "</table>\n",
        "</div>"
       ],
       "metadata": {},
       "output_type": "pyout",
       "prompt_number": 313,
       "text": [
        "   time  c2       c3                     c4 subid   env   x    y     z\n",
        "0  4483  71  terrain        Point3(0, 0, 0)    s1  env1   0    0     0\n",
        "1  4483  71   barr10   Point3(-5, 28, -0.7)    s1  env1  -5   28  -0.7\n",
        "2  4483  71   barr11  Point3(-5, -17, -0.7)    s1  env1  -5  -17  -0.7\n",
        "3  4483  71   barr12   Point3(13, 36, -0.7)    s1  env1  13   36  -0.7\n",
        "4  4483  71   barr13   Point3(13, 28, -0.7)    s1  env1  13   28  -0.7"
       ]
      }
     ],
     "prompt_number": 313
    },
    {
     "cell_type": "code",
     "collapsed": false,
     "input": [
      "plt.figure(figsize=(4, 4))\n",
      "plt.ylim(-50,50)\n",
      "plt.xlim(-50,50)\n",
      "plt.scatter(dp.query('env == \"env1\" & subid==\"s1\" & c3==\"PandaEPL_avatar\"').x.astype(float),  \n",
      "            dp.query('env == \"env1\" & subid==\"s1\" & c3==\"PandaEPL_avatar\"').y.astype(float), \n",
      "            s=5, marker='.')"
     ],
     "language": "python",
     "metadata": {},
     "outputs": [
      {
       "metadata": {},
       "output_type": "pyout",
       "prompt_number": 314,
       "text": [
        "<matplotlib.collections.PathCollection at 0x1cc7d1210>"
       ]
      },
      {
       "metadata": {},
       "output_type": "display_data",
       "png": "[encoded data removed]",
       "text": [
        "<matplotlib.figure.Figure at 0x1c0053110>"
       ]
      }
     ],
     "prompt_number": 314
    },
    {
     "cell_type": "code",
     "collapsed": false,
     "input": [
      "plt.figure(figsize=(4, 4))\n",
      "plt.ylim(-50,50)\n",
      "plt.xlim(-50,50)\n",
      "plt.scatter(dp.query('env == \"env3\" & subid==\"s1\" & c3==\"PandaEPL_avatar\"').x.astype(float),  \n",
      "            dp.query('env == \"env3\" & subid==\"s1\" & c3==\"PandaEPL_avatar\"').y.astype(float), \n",
      "            s=5, marker='.')"
     ],
     "language": "python",
     "metadata": {},
     "outputs": [
      {
       "metadata": {},
       "output_type": "pyout",
       "prompt_number": 315,
       "text": [
        "<matplotlib.collections.PathCollection at 0x1ccb8a450>"
       ]
      },
      {
       "metadata": {},
       "output_type": "display_data",
       "png": "[encoded data removed]",
       "text": [
        "<matplotlib.figure.Figure at 0x1cc8de650>"
       ]
      }
     ],
     "prompt_number": 315
    },
    {
     "cell_type": "heading",
     "level": 3,
     "metadata": {},
     "source": [
      "Data for 1 subject, 1 environment"
     ]
    },
    {
     "cell_type": "code",
     "collapsed": false,
     "input": [
      "dsub = dp.query('env == \"env3\" & subid==\"s1\" & c3==\"PandaEPL_avatar\"')\n",
      "dsub.head()"
     ],
     "language": "python",
     "metadata": {},
     "outputs": [
      {
       "html": [
        "<div style=\"max-height:1000px;max-width:1500px;overflow:auto;\">\n",
        "<table border=\"1\" class=\"dataframe\">\n",
        "  <thead>\n",
        "    <tr style=\"text-align: right;\">\n",
        "      <th></th>\n",
        "      <th>time</th>\n",
        "      <th>c2</th>\n",
        "      <th>c3</th>\n",
        "      <th>c4</th>\n",
        "      <th>subid</th>\n",
        "      <th>env</th>\n",
        "      <th>x</th>\n",
        "      <th>y</th>\n",
        "      <th>z</th>\n",
        "    </tr>\n",
        "  </thead>\n",
        "  <tbody>\n",
        "    <tr>\n",
        "      <th>7977</th>\n",
        "      <td>  6922</td>\n",
        "      <td> 41</td>\n",
        "      <td> PandaEPL_avatar</td>\n",
        "      <td> Point3(4, 41, 0.5)</td>\n",
        "      <td> s1</td>\n",
        "      <td> env3</td>\n",
        "      <td> 4</td>\n",
        "      <td> 41</td>\n",
        "      <td> 0.5</td>\n",
        "    </tr>\n",
        "    <tr>\n",
        "      <th>7992</th>\n",
        "      <td>  6922</td>\n",
        "      <td> 41</td>\n",
        "      <td> PandaEPL_avatar</td>\n",
        "      <td> Point3(4, 41, 0.5)</td>\n",
        "      <td> s1</td>\n",
        "      <td> env3</td>\n",
        "      <td> 4</td>\n",
        "      <td> 41</td>\n",
        "      <td> 0.5</td>\n",
        "    </tr>\n",
        "    <tr>\n",
        "      <th>8000</th>\n",
        "      <td> 32512</td>\n",
        "      <td>  1</td>\n",
        "      <td> PandaEPL_avatar</td>\n",
        "      <td> Point3(4, 41, 0.5)</td>\n",
        "      <td> s1</td>\n",
        "      <td> env3</td>\n",
        "      <td> 4</td>\n",
        "      <td> 41</td>\n",
        "      <td> 0.5</td>\n",
        "    </tr>\n",
        "    <tr>\n",
        "      <th>8002</th>\n",
        "      <td> 32522</td>\n",
        "      <td> 11</td>\n",
        "      <td> PandaEPL_avatar</td>\n",
        "      <td> Point3(4, 41, 0.5)</td>\n",
        "      <td> s1</td>\n",
        "      <td> env3</td>\n",
        "      <td> 4</td>\n",
        "      <td> 41</td>\n",
        "      <td> 0.5</td>\n",
        "    </tr>\n",
        "    <tr>\n",
        "      <th>8004</th>\n",
        "      <td> 33512</td>\n",
        "      <td> 21</td>\n",
        "      <td> PandaEPL_avatar</td>\n",
        "      <td> Point3(4, 41, 0.5)</td>\n",
        "      <td> s1</td>\n",
        "      <td> env3</td>\n",
        "      <td> 4</td>\n",
        "      <td> 41</td>\n",
        "      <td> 0.5</td>\n",
        "    </tr>\n",
        "  </tbody>\n",
        "</table>\n",
        "</div>"
       ],
       "metadata": {},
       "output_type": "pyout",
       "prompt_number": 316,
       "text": [
        "       time  c2               c3                  c4 subid   env  x   y    z\n",
        "7977   6922  41  PandaEPL_avatar  Point3(4, 41, 0.5)    s1  env3  4  41  0.5\n",
        "7992   6922  41  PandaEPL_avatar  Point3(4, 41, 0.5)    s1  env3  4  41  0.5\n",
        "8000  32512   1  PandaEPL_avatar  Point3(4, 41, 0.5)    s1  env3  4  41  0.5\n",
        "8002  32522  11  PandaEPL_avatar  Point3(4, 41, 0.5)    s1  env3  4  41  0.5\n",
        "8004  33512  21  PandaEPL_avatar  Point3(4, 41, 0.5)    s1  env3  4  41  0.5"
       ]
      }
     ],
     "prompt_number": 316
    },
    {
     "cell_type": "code",
     "collapsed": false,
     "input": [
      "plt.scatter(dsub.time/1000, dsub.x.astype(float), \n",
      "            s=10, marker='.')"
     ],
     "language": "python",
     "metadata": {},
     "outputs": [
      {
       "metadata": {},
       "output_type": "pyout",
       "prompt_number": 317,
       "text": [
        "<matplotlib.collections.PathCollection at 0x1cd058190>"
       ]
      },
      {
       "metadata": {},
       "output_type": "display_data",
       "png": "[encoded data removed]",
       "text": [
        "<matplotlib.figure.Figure at 0x1c00a3bd0>"
       ]
      }
     ],
     "prompt_number": 317
    },
    {
     "cell_type": "code",
     "collapsed": false,
     "input": [
      "plt.scatter(dsub.time/1000, dsub.y.astype(float), \n",
      "            s=10, marker='.')"
     ],
     "language": "python",
     "metadata": {},
     "outputs": [
      {
       "metadata": {},
       "output_type": "pyout",
       "prompt_number": 318,
       "text": [
        "<matplotlib.collections.PathCollection at 0x1cd578790>"
       ]
      },
      {
       "metadata": {},
       "output_type": "display_data",
       "png": "[encoded data removed]",
       "text": [
        "<matplotlib.figure.Figure at 0x1cd1d9f50>"
       ]
      }
     ],
     "prompt_number": 318
    },
    {
     "cell_type": "code",
     "collapsed": false,
     "input": [
      "plt.scatter(dsub.time/1000, dsub.z.astype(float), \n",
      "            s=10, marker='.')"
     ],
     "language": "python",
     "metadata": {},
     "outputs": [
      {
       "metadata": {},
       "output_type": "pyout",
       "prompt_number": 319,
       "text": [
        "<matplotlib.collections.PathCollection at 0x1cdae7350>"
       ]
      },
      {
       "metadata": {},
       "output_type": "display_data",
       "png": "[encoded data removed]",
       "text": [
        "<matplotlib.figure.Figure at 0x1cd81b890>"
       ]
      }
     ],
     "prompt_number": 319
    },
    {
     "cell_type": "code",
     "collapsed": false,
     "input": [],
     "language": "python",
     "metadata": {},
     "outputs": []
    },
    {
     "cell_type": "heading",
     "level": 2,
     "metadata": {},
     "source": [
      "Heading Direction"
     ]
    },
    {
     "cell_type": "code",
     "collapsed": false,
     "input": [
      "dh = df[(df.command == 'VROBJECT_HEADING') & (df.c3 == 'PandaEPL_avatar')].reset_index()\n",
      "dh = dh.drop(['c5', 'c6', 'c7', 'c8', 'command', 'index'], 1) # remove unncessary cols\n",
      "dh.head()"
     ],
     "language": "python",
     "metadata": {},
     "outputs": [
      {
       "html": [
        "<div style=\"max-height:1000px;max-width:1500px;overflow:auto;\">\n",
        "<table border=\"1\" class=\"dataframe\">\n",
        "  <thead>\n",
        "    <tr style=\"text-align: right;\">\n",
        "      <th></th>\n",
        "      <th>time</th>\n",
        "      <th>c2</th>\n",
        "      <th>c3</th>\n",
        "      <th>c4</th>\n",
        "      <th>subid</th>\n",
        "      <th>env</th>\n",
        "    </tr>\n",
        "  </thead>\n",
        "  <tbody>\n",
        "    <tr>\n",
        "      <th>0</th>\n",
        "      <td>  4483</td>\n",
        "      <td> 71</td>\n",
        "      <td> PandaEPL_avatar</td>\n",
        "      <td> -90.0</td>\n",
        "      <td> s1</td>\n",
        "      <td> env1</td>\n",
        "    </tr>\n",
        "    <tr>\n",
        "      <th>1</th>\n",
        "      <td> 20323</td>\n",
        "      <td> 21</td>\n",
        "      <td> PandaEPL_avatar</td>\n",
        "      <td> -45.0</td>\n",
        "      <td> s1</td>\n",
        "      <td> env1</td>\n",
        "    </tr>\n",
        "    <tr>\n",
        "      <th>2</th>\n",
        "      <td> 21583</td>\n",
        "      <td> 11</td>\n",
        "      <td> PandaEPL_avatar</td>\n",
        "      <td>   0.0</td>\n",
        "      <td> s1</td>\n",
        "      <td> env1</td>\n",
        "    </tr>\n",
        "    <tr>\n",
        "      <th>3</th>\n",
        "      <td> 22843</td>\n",
        "      <td> 11</td>\n",
        "      <td> PandaEPL_avatar</td>\n",
        "      <td>  45.0</td>\n",
        "      <td> s1</td>\n",
        "      <td> env1</td>\n",
        "    </tr>\n",
        "    <tr>\n",
        "      <th>4</th>\n",
        "      <td> 24113</td>\n",
        "      <td> 11</td>\n",
        "      <td> PandaEPL_avatar</td>\n",
        "      <td>  90.0</td>\n",
        "      <td> s1</td>\n",
        "      <td> env1</td>\n",
        "    </tr>\n",
        "  </tbody>\n",
        "</table>\n",
        "</div>"
       ],
       "metadata": {},
       "output_type": "pyout",
       "prompt_number": 299,
       "text": [
        "    time  c2               c3     c4 subid   env\n",
        "0   4483  71  PandaEPL_avatar  -90.0    s1  env1\n",
        "1  20323  21  PandaEPL_avatar  -45.0    s1  env1\n",
        "2  21583  11  PandaEPL_avatar    0.0    s1  env1\n",
        "3  22843  11  PandaEPL_avatar   45.0    s1  env1\n",
        "4  24113  11  PandaEPL_avatar   90.0    s1  env1"
       ]
      }
     ],
     "prompt_number": 299
    },
    {
     "cell_type": "code",
     "collapsed": false,
     "input": [
      "dsub = dh.query('env == \"env3\" & subid==\"s1\"')\n",
      "dsub.head()"
     ],
     "language": "python",
     "metadata": {},
     "outputs": [
      {
       "html": [
        "<div style=\"max-height:1000px;max-width:1500px;overflow:auto;\">\n",
        "<table border=\"1\" class=\"dataframe\">\n",
        "  <thead>\n",
        "    <tr style=\"text-align: right;\">\n",
        "      <th></th>\n",
        "      <th>time</th>\n",
        "      <th>c2</th>\n",
        "      <th>c3</th>\n",
        "      <th>c4</th>\n",
        "      <th>subid</th>\n",
        "      <th>env</th>\n",
        "    </tr>\n",
        "  </thead>\n",
        "  <tbody>\n",
        "    <tr>\n",
        "      <th>9523</th>\n",
        "      <td>  6922</td>\n",
        "      <td> 41</td>\n",
        "      <td> PandaEPL_avatar</td>\n",
        "      <td>   0.0</td>\n",
        "      <td> s1</td>\n",
        "      <td> env3</td>\n",
        "    </tr>\n",
        "    <tr>\n",
        "      <th>9524</th>\n",
        "      <td> 22712</td>\n",
        "      <td>  1</td>\n",
        "      <td> PandaEPL_avatar</td>\n",
        "      <td>  45.0</td>\n",
        "      <td> s1</td>\n",
        "      <td> env3</td>\n",
        "    </tr>\n",
        "    <tr>\n",
        "      <th>9525</th>\n",
        "      <td> 23982</td>\n",
        "      <td> 21</td>\n",
        "      <td> PandaEPL_avatar</td>\n",
        "      <td>  90.0</td>\n",
        "      <td> s1</td>\n",
        "      <td> env3</td>\n",
        "    </tr>\n",
        "    <tr>\n",
        "      <th>9526</th>\n",
        "      <td> 25232</td>\n",
        "      <td> 21</td>\n",
        "      <td> PandaEPL_avatar</td>\n",
        "      <td> 135.0</td>\n",
        "      <td> s1</td>\n",
        "      <td> env3</td>\n",
        "    </tr>\n",
        "    <tr>\n",
        "      <th>9527</th>\n",
        "      <td> 26502</td>\n",
        "      <td> 11</td>\n",
        "      <td> PandaEPL_avatar</td>\n",
        "      <td> 180.0</td>\n",
        "      <td> s1</td>\n",
        "      <td> env3</td>\n",
        "    </tr>\n",
        "  </tbody>\n",
        "</table>\n",
        "</div>"
       ],
       "metadata": {},
       "output_type": "pyout",
       "prompt_number": 301,
       "text": [
        "       time  c2               c3     c4 subid   env\n",
        "9523   6922  41  PandaEPL_avatar    0.0    s1  env3\n",
        "9524  22712   1  PandaEPL_avatar   45.0    s1  env3\n",
        "9525  23982  21  PandaEPL_avatar   90.0    s1  env3\n",
        "9526  25232  21  PandaEPL_avatar  135.0    s1  env3\n",
        "9527  26502  11  PandaEPL_avatar  180.0    s1  env3"
       ]
      }
     ],
     "prompt_number": 301
    },
    {
     "cell_type": "code",
     "collapsed": false,
     "input": [
      "plt.scatter(dsub.time/1000, dsub.c4.astype(float), \n",
      "            s=10, marker='.')"
     ],
     "language": "python",
     "metadata": {},
     "outputs": [
      {
       "metadata": {},
       "output_type": "pyout",
       "prompt_number": 302,
       "text": [
        "<matplotlib.collections.PathCollection at 0x1c0096a50>"
       ]
      },
      {
       "metadata": {},
       "output_type": "display_data",
       "png": "[encoded data removed]",
       "text": [
        "<matplotlib.figure.Figure at 0x1c72191d0>"
       ]
      }
     ],
     "prompt_number": 302
    },
    {
     "cell_type": "code",
     "collapsed": false,
     "input": [],
     "language": "python",
     "metadata": {},
     "outputs": []
    },
    {
     "cell_type": "heading",
     "level": 2,
     "metadata": {},
     "source": [
      "Text Events"
     ]
    },
    {
     "cell_type": "code",
     "collapsed": false,
     "input": [
      "dt = df[(df.command == 'TEXT_STRING') & (df.c3 == 'assignmentInstruct_text')].reset_index()\n",
      "dt = dt.drop(['c5', 'c6', 'c7', 'c8', 'command', 'index'], 1) # remove unncessary cols\n",
      "dt.head()"
     ],
     "language": "python",
     "metadata": {},
     "outputs": [
      {
       "html": [
        "<div style=\"max-height:1000px;max-width:1500px;overflow:auto;\">\n",
        "<table border=\"1\" class=\"dataframe\">\n",
        "  <thead>\n",
        "    <tr style=\"text-align: right;\">\n",
        "      <th></th>\n",
        "      <th>time</th>\n",
        "      <th>c2</th>\n",
        "      <th>c3</th>\n",
        "      <th>c4</th>\n",
        "      <th>subid</th>\n",
        "      <th>env</th>\n",
        "    </tr>\n",
        "  </thead>\n",
        "  <tbody>\n",
        "    <tr>\n",
        "      <th>0</th>\n",
        "      <td>  30133</td>\n",
        "      <td> 1</td>\n",
        "      <td> assignmentInstruct_text</td>\n",
        "      <td> Pick up: George Clooney.</td>\n",
        "      <td> s1</td>\n",
        "      <td> env1</td>\n",
        "    </tr>\n",
        "    <tr>\n",
        "      <th>1</th>\n",
        "      <td> 106403</td>\n",
        "      <td> 1</td>\n",
        "      <td> assignmentInstruct_text</td>\n",
        "      <td>         Pick up: wrench.</td>\n",
        "      <td> s1</td>\n",
        "      <td> env1</td>\n",
        "    </tr>\n",
        "    <tr>\n",
        "      <th>2</th>\n",
        "      <td>  41733</td>\n",
        "      <td> 1</td>\n",
        "      <td> assignmentInstruct_text</td>\n",
        "      <td>           Pick up: duck.</td>\n",
        "      <td> s1</td>\n",
        "      <td> env2</td>\n",
        "    </tr>\n",
        "    <tr>\n",
        "      <th>3</th>\n",
        "      <td> 133753</td>\n",
        "      <td> 1</td>\n",
        "      <td> assignmentInstruct_text</td>\n",
        "      <td>         Pick up: hammer.</td>\n",
        "      <td> s1</td>\n",
        "      <td> env2</td>\n",
        "    </tr>\n",
        "    <tr>\n",
        "      <th>4</th>\n",
        "      <td>  32502</td>\n",
        "      <td> 1</td>\n",
        "      <td> assignmentInstruct_text</td>\n",
        "      <td>        Pick up: lettuce.</td>\n",
        "      <td> s1</td>\n",
        "      <td> env3</td>\n",
        "    </tr>\n",
        "  </tbody>\n",
        "</table>\n",
        "</div>"
       ],
       "metadata": {},
       "output_type": "pyout",
       "prompt_number": 322,
       "text": [
        "     time c2                       c3                        c4 subid   env\n",
        "0   30133  1  assignmentInstruct_text  Pick up: George Clooney.    s1  env1\n",
        "1  106403  1  assignmentInstruct_text          Pick up: wrench.    s1  env1\n",
        "2   41733  1  assignmentInstruct_text            Pick up: duck.    s1  env2\n",
        "3  133753  1  assignmentInstruct_text          Pick up: hammer.    s1  env2\n",
        "4   32502  1  assignmentInstruct_text         Pick up: lettuce.    s1  env3"
       ]
      }
     ],
     "prompt_number": 322
    },
    {
     "cell_type": "code",
     "collapsed": false,
     "input": [
      "dsub = dt.query('env == \"env3\" & subid==\"s1\"')\n",
      "dsub.head()"
     ],
     "language": "python",
     "metadata": {},
     "outputs": [
      {
       "html": [
        "<div style=\"max-height:1000px;max-width:1500px;overflow:auto;\">\n",
        "<table border=\"1\" class=\"dataframe\">\n",
        "  <thead>\n",
        "    <tr style=\"text-align: right;\">\n",
        "      <th></th>\n",
        "      <th>time</th>\n",
        "      <th>c2</th>\n",
        "      <th>c3</th>\n",
        "      <th>c4</th>\n",
        "      <th>subid</th>\n",
        "      <th>env</th>\n",
        "    </tr>\n",
        "  </thead>\n",
        "  <tbody>\n",
        "    <tr>\n",
        "      <th>4</th>\n",
        "      <td> 32502</td>\n",
        "      <td>  1</td>\n",
        "      <td> assignmentInstruct_text</td>\n",
        "      <td>        Pick up: lettuce.</td>\n",
        "      <td> s1</td>\n",
        "      <td> env3</td>\n",
        "    </tr>\n",
        "    <tr>\n",
        "      <th>5</th>\n",
        "      <td> 98832</td>\n",
        "      <td> 11</td>\n",
        "      <td> assignmentInstruct_text</td>\n",
        "      <td> Pick up: Paul McCartney.</td>\n",
        "      <td> s1</td>\n",
        "      <td> env3</td>\n",
        "    </tr>\n",
        "  </tbody>\n",
        "</table>\n",
        "</div>"
       ],
       "metadata": {},
       "output_type": "pyout",
       "prompt_number": 323,
       "text": [
        "    time  c2                       c3                        c4 subid   env\n",
        "4  32502   1  assignmentInstruct_text         Pick up: lettuce.    s1  env3\n",
        "5  98832  11  assignmentInstruct_text  Pick up: Paul McCartney.    s1  env3"
       ]
      }
     ],
     "prompt_number": 323
    },
    {
     "cell_type": "code",
     "collapsed": false,
     "input": [],
     "language": "python",
     "metadata": {},
     "outputs": []
    },
    {
     "cell_type": "heading",
     "level": 2,
     "metadata": {},
     "source": [
      "Shock Events"
     ]
    },
    {
     "cell_type": "code",
     "collapsed": false,
     "input": [
      "ds = df[(df.command == 'SHOCK')].reset_index()\n",
      "ds = ds.drop(['c4', 'c5', 'c6', 'c7', 'c8', 'command', 'index'], 1) # remove unncessary cols\n",
      "ds.head()"
     ],
     "language": "python",
     "metadata": {},
     "outputs": [
      {
       "html": [
        "<div style=\"max-height:1000px;max-width:1500px;overflow:auto;\">\n",
        "<table border=\"1\" class=\"dataframe\">\n",
        "  <thead>\n",
        "    <tr style=\"text-align: right;\">\n",
        "      <th></th>\n",
        "      <th>time</th>\n",
        "      <th>c2</th>\n",
        "      <th>c3</th>\n",
        "      <th>subid</th>\n",
        "      <th>env</th>\n",
        "    </tr>\n",
        "  </thead>\n",
        "  <tbody>\n",
        "    <tr>\n",
        "      <th>0</th>\n",
        "      <td> 59703</td>\n",
        "      <td>  1</td>\n",
        "      <td> zap_delivered</td>\n",
        "      <td> s1</td>\n",
        "      <td> env2</td>\n",
        "    </tr>\n",
        "    <tr>\n",
        "      <th>1</th>\n",
        "      <td> 49246</td>\n",
        "      <td> 11</td>\n",
        "      <td> zap_delivered</td>\n",
        "      <td> s1</td>\n",
        "      <td> env6</td>\n",
        "    </tr>\n",
        "    <tr>\n",
        "      <th>2</th>\n",
        "      <td> 48846</td>\n",
        "      <td> 11</td>\n",
        "      <td> zap_delivered</td>\n",
        "      <td> s3</td>\n",
        "      <td> env1</td>\n",
        "    </tr>\n",
        "    <tr>\n",
        "      <th>3</th>\n",
        "      <td> 49833</td>\n",
        "      <td> 11</td>\n",
        "      <td> zap_delivered</td>\n",
        "      <td> s3</td>\n",
        "      <td> env2</td>\n",
        "    </tr>\n",
        "    <tr>\n",
        "      <th>4</th>\n",
        "      <td> 49913</td>\n",
        "      <td> 11</td>\n",
        "      <td> zap_delivered</td>\n",
        "      <td> s3</td>\n",
        "      <td> env4</td>\n",
        "    </tr>\n",
        "  </tbody>\n",
        "</table>\n",
        "</div>"
       ],
       "metadata": {},
       "output_type": "pyout",
       "prompt_number": 326,
       "text": [
        "    time  c2             c3 subid   env\n",
        "0  59703   1  zap_delivered    s1  env2\n",
        "1  49246  11  zap_delivered    s1  env6\n",
        "2  48846  11  zap_delivered    s3  env1\n",
        "3  49833  11  zap_delivered    s3  env2\n",
        "4  49913  11  zap_delivered    s3  env4"
       ]
      }
     ],
     "prompt_number": 326
    },
    {
     "cell_type": "code",
     "collapsed": false,
     "input": [
      "ds.groupby('subid').env.count()"
     ],
     "language": "python",
     "metadata": {},
     "outputs": [
      {
       "metadata": {},
       "output_type": "pyout",
       "prompt_number": 333,
       "text": [
        "subid\n",
        "s1       2\n",
        "s2a      2\n",
        "s3       3\n",
        "s4       2\n",
        "s5       2\n",
        "s6       2\n",
        "Name: env, dtype: int64"
       ]
      }
     ],
     "prompt_number": 333
    },
    {
     "cell_type": "code",
     "collapsed": false,
     "input": [],
     "language": "python",
     "metadata": {},
     "outputs": []
    },
    {
     "cell_type": "heading",
     "level": 2,
     "metadata": {},
     "source": [
      "Input Events"
     ]
    },
    {
     "cell_type": "code",
     "collapsed": false,
     "input": [
      "di = df[(df.command == 'INPUT_EVENT')].reset_index()\n",
      "di = di.drop(['c4', 'c5', 'c6', 'c7', 'c8', 'command', 'index'], 1) # remove unncessary cols\n",
      "di = di.query('(c3 != \"dismiss\") & (c3 != \"exit\")')\n",
      "di.head()"
     ],
     "language": "python",
     "metadata": {},
     "outputs": [
      {
       "html": [
        "<div style=\"max-height:1000px;max-width:1500px;overflow:auto;\">\n",
        "<table border=\"1\" class=\"dataframe\">\n",
        "  <thead>\n",
        "    <tr style=\"text-align: right;\">\n",
        "      <th></th>\n",
        "      <th>time</th>\n",
        "      <th>c2</th>\n",
        "      <th>c3</th>\n",
        "      <th>subid</th>\n",
        "      <th>env</th>\n",
        "    </tr>\n",
        "  </thead>\n",
        "  <tbody>\n",
        "    <tr>\n",
        "      <th>0</th>\n",
        "      <td> 39503</td>\n",
        "      <td> 0</td>\n",
        "      <td> moveForward</td>\n",
        "      <td> s1</td>\n",
        "      <td> env1</td>\n",
        "    </tr>\n",
        "    <tr>\n",
        "      <th>1</th>\n",
        "      <td> 39523</td>\n",
        "      <td> 0</td>\n",
        "      <td> moveForward</td>\n",
        "      <td> s1</td>\n",
        "      <td> env1</td>\n",
        "    </tr>\n",
        "    <tr>\n",
        "      <th>2</th>\n",
        "      <td> 39533</td>\n",
        "      <td> 0</td>\n",
        "      <td> moveForward</td>\n",
        "      <td> s1</td>\n",
        "      <td> env1</td>\n",
        "    </tr>\n",
        "    <tr>\n",
        "      <th>3</th>\n",
        "      <td> 39553</td>\n",
        "      <td> 0</td>\n",
        "      <td> moveForward</td>\n",
        "      <td> s1</td>\n",
        "      <td> env1</td>\n",
        "    </tr>\n",
        "    <tr>\n",
        "      <th>4</th>\n",
        "      <td> 39583</td>\n",
        "      <td> 0</td>\n",
        "      <td> moveForward</td>\n",
        "      <td> s1</td>\n",
        "      <td> env1</td>\n",
        "    </tr>\n",
        "  </tbody>\n",
        "</table>\n",
        "</div>"
       ],
       "metadata": {},
       "output_type": "pyout",
       "prompt_number": 348,
       "text": [
        "    time c2           c3 subid   env\n",
        "0  39503  0  moveForward    s1  env1\n",
        "1  39523  0  moveForward    s1  env1\n",
        "2  39533  0  moveForward    s1  env1\n",
        "3  39553  0  moveForward    s1  env1\n",
        "4  39583  0  moveForward    s1  env1"
       ]
      }
     ],
     "prompt_number": 348
    },
    {
     "cell_type": "code",
     "collapsed": false,
     "input": [
      "counts = di.groupby(['subid', 'env', 'c3']).count().reset_index()\n",
      "\n",
      "sns.factorplot(x='env', y='time', hue='c3', \n",
      "               units='subid', ci=68, data=counts)\n",
      "plt.ylabel('Count (time stamps)')"
     ],
     "language": "python",
     "metadata": {},
     "outputs": [
      {
       "metadata": {},
       "output_type": "pyout",
       "prompt_number": 359,
       "text": [
        "<matplotlib.text.Text at 0x1d0759750>"
       ]
      },
      {
       "metadata": {},
       "output_type": "display_data",
       "png": "[encoded data removed]",
       "text": [
        "<matplotlib.figure.Figure at 0x1d07167d0>"
       ]
      }
     ],
     "prompt_number": 359
    },
    {
     "cell_type": "code",
     "collapsed": false,
     "input": [],
     "language": "python",
     "metadata": {},
     "outputs": []
    },
    {
     "cell_type": "code",
     "collapsed": false,
     "input": [],
     "language": "python",
     "metadata": {},
     "outputs": []
    },
    {
     "cell_type": "heading",
     "level": 2,
     "metadata": {},
     "source": [
      "Other"
     ]
    },
    {
     "cell_type": "code",
     "collapsed": false,
     "input": [
      "x = np.array(dp.query('env == \"env1\" & subid==\"s1\" & c3==\"PandaEPL_avatar\"').x.astype(float).reset_index())\n",
      "y = np.array(dp.query('env == \"env1\" & subid==\"s1\" & c3==\"PandaEPL_avatar\"').y.astype(float).reset_index())\n",
      "\n",
      "def animate(nframe):\n",
      "      plt.scatter(x[range(nframe)], y[range(nframe)])\n",
      "      plt.ylim(-50,50)\n",
      "      plt.xlim(-50,50)\n",
      "\n",
      "fig = plt.figure()\n",
      "\n",
      "ani = animation.FuncAnimation(fig, animate, frames=2500, interval=200, blit=True)\n",
      "plt.show()"
     ],
     "language": "python",
     "metadata": {},
     "outputs": [
      {
       "metadata": {},
       "output_type": "display_data",
       "png": "[encoded data removed]",
       "text": [
        "<matplotlib.figure.Figure at 0x1a9416250>"
       ]
      }
     ],
     "prompt_number": 239
    },
    {
     "cell_type": "code",
     "collapsed": false,
     "input": [
      "ani.save('/Users/steph-backup/Desktop/path.gif', writer='imagemagick', fps=50)"
     ],
     "language": "python",
     "metadata": {},
     "outputs": [
      {
       "ename": "KeyboardInterrupt",
       "evalue": "",
       "output_type": "pyerr",
       "traceback": [
        "\u001b[0;31m---------------------------------------------------------------------------\u001b[0m\n\u001b[0;31mKeyboardInterrupt\u001b[0m                         Traceback (most recent call last)",
        "\u001b[0;32m<ipython-input-241-82f868ac3359>\u001b[0m in \u001b[0;36m<module>\u001b[0;34m()\u001b[0m\n\u001b[0;32m----> 1\u001b[0;31m \u001b[0mani\u001b[0m\u001b[0;34m.\u001b[0m\u001b[0msave\u001b[0m\u001b[0;34m(\u001b[0m\u001b[0;34m'/Users/steph-backup/Desktop/path.gif'\u001b[0m\u001b[0;34m,\u001b[0m \u001b[0mwriter\u001b[0m\u001b[0;34m=\u001b[0m\u001b[0;34m'imagemagick'\u001b[0m\u001b[0;34m,\u001b[0m \u001b[0mfps\u001b[0m\u001b[0;34m=\u001b[0m\u001b[0;36m50\u001b[0m\u001b[0;34m)\u001b[0m\u001b[0;34m\u001b[0m\u001b[0m\n\u001b[0m",
        "\u001b[0;32m/Users/steph-backup/anaconda/lib/python2.7/site-packages/matplotlib/animation.pyc\u001b[0m in \u001b[0;36msave\u001b[0;34m(self, filename, writer, fps, dpi, codec, bitrate, extra_args, metadata, extra_anim, savefig_kwargs)\u001b[0m\n\u001b[1;32m    750\u001b[0m                     \u001b[0;31m#TODO: Need to see if turning off blit is really necessary\u001b[0m\u001b[0;34m\u001b[0m\u001b[0;34m\u001b[0m\u001b[0m\n\u001b[1;32m    751\u001b[0m                     \u001b[0manim\u001b[0m\u001b[0;34m.\u001b[0m\u001b[0m_draw_next_frame\u001b[0m\u001b[0;34m(\u001b[0m\u001b[0md\u001b[0m\u001b[0;34m,\u001b[0m \u001b[0mblit\u001b[0m\u001b[0;34m=\u001b[0m\u001b[0mFalse\u001b[0m\u001b[0;34m)\u001b[0m\u001b[0;34m\u001b[0m\u001b[0m\n\u001b[0;32m--> 752\u001b[0;31m                 \u001b[0mwriter\u001b[0m\u001b[0;34m.\u001b[0m\u001b[0mgrab_frame\u001b[0m\u001b[0;34m(\u001b[0m\u001b[0;34m**\u001b[0m\u001b[0msavefig_kwargs\u001b[0m\u001b[0;34m)\u001b[0m\u001b[0;34m\u001b[0m\u001b[0m\n\u001b[0m\u001b[1;32m    753\u001b[0m \u001b[0;34m\u001b[0m\u001b[0m\n\u001b[1;32m    754\u001b[0m         \u001b[0;31m# Reconnect signal for first draw if necessary\u001b[0m\u001b[0;34m\u001b[0m\u001b[0;34m\u001b[0m\u001b[0m\n",
        "\u001b[0;32m/Users/steph-backup/anaconda/lib/python2.7/site-packages/matplotlib/animation.pyc\u001b[0m in \u001b[0;36mgrab_frame\u001b[0;34m(self, **savefig_kwargs)\u001b[0m\n\u001b[1;32m    208\u001b[0m             \u001b[0;31m# frame format and dpi.\u001b[0m\u001b[0;34m\u001b[0m\u001b[0;34m\u001b[0m\u001b[0m\n\u001b[1;32m    209\u001b[0m             self.fig.savefig(self._frame_sink(), format=self.frame_format,\n\u001b[0;32m--> 210\u001b[0;31m                              dpi=self.dpi, **savefig_kwargs)\n\u001b[0m\u001b[1;32m    211\u001b[0m         \u001b[0;32mexcept\u001b[0m \u001b[0mRuntimeError\u001b[0m\u001b[0;34m:\u001b[0m\u001b[0;34m\u001b[0m\u001b[0m\n\u001b[1;32m    212\u001b[0m             \u001b[0mout\u001b[0m\u001b[0;34m,\u001b[0m \u001b[0merr\u001b[0m \u001b[0;34m=\u001b[0m \u001b[0mself\u001b[0m\u001b[0;34m.\u001b[0m\u001b[0m_proc\u001b[0m\u001b[0;34m.\u001b[0m\u001b[0mcommunicate\u001b[0m\u001b[0;34m(\u001b[0m\u001b[0;34m)\u001b[0m\u001b[0;34m\u001b[0m\u001b[0m\n",
        "\u001b[0;32m/Users/steph-backup/anaconda/lib/python2.7/site-packages/matplotlib/figure.pyc\u001b[0m in \u001b[0;36msavefig\u001b[0;34m(self, *args, **kwargs)\u001b[0m\n\u001b[1;32m   1468\u001b[0m             \u001b[0mself\u001b[0m\u001b[0;34m.\u001b[0m\u001b[0mset_frameon\u001b[0m\u001b[0;34m(\u001b[0m\u001b[0mframeon\u001b[0m\u001b[0;34m)\u001b[0m\u001b[0;34m\u001b[0m\u001b[0m\n\u001b[1;32m   1469\u001b[0m \u001b[0;34m\u001b[0m\u001b[0m\n\u001b[0;32m-> 1470\u001b[0;31m         \u001b[0mself\u001b[0m\u001b[0;34m.\u001b[0m\u001b[0mcanvas\u001b[0m\u001b[0;34m.\u001b[0m\u001b[0mprint_figure\u001b[0m\u001b[0;34m(\u001b[0m\u001b[0;34m*\u001b[0m\u001b[0margs\u001b[0m\u001b[0;34m,\u001b[0m \u001b[0;34m**\u001b[0m\u001b[0mkwargs\u001b[0m\u001b[0;34m)\u001b[0m\u001b[0;34m\u001b[0m\u001b[0m\n\u001b[0m\u001b[1;32m   1471\u001b[0m \u001b[0;34m\u001b[0m\u001b[0m\n\u001b[1;32m   1472\u001b[0m         \u001b[0;32mif\u001b[0m \u001b[0mframeon\u001b[0m\u001b[0;34m:\u001b[0m\u001b[0;34m\u001b[0m\u001b[0m\n",
        "\u001b[0;32m/Users/steph-backup/anaconda/lib/python2.7/site-packages/matplotlib/backend_bases.pyc\u001b[0m in \u001b[0;36mprint_figure\u001b[0;34m(self, filename, dpi, facecolor, edgecolor, orientation, format, **kwargs)\u001b[0m\n\u001b[1;32m   2190\u001b[0m                 \u001b[0morientation\u001b[0m\u001b[0;34m=\u001b[0m\u001b[0morientation\u001b[0m\u001b[0;34m,\u001b[0m\u001b[0;34m\u001b[0m\u001b[0m\n\u001b[1;32m   2191\u001b[0m                 \u001b[0mbbox_inches_restore\u001b[0m\u001b[0;34m=\u001b[0m\u001b[0m_bbox_inches_restore\u001b[0m\u001b[0;34m,\u001b[0m\u001b[0;34m\u001b[0m\u001b[0m\n\u001b[0;32m-> 2192\u001b[0;31m                 **kwargs)\n\u001b[0m\u001b[1;32m   2193\u001b[0m         \u001b[0;32mfinally\u001b[0m\u001b[0;34m:\u001b[0m\u001b[0;34m\u001b[0m\u001b[0m\n\u001b[1;32m   2194\u001b[0m             \u001b[0;32mif\u001b[0m \u001b[0mbbox_inches\u001b[0m \u001b[0;32mand\u001b[0m \u001b[0mrestore_bbox\u001b[0m\u001b[0;34m:\u001b[0m\u001b[0;34m\u001b[0m\u001b[0m\n",
        "\u001b[0;32m/Users/steph-backup/anaconda/lib/python2.7/site-packages/matplotlib/backends/backend_agg.pyc\u001b[0m in \u001b[0;36mprint_raw\u001b[0;34m(self, filename_or_obj, *args, **kwargs)\u001b[0m\n\u001b[1;32m    503\u001b[0m             \u001b[0mclose\u001b[0m \u001b[0;34m=\u001b[0m \u001b[0mFalse\u001b[0m\u001b[0;34m\u001b[0m\u001b[0m\n\u001b[1;32m    504\u001b[0m         \u001b[0;32mtry\u001b[0m\u001b[0;34m:\u001b[0m\u001b[0;34m\u001b[0m\u001b[0m\n\u001b[0;32m--> 505\u001b[0;31m             \u001b[0mrenderer\u001b[0m\u001b[0;34m.\u001b[0m\u001b[0m_renderer\u001b[0m\u001b[0;34m.\u001b[0m\u001b[0mwrite_rgba\u001b[0m\u001b[0;34m(\u001b[0m\u001b[0mfilename_or_obj\u001b[0m\u001b[0;34m)\u001b[0m\u001b[0;34m\u001b[0m\u001b[0m\n\u001b[0m\u001b[1;32m    506\u001b[0m         \u001b[0;32mfinally\u001b[0m\u001b[0;34m:\u001b[0m\u001b[0;34m\u001b[0m\u001b[0m\n\u001b[1;32m    507\u001b[0m             \u001b[0;32mif\u001b[0m \u001b[0mclose\u001b[0m\u001b[0;34m:\u001b[0m\u001b[0;34m\u001b[0m\u001b[0m\n",
        "\u001b[0;31mKeyboardInterrupt\u001b[0m: "
       ]
      },
      {
       "metadata": {},
       "output_type": "display_data",
       "png": "[encoded data removed]",
       "text": [
        "<matplotlib.figure.Figure at 0x1aafcdb50>"
       ]
      }
     ],
     "prompt_number": 241
    },
    {
     "cell_type": "code",
     "collapsed": false,
     "input": [],
     "language": "python",
     "metadata": {},
     "outputs": []
    }
   ],
   "metadata": {}
  }
 ]
}