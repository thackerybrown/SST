{
 "cells": [
  {
   "cell_type": "code",
   "execution_count": 5,
   "metadata": {
    "collapsed": false
   },
   "outputs": [],
   "source": [
    "%matplotlib inline\n",
    "import pandas as pd\n",
    "import seaborn as sns\n",
    "import matplotlib.pyplot as plt\n",
    "import numpy as np\n",
    "\n",
    "sns.set(style='ticks', font_scale=1.5)"
   ]
  },
  {
   "cell_type": "code",
   "execution_count": 6,
   "metadata": {
    "collapsed": false
   },
   "outputs": [
    {
     "data": {
      "text/html": [
       "<div>\n",
       "<table border=\"1\" class=\"dataframe\">\n",
       "  <thead>\n",
       "    <tr style=\"text-align: right;\">\n",
       "      <th></th>\n",
       "      <th>subid</th>\n",
       "      <th>group</th>\n",
       "      <th>remove</th>\n",
       "    </tr>\n",
       "  </thead>\n",
       "  <tbody>\n",
       "    <tr>\n",
       "      <th>0</th>\n",
       "      <td>sst01</td>\n",
       "      <td>control</td>\n",
       "      <td>1.0</td>\n",
       "    </tr>\n",
       "    <tr>\n",
       "      <th>1</th>\n",
       "      <td>sst02</td>\n",
       "      <td>control</td>\n",
       "      <td>1.0</td>\n",
       "    </tr>\n",
       "    <tr>\n",
       "      <th>2</th>\n",
       "      <td>sst03</td>\n",
       "      <td>control</td>\n",
       "      <td>NaN</td>\n",
       "    </tr>\n",
       "    <tr>\n",
       "      <th>3</th>\n",
       "      <td>sst04</td>\n",
       "      <td>control</td>\n",
       "      <td>NaN</td>\n",
       "    </tr>\n",
       "    <tr>\n",
       "      <th>4</th>\n",
       "      <td>sst05</td>\n",
       "      <td>control</td>\n",
       "      <td>NaN</td>\n",
       "    </tr>\n",
       "  </tbody>\n",
       "</table>\n",
       "</div>"
      ],
      "text/plain": [
       "   subid    group  remove\n",
       "0  sst01  control     1.0\n",
       "1  sst02  control     1.0\n",
       "2  sst03  control     NaN\n",
       "3  sst04  control     NaN\n",
       "4  sst05  control     NaN"
      ]
     },
     "execution_count": 6,
     "metadata": {},
     "output_type": "execute_result"
    }
   ],
   "source": [
    "group_info = pd.read_csv('/Volumes/group/awagner/sgagnon/SST/scripts/subjects_groups.csv')\n",
    "group_info.head()"
   ]
  },
  {
   "cell_type": "code",
   "execution_count": 7,
   "metadata": {
    "collapsed": false
   },
   "outputs": [
    {
     "data": {
      "text/html": [
       "<div>\n",
       "<table border=\"1\" class=\"dataframe\">\n",
       "  <thead>\n",
       "    <tr style=\"text-align: right;\">\n",
       "      <th></th>\n",
       "      <th>subid</th>\n",
       "      <th>env</th>\n",
       "      <th>run_type</th>\n",
       "      <th>rep</th>\n",
       "      <th>code1</th>\n",
       "      <th>coder</th>\n",
       "    </tr>\n",
       "  </thead>\n",
       "  <tbody>\n",
       "    <tr>\n",
       "      <th>0</th>\n",
       "      <td>sst01</td>\n",
       "      <td>1</td>\n",
       "      <td>habit</td>\n",
       "      <td>1</td>\n",
       "      <td>habit</td>\n",
       "      <td>sarah</td>\n",
       "    </tr>\n",
       "    <tr>\n",
       "      <th>1</th>\n",
       "      <td>sst01</td>\n",
       "      <td>1</td>\n",
       "      <td>shortcut</td>\n",
       "      <td>1</td>\n",
       "      <td>other</td>\n",
       "      <td>sarah</td>\n",
       "    </tr>\n",
       "    <tr>\n",
       "      <th>2</th>\n",
       "      <td>sst01</td>\n",
       "      <td>1</td>\n",
       "      <td>shortcut</td>\n",
       "      <td>2</td>\n",
       "      <td>habit</td>\n",
       "      <td>sarah</td>\n",
       "    </tr>\n",
       "    <tr>\n",
       "      <th>3</th>\n",
       "      <td>sst01</td>\n",
       "      <td>2</td>\n",
       "      <td>habit</td>\n",
       "      <td>1</td>\n",
       "      <td>habit</td>\n",
       "      <td>sarah</td>\n",
       "    </tr>\n",
       "    <tr>\n",
       "      <th>4</th>\n",
       "      <td>sst01</td>\n",
       "      <td>2</td>\n",
       "      <td>shortcut</td>\n",
       "      <td>1</td>\n",
       "      <td>habit</td>\n",
       "      <td>sarah</td>\n",
       "    </tr>\n",
       "  </tbody>\n",
       "</table>\n",
       "</div>"
      ],
      "text/plain": [
       "   subid  env  run_type  rep  code1  coder\n",
       "0  sst01    1     habit    1  habit  sarah\n",
       "1  sst01    1  shortcut    1  other  sarah\n",
       "2  sst01    1  shortcut    2  habit  sarah\n",
       "3  sst01    2     habit    1  habit  sarah\n",
       "4  sst01    2  shortcut    1  habit  sarah"
      ]
     },
     "execution_count": 7,
     "metadata": {},
     "output_type": "execute_result"
    }
   ],
   "source": [
    "filepath='/Volumes/group/awagner/sgagnon/SST/nav_data/route_coding_sarah.csv'\n",
    "d = pd.read_csv(filepath)\n",
    "d.head()"
   ]
  },
  {
   "cell_type": "code",
   "execution_count": 78,
   "metadata": {
    "collapsed": false
   },
   "outputs": [
    {
     "data": {
      "text/plain": [
       "6.5    37\n",
       "Name: env, dtype: int64"
      ]
     },
     "execution_count": 78,
     "metadata": {},
     "output_type": "execute_result"
    }
   ],
   "source": [
    "d.groupby(['subid']).mean().env.value_counts()"
   ]
  },
  {
   "cell_type": "code",
   "execution_count": 8,
   "metadata": {
    "collapsed": false
   },
   "outputs": [
    {
     "data": {
      "text/plain": [
       "array(['habit', 'other', 'backtrack', 'shortcut', nan], dtype=object)"
      ]
     },
     "execution_count": 8,
     "metadata": {},
     "output_type": "execute_result"
    }
   ],
   "source": [
    "d = d.loc[d.code1 != 'NO MAP SHOWN',:]\n",
    "codes = d.code1.unique(); codes"
   ]
  },
  {
   "cell_type": "code",
   "execution_count": 38,
   "metadata": {
    "collapsed": false
   },
   "outputs": [
    {
     "name": "stdout",
     "output_type": "stream",
     "text": [
      "(110, 7)\n"
     ]
    },
    {
     "data": {
      "text/html": [
       "<div>\n",
       "<table border=\"1\" class=\"dataframe\">\n",
       "  <thead>\n",
       "    <tr style=\"text-align: right;\">\n",
       "      <th>code1</th>\n",
       "      <th>subid</th>\n",
       "      <th>run_type</th>\n",
       "      <th>rep</th>\n",
       "      <th>backtrack</th>\n",
       "      <th>habit</th>\n",
       "      <th>other</th>\n",
       "      <th>shortcut</th>\n",
       "    </tr>\n",
       "  </thead>\n",
       "  <tbody>\n",
       "    <tr>\n",
       "      <th>0</th>\n",
       "      <td>sst01</td>\n",
       "      <td>habit</td>\n",
       "      <td>1</td>\n",
       "      <td>0</td>\n",
       "      <td>4</td>\n",
       "      <td>7</td>\n",
       "      <td>1</td>\n",
       "    </tr>\n",
       "    <tr>\n",
       "      <th>1</th>\n",
       "      <td>sst01</td>\n",
       "      <td>shortcut</td>\n",
       "      <td>1</td>\n",
       "      <td>0</td>\n",
       "      <td>9</td>\n",
       "      <td>2</td>\n",
       "      <td>1</td>\n",
       "    </tr>\n",
       "    <tr>\n",
       "      <th>2</th>\n",
       "      <td>sst01</td>\n",
       "      <td>shortcut</td>\n",
       "      <td>2</td>\n",
       "      <td>2</td>\n",
       "      <td>7</td>\n",
       "      <td>2</td>\n",
       "      <td>1</td>\n",
       "    </tr>\n",
       "    <tr>\n",
       "      <th>3</th>\n",
       "      <td>sst02</td>\n",
       "      <td>habit</td>\n",
       "      <td>1</td>\n",
       "      <td>0</td>\n",
       "      <td>9</td>\n",
       "      <td>3</td>\n",
       "      <td>0</td>\n",
       "    </tr>\n",
       "    <tr>\n",
       "      <th>4</th>\n",
       "      <td>sst02</td>\n",
       "      <td>shortcut</td>\n",
       "      <td>1</td>\n",
       "      <td>2</td>\n",
       "      <td>4</td>\n",
       "      <td>1</td>\n",
       "      <td>5</td>\n",
       "    </tr>\n",
       "  </tbody>\n",
       "</table>\n",
       "</div>"
      ],
      "text/plain": [
       "code1  subid  run_type  rep  backtrack  habit  other  shortcut\n",
       "0      sst01     habit    1          0      4      7         1\n",
       "1      sst01  shortcut    1          0      9      2         1\n",
       "2      sst01  shortcut    2          2      7      2         1\n",
       "3      sst02     habit    1          0      9      3         0\n",
       "4      sst02  shortcut    1          2      4      1         5"
      ]
     },
     "execution_count": 38,
     "metadata": {},
     "output_type": "execute_result"
    }
   ],
   "source": [
    "data = d.groupby(['subid', 'run_type', 'rep', 'code1']).count().reset_index()\n",
    "data = pd.pivot_table(data, index=['subid', 'run_type', 'rep'], columns='code1', values='env', fill_value=0).reset_index()\n",
    "print data.shape\n",
    "data.head()"
   ]
  },
  {
   "cell_type": "code",
   "execution_count": 39,
   "metadata": {
    "collapsed": false
   },
   "outputs": [
    {
     "name": "stdout",
     "output_type": "stream",
     "text": [
      "(111, 6)\n"
     ]
    },
    {
     "data": {
      "text/html": [
       "<div>\n",
       "<table border=\"1\" class=\"dataframe\">\n",
       "  <thead>\n",
       "    <tr style=\"text-align: right;\">\n",
       "      <th></th>\n",
       "      <th>subid</th>\n",
       "      <th>run_type</th>\n",
       "      <th>rep</th>\n",
       "      <th>env</th>\n",
       "      <th>code1</th>\n",
       "      <th>coder</th>\n",
       "    </tr>\n",
       "  </thead>\n",
       "  <tbody>\n",
       "    <tr>\n",
       "      <th>0</th>\n",
       "      <td>sst01</td>\n",
       "      <td>habit</td>\n",
       "      <td>1</td>\n",
       "      <td>12</td>\n",
       "      <td>12</td>\n",
       "      <td>12</td>\n",
       "    </tr>\n",
       "    <tr>\n",
       "      <th>1</th>\n",
       "      <td>sst01</td>\n",
       "      <td>shortcut</td>\n",
       "      <td>1</td>\n",
       "      <td>12</td>\n",
       "      <td>12</td>\n",
       "      <td>12</td>\n",
       "    </tr>\n",
       "    <tr>\n",
       "      <th>2</th>\n",
       "      <td>sst01</td>\n",
       "      <td>shortcut</td>\n",
       "      <td>2</td>\n",
       "      <td>12</td>\n",
       "      <td>12</td>\n",
       "      <td>12</td>\n",
       "    </tr>\n",
       "    <tr>\n",
       "      <th>3</th>\n",
       "      <td>sst02</td>\n",
       "      <td>habit</td>\n",
       "      <td>1</td>\n",
       "      <td>12</td>\n",
       "      <td>12</td>\n",
       "      <td>12</td>\n",
       "    </tr>\n",
       "    <tr>\n",
       "      <th>4</th>\n",
       "      <td>sst02</td>\n",
       "      <td>shortcut</td>\n",
       "      <td>1</td>\n",
       "      <td>12</td>\n",
       "      <td>12</td>\n",
       "      <td>12</td>\n",
       "    </tr>\n",
       "  </tbody>\n",
       "</table>\n",
       "</div>"
      ],
      "text/plain": [
       "   subid  run_type  rep  env  code1  coder\n",
       "0  sst01     habit    1   12     12     12\n",
       "1  sst01  shortcut    1   12     12     12\n",
       "2  sst01  shortcut    2   12     12     12\n",
       "3  sst02     habit    1   12     12     12\n",
       "4  sst02  shortcut    1   12     12     12"
      ]
     },
     "execution_count": 39,
     "metadata": {},
     "output_type": "execute_result"
    }
   ],
   "source": [
    "data_counts = d.groupby(['subid', 'run_type', 'rep']).count().reset_index()\n",
    "print data_counts.shape\n",
    "data_counts.head()"
   ]
  },
  {
   "cell_type": "code",
   "execution_count": 40,
   "metadata": {
    "collapsed": false
   },
   "outputs": [
    {
     "data": {
      "text/html": [
       "<div>\n",
       "<table border=\"1\" class=\"dataframe\">\n",
       "  <thead>\n",
       "    <tr style=\"text-align: right;\">\n",
       "      <th>code1</th>\n",
       "      <th>subid</th>\n",
       "      <th>run_type</th>\n",
       "      <th>rep</th>\n",
       "      <th>backtrack</th>\n",
       "      <th>habit</th>\n",
       "      <th>other</th>\n",
       "      <th>shortcut</th>\n",
       "      <th>total_trials</th>\n",
       "    </tr>\n",
       "  </thead>\n",
       "  <tbody>\n",
       "    <tr>\n",
       "      <th>0</th>\n",
       "      <td>sst01</td>\n",
       "      <td>habit</td>\n",
       "      <td>1</td>\n",
       "      <td>0</td>\n",
       "      <td>4</td>\n",
       "      <td>7</td>\n",
       "      <td>1</td>\n",
       "      <td>12</td>\n",
       "    </tr>\n",
       "    <tr>\n",
       "      <th>1</th>\n",
       "      <td>sst01</td>\n",
       "      <td>shortcut</td>\n",
       "      <td>1</td>\n",
       "      <td>0</td>\n",
       "      <td>9</td>\n",
       "      <td>2</td>\n",
       "      <td>1</td>\n",
       "      <td>12</td>\n",
       "    </tr>\n",
       "    <tr>\n",
       "      <th>2</th>\n",
       "      <td>sst01</td>\n",
       "      <td>shortcut</td>\n",
       "      <td>2</td>\n",
       "      <td>2</td>\n",
       "      <td>7</td>\n",
       "      <td>2</td>\n",
       "      <td>1</td>\n",
       "      <td>12</td>\n",
       "    </tr>\n",
       "    <tr>\n",
       "      <th>3</th>\n",
       "      <td>sst02</td>\n",
       "      <td>habit</td>\n",
       "      <td>1</td>\n",
       "      <td>0</td>\n",
       "      <td>9</td>\n",
       "      <td>3</td>\n",
       "      <td>0</td>\n",
       "      <td>12</td>\n",
       "    </tr>\n",
       "    <tr>\n",
       "      <th>4</th>\n",
       "      <td>sst02</td>\n",
       "      <td>shortcut</td>\n",
       "      <td>1</td>\n",
       "      <td>2</td>\n",
       "      <td>4</td>\n",
       "      <td>1</td>\n",
       "      <td>5</td>\n",
       "      <td>12</td>\n",
       "    </tr>\n",
       "  </tbody>\n",
       "</table>\n",
       "</div>"
      ],
      "text/plain": [
       "code1  subid  run_type  rep  backtrack  habit  other  shortcut  total_trials\n",
       "0      sst01     habit    1          0      4      7         1            12\n",
       "1      sst01  shortcut    1          0      9      2         1            12\n",
       "2      sst01  shortcut    2          2      7      2         1            12\n",
       "3      sst02     habit    1          0      9      3         0            12\n",
       "4      sst02  shortcut    1          2      4      1         5            12"
      ]
     },
     "execution_count": 40,
     "metadata": {},
     "output_type": "execute_result"
    }
   ],
   "source": [
    "data['total_trials'] = data_counts.env\n",
    "data.head()"
   ]
  },
  {
   "cell_type": "code",
   "execution_count": null,
   "metadata": {
    "collapsed": false
   },
   "outputs": [],
   "source": []
  },
  {
   "cell_type": "code",
   "execution_count": 51,
   "metadata": {
    "collapsed": false
   },
   "outputs": [
    {
     "data": {
      "text/html": [
       "<div>\n",
       "<table border=\"1\" class=\"dataframe\">\n",
       "  <thead>\n",
       "    <tr style=\"text-align: right;\">\n",
       "      <th>code1</th>\n",
       "      <th>habit</th>\n",
       "      <th>other</th>\n",
       "      <th>backtrack</th>\n",
       "      <th>shortcut</th>\n",
       "    </tr>\n",
       "  </thead>\n",
       "  <tbody>\n",
       "    <tr>\n",
       "      <th>0</th>\n",
       "      <td>0.333333</td>\n",
       "      <td>0.583333</td>\n",
       "      <td>0.000000</td>\n",
       "      <td>0.083333</td>\n",
       "    </tr>\n",
       "    <tr>\n",
       "      <th>1</th>\n",
       "      <td>0.750000</td>\n",
       "      <td>0.166667</td>\n",
       "      <td>0.000000</td>\n",
       "      <td>0.083333</td>\n",
       "    </tr>\n",
       "    <tr>\n",
       "      <th>2</th>\n",
       "      <td>0.583333</td>\n",
       "      <td>0.166667</td>\n",
       "      <td>0.166667</td>\n",
       "      <td>0.083333</td>\n",
       "    </tr>\n",
       "    <tr>\n",
       "      <th>3</th>\n",
       "      <td>0.750000</td>\n",
       "      <td>0.250000</td>\n",
       "      <td>0.000000</td>\n",
       "      <td>0.000000</td>\n",
       "    </tr>\n",
       "    <tr>\n",
       "      <th>4</th>\n",
       "      <td>0.333333</td>\n",
       "      <td>0.083333</td>\n",
       "      <td>0.166667</td>\n",
       "      <td>0.416667</td>\n",
       "    </tr>\n",
       "  </tbody>\n",
       "</table>\n",
       "</div>"
      ],
      "text/plain": [
       "code1     habit     other  backtrack  shortcut\n",
       "0      0.333333  0.583333   0.000000  0.083333\n",
       "1      0.750000  0.166667   0.000000  0.083333\n",
       "2      0.583333  0.166667   0.166667  0.083333\n",
       "3      0.750000  0.250000   0.000000  0.000000\n",
       "4      0.333333  0.083333   0.166667  0.416667"
      ]
     },
     "execution_count": 51,
     "metadata": {},
     "output_type": "execute_result"
    }
   ],
   "source": [
    "d1 = data.loc[:,codes[:4]]\n",
    "d2 = data.loc[:,'total_trials']\n",
    "proportions = d1.divide(d2, axis='rows')\n",
    "proportions.head()"
   ]
  },
  {
   "cell_type": "code",
   "execution_count": 52,
   "metadata": {
    "collapsed": false
   },
   "outputs": [
    {
     "data": {
      "text/html": [
       "<div>\n",
       "<table border=\"1\" class=\"dataframe\">\n",
       "  <thead>\n",
       "    <tr style=\"text-align: right;\">\n",
       "      <th>code1</th>\n",
       "      <th>habit</th>\n",
       "      <th>other</th>\n",
       "      <th>backtrack</th>\n",
       "      <th>shortcut</th>\n",
       "      <th>subid</th>\n",
       "      <th>run_type</th>\n",
       "      <th>rep</th>\n",
       "    </tr>\n",
       "  </thead>\n",
       "  <tbody>\n",
       "    <tr>\n",
       "      <th>0</th>\n",
       "      <td>0.333333</td>\n",
       "      <td>0.583333</td>\n",
       "      <td>0.000000</td>\n",
       "      <td>0.083333</td>\n",
       "      <td>sst01</td>\n",
       "      <td>habit</td>\n",
       "      <td>1</td>\n",
       "    </tr>\n",
       "    <tr>\n",
       "      <th>1</th>\n",
       "      <td>0.750000</td>\n",
       "      <td>0.166667</td>\n",
       "      <td>0.000000</td>\n",
       "      <td>0.083333</td>\n",
       "      <td>sst01</td>\n",
       "      <td>shortcut</td>\n",
       "      <td>1</td>\n",
       "    </tr>\n",
       "    <tr>\n",
       "      <th>2</th>\n",
       "      <td>0.583333</td>\n",
       "      <td>0.166667</td>\n",
       "      <td>0.166667</td>\n",
       "      <td>0.083333</td>\n",
       "      <td>sst01</td>\n",
       "      <td>shortcut</td>\n",
       "      <td>2</td>\n",
       "    </tr>\n",
       "    <tr>\n",
       "      <th>3</th>\n",
       "      <td>0.750000</td>\n",
       "      <td>0.250000</td>\n",
       "      <td>0.000000</td>\n",
       "      <td>0.000000</td>\n",
       "      <td>sst02</td>\n",
       "      <td>habit</td>\n",
       "      <td>1</td>\n",
       "    </tr>\n",
       "    <tr>\n",
       "      <th>4</th>\n",
       "      <td>0.333333</td>\n",
       "      <td>0.083333</td>\n",
       "      <td>0.166667</td>\n",
       "      <td>0.416667</td>\n",
       "      <td>sst02</td>\n",
       "      <td>shortcut</td>\n",
       "      <td>1</td>\n",
       "    </tr>\n",
       "  </tbody>\n",
       "</table>\n",
       "</div>"
      ],
      "text/plain": [
       "code1     habit     other  backtrack  shortcut  subid  run_type  rep\n",
       "0      0.333333  0.583333   0.000000  0.083333  sst01     habit    1\n",
       "1      0.750000  0.166667   0.000000  0.083333  sst01  shortcut    1\n",
       "2      0.583333  0.166667   0.166667  0.083333  sst01  shortcut    2\n",
       "3      0.750000  0.250000   0.000000  0.000000  sst02     habit    1\n",
       "4      0.333333  0.083333   0.166667  0.416667  sst02  shortcut    1"
      ]
     },
     "execution_count": 52,
     "metadata": {},
     "output_type": "execute_result"
    }
   ],
   "source": [
    "proportions[['subid', 'run_type', 'rep']] = data[['subid', 'run_type', 'rep']]\n",
    "proportions.head()"
   ]
  },
  {
   "cell_type": "code",
   "execution_count": 53,
   "metadata": {
    "collapsed": false
   },
   "outputs": [
    {
     "data": {
      "text/html": [
       "<div>\n",
       "<table border=\"1\" class=\"dataframe\">\n",
       "  <thead>\n",
       "    <tr style=\"text-align: right;\">\n",
       "      <th></th>\n",
       "      <th>subid</th>\n",
       "      <th>run_type</th>\n",
       "      <th>rep</th>\n",
       "      <th>code1</th>\n",
       "      <th>value</th>\n",
       "    </tr>\n",
       "  </thead>\n",
       "  <tbody>\n",
       "    <tr>\n",
       "      <th>0</th>\n",
       "      <td>sst01</td>\n",
       "      <td>habit</td>\n",
       "      <td>1</td>\n",
       "      <td>habit</td>\n",
       "      <td>0.333333</td>\n",
       "    </tr>\n",
       "    <tr>\n",
       "      <th>1</th>\n",
       "      <td>sst01</td>\n",
       "      <td>shortcut</td>\n",
       "      <td>1</td>\n",
       "      <td>habit</td>\n",
       "      <td>0.750000</td>\n",
       "    </tr>\n",
       "    <tr>\n",
       "      <th>2</th>\n",
       "      <td>sst01</td>\n",
       "      <td>shortcut</td>\n",
       "      <td>2</td>\n",
       "      <td>habit</td>\n",
       "      <td>0.583333</td>\n",
       "    </tr>\n",
       "    <tr>\n",
       "      <th>3</th>\n",
       "      <td>sst02</td>\n",
       "      <td>habit</td>\n",
       "      <td>1</td>\n",
       "      <td>habit</td>\n",
       "      <td>0.750000</td>\n",
       "    </tr>\n",
       "    <tr>\n",
       "      <th>4</th>\n",
       "      <td>sst02</td>\n",
       "      <td>shortcut</td>\n",
       "      <td>1</td>\n",
       "      <td>habit</td>\n",
       "      <td>0.333333</td>\n",
       "    </tr>\n",
       "  </tbody>\n",
       "</table>\n",
       "</div>"
      ],
      "text/plain": [
       "   subid  run_type  rep  code1     value\n",
       "0  sst01     habit    1  habit  0.333333\n",
       "1  sst01  shortcut    1  habit  0.750000\n",
       "2  sst01  shortcut    2  habit  0.583333\n",
       "3  sst02     habit    1  habit  0.750000\n",
       "4  sst02  shortcut    1  habit  0.333333"
      ]
     },
     "execution_count": 53,
     "metadata": {},
     "output_type": "execute_result"
    }
   ],
   "source": [
    "proportions = pd.melt(proportions, id_vars=['subid', 'run_type', 'rep'])\n",
    "proportions.head()"
   ]
  },
  {
   "cell_type": "code",
   "execution_count": 58,
   "metadata": {
    "collapsed": false
   },
   "outputs": [],
   "source": [
    "proportions = proportions.merge(group_info)"
   ]
  },
  {
   "cell_type": "code",
   "execution_count": 60,
   "metadata": {
    "collapsed": false
   },
   "outputs": [
    {
     "data": {
      "text/html": [
       "<div>\n",
       "<table border=\"1\" class=\"dataframe\">\n",
       "  <thead>\n",
       "    <tr style=\"text-align: right;\">\n",
       "      <th></th>\n",
       "      <th>subid</th>\n",
       "      <th>run_type</th>\n",
       "      <th>rep</th>\n",
       "      <th>code1</th>\n",
       "      <th>value</th>\n",
       "      <th>group</th>\n",
       "      <th>remove</th>\n",
       "    </tr>\n",
       "  </thead>\n",
       "  <tbody>\n",
       "    <tr>\n",
       "      <th>0</th>\n",
       "      <td>sst01</td>\n",
       "      <td>habit</td>\n",
       "      <td>1</td>\n",
       "      <td>habit</td>\n",
       "      <td>0.333333</td>\n",
       "      <td>control</td>\n",
       "      <td>1.0</td>\n",
       "    </tr>\n",
       "    <tr>\n",
       "      <th>1</th>\n",
       "      <td>sst01</td>\n",
       "      <td>shortcut</td>\n",
       "      <td>1</td>\n",
       "      <td>habit</td>\n",
       "      <td>0.750000</td>\n",
       "      <td>control</td>\n",
       "      <td>1.0</td>\n",
       "    </tr>\n",
       "    <tr>\n",
       "      <th>2</th>\n",
       "      <td>sst01</td>\n",
       "      <td>shortcut</td>\n",
       "      <td>2</td>\n",
       "      <td>habit</td>\n",
       "      <td>0.583333</td>\n",
       "      <td>control</td>\n",
       "      <td>1.0</td>\n",
       "    </tr>\n",
       "    <tr>\n",
       "      <th>3</th>\n",
       "      <td>sst01</td>\n",
       "      <td>habit</td>\n",
       "      <td>1</td>\n",
       "      <td>other</td>\n",
       "      <td>0.583333</td>\n",
       "      <td>control</td>\n",
       "      <td>1.0</td>\n",
       "    </tr>\n",
       "    <tr>\n",
       "      <th>4</th>\n",
       "      <td>sst01</td>\n",
       "      <td>shortcut</td>\n",
       "      <td>1</td>\n",
       "      <td>other</td>\n",
       "      <td>0.166667</td>\n",
       "      <td>control</td>\n",
       "      <td>1.0</td>\n",
       "    </tr>\n",
       "  </tbody>\n",
       "</table>\n",
       "</div>"
      ],
      "text/plain": [
       "   subid  run_type  rep  code1     value    group  remove\n",
       "0  sst01     habit    1  habit  0.333333  control     1.0\n",
       "1  sst01  shortcut    1  habit  0.750000  control     1.0\n",
       "2  sst01  shortcut    2  habit  0.583333  control     1.0\n",
       "3  sst01     habit    1  other  0.583333  control     1.0\n",
       "4  sst01  shortcut    1  other  0.166667  control     1.0"
      ]
     },
     "execution_count": 60,
     "metadata": {},
     "output_type": "execute_result"
    }
   ],
   "source": [
    "proportions.head()"
   ]
  },
  {
   "cell_type": "code",
   "execution_count": 70,
   "metadata": {
    "collapsed": false
   },
   "outputs": [
    {
     "data": {
      "text/plain": [
       "<matplotlib.text.Text at 0x119b57290>"
      ]
     },
     "execution_count": 70,
     "metadata": {},
     "output_type": "execute_result"
    },
    {
     "data": {
      "image/png": "[encoded data removed]",
      "text/plain": [
       "<matplotlib.figure.Figure at 0x11997aa90>"
      ]
     },
     "metadata": {},
     "output_type": "display_data"
    }
   ],
   "source": [
    "data = proportions.loc[(proportions.run_type =='habit') & (~proportions.subid.isin(['sst01', 'sst02']))]\n",
    "\n",
    "sns.factorplot(x='code1', y='value', \n",
    "               ci=68, units='subid', data=data, aspect=2)\n",
    "sns.stripplot(x='code1', y='value', jitter=True, hue='group', \n",
    "              palette=['dodgerblue', 'orange'],size=7,linewidth=1,\n",
    "               data=data)\n",
    "\n",
    "plt.ylabel('Proportion habit trials')"
   ]
  },
  {
   "cell_type": "code",
   "execution_count": 74,
   "metadata": {
    "collapsed": false
   },
   "outputs": [
    {
     "data": {
      "text/plain": [
       "<matplotlib.axes._subplots.AxesSubplot at 0x119ca03d0>"
      ]
     },
     "execution_count": 74,
     "metadata": {},
     "output_type": "execute_result"
    },
    {
     "data": {
      "image/png": "[encoded data removed]",
      "text/plain": [
       "<matplotlib.figure.Figure at 0x1198210d0>"
      ]
     },
     "metadata": {},
     "output_type": "display_data"
    }
   ],
   "source": [
    "proportions.loc[(proportions.run_type=='habit') & \n",
    "                (proportions.code1 == 'habit'), 'value'].hist()"
   ]
  },
  {
   "cell_type": "code",
   "execution_count": 65,
   "metadata": {
    "collapsed": false
   },
   "outputs": [
    {
     "data": {
      "text/html": [
       "<div>\n",
       "<table border=\"1\" class=\"dataframe\">\n",
       "  <thead>\n",
       "    <tr style=\"text-align: right;\">\n",
       "      <th></th>\n",
       "      <th>subid</th>\n",
       "      <th>run_type</th>\n",
       "      <th>rep</th>\n",
       "      <th>code1</th>\n",
       "      <th>value</th>\n",
       "      <th>group</th>\n",
       "      <th>remove</th>\n",
       "    </tr>\n",
       "  </thead>\n",
       "  <tbody>\n",
       "    <tr>\n",
       "      <th>0</th>\n",
       "      <td>sst01</td>\n",
       "      <td>habit</td>\n",
       "      <td>1</td>\n",
       "      <td>habit</td>\n",
       "      <td>0.333333</td>\n",
       "      <td>control</td>\n",
       "      <td>1.0</td>\n",
       "    </tr>\n",
       "    <tr>\n",
       "      <th>216</th>\n",
       "      <td>sst21</td>\n",
       "      <td>habit</td>\n",
       "      <td>1</td>\n",
       "      <td>habit</td>\n",
       "      <td>0.333333</td>\n",
       "      <td>control</td>\n",
       "      <td>NaN</td>\n",
       "    </tr>\n",
       "  </tbody>\n",
       "</table>\n",
       "</div>"
      ],
      "text/plain": [
       "     subid run_type  rep  code1     value    group  remove\n",
       "0    sst01    habit    1  habit  0.333333  control     1.0\n",
       "216  sst21    habit    1  habit  0.333333  control     NaN"
      ]
     },
     "execution_count": 65,
     "metadata": {},
     "output_type": "execute_result"
    }
   ],
   "source": [
    "proportions.loc[(proportions.run_type=='habit') & \n",
    "                (proportions.code1 == 'habit') & \n",
    "                (proportions.value < .5)]"
   ]
  },
  {
   "cell_type": "code",
   "execution_count": 26,
   "metadata": {
    "collapsed": false
   },
   "outputs": [
    {
     "data": {
      "text/plain": [
       "<seaborn.axisgrid.FacetGrid at 0x11477ab10>"
      ]
     },
     "execution_count": 26,
     "metadata": {},
     "output_type": "execute_result"
    },
    {
     "data": {
      "image/png": "[encoded data removed]",
      "text/plain": [
       "<matplotlib.figure.Figure at 0x11477ab50>"
      ]
     },
     "metadata": {},
     "output_type": "display_data"
    }
   ],
   "source": [
    "sns.factorplot(x='code1', y='value', col='run_type',\n",
    "               ci=68, units='subid', data=proportions)"
   ]
  },
  {
   "cell_type": "code",
   "execution_count": 36,
   "metadata": {
    "collapsed": false
   },
   "outputs": [
    {
     "data": {
      "text/html": [
       "<div>\n",
       "<table border=\"1\" class=\"dataframe\">\n",
       "  <thead>\n",
       "    <tr style=\"text-align: right;\">\n",
       "      <th></th>\n",
       "      <th>subid</th>\n",
       "      <th>run_type</th>\n",
       "      <th>code1</th>\n",
       "      <th>value</th>\n",
       "    </tr>\n",
       "  </thead>\n",
       "  <tbody>\n",
       "    <tr>\n",
       "      <th>0</th>\n",
       "      <td>sst01</td>\n",
       "      <td>habit</td>\n",
       "      <td>habit</td>\n",
       "      <td>0.333333</td>\n",
       "    </tr>\n",
       "    <tr>\n",
       "      <th>36</th>\n",
       "      <td>sst21</td>\n",
       "      <td>habit</td>\n",
       "      <td>habit</td>\n",
       "      <td>0.333333</td>\n",
       "    </tr>\n",
       "  </tbody>\n",
       "</table>\n",
       "</div>"
      ],
      "text/plain": [
       "    subid run_type  code1     value\n",
       "0   sst01    habit  habit  0.333333\n",
       "36  sst21    habit  habit  0.333333"
      ]
     },
     "execution_count": 36,
     "metadata": {},
     "output_type": "execute_result"
    }
   ],
   "source": []
  },
  {
   "cell_type": "code",
   "execution_count": 28,
   "metadata": {
    "collapsed": false
   },
   "outputs": [
    {
     "data": {
      "image/png": "[encoded data removed]",
      "text/plain": [
       "<matplotlib.figure.Figure at 0x117266ed0>"
      ]
     },
     "metadata": {},
     "output_type": "display_data"
    }
   ],
   "source": [
    "x_order = ['shortcut', 'backtrack', 'other', 'habit']\n",
    "\n",
    "p = sns.factorplot(x='code1', y='value', order=x_order,\n",
    "                   ci=68, units='subid', aspect=1.5,\n",
    "                   data=proportions.loc[proportions.run_type == 'shortcut'])\n",
    "p.set_xlabels('')\n",
    "p.set_ylabels('proportion of trials')\n",
    "sns.despine(trim=True)\n",
    "# plt.savefig('/Volumes/group/awagner/sgagnon/SST/nav_data/group/results/shortcut_choices.png', dpi=300)"
   ]
  },
  {
   "cell_type": "code",
   "execution_count": 79,
   "metadata": {
    "collapsed": false
   },
   "outputs": [
    {
     "data": {
      "text/plain": [
       "rep       1.000000\n",
       "value     0.245238\n",
       "remove         NaN\n",
       "dtype: float64"
      ]
     },
     "execution_count": 79,
     "metadata": {},
     "output_type": "execute_result"
    }
   ],
   "source": [
    "data.merge(group_info).mean()"
   ]
  },
  {
   "cell_type": "code",
   "execution_count": 83,
   "metadata": {
    "collapsed": false
   },
   "outputs": [
    {
     "data": {
      "image/png": "[encoded data removed]",
      "text/plain": [
       "<matplotlib.figure.Figure at 0x11481e850>"
      ]
     },
     "metadata": {},
     "output_type": "display_data"
    }
   ],
   "source": [
    "data = proportions.loc[proportions.run_type == 'shortcut']\n",
    "\n",
    "p = sns.factorplot(x='code1', y='value', hue='group',col='rep',\n",
    "                   ci=68, units='subid', order=x_order, kind='bar',\n",
    "                   aspect=1.5, dodge=.1, palette=['dodgerblue', 'orange'],\n",
    "                   data=data.merge(group_info))\n",
    "p.set_xlabels('')\n",
    "p.set_ylabels('proportion of trials')\n",
    "sns.despine(trim=True)\n",
    "# plt.savefig('/Volumes/group/awagner/sgagnon/SST/nav_data/group/results/shortcut_choices_bygroup.png', dpi=300)"
   ]
  },
  {
   "cell_type": "code",
   "execution_count": null,
   "metadata": {
    "collapsed": true
   },
   "outputs": [],
   "source": []
  }
 ],
 "metadata": {
  "kernelspec": {
   "display_name": "Python 2",
   "language": "python",
   "name": "python2"
  },
  "language_info": {
   "codemirror_mode": {
    "name": "ipython",
    "version": 2
   },
   "file_extension": ".py",
   "mimetype": "text/x-python",
   "name": "python",
   "nbconvert_exporter": "python",
   "pygments_lexer": "ipython2",
   "version": "2.7.12"
  }
 },
 "nbformat": 4,
 "nbformat_minor": 0
}
