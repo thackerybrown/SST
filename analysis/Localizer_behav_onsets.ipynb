{
 "metadata": {
  "name": "",
  "signature": "sha256:5e4d7e388432f7ed12602f1518e6e30214593b90941c5d8f5d9daa1a841a0798"
 },
 "nbformat": 3,
 "nbformat_minor": 0,
 "worksheets": [
  {
   "cells": [
    {
     "cell_type": "heading",
     "level": 1,
     "metadata": {},
     "source": [
      "Localizer Behavioral Data & Onset Generation"
     ]
    },
    {
     "cell_type": "code",
     "collapsed": false,
     "input": [
      "import pandas as pd\n",
      "import moss\n",
      "from scipy import stats\n",
      "import scipy as sp\n",
      "import seaborn as sns\n",
      "import numpy as np\n",
      "import matplotlib\n",
      "import matplotlib.pyplot as plt\n",
      "import os.path as op\n",
      "import os\n",
      "\n",
      "# for plotting\n",
      "sns.set(style='whitegrid', context='poster')\n",
      "%matplotlib inline\n",
      "\n",
      "# R for stats\n",
      "%load_ext rpy2.ipython\n",
      "%R require(lme4)\n",
      "%R require(lmerTest)"
     ],
     "language": "python",
     "metadata": {},
     "outputs": []
    },
    {
     "cell_type": "heading",
     "level": 2,
     "metadata": {},
     "source": [
      "Gather experiment info"
     ]
    },
    {
     "cell_type": "code",
     "collapsed": false,
     "input": [
      "dirs = dict()\n",
      "dirs['basedir'] = op.join(op.expanduser('~'), 'Experiments/localizer')\n",
      "dirs['datadir'] = op.join(dirs['basedir'], 'data/')\n",
      "dirs['analydir'] = op.join(dirs['basedir'], 'analysis')\n",
      "dirs['subj_info_file'] = op.join(dirs['datadir'], 'subj_info.csv')"
     ],
     "language": "python",
     "metadata": {},
     "outputs": []
    },
    {
     "cell_type": "code",
     "collapsed": false,
     "input": [
      "subj_info = pd.read_csv(dirs['subj_info_file'])\n",
      "subj_info = subj_info[pd.isnull(subj_info.remove)]\n",
      "subj_info"
     ],
     "language": "python",
     "metadata": {},
     "outputs": []
    },
    {
     "cell_type": "heading",
     "level": 2,
     "metadata": {},
     "source": [
      "Load in data"
     ]
    },
    {
     "cell_type": "code",
     "collapsed": false,
     "input": [
      "dl = pd.DataFrame()\n",
      "\n",
      "for subid in subj_info.subid:\n",
      "    print subid\n",
      "    \n",
      "    # add study file\n",
      "    study_file = op.join(dirs['datadir'], subid, subid + '_behav_localizer.csv')\n",
      "    d = pd.read_csv(study_file)\n",
      "    d['subid'] = subid\n",
      "    dl = dl.append(d, ignore_index=True)\n",
      "    \n",
      "# Merge with subj_info\n",
      "dl = dl.merge(subj_info, on='subid', how='outer')"
     ],
     "language": "python",
     "metadata": {},
     "outputs": []
    },
    {
     "cell_type": "code",
     "collapsed": false,
     "input": [
      "dl.head()"
     ],
     "language": "python",
     "metadata": {},
     "outputs": []
    },
    {
     "cell_type": "code",
     "collapsed": false,
     "input": [
      "dl.groupby(['subid', 'group']).mean().reset_index().groupby('group').count().subid"
     ],
     "language": "python",
     "metadata": {},
     "outputs": []
    },
    {
     "cell_type": "heading",
     "level": 3,
     "metadata": {},
     "source": [
      "Deal with no responses (NR): Set ISI resp as resp"
     ]
    },
    {
     "cell_type": "code",
     "collapsed": false,
     "input": [
      "dl.respRT[dl.resp == 'NR'] = dl.ISIrespRT[dl.resp == 'NR'] + .5 # adjust for stimTime\n",
      "dl.acc[dl.resp == 'NR'] = dl.ISIacc[dl.resp == 'NR']\n",
      "dl.resp[dl.resp == 'NR'] = dl.ISIresp[dl.resp == 'NR']\n",
      "\n",
      "drop_cols = ['ISIrespRT', 'ISIresp', 'ISIacc', 'remove', 'index']\n",
      "dl.drop(drop_cols, 1, inplace=True)\n",
      "\n",
      "# Correct duration of image trials by subtracting ITI (1s fix)\n",
      "dl['duration_adj'] = dl.duration\n",
      "dl.ix[dl.cond != 'rest', 'duration_adj'] = dl.ix[dl.cond != 'rest', 'duration_adj'] - 1 # subtract ITI"
     ],
     "language": "python",
     "metadata": {},
     "outputs": []
    },
    {
     "cell_type": "code",
     "collapsed": false,
     "input": [
      "dl.head()"
     ],
     "language": "python",
     "metadata": {},
     "outputs": []
    },
    {
     "cell_type": "heading",
     "level": 3,
     "metadata": {},
     "source": [
      "Remove time for lead-in (12 s)"
     ]
    },
    {
     "cell_type": "code",
     "collapsed": false,
     "input": [
      "dl['onset_adj'] = dl.onset - 12\n",
      "dl.head()"
     ],
     "language": "python",
     "metadata": {},
     "outputs": []
    },
    {
     "cell_type": "code",
     "collapsed": false,
     "input": [
      "sns.distplot(dl[dl.duration_adj < 5].duration)"
     ],
     "language": "python",
     "metadata": {},
     "outputs": []
    },
    {
     "cell_type": "code",
     "collapsed": false,
     "input": [
      "sns.distplot(dl[dl.duration_adj > 5].duration)"
     ],
     "language": "python",
     "metadata": {},
     "outputs": []
    },
    {
     "cell_type": "heading",
     "level": 2,
     "metadata": {},
     "source": [
      "Analyze RTs"
     ]
    },
    {
     "cell_type": "code",
     "collapsed": false,
     "input": [
      "dl_resp = dl[(dl.resp != 'NR') & (dl.cond != 'rest')]\n",
      "means = dl_resp.groupby(['subid', 'group', 'cond', 'subcond', 'acc']).mean().reset_index()\n",
      "\n",
      "sns.factorplot(x='cond', hue='acc', y='respRT', col='group',\n",
      "               units='subid', ci=68, dodge=.1,\n",
      "               data=means)"
     ],
     "language": "python",
     "metadata": {},
     "outputs": []
    },
    {
     "cell_type": "code",
     "collapsed": false,
     "input": [
      "dl_resp = dl[(dl.resp != 'NR') & (dl.cond != 'rest')]\n",
      "means = dl_resp.groupby(['subid', 'group', 'cond', 'subcond', 'acc']).mean().reset_index()\n",
      "\n",
      "sns.factorplot(x='subcond', aspect=1.5,\n",
      "               x_order=['female', 'male', 'manmade', 'natural', 'indoor', 'outdoor'],\n",
      "               hue='acc', y='respRT', col='group',\n",
      "               units='subid', ci=68, dodge=.1,\n",
      "               data=means)"
     ],
     "language": "python",
     "metadata": {},
     "outputs": []
    },
    {
     "cell_type": "heading",
     "level": 2,
     "metadata": {},
     "source": [
      "Analyze Accuracy"
     ]
    },
    {
     "cell_type": "code",
     "collapsed": false,
     "input": [
      "dl_resp = dl[(dl.cond != 'rest')]\n",
      "means = dl_resp.groupby(['subid', 'group', 'cond', 'subcond']).mean().reset_index()\n",
      "\n",
      "sns.factorplot(x='cond', y='acc', col='group',\n",
      "               units='subid', ci=68, dodge=.1,\n",
      "               data=means)"
     ],
     "language": "python",
     "metadata": {},
     "outputs": []
    },
    {
     "cell_type": "code",
     "collapsed": false,
     "input": [
      "dl_resp = dl[(dl.cond != 'rest')]\n",
      "means = dl_resp.groupby(['subid', 'group', 'cond', 'subcond']).mean().reset_index()\n",
      "\n",
      "sns.factorplot(x='subcond', aspect=1.5,\n",
      "               x_order=['female', 'male', 'manmade', 'natural', 'indoor', 'outdoor'],\n",
      "               y='acc', col='group',\n",
      "               units='subid', ci=68, dodge=.1,\n",
      "               data=means)"
     ],
     "language": "python",
     "metadata": {},
     "outputs": []
    },
    {
     "cell_type": "code",
     "collapsed": false,
     "input": [],
     "language": "python",
     "metadata": {},
     "outputs": []
    },
    {
     "cell_type": "markdown",
     "metadata": {},
     "source": [
      "---"
     ]
    },
    {
     "cell_type": "heading",
     "level": 2,
     "metadata": {},
     "source": [
      "Generate onset files"
     ]
    },
    {
     "cell_type": "markdown",
     "metadata": {},
     "source": [
      "Each csv file must have a column for `run`, `condition`, `onset`, `duration`, and `value`"
     ]
    },
    {
     "cell_type": "code",
     "collapsed": false,
     "input": [
      "output_filename = 'localizer_cond.csv'\n",
      "output_dir = '/Volumes/group/awagner/sgagnon/AP/data'\n",
      "\n",
      "for subid in subj_info.subid:\n",
      "    \n",
      "    dsub = dl[(dl.subid == subid) & (dl.cond != 'rest')]\n",
      "    ddesign = pd.DataFrame({'run': dsub.run,\n",
      "                            'condition': dsub.cond,\n",
      "                            'onset': dsub.onset_adj,\n",
      "                            'duration': dsub.duration_adj,\n",
      "                            'value': 1})\n",
      "    \n",
      "    sub_output_dir = op.join(output_dir, subid.replace('loc', 'ap'), 'design')\n",
      "    if not os.path.exists(sub_output_dir):\n",
      "        os.makedirs(sub_output_dir)\n",
      "    \n",
      "    ddesign.to_csv(op.join(sub_output_dir, output_filename), index=False)"
     ],
     "language": "python",
     "metadata": {},
     "outputs": [],
     "prompt_number": 35
    },
    {
     "cell_type": "code",
     "collapsed": false,
     "input": [
      "output_filename = 'localizer_cond_mvpa.csv'\n",
      "output_dir = '/Volumes/group/awagner/sgagnon/AP/data'\n",
      "\n",
      "for subid in subj_info.subid:\n",
      "    dsub = dl[(dl.subid == subid)] # & (dl.cond != 'rest')\n",
      "    ddesign = pd.DataFrame({'run': dsub.run + 6,\n",
      "                            'condition': dsub.cond,\n",
      "                            'onset': dsub.onset_adj,\n",
      "                            'duration': dsub.duration_adj,\n",
      "                            'value': 1})\n",
      "    \n",
      "    ddesign.to_csv(op.join(output_dir, subid.replace('loc', 'ap'), \n",
      "                           'design', output_filename), index=False)"
     ],
     "language": "python",
     "metadata": {},
     "outputs": [],
     "prompt_number": 36
    },
    {
     "cell_type": "code",
     "collapsed": false,
     "input": [],
     "language": "python",
     "metadata": {},
     "outputs": []
    }
   ],
   "metadata": {}
  }
 ]
}