{
 "cells": [
  {
   "cell_type": "code",
   "execution_count": 14,
   "metadata": {
    "collapsed": false,
    "nbpresent": {
     "id": "de5ac551-20a8-4206-a4d3-7b896f5e5645"
    }
   },
   "outputs": [],
   "source": [
    "import pandas as pd\n",
    "import seaborn as sns\n",
    "import matplotlib.pyplot as plt\n",
    "import os.path as op\n",
    "import numpy as np\n",
    "\n",
    "# for plotting\n",
    "sns.set(style='ticks', font_scale=1, context='poster')\n",
    "%matplotlib inline"
   ]
  },
  {
   "cell_type": "code",
   "execution_count": 4,
   "metadata": {
    "collapsed": true,
    "nbpresent": {
     "id": "b1277b66-8472-4833-9081-7512764db3a4"
    }
   },
   "outputs": [],
   "source": [
    "ratings_file = '/Volumes/group/awagner/sgagnon/SST/analysis/behav/group_inscanratings.csv'\n",
    "group_file = '/Users/thackery/Work/SST/data/subj_info.csv'"
   ]
  },
  {
   "cell_type": "code",
   "execution_count": 5,
   "metadata": {
    "collapsed": true,
    "nbpresent": {
     "id": "15523403-2a42-4da6-a925-9d1570e12e03"
    }
   },
   "outputs": [],
   "source": [
    "group_info = pd.read_csv(group_file)\n",
    "d = pd.read_csv(ratings_file)"
   ]
  },
  {
   "cell_type": "code",
   "execution_count": 6,
   "metadata": {
    "collapsed": false,
    "nbpresent": {
     "id": "bf31933b-7d22-4652-abf8-3041657c74b7"
    }
   },
   "outputs": [
    {
     "data": {
      "text/html": [
       "<div>\n",
       "<table border=\"1\" class=\"dataframe\">\n",
       "  <thead>\n",
       "    <tr style=\"text-align: right;\">\n",
       "      <th></th>\n",
       "      <th>subid</th>\n",
       "      <th>group</th>\n",
       "      <th>remove</th>\n",
       "    </tr>\n",
       "  </thead>\n",
       "  <tbody>\n",
       "    <tr>\n",
       "      <th>38</th>\n",
       "      <td>50</td>\n",
       "      <td>control</td>\n",
       "      <td>NaN</td>\n",
       "    </tr>\n",
       "    <tr>\n",
       "      <th>39</th>\n",
       "      <td>54</td>\n",
       "      <td>stress</td>\n",
       "      <td>NaN</td>\n",
       "    </tr>\n",
       "    <tr>\n",
       "      <th>40</th>\n",
       "      <td>55</td>\n",
       "      <td>stress</td>\n",
       "      <td>NaN</td>\n",
       "    </tr>\n",
       "    <tr>\n",
       "      <th>41</th>\n",
       "      <td>56</td>\n",
       "      <td>stress</td>\n",
       "      <td>NaN</td>\n",
       "    </tr>\n",
       "    <tr>\n",
       "      <th>42</th>\n",
       "      <td>57</td>\n",
       "      <td>control</td>\n",
       "      <td>NaN</td>\n",
       "    </tr>\n",
       "  </tbody>\n",
       "</table>\n",
       "</div>"
      ],
      "text/plain": [
       "    subid    group  remove\n",
       "38     50  control     NaN\n",
       "39     54   stress     NaN\n",
       "40     55   stress     NaN\n",
       "41     56   stress     NaN\n",
       "42     57  control     NaN"
      ]
     },
     "execution_count": 6,
     "metadata": {},
     "output_type": "execute_result"
    }
   ],
   "source": [
    "group_info.tail()"
   ]
  },
  {
   "cell_type": "code",
   "execution_count": 7,
   "metadata": {
    "collapsed": false,
    "nbpresent": {
     "id": "9112a8ae-be93-4af1-bed2-7503e55707d9"
    }
   },
   "outputs": [
    {
     "data": {
      "text/html": [
       "<div>\n",
       "<table border=\"1\" class=\"dataframe\">\n",
       "  <thead>\n",
       "    <tr style=\"text-align: right;\">\n",
       "      <th></th>\n",
       "      <th>subid</th>\n",
       "      <th>rating</th>\n",
       "      <th>run1</th>\n",
       "      <th>run2</th>\n",
       "      <th>run3</th>\n",
       "      <th>run4</th>\n",
       "      <th>run5</th>\n",
       "      <th>run6</th>\n",
       "      <th>run7</th>\n",
       "      <th>run8</th>\n",
       "    </tr>\n",
       "  </thead>\n",
       "  <tbody>\n",
       "    <tr>\n",
       "      <th>0</th>\n",
       "      <td>3</td>\n",
       "      <td>Anxious</td>\n",
       "      <td>1</td>\n",
       "      <td>1</td>\n",
       "      <td>2</td>\n",
       "      <td>2</td>\n",
       "      <td>1</td>\n",
       "      <td>1</td>\n",
       "      <td>1</td>\n",
       "      <td>2</td>\n",
       "    </tr>\n",
       "    <tr>\n",
       "      <th>1</th>\n",
       "      <td>3</td>\n",
       "      <td>Happy</td>\n",
       "      <td>4</td>\n",
       "      <td>2</td>\n",
       "      <td>4</td>\n",
       "      <td>3</td>\n",
       "      <td>4</td>\n",
       "      <td>4</td>\n",
       "      <td>4</td>\n",
       "      <td>4</td>\n",
       "    </tr>\n",
       "    <tr>\n",
       "      <th>2</th>\n",
       "      <td>3</td>\n",
       "      <td>Safe</td>\n",
       "      <td>4</td>\n",
       "      <td>4</td>\n",
       "      <td>4</td>\n",
       "      <td>4</td>\n",
       "      <td>4</td>\n",
       "      <td>4</td>\n",
       "      <td>4</td>\n",
       "      <td>4</td>\n",
       "    </tr>\n",
       "    <tr>\n",
       "      <th>3</th>\n",
       "      <td>3</td>\n",
       "      <td>Stressed</td>\n",
       "      <td>2</td>\n",
       "      <td>1</td>\n",
       "      <td>1</td>\n",
       "      <td>2</td>\n",
       "      <td>1</td>\n",
       "      <td>1</td>\n",
       "      <td>2</td>\n",
       "      <td>1</td>\n",
       "    </tr>\n",
       "    <tr>\n",
       "      <th>4</th>\n",
       "      <td>3</td>\n",
       "      <td>Emotional arousal</td>\n",
       "      <td>1</td>\n",
       "      <td>1</td>\n",
       "      <td>2</td>\n",
       "      <td>1</td>\n",
       "      <td>4</td>\n",
       "      <td>2</td>\n",
       "      <td>4</td>\n",
       "      <td>4</td>\n",
       "    </tr>\n",
       "  </tbody>\n",
       "</table>\n",
       "</div>"
      ],
      "text/plain": [
       "   subid             rating  run1  run2  run3  run4  run5  run6  run7  run8\n",
       "0      3            Anxious     1     1     2     2     1     1     1     2\n",
       "1      3              Happy     4     2     4     3     4     4     4     4\n",
       "2      3               Safe     4     4     4     4     4     4     4     4\n",
       "3      3           Stressed     2     1     1     2     1     1     2     1\n",
       "4      3  Emotional arousal     1     1     2     1     4     2     4     4"
      ]
     },
     "execution_count": 7,
     "metadata": {},
     "output_type": "execute_result"
    }
   ],
   "source": [
    "d.head()"
   ]
  },
  {
   "cell_type": "code",
   "execution_count": 8,
   "metadata": {
    "collapsed": false,
    "nbpresent": {
     "id": "811b2093-2d5d-4e70-acba-a1d6620911b9"
    }
   },
   "outputs": [
    {
     "data": {
      "text/html": [
       "<div>\n",
       "<table border=\"1\" class=\"dataframe\">\n",
       "  <thead>\n",
       "    <tr style=\"text-align: right;\">\n",
       "      <th></th>\n",
       "      <th>subid</th>\n",
       "      <th>rating</th>\n",
       "      <th>run1</th>\n",
       "      <th>run2</th>\n",
       "      <th>run3</th>\n",
       "      <th>run4</th>\n",
       "      <th>run5</th>\n",
       "      <th>run6</th>\n",
       "      <th>run7</th>\n",
       "      <th>run8</th>\n",
       "      <th>group</th>\n",
       "    </tr>\n",
       "  </thead>\n",
       "  <tbody>\n",
       "    <tr>\n",
       "      <th>0</th>\n",
       "      <td>3</td>\n",
       "      <td>Anxious</td>\n",
       "      <td>1</td>\n",
       "      <td>1</td>\n",
       "      <td>2</td>\n",
       "      <td>2</td>\n",
       "      <td>1</td>\n",
       "      <td>1</td>\n",
       "      <td>1</td>\n",
       "      <td>2</td>\n",
       "      <td>control</td>\n",
       "    </tr>\n",
       "    <tr>\n",
       "      <th>1</th>\n",
       "      <td>3</td>\n",
       "      <td>Happy</td>\n",
       "      <td>4</td>\n",
       "      <td>2</td>\n",
       "      <td>4</td>\n",
       "      <td>3</td>\n",
       "      <td>4</td>\n",
       "      <td>4</td>\n",
       "      <td>4</td>\n",
       "      <td>4</td>\n",
       "      <td>control</td>\n",
       "    </tr>\n",
       "    <tr>\n",
       "      <th>2</th>\n",
       "      <td>3</td>\n",
       "      <td>Safe</td>\n",
       "      <td>4</td>\n",
       "      <td>4</td>\n",
       "      <td>4</td>\n",
       "      <td>4</td>\n",
       "      <td>4</td>\n",
       "      <td>4</td>\n",
       "      <td>4</td>\n",
       "      <td>4</td>\n",
       "      <td>control</td>\n",
       "    </tr>\n",
       "    <tr>\n",
       "      <th>3</th>\n",
       "      <td>3</td>\n",
       "      <td>Stressed</td>\n",
       "      <td>2</td>\n",
       "      <td>1</td>\n",
       "      <td>1</td>\n",
       "      <td>2</td>\n",
       "      <td>1</td>\n",
       "      <td>1</td>\n",
       "      <td>2</td>\n",
       "      <td>1</td>\n",
       "      <td>control</td>\n",
       "    </tr>\n",
       "    <tr>\n",
       "      <th>4</th>\n",
       "      <td>3</td>\n",
       "      <td>Emotional arousal</td>\n",
       "      <td>1</td>\n",
       "      <td>1</td>\n",
       "      <td>2</td>\n",
       "      <td>1</td>\n",
       "      <td>4</td>\n",
       "      <td>2</td>\n",
       "      <td>4</td>\n",
       "      <td>4</td>\n",
       "      <td>control</td>\n",
       "    </tr>\n",
       "  </tbody>\n",
       "</table>\n",
       "</div>"
      ],
      "text/plain": [
       "   subid             rating  run1  run2  run3  run4  run5  run6  run7  run8  \\\n",
       "0      3            Anxious     1     1     2     2     1     1     1     2   \n",
       "1      3              Happy     4     2     4     3     4     4     4     4   \n",
       "2      3               Safe     4     4     4     4     4     4     4     4   \n",
       "3      3           Stressed     2     1     1     2     1     1     2     1   \n",
       "4      3  Emotional arousal     1     1     2     1     4     2     4     4   \n",
       "\n",
       "     group  \n",
       "0  control  \n",
       "1  control  \n",
       "2  control  \n",
       "3  control  \n",
       "4  control  "
      ]
     },
     "execution_count": 8,
     "metadata": {},
     "output_type": "execute_result"
    }
   ],
   "source": [
    "group_info = pd.read_csv(group_file)\n",
    "d = pd.read_csv(ratings_file)\n",
    "d = d.merge(group_info).drop('remove', axis=1)\n",
    "d.head()"
   ]
  },
  {
   "cell_type": "code",
   "execution_count": 9,
   "metadata": {
    "collapsed": false,
    "nbpresent": {
     "id": "6b9b3c43-75d8-403b-9cf6-cfbe5d622bd8"
    }
   },
   "outputs": [
    {
     "data": {
      "text/html": [
       "<div>\n",
       "<table border=\"1\" class=\"dataframe\">\n",
       "  <thead>\n",
       "    <tr style=\"text-align: right;\">\n",
       "      <th></th>\n",
       "      <th>subid</th>\n",
       "      <th>rating</th>\n",
       "      <th>group</th>\n",
       "      <th>run</th>\n",
       "      <th>value</th>\n",
       "    </tr>\n",
       "  </thead>\n",
       "  <tbody>\n",
       "    <tr>\n",
       "      <th>0</th>\n",
       "      <td>3</td>\n",
       "      <td>Anxious</td>\n",
       "      <td>control</td>\n",
       "      <td>1</td>\n",
       "      <td>1</td>\n",
       "    </tr>\n",
       "    <tr>\n",
       "      <th>1</th>\n",
       "      <td>3</td>\n",
       "      <td>Happy</td>\n",
       "      <td>control</td>\n",
       "      <td>1</td>\n",
       "      <td>4</td>\n",
       "    </tr>\n",
       "    <tr>\n",
       "      <th>2</th>\n",
       "      <td>3</td>\n",
       "      <td>Safe</td>\n",
       "      <td>control</td>\n",
       "      <td>1</td>\n",
       "      <td>4</td>\n",
       "    </tr>\n",
       "    <tr>\n",
       "      <th>3</th>\n",
       "      <td>3</td>\n",
       "      <td>Stressed</td>\n",
       "      <td>control</td>\n",
       "      <td>1</td>\n",
       "      <td>2</td>\n",
       "    </tr>\n",
       "    <tr>\n",
       "      <th>4</th>\n",
       "      <td>3</td>\n",
       "      <td>Emotional arousal</td>\n",
       "      <td>control</td>\n",
       "      <td>1</td>\n",
       "      <td>1</td>\n",
       "    </tr>\n",
       "  </tbody>\n",
       "</table>\n",
       "</div>"
      ],
      "text/plain": [
       "   subid             rating    group run  value\n",
       "0      3            Anxious  control   1      1\n",
       "1      3              Happy  control   1      4\n",
       "2      3               Safe  control   1      4\n",
       "3      3           Stressed  control   1      2\n",
       "4      3  Emotional arousal  control   1      1"
      ]
     },
     "execution_count": 9,
     "metadata": {},
     "output_type": "execute_result"
    }
   ],
   "source": [
    "d = pd.melt(d, id_vars=['subid', 'rating', 'group'], var_name='run')\n",
    "d['other'] = np.nan\n",
    "d[['other', 'run']] = d.run.str.split('run').tolist()\n",
    "d.drop('other', axis=1, inplace=True)\n",
    "d.head()"
   ]
  },
  {
   "cell_type": "code",
   "execution_count": 15,
   "metadata": {
    "collapsed": false,
    "nbpresent": {
     "id": "4227002f-470f-4d4d-8e3b-ebc5839f3ae9"
    }
   },
   "outputs": [
    {
     "data": {
      "image/png": "[encoded data removed]",
      "text/plain": [
       "<matplotlib.figure.Figure at 0x1235e03d0>"
      ]
     },
     "metadata": {},
     "output_type": "display_data"
    }
   ],
   "source": [
    "p = sns.factorplot(x='run', y='value', hue='group', col='rating', col_wrap=3,\n",
    "                   palette=['dodgerblue', 'orange'],\n",
    "                   data=d, ci=68, dodge=.1, aspect=1, units='subid')\n",
    "sns.despine(trim=True)"
   ]
  },
  {
   "cell_type": "markdown",
   "metadata": {
    "nbpresent": {
     "id": "97ffa051-dac3-4a5c-ae5c-5b122a864cae"
    }
   },
   "source": [
    "## Compute composite scores"
   ]
  },
  {
   "cell_type": "code",
   "execution_count": 17,
   "metadata": {
    "collapsed": false,
    "nbpresent": {
     "id": "75056a86-8fac-4afe-883f-2551970b6a1f"
    }
   },
   "outputs": [],
   "source": [
    "d_neg = pd.DataFrame(d.loc[d.rating == 'Anxious',['subid', 'run', 'group']])\n",
    "d_neg['negative'] =(d.loc[d.rating == 'Anxious','value'].values + d.loc[d.rating == 'Stressed','value'].values)/2\n",
    "\n",
    "d_pos = pd.DataFrame(d.loc[d.rating == 'Happy',['subid', 'run', 'group']])\n",
    "d_pos['positive'] =(d.loc[d.rating == 'Happy','value'].values + d.loc[d.rating == 'Safe','value'].values)/2"
   ]
  },
  {
   "cell_type": "code",
   "execution_count": 18,
   "metadata": {
    "collapsed": false,
    "nbpresent": {
     "id": "5d12ef3a-a05f-4715-b54e-45772362f587"
    }
   },
   "outputs": [
    {
     "data": {
      "text/html": [
       "<div>\n",
       "<table border=\"1\" class=\"dataframe\">\n",
       "  <thead>\n",
       "    <tr style=\"text-align: right;\">\n",
       "      <th></th>\n",
       "      <th>subid</th>\n",
       "      <th>run</th>\n",
       "      <th>group</th>\n",
       "      <th>valence</th>\n",
       "      <th>rating</th>\n",
       "    </tr>\n",
       "  </thead>\n",
       "  <tbody>\n",
       "    <tr>\n",
       "      <th>0</th>\n",
       "      <td>3</td>\n",
       "      <td>1</td>\n",
       "      <td>control</td>\n",
       "      <td>negative</td>\n",
       "      <td>1</td>\n",
       "    </tr>\n",
       "    <tr>\n",
       "      <th>1</th>\n",
       "      <td>4</td>\n",
       "      <td>1</td>\n",
       "      <td>control</td>\n",
       "      <td>negative</td>\n",
       "      <td>2</td>\n",
       "    </tr>\n",
       "    <tr>\n",
       "      <th>2</th>\n",
       "      <td>5</td>\n",
       "      <td>1</td>\n",
       "      <td>control</td>\n",
       "      <td>negative</td>\n",
       "      <td>1</td>\n",
       "    </tr>\n",
       "    <tr>\n",
       "      <th>3</th>\n",
       "      <td>6</td>\n",
       "      <td>1</td>\n",
       "      <td>control</td>\n",
       "      <td>negative</td>\n",
       "      <td>1</td>\n",
       "    </tr>\n",
       "    <tr>\n",
       "      <th>4</th>\n",
       "      <td>7</td>\n",
       "      <td>1</td>\n",
       "      <td>control</td>\n",
       "      <td>negative</td>\n",
       "      <td>1</td>\n",
       "    </tr>\n",
       "  </tbody>\n",
       "</table>\n",
       "</div>"
      ],
      "text/plain": [
       "   subid run    group   valence  rating\n",
       "0      3   1  control  negative       1\n",
       "1      4   1  control  negative       2\n",
       "2      5   1  control  negative       1\n",
       "3      6   1  control  negative       1\n",
       "4      7   1  control  negative       1"
      ]
     },
     "execution_count": 18,
     "metadata": {},
     "output_type": "execute_result"
    }
   ],
   "source": [
    "d_valence = pd.merge(d_neg, d_pos)\n",
    "d_valence = pd.melt(d_valence, id_vars=['subid', 'run', 'group'], \n",
    "                    var_name='valence', value_name='rating')\n",
    "d_valence.head()"
   ]
  },
  {
   "cell_type": "code",
   "execution_count": 19,
   "metadata": {
    "collapsed": false,
    "nbpresent": {
     "id": "eb1aba3f-2b28-435f-9335-f19a660b7264"
    }
   },
   "outputs": [
    {
     "data": {
      "image/png": "[encoded data removed]",
      "text/plain": [
       "<matplotlib.figure.Figure at 0x125261a90>"
      ]
     },
     "metadata": {},
     "output_type": "display_data"
    }
   ],
   "source": [
    "data = d_valence.groupby(['subid', 'group', 'valence']).mean().reset_index()\n",
    "\n",
    "p = sns.factorplot(x='valence', y='rating', hue='group',\n",
    "                   palette=['dodgerblue', 'orange'],\n",
    "                   data=data, ci=68, dodge=.1, aspect=1.5, units='subid')\n",
    "sns.despine(trim=True)\n",
    "\n",
    "plt.savefig('/Volumes/group/awagner/sgagnon/SST/analysis/behav/group_inscanratings.png', dpi=300)"
   ]
  },
  {
   "cell_type": "code",
   "execution_count": null,
   "metadata": {
    "collapsed": true,
    "nbpresent": {
     "id": "c1884312-7b65-4883-9544-88e7ca526abe"
    }
   },
   "outputs": [],
   "source": []
  },
  {
   "cell_type": "code",
   "execution_count": null,
   "metadata": {
    "collapsed": true,
    "nbpresent": {
     "id": "93799a57-954c-4cab-a918-6c3dda295d58"
    }
   },
   "outputs": [],
   "source": []
  }
 ],
 "metadata": {
  "anaconda-cloud": {},
  "kernelspec": {
   "display_name": "Python [Root]",
   "language": "python",
   "name": "Python [Root]"
  },
  "language_info": {
   "codemirror_mode": {
    "name": "ipython",
    "version": 2
   },
   "file_extension": ".py",
   "mimetype": "text/x-python",
   "name": "python",
   "nbconvert_exporter": "python",
   "pygments_lexer": "ipython2",
   "version": "2.7.12"
  },
  "nbpresent": {
   "slides": {
    "05010769-5678-4383-b945-b304f268f6fc": {
     "id": "05010769-5678-4383-b945-b304f268f6fc",
     "prev": "185ef863-4275-4f59-a0d8-aa9e02befcc2",
     "regions": {
      "f2f2e622-55f6-4705-b65b-82e3980e0daa": {
       "attrs": {
        "height": 0.8,
        "width": 0.8,
        "x": 0.1,
        "y": 0.1
       },
       "content": {
        "cell": "eb1aba3f-2b28-435f-9335-f19a660b7264",
        "part": "whole"
       },
       "id": "f2f2e622-55f6-4705-b65b-82e3980e0daa"
      }
     }
    },
    "0e5bf10e-492b-4db9-aa90-bf2ecb2cd349": {
     "id": "0e5bf10e-492b-4db9-aa90-bf2ecb2cd349",
     "prev": "6510896c-e5d2-4882-8fc0-f9aed03b4922",
     "regions": {
      "bb0126b5-0de7-44d4-8edb-f56fa4616c15": {
       "attrs": {
        "height": 0.8,
        "width": 0.8,
        "x": 0.1,
        "y": 0.1
       },
       "content": {
        "cell": "15523403-2a42-4da6-a925-9d1570e12e03",
        "part": "whole"
       },
       "id": "bb0126b5-0de7-44d4-8edb-f56fa4616c15"
      }
     }
    },
    "185ef863-4275-4f59-a0d8-aa9e02befcc2": {
     "id": "185ef863-4275-4f59-a0d8-aa9e02befcc2",
     "prev": "a97d1b27-da35-40ea-aed6-1d4d5c1dde93",
     "regions": {
      "5d2da280-de24-46cc-91e7-e9799674f9b9": {
       "attrs": {
        "height": 0.8,
        "width": 0.8,
        "x": 0.1,
        "y": 0.1
       },
       "content": {
        "cell": "5d12ef3a-a05f-4715-b54e-45772362f587",
        "part": "whole"
       },
       "id": "5d2da280-de24-46cc-91e7-e9799674f9b9"
      }
     }
    },
    "1a291899-47b7-4e6d-90e6-16400aa321a2": {
     "id": "1a291899-47b7-4e6d-90e6-16400aa321a2",
     "prev": "82e35280-5c42-45d5-b955-01f72b5bf0eb",
     "regions": {
      "c736df1e-d88f-4a95-9409-ba862f64e898": {
       "attrs": {
        "height": 0.8,
        "width": 0.8,
        "x": 0.1,
        "y": 0.1
       },
       "content": {
        "cell": "4227002f-470f-4d4d-8e3b-ebc5839f3ae9",
        "part": "whole"
       },
       "id": "c736df1e-d88f-4a95-9409-ba862f64e898"
      }
     }
    },
    "20eefa13-c89e-4ebd-937b-13233417fde2": {
     "id": "20eefa13-c89e-4ebd-937b-13233417fde2",
     "prev": "76ac4a88-c252-412e-9da2-b0da82094209",
     "regions": {
      "360494e0-34ef-460e-b654-6f6ba47ac90a": {
       "attrs": {
        "height": 0.8,
        "width": 0.8,
        "x": 0.1,
        "y": 0.1
       },
       "content": {
        "cell": "93799a57-954c-4cab-a918-6c3dda295d58",
        "part": "whole"
       },
       "id": "360494e0-34ef-460e-b654-6f6ba47ac90a"
      }
     }
    },
    "5196ce61-4e45-4776-9a3b-f5de49ddf85f": {
     "id": "5196ce61-4e45-4776-9a3b-f5de49ddf85f",
     "prev": null,
     "regions": {
      "86b3d513-bfed-49a3-9aac-18c52a8ac8e2": {
       "attrs": {
        "height": 0.8,
        "width": 0.8,
        "x": 0.1,
        "y": 0.1
       },
       "content": {
        "cell": "de5ac551-20a8-4206-a4d3-7b896f5e5645",
        "part": "whole"
       },
       "id": "86b3d513-bfed-49a3-9aac-18c52a8ac8e2"
      }
     }
    },
    "5658a21d-cafe-47c4-ae10-ed222f9891ba": {
     "id": "5658a21d-cafe-47c4-ae10-ed222f9891ba",
     "prev": "0e5bf10e-492b-4db9-aa90-bf2ecb2cd349",
     "regions": {
      "18d0cc4d-eae7-4a97-aecd-bed1023eeee7": {
       "attrs": {
        "height": 0.8,
        "width": 0.8,
        "x": 0.1,
        "y": 0.1
       },
       "content": {
        "cell": "bf31933b-7d22-4652-abf8-3041657c74b7",
        "part": "whole"
       },
       "id": "18d0cc4d-eae7-4a97-aecd-bed1023eeee7"
      }
     }
    },
    "6510896c-e5d2-4882-8fc0-f9aed03b4922": {
     "id": "6510896c-e5d2-4882-8fc0-f9aed03b4922",
     "prev": "5196ce61-4e45-4776-9a3b-f5de49ddf85f",
     "regions": {
      "71839e9d-caf2-40a7-b617-efbefbb9a642": {
       "attrs": {
        "height": 0.8,
        "width": 0.8,
        "x": 0.1,
        "y": 0.1
       },
       "content": {
        "cell": "b1277b66-8472-4833-9081-7512764db3a4",
        "part": "whole"
       },
       "id": "71839e9d-caf2-40a7-b617-efbefbb9a642"
      }
     }
    },
    "656dadab-d764-43d3-b8d5-c02a98194660": {
     "id": "656dadab-d764-43d3-b8d5-c02a98194660",
     "prev": "bcfa5266-7813-4ffc-8872-776e26bb3289",
     "regions": {
      "73d88df1-484d-477b-8e33-320733352571": {
       "attrs": {
        "height": 0.8,
        "width": 0.8,
        "x": 0.1,
        "y": 0.1
       },
       "content": {
        "cell": "811b2093-2d5d-4e70-acba-a1d6620911b9",
        "part": "whole"
       },
       "id": "73d88df1-484d-477b-8e33-320733352571"
      }
     }
    },
    "76ac4a88-c252-412e-9da2-b0da82094209": {
     "id": "76ac4a88-c252-412e-9da2-b0da82094209",
     "prev": "05010769-5678-4383-b945-b304f268f6fc",
     "regions": {
      "6f8acab0-2710-4954-89a7-6c0ae74b4cbe": {
       "attrs": {
        "height": 0.8,
        "width": 0.8,
        "x": 0.1,
        "y": 0.1
       },
       "content": {
        "cell": "c1884312-7b65-4883-9544-88e7ca526abe",
        "part": "whole"
       },
       "id": "6f8acab0-2710-4954-89a7-6c0ae74b4cbe"
      }
     }
    },
    "82e35280-5c42-45d5-b955-01f72b5bf0eb": {
     "id": "82e35280-5c42-45d5-b955-01f72b5bf0eb",
     "prev": "656dadab-d764-43d3-b8d5-c02a98194660",
     "regions": {
      "8388d56b-58ad-46bb-81a0-916e2e51877c": {
       "attrs": {
        "height": 0.8,
        "width": 0.8,
        "x": 0.1,
        "y": 0.1
       },
       "content": {
        "cell": "6b9b3c43-75d8-403b-9cf6-cfbe5d622bd8",
        "part": "whole"
       },
       "id": "8388d56b-58ad-46bb-81a0-916e2e51877c"
      }
     }
    },
    "9838494d-e3ca-4e32-bf27-3414fa1e8476": {
     "id": "9838494d-e3ca-4e32-bf27-3414fa1e8476",
     "prev": "1a291899-47b7-4e6d-90e6-16400aa321a2",
     "regions": {
      "c7b8b39f-93c4-4bbe-a107-2f31bfc986f4": {
       "attrs": {
        "height": 0.8,
        "width": 0.8,
        "x": 0.1,
        "y": 0.1
       },
       "content": {
        "cell": "97ffa051-dac3-4a5c-ae5c-5b122a864cae",
        "part": "whole"
       },
       "id": "c7b8b39f-93c4-4bbe-a107-2f31bfc986f4"
      }
     }
    },
    "a97d1b27-da35-40ea-aed6-1d4d5c1dde93": {
     "id": "a97d1b27-da35-40ea-aed6-1d4d5c1dde93",
     "prev": "9838494d-e3ca-4e32-bf27-3414fa1e8476",
     "regions": {
      "0c2527e9-bbf8-443e-9173-6ccf123fe191": {
       "attrs": {
        "height": 0.8,
        "width": 0.8,
        "x": 0.1,
        "y": 0.1
       },
       "content": {
        "cell": "75056a86-8fac-4afe-883f-2551970b6a1f",
        "part": "whole"
       },
       "id": "0c2527e9-bbf8-443e-9173-6ccf123fe191"
      }
     }
    },
    "bcfa5266-7813-4ffc-8872-776e26bb3289": {
     "id": "bcfa5266-7813-4ffc-8872-776e26bb3289",
     "prev": "5658a21d-cafe-47c4-ae10-ed222f9891ba",
     "regions": {
      "38cb5c0e-4d4a-429a-8e56-682cf0ee2e0e": {
       "attrs": {
        "height": 0.8,
        "width": 0.8,
        "x": 0.1,
        "y": 0.1
       },
       "content": {
        "cell": "9112a8ae-be93-4af1-bed2-7503e55707d9",
        "part": "whole"
       },
       "id": "38cb5c0e-4d4a-429a-8e56-682cf0ee2e0e"
      }
     }
    }
   },
   "themes": {}
  }
 },
 "nbformat": 4,
 "nbformat_minor": 0
}
