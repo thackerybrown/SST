{
 "cells": [
  {
   "cell_type": "markdown",
   "metadata": {},
   "source": [
    "# SST (Spatial Stress Test) Behavioral Analysis"
   ]
  },
  {
   "cell_type": "markdown",
   "metadata": {},
   "source": [
    "Data Collected June 2015"
   ]
  },
  {
   "cell_type": "code",
   "execution_count": 1,
   "metadata": {
    "collapsed": false
   },
   "outputs": [],
   "source": [
    "import pandas as pd\n",
    "import moss\n",
    "from scipy import stats\n",
    "import scipy as sp\n",
    "import seaborn as sns\n",
    "import numpy as np\n",
    "import matplotlib\n",
    "import matplotlib.pyplot as plt\n",
    "import os.path as op\n",
    "import re\n",
    "\n",
    "# TIB - added to fix import error for sst_setup_project from parent dir\n",
    "import sys\n",
    "sys.path.append(\"/Users/thackery/Work/SST/analysis\")\n",
    "\n",
    "#widget ability\n",
    "# from IPython.html.widgets import interact, interactive, fixed\n",
    "# from IPython.html import widgets\n",
    "# from IPython.display import clear_output, display, HTML\n",
    "import ipywidgets\n",
    "from ipywidgets import interact, interactive, fixed\n",
    "from IPython.display import clear_output, display, HTML\n",
    "\n",
    "import glob\n",
    "\n",
    "# Gather project info & functions\n",
    "from sst_setup_project import *\n",
    "\n",
    "# for plotting\n",
    "sns.set(style='whitegrid', context='poster')\n",
    "%matplotlib inline\n",
    "\n",
    "# R for stats\n",
    "# %load_ext rpy2.ipython\n",
    "# %R require(lme4)\n",
    "# %R require(lmerTest)"
   ]
  },
  {
   "cell_type": "markdown",
   "metadata": {},
   "source": [
    "### Set up directories & exp-specific information"
   ]
  },
  {
   "cell_type": "code",
   "execution_count": 2,
   "metadata": {
    "collapsed": false
   },
   "outputs": [],
   "source": [
    "dirs = dict()\n",
    "dirs['basedir'] = op.join(op.expanduser('~'), 'Work/SST') #Experiments/SST')\n",
    "dirs['navdir'] = op.join('/Volumes/group/awagner/sgagnon/SST/nav_data')\n",
    "dirs['analydir'] = op.join(dirs['basedir'], 'analysis')\n",
    "dirs['subj_info_file'] = op.join(dirs['basedir'], 'data', 'subj_info.csv')\n",
    "dirs['shortcut_file'] = op.join(dirs['basedir'], 'data','shortcut_coords.csv')\n",
    "dirs['order_file'] = op.join(dirs['basedir'], 'data','SST_env_order.csv')"
   ]
  },
  {
   "cell_type": "code",
   "execution_count": 3,
   "metadata": {
    "collapsed": false
   },
   "outputs": [],
   "source": [
    "proj = gather_experiment_info(exp_name='SST', dirs=dirs)"
   ]
  },
  {
   "cell_type": "markdown",
   "metadata": {},
   "source": [
    "### Read in subject information"
   ]
  },
  {
   "cell_type": "code",
   "execution_count": 4,
   "metadata": {
    "collapsed": false
   },
   "outputs": [
    {
     "data": {
      "text/html": [
       "<div>\n",
       "<table border=\"1\" class=\"dataframe\">\n",
       "  <thead>\n",
       "    <tr style=\"text-align: right;\">\n",
       "      <th></th>\n",
       "      <th>subid</th>\n",
       "      <th>group</th>\n",
       "      <th>remove</th>\n",
       "    </tr>\n",
       "  </thead>\n",
       "  <tbody>\n",
       "    <tr>\n",
       "      <th>0</th>\n",
       "      <td>1</td>\n",
       "      <td>control</td>\n",
       "      <td>NaN</td>\n",
       "    </tr>\n",
       "    <tr>\n",
       "      <th>1</th>\n",
       "      <td>2</td>\n",
       "      <td>control</td>\n",
       "      <td>NaN</td>\n",
       "    </tr>\n",
       "    <tr>\n",
       "      <th>2</th>\n",
       "      <td>3</td>\n",
       "      <td>control</td>\n",
       "      <td>NaN</td>\n",
       "    </tr>\n",
       "    <tr>\n",
       "      <th>3</th>\n",
       "      <td>4</td>\n",
       "      <td>control</td>\n",
       "      <td>NaN</td>\n",
       "    </tr>\n",
       "    <tr>\n",
       "      <th>4</th>\n",
       "      <td>5</td>\n",
       "      <td>control</td>\n",
       "      <td>NaN</td>\n",
       "    </tr>\n",
       "    <tr>\n",
       "      <th>5</th>\n",
       "      <td>6</td>\n",
       "      <td>control</td>\n",
       "      <td>NaN</td>\n",
       "    </tr>\n",
       "    <tr>\n",
       "      <th>6</th>\n",
       "      <td>7</td>\n",
       "      <td>control</td>\n",
       "      <td>NaN</td>\n",
       "    </tr>\n",
       "    <tr>\n",
       "      <th>7</th>\n",
       "      <td>9</td>\n",
       "      <td>control</td>\n",
       "      <td>NaN</td>\n",
       "    </tr>\n",
       "    <tr>\n",
       "      <th>8</th>\n",
       "      <td>10</td>\n",
       "      <td>control</td>\n",
       "      <td>NaN</td>\n",
       "    </tr>\n",
       "    <tr>\n",
       "      <th>9</th>\n",
       "      <td>11</td>\n",
       "      <td>control</td>\n",
       "      <td>NaN</td>\n",
       "    </tr>\n",
       "    <tr>\n",
       "      <th>10</th>\n",
       "      <td>12</td>\n",
       "      <td>control</td>\n",
       "      <td>NaN</td>\n",
       "    </tr>\n",
       "    <tr>\n",
       "      <th>11</th>\n",
       "      <td>13</td>\n",
       "      <td>control</td>\n",
       "      <td>NaN</td>\n",
       "    </tr>\n",
       "    <tr>\n",
       "      <th>12</th>\n",
       "      <td>14</td>\n",
       "      <td>stress</td>\n",
       "      <td>NaN</td>\n",
       "    </tr>\n",
       "    <tr>\n",
       "      <th>13</th>\n",
       "      <td>15</td>\n",
       "      <td>stress</td>\n",
       "      <td>NaN</td>\n",
       "    </tr>\n",
       "    <tr>\n",
       "      <th>14</th>\n",
       "      <td>16</td>\n",
       "      <td>stress</td>\n",
       "      <td>NaN</td>\n",
       "    </tr>\n",
       "    <tr>\n",
       "      <th>15</th>\n",
       "      <td>18</td>\n",
       "      <td>stress</td>\n",
       "      <td>NaN</td>\n",
       "    </tr>\n",
       "    <tr>\n",
       "      <th>16</th>\n",
       "      <td>19</td>\n",
       "      <td>control</td>\n",
       "      <td>NaN</td>\n",
       "    </tr>\n",
       "  </tbody>\n",
       "</table>\n",
       "</div>"
      ],
      "text/plain": [
       "   subid    group  remove\n",
       "0      1  control     NaN\n",
       "1      2  control     NaN\n",
       "2      3  control     NaN\n",
       "3      4  control     NaN\n",
       "4      5  control     NaN\n",
       "5      6  control     NaN\n",
       "6      7  control     NaN\n",
       "7      9  control     NaN\n",
       "8     10  control     NaN\n",
       "9     11  control     NaN\n",
       "10    12  control     NaN\n",
       "11    13  control     NaN\n",
       "12    14   stress     NaN\n",
       "13    15   stress     NaN\n",
       "14    16   stress     NaN\n",
       "15    18   stress     NaN\n",
       "16    19  control     NaN"
      ]
     },
     "execution_count": 4,
     "metadata": {},
     "output_type": "execute_result"
    }
   ],
   "source": [
    "subj_info = pd.read_csv(dirs['subj_info_file'])\n",
    "subj_info = subj_info[pd.isnull(subj_info.remove)]\n",
    "subj_info[['subid']] = subj_info.subid.astype(str)\n",
    "subj_info"
   ]
  },
  {
   "cell_type": "code",
   "execution_count": 5,
   "metadata": {
    "collapsed": false,
    "scrolled": true
   },
   "outputs": [
    {
     "data": {
      "text/html": [
       "<div>\n",
       "<table border=\"1\" class=\"dataframe\">\n",
       "  <thead>\n",
       "    <tr style=\"text-align: right;\">\n",
       "      <th></th>\n",
       "      <th>env</th>\n",
       "      <th>x_lo</th>\n",
       "      <th>x_hi</th>\n",
       "      <th>y_lo</th>\n",
       "      <th>y_hi</th>\n",
       "    </tr>\n",
       "  </thead>\n",
       "  <tbody>\n",
       "    <tr>\n",
       "      <th>0</th>\n",
       "      <td>env1</td>\n",
       "      <td>16</td>\n",
       "      <td>32</td>\n",
       "      <td>5</td>\n",
       "      <td>15</td>\n",
       "    </tr>\n",
       "    <tr>\n",
       "      <th>1</th>\n",
       "      <td>env2</td>\n",
       "      <td>8</td>\n",
       "      <td>28</td>\n",
       "      <td>28</td>\n",
       "      <td>48</td>\n",
       "    </tr>\n",
       "    <tr>\n",
       "      <th>2</th>\n",
       "      <td>env3</td>\n",
       "      <td>24</td>\n",
       "      <td>40</td>\n",
       "      <td>16</td>\n",
       "      <td>24</td>\n",
       "    </tr>\n",
       "    <tr>\n",
       "      <th>3</th>\n",
       "      <td>env4</td>\n",
       "      <td>16</td>\n",
       "      <td>32</td>\n",
       "      <td>16</td>\n",
       "      <td>24</td>\n",
       "    </tr>\n",
       "    <tr>\n",
       "      <th>4</th>\n",
       "      <td>env5</td>\n",
       "      <td>12</td>\n",
       "      <td>20</td>\n",
       "      <td>20</td>\n",
       "      <td>31</td>\n",
       "    </tr>\n",
       "    <tr>\n",
       "      <th>5</th>\n",
       "      <td>env6</td>\n",
       "      <td>24</td>\n",
       "      <td>40</td>\n",
       "      <td>24</td>\n",
       "      <td>40</td>\n",
       "    </tr>\n",
       "    <tr>\n",
       "      <th>6</th>\n",
       "      <td>env7</td>\n",
       "      <td>10</td>\n",
       "      <td>15</td>\n",
       "      <td>30</td>\n",
       "      <td>40</td>\n",
       "    </tr>\n",
       "    <tr>\n",
       "      <th>7</th>\n",
       "      <td>env8</td>\n",
       "      <td>16</td>\n",
       "      <td>32</td>\n",
       "      <td>0</td>\n",
       "      <td>16</td>\n",
       "    </tr>\n",
       "    <tr>\n",
       "      <th>8</th>\n",
       "      <td>env9</td>\n",
       "      <td>24</td>\n",
       "      <td>35</td>\n",
       "      <td>0</td>\n",
       "      <td>12</td>\n",
       "    </tr>\n",
       "    <tr>\n",
       "      <th>9</th>\n",
       "      <td>env10</td>\n",
       "      <td>48</td>\n",
       "      <td>56</td>\n",
       "      <td>24</td>\n",
       "      <td>40</td>\n",
       "    </tr>\n",
       "    <tr>\n",
       "      <th>10</th>\n",
       "      <td>env11</td>\n",
       "      <td>24</td>\n",
       "      <td>32</td>\n",
       "      <td>40</td>\n",
       "      <td>48</td>\n",
       "    </tr>\n",
       "    <tr>\n",
       "      <th>11</th>\n",
       "      <td>env12</td>\n",
       "      <td>24</td>\n",
       "      <td>35</td>\n",
       "      <td>30</td>\n",
       "      <td>45</td>\n",
       "    </tr>\n",
       "  </tbody>\n",
       "</table>\n",
       "</div>"
      ],
      "text/plain": [
       "      env  x_lo  x_hi  y_lo  y_hi\n",
       "0    env1    16    32     5    15\n",
       "1    env2     8    28    28    48\n",
       "2    env3    24    40    16    24\n",
       "3    env4    16    32    16    24\n",
       "4    env5    12    20    20    31\n",
       "5    env6    24    40    24    40\n",
       "6    env7    10    15    30    40\n",
       "7    env8    16    32     0    16\n",
       "8    env9    24    35     0    12\n",
       "9   env10    48    56    24    40\n",
       "10  env11    24    32    40    48\n",
       "11  env12    24    35    30    45"
      ]
     },
     "execution_count": 5,
     "metadata": {},
     "output_type": "execute_result"
    }
   ],
   "source": [
    "shortcut_coords = pd.read_csv(dirs['shortcut_file'])\n",
    "shortcut_coords"
   ]
  },
  {
   "cell_type": "markdown",
   "metadata": {},
   "source": [
    "## Read in data files"
   ]
  },
  {
   "cell_type": "code",
   "execution_count": 6,
   "metadata": {
    "collapsed": false
   },
   "outputs": [
    {
     "data": {
      "text/html": [
       "<div>\n",
       "<table border=\"1\" class=\"dataframe\">\n",
       "  <thead>\n",
       "    <tr style=\"text-align: right;\">\n",
       "      <th></th>\n",
       "      <th>subid</th>\n",
       "      <th>rep</th>\n",
       "      <th>run</th>\n",
       "      <th>trial</th>\n",
       "      <th>env</th>\n",
       "    </tr>\n",
       "  </thead>\n",
       "  <tbody>\n",
       "    <tr>\n",
       "      <th>0</th>\n",
       "      <td>1</td>\n",
       "      <td>1</td>\n",
       "      <td>1</td>\n",
       "      <td>1</td>\n",
       "      <td>1</td>\n",
       "    </tr>\n",
       "    <tr>\n",
       "      <th>1</th>\n",
       "      <td>1</td>\n",
       "      <td>1</td>\n",
       "      <td>1</td>\n",
       "      <td>2</td>\n",
       "      <td>8</td>\n",
       "    </tr>\n",
       "    <tr>\n",
       "      <th>2</th>\n",
       "      <td>1</td>\n",
       "      <td>1</td>\n",
       "      <td>1</td>\n",
       "      <td>3</td>\n",
       "      <td>9</td>\n",
       "    </tr>\n",
       "    <tr>\n",
       "      <th>3</th>\n",
       "      <td>1</td>\n",
       "      <td>1</td>\n",
       "      <td>2</td>\n",
       "      <td>1</td>\n",
       "      <td>4</td>\n",
       "    </tr>\n",
       "    <tr>\n",
       "      <th>4</th>\n",
       "      <td>1</td>\n",
       "      <td>1</td>\n",
       "      <td>2</td>\n",
       "      <td>2</td>\n",
       "      <td>5</td>\n",
       "    </tr>\n",
       "  </tbody>\n",
       "</table>\n",
       "</div>"
      ],
      "text/plain": [
       "  subid  rep  run  trial  env\n",
       "0     1    1    1      1    1\n",
       "1     1    1    1      2    8\n",
       "2     1    1    1      3    9\n",
       "3     1    1    2      1    4\n",
       "4     1    1    2      2    5"
      ]
     },
     "execution_count": 6,
     "metadata": {},
     "output_type": "execute_result"
    }
   ],
   "source": [
    "trial_order = pd.read_csv(dirs['order_file'])\n",
    "trial_order[['subid']] = trial_order[['subid']].astype(str)\n",
    "trial_order.head()"
   ]
  },
  {
   "cell_type": "code",
   "execution_count": 7,
   "metadata": {
    "collapsed": false
   },
   "outputs": [
    {
     "data": {
      "text/plain": [
       "'/Users/thackery/Work/SST/data/SST_env_order.csv'"
      ]
     },
     "execution_count": 7,
     "metadata": {},
     "output_type": "execute_result"
    }
   ],
   "source": [
    "dirs['order_file']"
   ]
  },
  {
   "cell_type": "code",
   "execution_count": 8,
   "metadata": {
    "collapsed": false
   },
   "outputs": [
    {
     "data": {
      "text/plain": [
       "array(['1', '2', '3', '4', '5', '6', '7', '9', '11', '12', '10', '13',\n",
       "       '14', '15', '16', '18', '19', '20', '21', '22', '23', '34', '35'], dtype=object)"
      ]
     },
     "execution_count": 8,
     "metadata": {},
     "output_type": "execute_result"
    }
   ],
   "source": [
    "trial_order.subid.unique()"
   ]
  },
  {
   "cell_type": "code",
   "execution_count": 9,
   "metadata": {
    "collapsed": false
   },
   "outputs": [
    {
     "name": "stdout",
     "output_type": "stream",
     "text": [
      "34\n",
      "35\n"
     ]
    }
   ],
   "source": [
    "df = pd.DataFrame() # dataframe of subjs x envs\n",
    "test = True\n",
    "questionnaires_shock  = False\n",
    "questionnaires_post  = True\n",
    "\n",
    "test_types = ['habit', 'shortcut']\n",
    "\n",
    "# iterate through subjects\n",
    "# for subid in subj_info.subid:\n",
    "for subid in ['34', '35']:\n",
    "    \n",
    "    print subid\n",
    "    \n",
    "    if test:\n",
    "        # iterate through environments\n",
    "        for run_num in range(1, 12+1):\n",
    "\n",
    "            if int(subid) < 10:\n",
    "                # add test file\n",
    "                test_file = glob.glob(op.join(dirs['navdir'], 'sst0' + str(subid), 'run'+ str(run_num),\n",
    "                                    'session_*', 'log.txt'))[0]\n",
    "            else:\n",
    "                test_file = glob.glob(op.join(dirs['navdir'], 'sst' + str(subid), 'run'+ str(run_num),\n",
    "                                    'session_*', 'log.txt'))[0]\n",
    "                \n",
    "#             print test_file \n",
    "            \n",
    "            output = []\n",
    "            with open(test_file) as f:\n",
    "                data = f.readlines()\n",
    "\n",
    "                for line in data:\n",
    "                    columns = re.split('\\t|\\r|\\n', line)\n",
    "                    output.append(columns)\n",
    "                    \n",
    "            d2 = pd.DataFrame(output, columns = ['time', 'c2', 'command', \n",
    "                                                 'c3', 'c4', 'c5', 'c6', 'c7', 'c8'])\n",
    "\n",
    "            # include subid and env\n",
    "            d2['subid'] = subid\n",
    "            d2['run'] = run_num\n",
    "                        \n",
    "            if run_num < 5:\n",
    "                d2['type'] = 'habit'\n",
    "            else:\n",
    "                d2['type'] = 'shortcut'\n",
    "\n",
    "            # force time to be integer, diff from end to beginning\n",
    "            d2.time = d2.time.astype(int)\n",
    "            d2.time = d2.time - d2.time.min()\n",
    "\n",
    "            df = df.append(d2, ignore_index=True)\n",
    "        \n",
    "# Compiled group data\n",
    "if questionnaires_shock:\n",
    "    q_file = op.join(dirs['basedir'], 'data/Quest/Questionnaires_shockblock_group.csv')\n",
    "    dq_shock = pd.read_csv(q_file, index_col=0)\n",
    "\n",
    "if questionnaires_post:\n",
    "    q_file = op.join(dirs['basedir'], 'data/Quest/Questionnaires_group.csv')\n",
    "    dq_post = pd.read_csv(q_file, index_col=0)\n",
    "    dq_post['subid'] = dq_post.subid.astype(str)"
   ]
  },
  {
   "cell_type": "markdown",
   "metadata": {},
   "source": [
    "## Look at data"
   ]
  },
  {
   "cell_type": "code",
   "execution_count": 10,
   "metadata": {
    "collapsed": false
   },
   "outputs": [
    {
     "data": {
      "text/html": [
       "<div>\n",
       "<table border=\"1\" class=\"dataframe\">\n",
       "  <thead>\n",
       "    <tr style=\"text-align: right;\">\n",
       "      <th></th>\n",
       "      <th>time</th>\n",
       "      <th>c2</th>\n",
       "      <th>command</th>\n",
       "      <th>c3</th>\n",
       "      <th>c4</th>\n",
       "      <th>c5</th>\n",
       "      <th>c6</th>\n",
       "      <th>c7</th>\n",
       "      <th>c8</th>\n",
       "      <th>subid</th>\n",
       "      <th>run</th>\n",
       "      <th>type</th>\n",
       "    </tr>\n",
       "  </thead>\n",
       "  <tbody>\n",
       "    <tr>\n",
       "      <th>0</th>\n",
       "      <td>0</td>\n",
       "      <td>1</td>\n",
       "      <td>COMMON_WIN_PROPERTIES</td>\n",
       "      <td>800</td>\n",
       "      <td>600</td>\n",
       "      <td>True</td>\n",
       "      <td>False</td>\n",
       "      <td></td>\n",
       "      <td></td>\n",
       "      <td>34</td>\n",
       "      <td>1</td>\n",
       "      <td>habit</td>\n",
       "    </tr>\n",
       "    <tr>\n",
       "      <th>1</th>\n",
       "      <td>1584</td>\n",
       "      <td>0</td>\n",
       "      <td>CAMERA_INIT</td>\n",
       "      <td>PandaEPL_defaultCamera</td>\n",
       "      <td></td>\n",
       "      <td></td>\n",
       "      <td>None</td>\n",
       "      <td>None</td>\n",
       "      <td>None</td>\n",
       "      <td>34</td>\n",
       "      <td>1</td>\n",
       "      <td>habit</td>\n",
       "    </tr>\n",
       "    <tr>\n",
       "      <th>2</th>\n",
       "      <td>1584</td>\n",
       "      <td>0</td>\n",
       "      <td>VR_INIT</td>\n",
       "      <td></td>\n",
       "      <td></td>\n",
       "      <td>None</td>\n",
       "      <td>None</td>\n",
       "      <td>None</td>\n",
       "      <td>None</td>\n",
       "      <td>34</td>\n",
       "      <td>1</td>\n",
       "      <td>habit</td>\n",
       "    </tr>\n",
       "    <tr>\n",
       "      <th>3</th>\n",
       "      <td>1584</td>\n",
       "      <td>0</td>\n",
       "      <td>VR_CREATED</td>\n",
       "      <td></td>\n",
       "      <td></td>\n",
       "      <td>None</td>\n",
       "      <td>None</td>\n",
       "      <td>None</td>\n",
       "      <td>None</td>\n",
       "      <td>34</td>\n",
       "      <td>1</td>\n",
       "      <td>habit</td>\n",
       "    </tr>\n",
       "    <tr>\n",
       "      <th>4</th>\n",
       "      <td>3886</td>\n",
       "      <td>0</td>\n",
       "      <td>CONF_LOAD</td>\n",
       "      <td>./config.py</td>\n",
       "      <td>None</td>\n",
       "      <td></td>\n",
       "      <td></td>\n",
       "      <td>None</td>\n",
       "      <td>None</td>\n",
       "      <td>34</td>\n",
       "      <td>1</td>\n",
       "      <td>habit</td>\n",
       "    </tr>\n",
       "  </tbody>\n",
       "</table>\n",
       "</div>"
      ],
      "text/plain": [
       "   time c2                command                      c3    c4    c5     c6  \\\n",
       "0     0  1  COMMON_WIN_PROPERTIES                     800   600  True  False   \n",
       "1  1584  0            CAMERA_INIT  PandaEPL_defaultCamera               None   \n",
       "2  1584  0                VR_INIT                                None   None   \n",
       "3  1584  0             VR_CREATED                                None   None   \n",
       "4  3886  0              CONF_LOAD             ./config.py  None                \n",
       "\n",
       "     c7    c8 subid  run   type  \n",
       "0                34    1  habit  \n",
       "1  None  None    34    1  habit  \n",
       "2  None  None    34    1  habit  \n",
       "3  None  None    34    1  habit  \n",
       "4  None  None    34    1  habit  "
      ]
     },
     "execution_count": 10,
     "metadata": {},
     "output_type": "execute_result"
    }
   ],
   "source": [
    "df.head()"
   ]
  },
  {
   "cell_type": "markdown",
   "metadata": {},
   "source": [
    "## Integrate env labels"
   ]
  },
  {
   "cell_type": "markdown",
   "metadata": {},
   "source": [
    "#### Any runs without 3 trials?"
   ]
  },
  {
   "cell_type": "code",
   "execution_count": 11,
   "metadata": {
    "collapsed": false
   },
   "outputs": [
    {
     "data": {
      "text/html": [
       "<div>\n",
       "<table border=\"1\" class=\"dataframe\">\n",
       "  <thead>\n",
       "    <tr style=\"text-align: right;\">\n",
       "      <th></th>\n",
       "      <th>subid</th>\n",
       "      <th>run</th>\n",
       "      <th>time</th>\n",
       "      <th>c2</th>\n",
       "      <th>command</th>\n",
       "      <th>c3</th>\n",
       "      <th>c4</th>\n",
       "      <th>c5</th>\n",
       "      <th>c6</th>\n",
       "      <th>c7</th>\n",
       "      <th>c8</th>\n",
       "      <th>type</th>\n",
       "    </tr>\n",
       "  </thead>\n",
       "  <tbody>\n",
       "  </tbody>\n",
       "</table>\n",
       "</div>"
      ],
      "text/plain": [
       "Empty DataFrame\n",
       "Columns: [subid, run, time, c2, command, c3, c4, c5, c6, c7, c8, type]\n",
       "Index: []"
      ]
     },
     "execution_count": 11,
     "metadata": {},
     "output_type": "execute_result"
    }
   ],
   "source": [
    "counts = pd.groupby(df[df.command == \"ORIENT\"], by=['subid', 'run']).count().reset_index()\n",
    "counts[counts.command != 3]"
   ]
  },
  {
   "cell_type": "code",
   "execution_count": 12,
   "metadata": {
    "collapsed": false
   },
   "outputs": [
    {
     "data": {
      "text/html": [
       "<div>\n",
       "<table border=\"1\" class=\"dataframe\">\n",
       "  <thead>\n",
       "    <tr style=\"text-align: right;\">\n",
       "      <th></th>\n",
       "      <th>time</th>\n",
       "      <th>c2</th>\n",
       "      <th>command</th>\n",
       "      <th>c3</th>\n",
       "      <th>c4</th>\n",
       "      <th>c5</th>\n",
       "      <th>c6</th>\n",
       "      <th>c7</th>\n",
       "      <th>c8</th>\n",
       "      <th>subid</th>\n",
       "      <th>run</th>\n",
       "      <th>type</th>\n",
       "    </tr>\n",
       "  </thead>\n",
       "  <tbody>\n",
       "    <tr>\n",
       "      <th>214</th>\n",
       "      <td>19056</td>\n",
       "      <td>11</td>\n",
       "      <td>ORIENT</td>\n",
       "      <td>oriented_to_env</td>\n",
       "      <td></td>\n",
       "      <td></td>\n",
       "      <td>None</td>\n",
       "      <td>None</td>\n",
       "      <td>None</td>\n",
       "      <td>34</td>\n",
       "      <td>1</td>\n",
       "      <td>habit</td>\n",
       "    </tr>\n",
       "    <tr>\n",
       "      <th>12184</th>\n",
       "      <td>95796</td>\n",
       "      <td>11</td>\n",
       "      <td>ORIENT</td>\n",
       "      <td>oriented_to_env</td>\n",
       "      <td></td>\n",
       "      <td></td>\n",
       "      <td>None</td>\n",
       "      <td>None</td>\n",
       "      <td>None</td>\n",
       "      <td>34</td>\n",
       "      <td>1</td>\n",
       "      <td>habit</td>\n",
       "    </tr>\n",
       "    <tr>\n",
       "      <th>26396</th>\n",
       "      <td>175647</td>\n",
       "      <td>11</td>\n",
       "      <td>ORIENT</td>\n",
       "      <td>oriented_to_env</td>\n",
       "      <td></td>\n",
       "      <td></td>\n",
       "      <td>None</td>\n",
       "      <td>None</td>\n",
       "      <td>None</td>\n",
       "      <td>34</td>\n",
       "      <td>1</td>\n",
       "      <td>habit</td>\n",
       "    </tr>\n",
       "    <tr>\n",
       "      <th>44093</th>\n",
       "      <td>16587</td>\n",
       "      <td>21</td>\n",
       "      <td>ORIENT</td>\n",
       "      <td>oriented_to_env</td>\n",
       "      <td></td>\n",
       "      <td></td>\n",
       "      <td>None</td>\n",
       "      <td>None</td>\n",
       "      <td>None</td>\n",
       "      <td>34</td>\n",
       "      <td>2</td>\n",
       "      <td>habit</td>\n",
       "    </tr>\n",
       "    <tr>\n",
       "      <th>56672</th>\n",
       "      <td>87747</td>\n",
       "      <td>11</td>\n",
       "      <td>ORIENT</td>\n",
       "      <td>oriented_to_env</td>\n",
       "      <td></td>\n",
       "      <td></td>\n",
       "      <td>None</td>\n",
       "      <td>None</td>\n",
       "      <td>None</td>\n",
       "      <td>34</td>\n",
       "      <td>2</td>\n",
       "      <td>habit</td>\n",
       "    </tr>\n",
       "  </tbody>\n",
       "</table>\n",
       "</div>"
      ],
      "text/plain": [
       "         time  c2 command               c3 c4 c5    c6    c7    c8 subid  run  \\\n",
       "214     19056  11  ORIENT  oriented_to_env        None  None  None    34    1   \n",
       "12184   95796  11  ORIENT  oriented_to_env        None  None  None    34    1   \n",
       "26396  175647  11  ORIENT  oriented_to_env        None  None  None    34    1   \n",
       "44093   16587  21  ORIENT  oriented_to_env        None  None  None    34    2   \n",
       "56672   87747  11  ORIENT  oriented_to_env        None  None  None    34    2   \n",
       "\n",
       "        type  \n",
       "214    habit  \n",
       "12184  habit  \n",
       "26396  habit  \n",
       "44093  habit  \n",
       "56672  habit  "
      ]
     },
     "execution_count": 12,
     "metadata": {},
     "output_type": "execute_result"
    }
   ],
   "source": [
    "orient_onsets = df[df.command == \"ORIENT\"]\n",
    "orient_onsets.head()"
   ]
  },
  {
   "cell_type": "code",
   "execution_count": 13,
   "metadata": {
    "collapsed": false
   },
   "outputs": [
    {
     "data": {
      "text/plain": [
       "Int64Index([ 12184,  26396,  44093,  56672,  72175,  91543, 109700, 121369,\n",
       "            131243, 143125, 153511, 166954, 176860, 185218, 200496, 207337,\n",
       "            228243, 237890, 248418, 257244, 264245, 277525, 288705, 298620,\n",
       "            307523, 316979, 325609, 333309, 337029, 344853, 350806, 357306,\n",
       "            364012, 370164, 376809, 382834, 401399, 416037, 429291, 442662,\n",
       "            458451, 469278, 482396, 492764, 506602, 520938, 535936, 547426,\n",
       "            555456, 567832, 575890, 583283, 588972, 602904, 606930, 611155,\n",
       "            617478, 624553, 630865, 637483, 642405, 649926, 659798, 664135,\n",
       "            673795, 682813, 686780, 692972, 697954, 703628, 707977],\n",
       "           dtype='int64')"
      ]
     },
     "execution_count": 13,
     "metadata": {},
     "output_type": "execute_result"
    }
   ],
   "source": [
    "orient_onsets.index[1:]"
   ]
  },
  {
   "cell_type": "code",
   "execution_count": 14,
   "metadata": {
    "collapsed": false
   },
   "outputs": [
    {
     "name": "stderr",
     "output_type": "stream",
     "text": [
      "/Users/thackery/anaconda/lib/python2.7/site-packages/ipykernel/__main__.py:1: SettingWithCopyWarning: \n",
      "A value is trying to be set on a copy of a slice from a DataFrame.\n",
      "Try using .loc[row_indexer,col_indexer] = value instead\n",
      "\n",
      "See the caveats in the documentation: http://pandas.pydata.org/pandas-docs/stable/indexing.html#indexing-view-versus-copy\n",
      "  if __name__ == '__main__':\n",
      "/Users/thackery/anaconda/lib/python2.7/site-packages/pandas/core/indexing.py:465: SettingWithCopyWarning: \n",
      "A value is trying to be set on a copy of a slice from a DataFrame.\n",
      "Try using .loc[row_indexer,col_indexer] = value instead\n",
      "\n",
      "See the caveats in the documentation: http://pandas.pydata.org/pandas-docs/stable/indexing.html#indexing-view-versus-copy\n",
      "  self.obj[item] = s\n"
     ]
    }
   ],
   "source": [
    "orient_onsets['trial'] = 0 # init trial number\n",
    "\n",
    "for counter, ind in enumerate(orient_onsets.index):\n",
    "    if counter == 0: # first trial\n",
    "        first_ind = ind\n",
    "        orient_onsets.ix[ind, 'trial'] = 1\n",
    "        prev_ind = ind\n",
    "    else:\n",
    "        if orient_onsets.ix[ind, 'run'] == orient_onsets.ix[prev_ind, 'run']:\n",
    "            orient_onsets.ix[ind, 'trial'] = orient_onsets.ix[prev_ind, 'trial'] + 1\n",
    "            prev_ind = ind\n",
    "        else:\n",
    "            orient_onsets.ix[ind, 'trial'] = 1\n",
    "            prev_ind = ind\n",
    "        "
   ]
  },
  {
   "cell_type": "code",
   "execution_count": 15,
   "metadata": {
    "collapsed": false
   },
   "outputs": [
    {
     "data": {
      "text/html": [
       "<div>\n",
       "<table border=\"1\" class=\"dataframe\">\n",
       "  <thead>\n",
       "    <tr style=\"text-align: right;\">\n",
       "      <th></th>\n",
       "      <th>time</th>\n",
       "      <th>c2</th>\n",
       "      <th>command</th>\n",
       "      <th>c3</th>\n",
       "      <th>c4</th>\n",
       "      <th>c5</th>\n",
       "      <th>c6</th>\n",
       "      <th>c7</th>\n",
       "      <th>c8</th>\n",
       "      <th>subid</th>\n",
       "      <th>run</th>\n",
       "      <th>type</th>\n",
       "      <th>trial</th>\n",
       "    </tr>\n",
       "  </thead>\n",
       "  <tbody>\n",
       "    <tr>\n",
       "      <th>214</th>\n",
       "      <td>19056</td>\n",
       "      <td>11</td>\n",
       "      <td>ORIENT</td>\n",
       "      <td>oriented_to_env</td>\n",
       "      <td></td>\n",
       "      <td></td>\n",
       "      <td>None</td>\n",
       "      <td>None</td>\n",
       "      <td>None</td>\n",
       "      <td>34</td>\n",
       "      <td>1</td>\n",
       "      <td>habit</td>\n",
       "      <td>1</td>\n",
       "    </tr>\n",
       "    <tr>\n",
       "      <th>12184</th>\n",
       "      <td>95796</td>\n",
       "      <td>11</td>\n",
       "      <td>ORIENT</td>\n",
       "      <td>oriented_to_env</td>\n",
       "      <td></td>\n",
       "      <td></td>\n",
       "      <td>None</td>\n",
       "      <td>None</td>\n",
       "      <td>None</td>\n",
       "      <td>34</td>\n",
       "      <td>1</td>\n",
       "      <td>habit</td>\n",
       "      <td>2</td>\n",
       "    </tr>\n",
       "    <tr>\n",
       "      <th>26396</th>\n",
       "      <td>175647</td>\n",
       "      <td>11</td>\n",
       "      <td>ORIENT</td>\n",
       "      <td>oriented_to_env</td>\n",
       "      <td></td>\n",
       "      <td></td>\n",
       "      <td>None</td>\n",
       "      <td>None</td>\n",
       "      <td>None</td>\n",
       "      <td>34</td>\n",
       "      <td>1</td>\n",
       "      <td>habit</td>\n",
       "      <td>3</td>\n",
       "    </tr>\n",
       "    <tr>\n",
       "      <th>44093</th>\n",
       "      <td>16587</td>\n",
       "      <td>21</td>\n",
       "      <td>ORIENT</td>\n",
       "      <td>oriented_to_env</td>\n",
       "      <td></td>\n",
       "      <td></td>\n",
       "      <td>None</td>\n",
       "      <td>None</td>\n",
       "      <td>None</td>\n",
       "      <td>34</td>\n",
       "      <td>2</td>\n",
       "      <td>habit</td>\n",
       "      <td>1</td>\n",
       "    </tr>\n",
       "    <tr>\n",
       "      <th>56672</th>\n",
       "      <td>87747</td>\n",
       "      <td>11</td>\n",
       "      <td>ORIENT</td>\n",
       "      <td>oriented_to_env</td>\n",
       "      <td></td>\n",
       "      <td></td>\n",
       "      <td>None</td>\n",
       "      <td>None</td>\n",
       "      <td>None</td>\n",
       "      <td>34</td>\n",
       "      <td>2</td>\n",
       "      <td>habit</td>\n",
       "      <td>2</td>\n",
       "    </tr>\n",
       "  </tbody>\n",
       "</table>\n",
       "</div>"
      ],
      "text/plain": [
       "         time  c2 command               c3 c4 c5    c6    c7    c8 subid  run  \\\n",
       "214     19056  11  ORIENT  oriented_to_env        None  None  None    34    1   \n",
       "12184   95796  11  ORIENT  oriented_to_env        None  None  None    34    1   \n",
       "26396  175647  11  ORIENT  oriented_to_env        None  None  None    34    1   \n",
       "44093   16587  21  ORIENT  oriented_to_env        None  None  None    34    2   \n",
       "56672   87747  11  ORIENT  oriented_to_env        None  None  None    34    2   \n",
       "\n",
       "        type  trial  \n",
       "214    habit      1  \n",
       "12184  habit      2  \n",
       "26396  habit      3  \n",
       "44093  habit      1  \n",
       "56672  habit      2  "
      ]
     },
     "execution_count": 15,
     "metadata": {},
     "output_type": "execute_result"
    }
   ],
   "source": [
    "orient_onsets.head()"
   ]
  },
  {
   "cell_type": "code",
   "execution_count": 16,
   "metadata": {
    "collapsed": false
   },
   "outputs": [
    {
     "data": {
      "text/html": [
       "<div>\n",
       "<table border=\"1\" class=\"dataframe\">\n",
       "  <thead>\n",
       "    <tr style=\"text-align: right;\">\n",
       "      <th></th>\n",
       "      <th>subid</th>\n",
       "      <th>rep</th>\n",
       "      <th>run</th>\n",
       "      <th>trial</th>\n",
       "      <th>env</th>\n",
       "    </tr>\n",
       "  </thead>\n",
       "  <tbody>\n",
       "    <tr>\n",
       "      <th>0</th>\n",
       "      <td>1</td>\n",
       "      <td>1</td>\n",
       "      <td>1</td>\n",
       "      <td>1</td>\n",
       "      <td>1</td>\n",
       "    </tr>\n",
       "    <tr>\n",
       "      <th>1</th>\n",
       "      <td>1</td>\n",
       "      <td>1</td>\n",
       "      <td>1</td>\n",
       "      <td>2</td>\n",
       "      <td>8</td>\n",
       "    </tr>\n",
       "    <tr>\n",
       "      <th>2</th>\n",
       "      <td>1</td>\n",
       "      <td>1</td>\n",
       "      <td>1</td>\n",
       "      <td>3</td>\n",
       "      <td>9</td>\n",
       "    </tr>\n",
       "    <tr>\n",
       "      <th>3</th>\n",
       "      <td>1</td>\n",
       "      <td>1</td>\n",
       "      <td>2</td>\n",
       "      <td>1</td>\n",
       "      <td>4</td>\n",
       "    </tr>\n",
       "    <tr>\n",
       "      <th>4</th>\n",
       "      <td>1</td>\n",
       "      <td>1</td>\n",
       "      <td>2</td>\n",
       "      <td>2</td>\n",
       "      <td>5</td>\n",
       "    </tr>\n",
       "  </tbody>\n",
       "</table>\n",
       "</div>"
      ],
      "text/plain": [
       "  subid  rep  run  trial  env\n",
       "0     1    1    1      1    1\n",
       "1     1    1    1      2    8\n",
       "2     1    1    1      3    9\n",
       "3     1    1    2      1    4\n",
       "4     1    1    2      2    5"
      ]
     },
     "execution_count": 16,
     "metadata": {},
     "output_type": "execute_result"
    }
   ],
   "source": [
    "trial_order.head()"
   ]
  },
  {
   "cell_type": "code",
   "execution_count": 17,
   "metadata": {
    "collapsed": false
   },
   "outputs": [
    {
     "data": {
      "text/html": [
       "<div>\n",
       "<table border=\"1\" class=\"dataframe\">\n",
       "  <thead>\n",
       "    <tr style=\"text-align: right;\">\n",
       "      <th></th>\n",
       "      <th>index</th>\n",
       "      <th>time</th>\n",
       "      <th>c2</th>\n",
       "      <th>command</th>\n",
       "      <th>c3</th>\n",
       "      <th>c4</th>\n",
       "      <th>c5</th>\n",
       "      <th>c6</th>\n",
       "      <th>c7</th>\n",
       "      <th>c8</th>\n",
       "      <th>subid</th>\n",
       "      <th>run</th>\n",
       "      <th>type</th>\n",
       "      <th>trial</th>\n",
       "      <th>rep</th>\n",
       "      <th>env</th>\n",
       "    </tr>\n",
       "  </thead>\n",
       "  <tbody>\n",
       "    <tr>\n",
       "      <th>0</th>\n",
       "      <td>214</td>\n",
       "      <td>19056</td>\n",
       "      <td>11</td>\n",
       "      <td>ORIENT</td>\n",
       "      <td>oriented_to_env</td>\n",
       "      <td></td>\n",
       "      <td></td>\n",
       "      <td>None</td>\n",
       "      <td>None</td>\n",
       "      <td>None</td>\n",
       "      <td>34</td>\n",
       "      <td>1</td>\n",
       "      <td>habit</td>\n",
       "      <td>1</td>\n",
       "      <td>1</td>\n",
       "      <td>1</td>\n",
       "    </tr>\n",
       "    <tr>\n",
       "      <th>1</th>\n",
       "      <td>12184</td>\n",
       "      <td>95796</td>\n",
       "      <td>11</td>\n",
       "      <td>ORIENT</td>\n",
       "      <td>oriented_to_env</td>\n",
       "      <td></td>\n",
       "      <td></td>\n",
       "      <td>None</td>\n",
       "      <td>None</td>\n",
       "      <td>None</td>\n",
       "      <td>34</td>\n",
       "      <td>1</td>\n",
       "      <td>habit</td>\n",
       "      <td>2</td>\n",
       "      <td>1</td>\n",
       "      <td>8</td>\n",
       "    </tr>\n",
       "    <tr>\n",
       "      <th>2</th>\n",
       "      <td>26396</td>\n",
       "      <td>175647</td>\n",
       "      <td>11</td>\n",
       "      <td>ORIENT</td>\n",
       "      <td>oriented_to_env</td>\n",
       "      <td></td>\n",
       "      <td></td>\n",
       "      <td>None</td>\n",
       "      <td>None</td>\n",
       "      <td>None</td>\n",
       "      <td>34</td>\n",
       "      <td>1</td>\n",
       "      <td>habit</td>\n",
       "      <td>3</td>\n",
       "      <td>1</td>\n",
       "      <td>9</td>\n",
       "    </tr>\n",
       "    <tr>\n",
       "      <th>3</th>\n",
       "      <td>44093</td>\n",
       "      <td>16587</td>\n",
       "      <td>21</td>\n",
       "      <td>ORIENT</td>\n",
       "      <td>oriented_to_env</td>\n",
       "      <td></td>\n",
       "      <td></td>\n",
       "      <td>None</td>\n",
       "      <td>None</td>\n",
       "      <td>None</td>\n",
       "      <td>34</td>\n",
       "      <td>2</td>\n",
       "      <td>habit</td>\n",
       "      <td>1</td>\n",
       "      <td>1</td>\n",
       "      <td>4</td>\n",
       "    </tr>\n",
       "    <tr>\n",
       "      <th>4</th>\n",
       "      <td>56672</td>\n",
       "      <td>87747</td>\n",
       "      <td>11</td>\n",
       "      <td>ORIENT</td>\n",
       "      <td>oriented_to_env</td>\n",
       "      <td></td>\n",
       "      <td></td>\n",
       "      <td>None</td>\n",
       "      <td>None</td>\n",
       "      <td>None</td>\n",
       "      <td>34</td>\n",
       "      <td>2</td>\n",
       "      <td>habit</td>\n",
       "      <td>2</td>\n",
       "      <td>1</td>\n",
       "      <td>5</td>\n",
       "    </tr>\n",
       "  </tbody>\n",
       "</table>\n",
       "</div>"
      ],
      "text/plain": [
       "   index    time  c2 command               c3 c4 c5    c6    c7    c8 subid  \\\n",
       "0    214   19056  11  ORIENT  oriented_to_env        None  None  None    34   \n",
       "1  12184   95796  11  ORIENT  oriented_to_env        None  None  None    34   \n",
       "2  26396  175647  11  ORIENT  oriented_to_env        None  None  None    34   \n",
       "3  44093   16587  21  ORIENT  oriented_to_env        None  None  None    34   \n",
       "4  56672   87747  11  ORIENT  oriented_to_env        None  None  None    34   \n",
       "\n",
       "   run   type  trial  rep  env  \n",
       "0    1  habit      1    1    1  \n",
       "1    1  habit      2    1    8  \n",
       "2    1  habit      3    1    9  \n",
       "3    2  habit      1    1    4  \n",
       "4    2  habit      2    1    5  "
      ]
     },
     "execution_count": 17,
     "metadata": {},
     "output_type": "execute_result"
    }
   ],
   "source": [
    "orient_onsets = orient_onsets.reset_index().merge(trial_order)\n",
    "orient_onsets.head()"
   ]
  },
  {
   "cell_type": "code",
   "execution_count": 18,
   "metadata": {
    "collapsed": false
   },
   "outputs": [],
   "source": [
    "df['env'] = np.nan\n",
    "df['rep'] = np.nan\n",
    "df['trial'] = np.nan\n",
    "\n",
    "for i in orient_onsets.index:\n",
    "    index_val = orient_onsets.loc[i, 'index']\n",
    "    df.loc[index_val, 'env'] = 'env' + orient_onsets.loc[i, 'env'].astype(str)\n",
    "    df.loc[index_val, 'rep'] = orient_onsets.loc[i, 'rep']\n",
    "    df.loc[index_val, 'trial'] = orient_onsets.loc[i, 'trial']\n",
    "\n",
    "df.env.fillna(method='ffill', inplace=True)\n",
    "df.rep.fillna(method='ffill', inplace=True)\n",
    "df.trial.fillna(method='ffill', inplace=True)"
   ]
  },
  {
   "cell_type": "code",
   "execution_count": 19,
   "metadata": {
    "collapsed": false
   },
   "outputs": [
    {
     "name": "stdout",
     "output_type": "stream",
     "text": [
      "72\n",
      "72\n"
     ]
    }
   ],
   "source": [
    "print len('env' + orient_onsets.env.astype(str))\n",
    "print len(df.loc[orient_onsets['index'], 'env'])"
   ]
  },
  {
   "cell_type": "markdown",
   "metadata": {},
   "source": [
    "### Look at 2D position in space"
   ]
  },
  {
   "cell_type": "code",
   "execution_count": 20,
   "metadata": {
    "collapsed": false
   },
   "outputs": [
    {
     "data": {
      "text/html": [
       "<div>\n",
       "<table border=\"1\" class=\"dataframe\">\n",
       "  <thead>\n",
       "    <tr style=\"text-align: right;\">\n",
       "      <th></th>\n",
       "      <th>time</th>\n",
       "      <th>c2</th>\n",
       "      <th>c3</th>\n",
       "      <th>c4</th>\n",
       "      <th>subid</th>\n",
       "      <th>run</th>\n",
       "      <th>type</th>\n",
       "      <th>env</th>\n",
       "      <th>rep</th>\n",
       "      <th>trial</th>\n",
       "    </tr>\n",
       "  </thead>\n",
       "  <tbody>\n",
       "    <tr>\n",
       "      <th>0</th>\n",
       "      <td>9026</td>\n",
       "      <td>1</td>\n",
       "      <td>terrain0</td>\n",
       "      <td>LPoint3f(0, 0, 0)</td>\n",
       "      <td>34</td>\n",
       "      <td>1</td>\n",
       "      <td>habit</td>\n",
       "      <td>NaN</td>\n",
       "      <td>NaN</td>\n",
       "      <td>NaN</td>\n",
       "    </tr>\n",
       "    <tr>\n",
       "      <th>1</th>\n",
       "      <td>9026</td>\n",
       "      <td>1</td>\n",
       "      <td>George_Clooney</td>\n",
       "      <td>LPoint3f(4, 34, 0.5)</td>\n",
       "      <td>34</td>\n",
       "      <td>1</td>\n",
       "      <td>habit</td>\n",
       "      <td>NaN</td>\n",
       "      <td>NaN</td>\n",
       "      <td>NaN</td>\n",
       "    </tr>\n",
       "    <tr>\n",
       "      <th>2</th>\n",
       "      <td>9026</td>\n",
       "      <td>1</td>\n",
       "      <td>lettuce</td>\n",
       "      <td>LPoint3f(26, 52, 0.5)</td>\n",
       "      <td>34</td>\n",
       "      <td>1</td>\n",
       "      <td>habit</td>\n",
       "      <td>NaN</td>\n",
       "      <td>NaN</td>\n",
       "      <td>NaN</td>\n",
       "    </tr>\n",
       "    <tr>\n",
       "      <th>3</th>\n",
       "      <td>9026</td>\n",
       "      <td>1</td>\n",
       "      <td>zebra</td>\n",
       "      <td>LPoint3f(20, 22, 0.5)</td>\n",
       "      <td>34</td>\n",
       "      <td>1</td>\n",
       "      <td>habit</td>\n",
       "      <td>NaN</td>\n",
       "      <td>NaN</td>\n",
       "      <td>NaN</td>\n",
       "    </tr>\n",
       "    <tr>\n",
       "      <th>4</th>\n",
       "      <td>9026</td>\n",
       "      <td>1</td>\n",
       "      <td>zzz</td>\n",
       "      <td>LPoint3f(12, 52, 0.2)</td>\n",
       "      <td>34</td>\n",
       "      <td>1</td>\n",
       "      <td>habit</td>\n",
       "      <td>NaN</td>\n",
       "      <td>NaN</td>\n",
       "      <td>NaN</td>\n",
       "    </tr>\n",
       "  </tbody>\n",
       "</table>\n",
       "</div>"
      ],
      "text/plain": [
       "   time c2              c3                     c4 subid  run   type  env  rep  \\\n",
       "0  9026  1        terrain0      LPoint3f(0, 0, 0)    34    1  habit  NaN  NaN   \n",
       "1  9026  1  George_Clooney   LPoint3f(4, 34, 0.5)    34    1  habit  NaN  NaN   \n",
       "2  9026  1         lettuce  LPoint3f(26, 52, 0.5)    34    1  habit  NaN  NaN   \n",
       "3  9026  1           zebra  LPoint3f(20, 22, 0.5)    34    1  habit  NaN  NaN   \n",
       "4  9026  1             zzz  LPoint3f(12, 52, 0.2)    34    1  habit  NaN  NaN   \n",
       "\n",
       "   trial  \n",
       "0    NaN  \n",
       "1    NaN  \n",
       "2    NaN  \n",
       "3    NaN  \n",
       "4    NaN  "
      ]
     },
     "execution_count": 20,
     "metadata": {},
     "output_type": "execute_result"
    }
   ],
   "source": [
    "dp = df[df.command == 'VROBJECT_POS'].reset_index()\n",
    "dp = dp.drop(['c5', 'c6', 'c7', 'c8', 'command', 'index'], 1) # remove unncessary cols\n",
    "dp.head()"
   ]
  },
  {
   "cell_type": "code",
   "execution_count": 21,
   "metadata": {
    "collapsed": false
   },
   "outputs": [
    {
     "data": {
      "text/html": [
       "<div>\n",
       "<table border=\"1\" class=\"dataframe\">\n",
       "  <thead>\n",
       "    <tr style=\"text-align: right;\">\n",
       "      <th></th>\n",
       "      <th>time</th>\n",
       "      <th>c3</th>\n",
       "      <th>subid</th>\n",
       "      <th>run</th>\n",
       "      <th>type</th>\n",
       "      <th>env</th>\n",
       "      <th>rep</th>\n",
       "      <th>trial</th>\n",
       "      <th>x</th>\n",
       "      <th>y</th>\n",
       "      <th>z</th>\n",
       "    </tr>\n",
       "  </thead>\n",
       "  <tbody>\n",
       "    <tr>\n",
       "      <th>0</th>\n",
       "      <td>9026</td>\n",
       "      <td>terrain0</td>\n",
       "      <td>34</td>\n",
       "      <td>1</td>\n",
       "      <td>habit</td>\n",
       "      <td>NaN</td>\n",
       "      <td>NaN</td>\n",
       "      <td>NaN</td>\n",
       "      <td>0.0</td>\n",
       "      <td>0.0</td>\n",
       "      <td>0.0</td>\n",
       "    </tr>\n",
       "    <tr>\n",
       "      <th>1</th>\n",
       "      <td>9026</td>\n",
       "      <td>George_Clooney</td>\n",
       "      <td>34</td>\n",
       "      <td>1</td>\n",
       "      <td>habit</td>\n",
       "      <td>NaN</td>\n",
       "      <td>NaN</td>\n",
       "      <td>NaN</td>\n",
       "      <td>4.0</td>\n",
       "      <td>34.0</td>\n",
       "      <td>0.5</td>\n",
       "    </tr>\n",
       "    <tr>\n",
       "      <th>2</th>\n",
       "      <td>9026</td>\n",
       "      <td>lettuce</td>\n",
       "      <td>34</td>\n",
       "      <td>1</td>\n",
       "      <td>habit</td>\n",
       "      <td>NaN</td>\n",
       "      <td>NaN</td>\n",
       "      <td>NaN</td>\n",
       "      <td>26.0</td>\n",
       "      <td>52.0</td>\n",
       "      <td>0.5</td>\n",
       "    </tr>\n",
       "    <tr>\n",
       "      <th>3</th>\n",
       "      <td>9026</td>\n",
       "      <td>zebra</td>\n",
       "      <td>34</td>\n",
       "      <td>1</td>\n",
       "      <td>habit</td>\n",
       "      <td>NaN</td>\n",
       "      <td>NaN</td>\n",
       "      <td>NaN</td>\n",
       "      <td>20.0</td>\n",
       "      <td>22.0</td>\n",
       "      <td>0.5</td>\n",
       "    </tr>\n",
       "    <tr>\n",
       "      <th>4</th>\n",
       "      <td>9026</td>\n",
       "      <td>zzz</td>\n",
       "      <td>34</td>\n",
       "      <td>1</td>\n",
       "      <td>habit</td>\n",
       "      <td>NaN</td>\n",
       "      <td>NaN</td>\n",
       "      <td>NaN</td>\n",
       "      <td>12.0</td>\n",
       "      <td>52.0</td>\n",
       "      <td>0.2</td>\n",
       "    </tr>\n",
       "  </tbody>\n",
       "</table>\n",
       "</div>"
      ],
      "text/plain": [
       "   time              c3 subid  run   type  env  rep  trial     x     y    z\n",
       "0  9026        terrain0    34    1  habit  NaN  NaN    NaN   0.0   0.0  0.0\n",
       "1  9026  George_Clooney    34    1  habit  NaN  NaN    NaN   4.0  34.0  0.5\n",
       "2  9026         lettuce    34    1  habit  NaN  NaN    NaN  26.0  52.0  0.5\n",
       "3  9026           zebra    34    1  habit  NaN  NaN    NaN  20.0  22.0  0.5\n",
       "4  9026             zzz    34    1  habit  NaN  NaN    NaN  12.0  52.0  0.2"
      ]
     },
     "execution_count": 21,
     "metadata": {},
     "output_type": "execute_result"
    }
   ],
   "source": [
    "dp = dp.join(pd.DataFrame(dp.c4.str.split('Point3|, |\\(|\\)').tolist()).reindex(columns=[2, 3, 4]))\n",
    "dp.rename(columns={2: 'x', 3: 'y', 4: 'z'}, inplace=True)\n",
    "dp = dp.drop(['c4', 'c2'], 1)\n",
    "dp[['x', 'y', 'z']] = dp[['x', 'y', 'z']].astype(float)\n",
    "dp.head()"
   ]
  },
  {
   "cell_type": "code",
   "execution_count": 22,
   "metadata": {
    "collapsed": false
   },
   "outputs": [
    {
     "data": {
      "text/plain": [
       "array([nan, 'env1', 'env8', 'env9', 'env4', 'env5', 'env3', 'env7',\n",
       "       'env11', 'env6', 'env10', 'env2', 'env12'], dtype=object)"
      ]
     },
     "execution_count": 22,
     "metadata": {},
     "output_type": "execute_result"
    }
   ],
   "source": [
    "dp.env.unique()"
   ]
  },
  {
   "cell_type": "code",
   "execution_count": 23,
   "metadata": {
    "collapsed": false
   },
   "outputs": [
    {
     "data": {
      "image/png": "[encoded data removed]",
      "text/plain": [
       "<matplotlib.figure.Figure at 0x12d9aa1d0>"
      ]
     },
     "metadata": {},
     "output_type": "display_data"
    }
   ],
   "source": [
    "def plot_sub(subj, env, test_trial, rep):\n",
    "    plot_paths(env=env, subj=subj, \n",
    "               dp=dp.loc[(dp['type'] == test_trial) &\n",
    "                         (dp.rep == rep)], \n",
    "               proj=proj, dirs=dirs)\n",
    "    \n",
    "subj_opts = ipywidgets.Dropdown(options=list(dp.subid.unique()))\n",
    "env_opts = ipywidgets.Dropdown(options=list(np.sort(dp.env.unique()[1:])))\n",
    "test_opts = ipywidgets.Dropdown(options=list(['habit', 'shortcut']))\n",
    "rep_opts = ipywidgets.IntSlider(min=1, max=2)\n",
    "\n",
    "w = ipywidgets.interact(plot_sub, \n",
    "                        subj=subj_opts, \n",
    "                        env=env_opts, \n",
    "                        test_trial=test_opts, \n",
    "                        rep=rep_opts)"
   ]
  },
  {
   "cell_type": "code",
   "execution_count": null,
   "metadata": {
    "collapsed": true
   },
   "outputs": [],
   "source": []
  },
  {
   "cell_type": "code",
   "execution_count": null,
   "metadata": {
    "collapsed": true
   },
   "outputs": [],
   "source": []
  },
  {
   "cell_type": "code",
   "execution_count": null,
   "metadata": {
    "collapsed": false
   },
   "outputs": [],
   "source": []
  },
  {
   "cell_type": "code",
   "execution_count": null,
   "metadata": {
    "collapsed": true
   },
   "outputs": [],
   "source": []
  },
  {
   "cell_type": "code",
   "execution_count": null,
   "metadata": {
    "collapsed": true
   },
   "outputs": [],
   "source": []
  },
  {
   "cell_type": "code",
   "execution_count": null,
   "metadata": {
    "collapsed": true
   },
   "outputs": [],
   "source": []
  },
  {
   "cell_type": "code",
   "execution_count": null,
   "metadata": {
    "collapsed": true
   },
   "outputs": [],
   "source": []
  },
  {
   "cell_type": "code",
   "execution_count": null,
   "metadata": {
    "collapsed": true
   },
   "outputs": [],
   "source": []
  }
 ],
 "metadata": {
  "anaconda-cloud": {},
  "kernelspec": {
   "display_name": "Python [Root]",
   "language": "python",
   "name": "Python [Root]"
  },
  "language_info": {
   "codemirror_mode": {
    "name": "ipython",
    "version": 2
   },
   "file_extension": ".py",
   "mimetype": "text/x-python",
   "name": "python",
   "nbconvert_exporter": "python",
   "pygments_lexer": "ipython2",
   "version": "2.7.12"
  }
 },
 "nbformat": 4,
 "nbformat_minor": 0
}
